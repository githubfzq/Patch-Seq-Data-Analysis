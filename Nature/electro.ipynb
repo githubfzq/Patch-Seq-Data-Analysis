{
 "cells": [
  {
   "cell_type": "code",
   "execution_count": 1,
   "id": "d6016a1b-b3cf-4f62-a924-1db8b50c4bdc",
   "metadata": {},
   "outputs": [],
   "source": [
    "import pandas as pd\n",
    "import logging\n",
    "import warnings\n",
    "from pathlib import Path\n",
    "from tqdm.notebook import tqdm\n",
    "import sys"
   ]
  },
  {
   "cell_type": "code",
   "execution_count": 2,
   "id": "f5b23581-8545-4ce2-b524-249413d40cfb",
   "metadata": {},
   "outputs": [],
   "source": [
    "%load_ext autoreload\n",
    "%autoreload 2"
   ]
  },
  {
   "cell_type": "code",
   "execution_count": null,
   "id": "5fc96154",
   "metadata": {},
   "outputs": [],
   "source": [
    "# sys.path.append('/opt/data/Nature')"
   ]
  },
  {
   "cell_type": "code",
   "execution_count": null,
   "id": "591171f1",
   "metadata": {},
   "outputs": [],
   "source": [
    "# %cd Nature"
   ]
  },
  {
   "cell_type": "markdown",
   "id": "de0f513f-0857-4b05-b772-ce69e8b8208f",
   "metadata": {},
   "source": [
    "# Download data"
   ]
  },
  {
   "cell_type": "code",
   "execution_count": 3,
   "id": "9ae3721e-8346-4934-a0c0-f3f3cafc8b8d",
   "metadata": {},
   "outputs": [
    {
     "data": {
      "text/html": [
       "<div>\n",
       "<style scoped>\n",
       "    .dataframe tbody tr th:only-of-type {\n",
       "        vertical-align: middle;\n",
       "    }\n",
       "\n",
       "    .dataframe tbody tr th {\n",
       "        vertical-align: top;\n",
       "    }\n",
       "\n",
       "    .dataframe thead th {\n",
       "        text-align: right;\n",
       "    }\n",
       "</style>\n",
       "<table border=\"1\" class=\"dataframe\">\n",
       "  <thead>\n",
       "    <tr style=\"text-align: right;\">\n",
       "      <th></th>\n",
       "      <th>Number</th>\n",
       "      <th>Cell</th>\n",
       "      <th>Slice</th>\n",
       "      <th>Date</th>\n",
       "      <th>Sample</th>\n",
       "      <th>Mouse</th>\n",
       "      <th>Mouse date of birth</th>\n",
       "      <th>Mouse age</th>\n",
       "      <th>Mouse gender</th>\n",
       "      <th>Mouse genotype</th>\n",
       "      <th>...</th>\n",
       "      <th>Soma depth (µm)</th>\n",
       "      <th>Soma depth (4x)</th>\n",
       "      <th>Cortical thickness (4x)</th>\n",
       "      <th>Cortical thickness (µm)</th>\n",
       "      <th>Traced</th>\n",
       "      <th>Exclusion reasons</th>\n",
       "      <th>Pipette Resistance (MΩ)</th>\n",
       "      <th>Access Resistance (MΩ)</th>\n",
       "      <th>Seal Resistance (MΩ)</th>\n",
       "      <th>Recording Temperature (˚C)</th>\n",
       "    </tr>\n",
       "  </thead>\n",
       "  <tbody>\n",
       "    <tr>\n",
       "      <th>0</th>\n",
       "      <td>1</td>\n",
       "      <td>20171204_sample_2</td>\n",
       "      <td>20171204_slice_2</td>\n",
       "      <td>2017-12-04</td>\n",
       "      <td>sample 2</td>\n",
       "      <td>mouse_GTOKH</td>\n",
       "      <td>2017-10-29</td>\n",
       "      <td>36</td>\n",
       "      <td>M</td>\n",
       "      <td>Pvalb-Cre/wt; Ai9/wt</td>\n",
       "      <td>...</td>\n",
       "      <td>736.7</td>\n",
       "      <td>271.0</td>\n",
       "      <td>535.8</td>\n",
       "      <td>1478.808</td>\n",
       "      <td>y</td>\n",
       "      <td>NaN</td>\n",
       "      <td>NaN</td>\n",
       "      <td>NaN</td>\n",
       "      <td>NaN</td>\n",
       "      <td>NaN</td>\n",
       "    </tr>\n",
       "    <tr>\n",
       "      <th>1</th>\n",
       "      <td>2</td>\n",
       "      <td>20171204_sample_4</td>\n",
       "      <td>20171204_slice_4</td>\n",
       "      <td>2017-12-04</td>\n",
       "      <td>sample 4</td>\n",
       "      <td>mouse_GTOKH</td>\n",
       "      <td>2017-10-29</td>\n",
       "      <td>36</td>\n",
       "      <td>M</td>\n",
       "      <td>Pvalb-Cre/wt; Ai9/wt</td>\n",
       "      <td>...</td>\n",
       "      <td>726.2</td>\n",
       "      <td>285.7</td>\n",
       "      <td>545.9</td>\n",
       "      <td>1506.684</td>\n",
       "      <td>y</td>\n",
       "      <td>NaN</td>\n",
       "      <td>NaN</td>\n",
       "      <td>NaN</td>\n",
       "      <td>NaN</td>\n",
       "      <td>NaN</td>\n",
       "    </tr>\n",
       "    <tr>\n",
       "      <th>2</th>\n",
       "      <td>3</td>\n",
       "      <td>20171204_sample_5</td>\n",
       "      <td>20171204_slice_5</td>\n",
       "      <td>2017-12-04</td>\n",
       "      <td>sample 5</td>\n",
       "      <td>mouse_GTOKH</td>\n",
       "      <td>2017-10-29</td>\n",
       "      <td>36</td>\n",
       "      <td>M</td>\n",
       "      <td>Pvalb-Cre/wt; Ai9/wt</td>\n",
       "      <td>...</td>\n",
       "      <td>659.8</td>\n",
       "      <td>241.8</td>\n",
       "      <td>530.4</td>\n",
       "      <td>1463.904</td>\n",
       "      <td>y</td>\n",
       "      <td>NaN</td>\n",
       "      <td>NaN</td>\n",
       "      <td>NaN</td>\n",
       "      <td>NaN</td>\n",
       "      <td>NaN</td>\n",
       "    </tr>\n",
       "    <tr>\n",
       "      <th>3</th>\n",
       "      <td>4</td>\n",
       "      <td>20171204_sample_6</td>\n",
       "      <td>20171204_slice_6</td>\n",
       "      <td>2017-12-04</td>\n",
       "      <td>sample 6</td>\n",
       "      <td>mouse_GTOKH</td>\n",
       "      <td>2017-10-29</td>\n",
       "      <td>36</td>\n",
       "      <td>M</td>\n",
       "      <td>Pvalb-Cre/wt; Ai9/wt</td>\n",
       "      <td>...</td>\n",
       "      <td>571.7</td>\n",
       "      <td>210.0</td>\n",
       "      <td>501.1</td>\n",
       "      <td>1383.036</td>\n",
       "      <td>y</td>\n",
       "      <td>NaN</td>\n",
       "      <td>NaN</td>\n",
       "      <td>NaN</td>\n",
       "      <td>NaN</td>\n",
       "      <td>NaN</td>\n",
       "    </tr>\n",
       "    <tr>\n",
       "      <th>4</th>\n",
       "      <td>5</td>\n",
       "      <td>20171207_sample_1</td>\n",
       "      <td>20171207_slice_1</td>\n",
       "      <td>2017-12-07</td>\n",
       "      <td>sample 1</td>\n",
       "      <td>mouse_UGZSW</td>\n",
       "      <td>2017-09-18</td>\n",
       "      <td>80</td>\n",
       "      <td>F</td>\n",
       "      <td>Sst-IRES-Cre/wt; Ai9/wt</td>\n",
       "      <td>...</td>\n",
       "      <td>772.4</td>\n",
       "      <td>288.9</td>\n",
       "      <td>477.1</td>\n",
       "      <td>1316.796</td>\n",
       "      <td>y</td>\n",
       "      <td>NaN</td>\n",
       "      <td>NaN</td>\n",
       "      <td>NaN</td>\n",
       "      <td>NaN</td>\n",
       "      <td>NaN</td>\n",
       "    </tr>\n",
       "  </tbody>\n",
       "</table>\n",
       "<p>5 rows × 37 columns</p>\n",
       "</div>"
      ],
      "text/plain": [
       "   Number               Cell             Slice        Date    Sample  \\\n",
       "0       1  20171204_sample_2  20171204_slice_2  2017-12-04  sample 2   \n",
       "1       2  20171204_sample_4  20171204_slice_4  2017-12-04  sample 4   \n",
       "2       3  20171204_sample_5  20171204_slice_5  2017-12-04  sample 5   \n",
       "3       4  20171204_sample_6  20171204_slice_6  2017-12-04  sample 6   \n",
       "4       5  20171207_sample_1  20171207_slice_1  2017-12-07  sample 1   \n",
       "\n",
       "         Mouse Mouse date of birth  Mouse age Mouse gender  \\\n",
       "0  mouse_GTOKH          2017-10-29         36            M   \n",
       "1  mouse_GTOKH          2017-10-29         36            M   \n",
       "2  mouse_GTOKH          2017-10-29         36            M   \n",
       "3  mouse_GTOKH          2017-10-29         36            M   \n",
       "4  mouse_UGZSW          2017-09-18         80            F   \n",
       "\n",
       "            Mouse genotype  ... Soma depth (µm) Soma depth (4x)  \\\n",
       "0     Pvalb-Cre/wt; Ai9/wt  ...           736.7           271.0   \n",
       "1     Pvalb-Cre/wt; Ai9/wt  ...           726.2           285.7   \n",
       "2     Pvalb-Cre/wt; Ai9/wt  ...           659.8           241.8   \n",
       "3     Pvalb-Cre/wt; Ai9/wt  ...           571.7           210.0   \n",
       "4  Sst-IRES-Cre/wt; Ai9/wt  ...           772.4           288.9   \n",
       "\n",
       "  Cortical thickness (4x)  Cortical thickness (µm)  Traced  Exclusion reasons  \\\n",
       "0                   535.8                 1478.808       y                NaN   \n",
       "1                   545.9                 1506.684       y                NaN   \n",
       "2                   530.4                 1463.904       y                NaN   \n",
       "3                   501.1                 1383.036       y                NaN   \n",
       "4                   477.1                 1316.796       y                NaN   \n",
       "\n",
       "   Pipette Resistance (MΩ)  Access Resistance (MΩ) Seal Resistance (MΩ)  \\\n",
       "0                      NaN                     NaN                  NaN   \n",
       "1                      NaN                     NaN                  NaN   \n",
       "2                      NaN                     NaN                  NaN   \n",
       "3                      NaN                     NaN                  NaN   \n",
       "4                      NaN                     NaN                  NaN   \n",
       "\n",
       "  Recording Temperature (˚C)  \n",
       "0                        NaN  \n",
       "1                        NaN  \n",
       "2                        NaN  \n",
       "3                        NaN  \n",
       "4                        NaN  \n",
       "\n",
       "[5 rows x 37 columns]"
      ]
     },
     "execution_count": 3,
     "metadata": {},
     "output_type": "execute_result"
    }
   ],
   "source": [
    "meta_df_raw = pd.read_csv('m1_patchseq_meta_data.csv', delimiter='\\t')\n",
    "meta_df_temp = pd.read_csv('m1_patchseq_phys_temp_meta_data.csv', delimiter='\\t')\n",
    "meta_df = pd.concat([meta_df_raw, meta_df_temp], ignore_index=True)\n",
    "meta_df.head()"
   ]
  },
  {
   "cell_type": "code",
   "execution_count": 6,
   "id": "14ea23a9-08ce-4717-839e-29a583e0b875",
   "metadata": {},
   "outputs": [
    {
     "data": {
      "text/plain": [
       "Index(['Number', 'Cell', 'Slice', 'Date', 'Sample', 'Mouse',\n",
       "       'Mouse date of birth', 'Mouse age', 'Mouse gender', 'Mouse genotype',\n",
       "       'Targeted layer', 'Inferred layer', 'Cre', 'Exon reads', 'Intron reads',\n",
       "       'Intergenic reads', 'Sequencing batch', 'Number of genes detected',\n",
       "       'RNA family', 'RNA type', 'RNA type confidence', 'RNA type top-3',\n",
       "       'ALM/VISp top-3', 'Length (bp)', 'Yield (pg/µl)', 'User',\n",
       "       'Hold Time (min)', 'Soma depth (µm)', 'Soma depth (4x)',\n",
       "       'Cortical thickness (4x)', 'Cortical thickness (µm)', 'Traced',\n",
       "       'Exclusion reasons'],\n",
       "      dtype='object')"
      ]
     },
     "execution_count": 6,
     "metadata": {},
     "output_type": "execute_result"
    }
   ],
   "source": [
    "meta_df.columns"
   ]
  },
  {
   "cell_type": "code",
   "execution_count": 7,
   "id": "d318a6b1-24cc-4c21-978c-d67705f47b5a",
   "metadata": {},
   "outputs": [
    {
     "data": {
      "text/html": [
       "<div>\n",
       "<style scoped>\n",
       "    .dataframe tbody tr th:only-of-type {\n",
       "        vertical-align: middle;\n",
       "    }\n",
       "\n",
       "    .dataframe tbody tr th {\n",
       "        vertical-align: top;\n",
       "    }\n",
       "\n",
       "    .dataframe thead th {\n",
       "        text-align: right;\n",
       "    }\n",
       "</style>\n",
       "<table border=\"1\" class=\"dataframe\">\n",
       "  <thead>\n",
       "    <tr style=\"text-align: right;\">\n",
       "      <th></th>\n",
       "      <th>Number</th>\n",
       "      <th>Mouse age</th>\n",
       "      <th>Exon reads</th>\n",
       "      <th>Intron reads</th>\n",
       "      <th>Intergenic reads</th>\n",
       "      <th>Sequencing batch</th>\n",
       "      <th>Number of genes detected</th>\n",
       "      <th>RNA type confidence</th>\n",
       "      <th>Hold Time (min)</th>\n",
       "      <th>Soma depth (4x)</th>\n",
       "      <th>Cortical thickness (4x)</th>\n",
       "      <th>Cortical thickness (µm)</th>\n",
       "    </tr>\n",
       "  </thead>\n",
       "  <tbody>\n",
       "    <tr>\n",
       "      <th>count</th>\n",
       "      <td>2658.000000</td>\n",
       "      <td>2658.000000</td>\n",
       "      <td>2.658000e+03</td>\n",
       "      <td>2.658000e+03</td>\n",
       "      <td>2.658000e+03</td>\n",
       "      <td>2658.000000</td>\n",
       "      <td>2658.000000</td>\n",
       "      <td>2464.000000</td>\n",
       "      <td>2654.000000</td>\n",
       "      <td>2568.000000</td>\n",
       "      <td>2568.000000</td>\n",
       "      <td>2658.000000</td>\n",
       "    </tr>\n",
       "    <tr>\n",
       "      <th>mean</th>\n",
       "      <td>665.000000</td>\n",
       "      <td>83.920993</td>\n",
       "      <td>1.527525e+06</td>\n",
       "      <td>9.722459e+05</td>\n",
       "      <td>1.711816e+05</td>\n",
       "      <td>6.283672</td>\n",
       "      <td>9096.946576</td>\n",
       "      <td>0.764813</td>\n",
       "      <td>29.275810</td>\n",
       "      <td>239.596238</td>\n",
       "      <td>547.978287</td>\n",
       "      <td>1461.209459</td>\n",
       "    </tr>\n",
       "    <tr>\n",
       "      <th>std</th>\n",
       "      <td>383.721334</td>\n",
       "      <td>30.620391</td>\n",
       "      <td>1.571159e+06</td>\n",
       "      <td>1.192155e+06</td>\n",
       "      <td>1.923230e+05</td>\n",
       "      <td>2.799276</td>\n",
       "      <td>3534.055366</td>\n",
       "      <td>0.198536</td>\n",
       "      <td>14.930447</td>\n",
       "      <td>144.579850</td>\n",
       "      <td>47.801271</td>\n",
       "      <td>302.777029</td>\n",
       "    </tr>\n",
       "    <tr>\n",
       "      <th>min</th>\n",
       "      <td>1.000000</td>\n",
       "      <td>35.000000</td>\n",
       "      <td>2.000000e+00</td>\n",
       "      <td>4.000000e+00</td>\n",
       "      <td>1.000000e+00</td>\n",
       "      <td>1.000000</td>\n",
       "      <td>11.000000</td>\n",
       "      <td>0.140000</td>\n",
       "      <td>3.000000</td>\n",
       "      <td>16.500000</td>\n",
       "      <td>414.800000</td>\n",
       "      <td>0.000000</td>\n",
       "    </tr>\n",
       "    <tr>\n",
       "      <th>25%</th>\n",
       "      <td>333.000000</td>\n",
       "      <td>64.000000</td>\n",
       "      <td>6.059430e+05</td>\n",
       "      <td>1.292800e+05</td>\n",
       "      <td>7.268500e+04</td>\n",
       "      <td>4.000000</td>\n",
       "      <td>6905.000000</td>\n",
       "      <td>0.617500</td>\n",
       "      <td>15.000000</td>\n",
       "      <td>112.725000</td>\n",
       "      <td>514.425000</td>\n",
       "      <td>1408.428000</td>\n",
       "    </tr>\n",
       "    <tr>\n",
       "      <th>50%</th>\n",
       "      <td>665.000000</td>\n",
       "      <td>75.000000</td>\n",
       "      <td>1.190890e+06</td>\n",
       "      <td>6.881400e+05</td>\n",
       "      <td>1.337650e+05</td>\n",
       "      <td>7.000000</td>\n",
       "      <td>9589.000000</td>\n",
       "      <td>0.810000</td>\n",
       "      <td>29.000000</td>\n",
       "      <td>219.350000</td>\n",
       "      <td>547.000000</td>\n",
       "      <td>1504.476000</td>\n",
       "    </tr>\n",
       "    <tr>\n",
       "      <th>75%</th>\n",
       "      <td>997.000000</td>\n",
       "      <td>100.000000</td>\n",
       "      <td>1.930027e+06</td>\n",
       "      <td>1.353231e+06</td>\n",
       "      <td>2.048570e+05</td>\n",
       "      <td>9.000000</td>\n",
       "      <td>11299.000000</td>\n",
       "      <td>0.940000</td>\n",
       "      <td>40.000000</td>\n",
       "      <td>351.700000</td>\n",
       "      <td>580.025000</td>\n",
       "      <td>1597.764000</td>\n",
       "    </tr>\n",
       "    <tr>\n",
       "      <th>max</th>\n",
       "      <td>1329.000000</td>\n",
       "      <td>245.000000</td>\n",
       "      <td>1.817294e+07</td>\n",
       "      <td>1.326539e+07</td>\n",
       "      <td>2.326755e+06</td>\n",
       "      <td>12.000000</td>\n",
       "      <td>24833.000000</td>\n",
       "      <td>1.000000</td>\n",
       "      <td>85.000000</td>\n",
       "      <td>675.100000</td>\n",
       "      <td>706.500000</td>\n",
       "      <td>1949.940000</td>\n",
       "    </tr>\n",
       "  </tbody>\n",
       "</table>\n",
       "</div>"
      ],
      "text/plain": [
       "            Number    Mouse age    Exon reads  Intron reads  Intergenic reads  \\\n",
       "count  2658.000000  2658.000000  2.658000e+03  2.658000e+03      2.658000e+03   \n",
       "mean    665.000000    83.920993  1.527525e+06  9.722459e+05      1.711816e+05   \n",
       "std     383.721334    30.620391  1.571159e+06  1.192155e+06      1.923230e+05   \n",
       "min       1.000000    35.000000  2.000000e+00  4.000000e+00      1.000000e+00   \n",
       "25%     333.000000    64.000000  6.059430e+05  1.292800e+05      7.268500e+04   \n",
       "50%     665.000000    75.000000  1.190890e+06  6.881400e+05      1.337650e+05   \n",
       "75%     997.000000   100.000000  1.930027e+06  1.353231e+06      2.048570e+05   \n",
       "max    1329.000000   245.000000  1.817294e+07  1.326539e+07      2.326755e+06   \n",
       "\n",
       "       Sequencing batch  Number of genes detected  RNA type confidence  \\\n",
       "count       2658.000000               2658.000000          2464.000000   \n",
       "mean           6.283672               9096.946576             0.764813   \n",
       "std            2.799276               3534.055366             0.198536   \n",
       "min            1.000000                 11.000000             0.140000   \n",
       "25%            4.000000               6905.000000             0.617500   \n",
       "50%            7.000000               9589.000000             0.810000   \n",
       "75%            9.000000              11299.000000             0.940000   \n",
       "max           12.000000              24833.000000             1.000000   \n",
       "\n",
       "       Hold Time (min)  Soma depth (4x)  Cortical thickness (4x)  \\\n",
       "count      2654.000000      2568.000000              2568.000000   \n",
       "mean         29.275810       239.596238               547.978287   \n",
       "std          14.930447       144.579850                47.801271   \n",
       "min           3.000000        16.500000               414.800000   \n",
       "25%          15.000000       112.725000               514.425000   \n",
       "50%          29.000000       219.350000               547.000000   \n",
       "75%          40.000000       351.700000               580.025000   \n",
       "max          85.000000       675.100000               706.500000   \n",
       "\n",
       "       Cortical thickness (µm)  \n",
       "count              2658.000000  \n",
       "mean               1461.209459  \n",
       "std                 302.777029  \n",
       "min                   0.000000  \n",
       "25%                1408.428000  \n",
       "50%                1504.476000  \n",
       "75%                1597.764000  \n",
       "max                1949.940000  "
      ]
     },
     "execution_count": 7,
     "metadata": {},
     "output_type": "execute_result"
    }
   ],
   "source": [
    "meta_df.describe()"
   ]
  },
  {
   "cell_type": "code",
   "execution_count": 10,
   "id": "94699d3e-06f2-4ee0-810e-8ca260bcd525",
   "metadata": {},
   "outputs": [],
   "source": [
    "dandi_ls_08=!dandi ls -r json https://gui.dandiarchive.org/#/dandiset/000008/draft"
   ]
  },
  {
   "cell_type": "code",
   "execution_count": 11,
   "id": "d0124bc9-5e68-4274-8094-77b9300a82ae",
   "metadata": {},
   "outputs": [],
   "source": [
    "dandi_ls_35=!dandi ls -r json https://gui.dandiarchive.org/#/dandiset/000035/draft"
   ]
  },
  {
   "cell_type": "code",
   "execution_count": 12,
   "id": "98260b26-14ca-40f2-83e8-285bd1e260d6",
   "metadata": {},
   "outputs": [],
   "source": [
    "def generate_dandi_res(dandi_ls):\n",
    "    res=dict()\n",
    "    key_fields = ['asset_id', 'created', 'modified', 'path', 'ephys_session_id', 'size']\n",
    "    for row in dandi_ls:\n",
    "        sp = row.split(': ')\n",
    "        if len(sp)==2:\n",
    "            k,v = sp\n",
    "            k = k.strip('-').strip()\n",
    "            v = v.strip(\"'\").strip()\n",
    "            if k not in key_fields:\n",
    "                continue\n",
    "            if k=='asset_id' and res:\n",
    "                if 'asset_id' in res:\n",
    "                    yield res\n",
    "                res = dict()\n",
    "            res[k]=v\n",
    "            if k=='path':\n",
    "                ephys_id = v.split('_ses-')[-1].split('_')[0]\n",
    "                res['ephys_session_id']=ephys_id\n",
    "        else:\n",
    "            continue\n",
    "    yield res"
   ]
  },
  {
   "cell_type": "code",
   "execution_count": 13,
   "id": "6c19a4b0-f079-42f0-9490-d864619a3592",
   "metadata": {},
   "outputs": [],
   "source": [
    "gen_raw = generate_dandi_res(dandi_ls_08)\n",
    "gen_temp = generate_dandi_res(dandi_ls_35)"
   ]
  },
  {
   "cell_type": "code",
   "execution_count": 14,
   "id": "f0b1fd55-ce43-4b2a-a0da-9eaca83e0dd3",
   "metadata": {},
   "outputs": [],
   "source": [
    "dandi_ls_df_raw = pd.DataFrame(gen_raw)\n",
    "dandi_ls_df_temp = pd.DataFrame(gen_temp)"
   ]
  },
  {
   "cell_type": "code",
   "execution_count": 15,
   "id": "9d84382e-11ea-4169-8ff4-65a8ffbc7915",
   "metadata": {},
   "outputs": [
    {
     "data": {
      "text/html": [
       "<div>\n",
       "<style scoped>\n",
       "    .dataframe tbody tr th:only-of-type {\n",
       "        vertical-align: middle;\n",
       "    }\n",
       "\n",
       "    .dataframe tbody tr th {\n",
       "        vertical-align: top;\n",
       "    }\n",
       "\n",
       "    .dataframe thead th {\n",
       "        text-align: right;\n",
       "    }\n",
       "</style>\n",
       "<table border=\"1\" class=\"dataframe\">\n",
       "  <thead>\n",
       "    <tr style=\"text-align: right;\">\n",
       "      <th></th>\n",
       "      <th>asset_id</th>\n",
       "      <th>modified</th>\n",
       "      <th>path</th>\n",
       "      <th>ephys_session_id</th>\n",
       "      <th>size</th>\n",
       "      <th>nwb_download_link</th>\n",
       "    </tr>\n",
       "  </thead>\n",
       "  <tbody>\n",
       "    <tr>\n",
       "      <th>0</th>\n",
       "      <td>13eb9838-8a09-431e-8724-06a12fabb2d8</td>\n",
       "      <td>2021-08-05T18:44:28.109496+00:00</td>\n",
       "      <td>sub-mouse-AAYYT/sub-mouse-AAYYT_ses-20180420-s...</td>\n",
       "      <td>20180420-sample-2</td>\n",
       "      <td>9337840</td>\n",
       "      <td>https://api.dandiarchive.org/api/dandisets/000...</td>\n",
       "    </tr>\n",
       "    <tr>\n",
       "      <th>1</th>\n",
       "      <td>028fb5b3-5a24-4495-873e-b4ed2664db7d</td>\n",
       "      <td>2021-08-05T18:44:28.153974+00:00</td>\n",
       "      <td>sub-mouse-AEJGZ/sub-mouse-AEJGZ_ses-20180315-s...</td>\n",
       "      <td>20180315-sample-2</td>\n",
       "      <td>5206447</td>\n",
       "      <td>https://api.dandiarchive.org/api/dandisets/000...</td>\n",
       "    </tr>\n",
       "    <tr>\n",
       "      <th>2</th>\n",
       "      <td>af1cccda-6715-4d07-b491-5abe22194b0f</td>\n",
       "      <td>2021-08-05T18:44:28.187419+00:00</td>\n",
       "      <td>sub-mouse-AAYYT/sub-mouse-AAYYT_ses-20180420-s...</td>\n",
       "      <td>20180420-sample-3</td>\n",
       "      <td>9310558</td>\n",
       "      <td>https://api.dandiarchive.org/api/dandisets/000...</td>\n",
       "    </tr>\n",
       "    <tr>\n",
       "      <th>3</th>\n",
       "      <td>15d39431-baaf-4b99-abce-f2f87f3d3766</td>\n",
       "      <td>2021-08-05T18:44:28.220243+00:00</td>\n",
       "      <td>sub-mouse-AEJGZ/sub-mouse-AEJGZ_ses-20180315-s...</td>\n",
       "      <td>20180315-sample-1</td>\n",
       "      <td>8527066</td>\n",
       "      <td>https://api.dandiarchive.org/api/dandisets/000...</td>\n",
       "    </tr>\n",
       "    <tr>\n",
       "      <th>4</th>\n",
       "      <td>1e69d81e-1b4d-4ab5-9b28-a66b6d9c2fbd</td>\n",
       "      <td>2021-08-05T18:44:28.252645+00:00</td>\n",
       "      <td>sub-mouse-AAYYT/sub-mouse-AAYYT_ses-20180420-s...</td>\n",
       "      <td>20180420-sample-4</td>\n",
       "      <td>9500838</td>\n",
       "      <td>https://api.dandiarchive.org/api/dandisets/000...</td>\n",
       "    </tr>\n",
       "  </tbody>\n",
       "</table>\n",
       "</div>"
      ],
      "text/plain": [
       "                               asset_id                          modified  \\\n",
       "0  13eb9838-8a09-431e-8724-06a12fabb2d8  2021-08-05T18:44:28.109496+00:00   \n",
       "1  028fb5b3-5a24-4495-873e-b4ed2664db7d  2021-08-05T18:44:28.153974+00:00   \n",
       "2  af1cccda-6715-4d07-b491-5abe22194b0f  2021-08-05T18:44:28.187419+00:00   \n",
       "3  15d39431-baaf-4b99-abce-f2f87f3d3766  2021-08-05T18:44:28.220243+00:00   \n",
       "4  1e69d81e-1b4d-4ab5-9b28-a66b6d9c2fbd  2021-08-05T18:44:28.252645+00:00   \n",
       "\n",
       "                                                path   ephys_session_id  \\\n",
       "0  sub-mouse-AAYYT/sub-mouse-AAYYT_ses-20180420-s...  20180420-sample-2   \n",
       "1  sub-mouse-AEJGZ/sub-mouse-AEJGZ_ses-20180315-s...  20180315-sample-2   \n",
       "2  sub-mouse-AAYYT/sub-mouse-AAYYT_ses-20180420-s...  20180420-sample-3   \n",
       "3  sub-mouse-AEJGZ/sub-mouse-AEJGZ_ses-20180315-s...  20180315-sample-1   \n",
       "4  sub-mouse-AAYYT/sub-mouse-AAYYT_ses-20180420-s...  20180420-sample-4   \n",
       "\n",
       "      size                                  nwb_download_link  \n",
       "0  9337840  https://api.dandiarchive.org/api/dandisets/000...  \n",
       "1  5206447  https://api.dandiarchive.org/api/dandisets/000...  \n",
       "2  9310558  https://api.dandiarchive.org/api/dandisets/000...  \n",
       "3  8527066  https://api.dandiarchive.org/api/dandisets/000...  \n",
       "4  9500838  https://api.dandiarchive.org/api/dandisets/000...  "
      ]
     },
     "execution_count": 15,
     "metadata": {},
     "output_type": "execute_result"
    }
   ],
   "source": [
    "dandi_ls_df_raw['nwb_download_link'] = dandi_ls_df_raw['asset_id'].map(\n",
    "    lambda id_: f'https://api.dandiarchive.org/api/dandisets/000008/versions/draft/assets/{id_}/download/')\n",
    "dandi_ls_df_temp['nwb_download_link'] = dandi_ls_df_temp['asset_id'].map(\n",
    "    lambda id_: f'https://api.dandiarchive.org/api/dandisets/000035/versions/draft/assets/{id_}/download/')\n",
    "dandi_ls_df = pd.concat([dandi_ls_df_raw, dandi_ls_df_temp], ignore_index=True)\n",
    "dandi_ls_df.head()"
   ]
  },
  {
   "cell_type": "code",
   "execution_count": 77,
   "id": "e21d64c7-0216-4fa0-b357-7a1f78711488",
   "metadata": {},
   "outputs": [],
   "source": [
    "dandi_ls_df.to_csv('dandiset_08_15_metadata.csv', index=False)"
   ]
  },
  {
   "cell_type": "code",
   "execution_count": 4,
   "id": "a0cbd629-37b9-4f31-a11c-2c32e90b71f2",
   "metadata": {},
   "outputs": [],
   "source": [
    "# optional use\n",
    "dandi_ls_df = pd.read_csv('dandiset_08_15_metadata.csv')"
   ]
  },
  {
   "cell_type": "markdown",
   "id": "6497b032-f0d0-44c8-96a4-d970f794594a",
   "metadata": {},
   "source": [
    "## Download NWB files"
   ]
  },
  {
   "cell_type": "code",
   "execution_count": 5,
   "id": "bb775d7d-58af-4c48-8ad3-2f707cbb7926",
   "metadata": {},
   "outputs": [],
   "source": [
    "meta_mouses = meta_df_raw['Mouse'].str.replace('mouse_','')\n",
    "meta_samples = meta_df_raw['Cell'].str.replace('_','-')\n",
    "meta_slices = meta_df_raw['Slice'].str.replace('_','-')\n",
    "meta_df_raw['path'] = ('sub-mouse-'+meta_mouses+'/'+'sub-mouse-'+meta_mouses+'_ses-'\n",
    "                  +meta_samples+'_slice-'+meta_slices+'_cell-'+meta_samples+'_icephys.nwb')"
   ]
  },
  {
   "cell_type": "code",
   "execution_count": 6,
   "id": "8f786db2-dc89-4eb1-b232-d8b5f8412207",
   "metadata": {},
   "outputs": [],
   "source": [
    "meta_mouses = meta_df_temp['Mouse'].str.replace('mouse_','')\n",
    "meta_samples = meta_df_temp['Cell'].str.replace('_','-')\n",
    "meta_slices = meta_df_temp['Slice'].str.replace('_','-')\n",
    "meta_df_temp['path'] = ('sub-mouse-'+meta_mouses+'/'+'sub-mouse-'+meta_mouses+'_ses-'\n",
    "                        +meta_samples+'_slice-'+meta_slices+'_cell-'+meta_samples+'_icephys.nwb')"
   ]
  },
  {
   "cell_type": "code",
   "execution_count": 7,
   "id": "054440c1-58c2-4488-8cfb-378c7f8327f2",
   "metadata": {},
   "outputs": [],
   "source": [
    "meta_df = pd.concat([meta_df_raw, meta_df_temp], ignore_index=True)"
   ]
  },
  {
   "cell_type": "code",
   "execution_count": 8,
   "id": "efc43aa7-39e9-4c2e-84fd-871586bb91ec",
   "metadata": {},
   "outputs": [
    {
     "data": {
      "text/html": [
       "<div>\n",
       "<style scoped>\n",
       "    .dataframe tbody tr th:only-of-type {\n",
       "        vertical-align: middle;\n",
       "    }\n",
       "\n",
       "    .dataframe tbody tr th {\n",
       "        vertical-align: top;\n",
       "    }\n",
       "\n",
       "    .dataframe thead th {\n",
       "        text-align: right;\n",
       "    }\n",
       "</style>\n",
       "<table border=\"1\" class=\"dataframe\">\n",
       "  <thead>\n",
       "    <tr style=\"text-align: right;\">\n",
       "      <th></th>\n",
       "      <th>Number</th>\n",
       "      <th>Cell</th>\n",
       "      <th>Slice</th>\n",
       "      <th>Date</th>\n",
       "      <th>Sample</th>\n",
       "      <th>Mouse</th>\n",
       "      <th>Mouse date of birth</th>\n",
       "      <th>Mouse age</th>\n",
       "      <th>Mouse gender</th>\n",
       "      <th>Mouse genotype</th>\n",
       "      <th>...</th>\n",
       "      <th>Soma depth (4x)</th>\n",
       "      <th>Cortical thickness (4x)</th>\n",
       "      <th>Cortical thickness (µm)</th>\n",
       "      <th>Traced</th>\n",
       "      <th>Exclusion reasons</th>\n",
       "      <th>path</th>\n",
       "      <th>Pipette Resistance (MΩ)</th>\n",
       "      <th>Access Resistance (MΩ)</th>\n",
       "      <th>Seal Resistance (MΩ)</th>\n",
       "      <th>Recording Temperature (˚C)</th>\n",
       "    </tr>\n",
       "  </thead>\n",
       "  <tbody>\n",
       "    <tr>\n",
       "      <th>626</th>\n",
       "      <td>627</td>\n",
       "      <td>20190211_sample_10</td>\n",
       "      <td>20190211_slice_4</td>\n",
       "      <td>2019-02-11</td>\n",
       "      <td>Sample 10</td>\n",
       "      <td>mouse_PYVMS</td>\n",
       "      <td>2018-10-14</td>\n",
       "      <td>120</td>\n",
       "      <td>F</td>\n",
       "      <td>Pvalb-Cre/wt; Ai9/wt</td>\n",
       "      <td>...</td>\n",
       "      <td>385.5</td>\n",
       "      <td>546.3</td>\n",
       "      <td>1507.788</td>\n",
       "      <td>y</td>\n",
       "      <td>NaN</td>\n",
       "      <td>sub-mouse-PYVMS/sub-mouse-PYVMS_ses-20190211-s...</td>\n",
       "      <td>NaN</td>\n",
       "      <td>NaN</td>\n",
       "      <td>NaN</td>\n",
       "      <td>NaN</td>\n",
       "    </tr>\n",
       "    <tr>\n",
       "      <th>1421</th>\n",
       "      <td>93</td>\n",
       "      <td>20200408_sample_28</td>\n",
       "      <td>20200408_slice_4</td>\n",
       "      <td>2020-04-08</td>\n",
       "      <td>sample 28</td>\n",
       "      <td>mouse_ZUDOB</td>\n",
       "      <td>2020-01-31</td>\n",
       "      <td>68</td>\n",
       "      <td>M</td>\n",
       "      <td>Sst-IRES-Cre/wt; Ai9/wt</td>\n",
       "      <td>...</td>\n",
       "      <td>0.0</td>\n",
       "      <td>0.0</td>\n",
       "      <td>1640.000</td>\n",
       "      <td>NaN</td>\n",
       "      <td>NaN</td>\n",
       "      <td>sub-mouse-ZUDOB/sub-mouse-ZUDOB_ses-20200408-s...</td>\n",
       "      <td>4.6</td>\n",
       "      <td>19.8</td>\n",
       "      <td>136.6</td>\n",
       "      <td>33-34</td>\n",
       "    </tr>\n",
       "  </tbody>\n",
       "</table>\n",
       "<p>2 rows × 38 columns</p>\n",
       "</div>"
      ],
      "text/plain": [
       "      Number                Cell             Slice        Date     Sample  \\\n",
       "626      627  20190211_sample_10  20190211_slice_4  2019-02-11  Sample 10   \n",
       "1421      93  20200408_sample_28  20200408_slice_4  2020-04-08  sample 28   \n",
       "\n",
       "            Mouse Mouse date of birth  Mouse age Mouse gender  \\\n",
       "626   mouse_PYVMS          2018-10-14        120            F   \n",
       "1421  mouse_ZUDOB          2020-01-31         68            M   \n",
       "\n",
       "               Mouse genotype  ... Soma depth (4x) Cortical thickness (4x)  \\\n",
       "626      Pvalb-Cre/wt; Ai9/wt  ...           385.5                   546.3   \n",
       "1421  Sst-IRES-Cre/wt; Ai9/wt  ...             0.0                     0.0   \n",
       "\n",
       "     Cortical thickness (µm)  Traced  Exclusion reasons  \\\n",
       "626                 1507.788       y                NaN   \n",
       "1421                1640.000     NaN                NaN   \n",
       "\n",
       "                                                   path  \\\n",
       "626   sub-mouse-PYVMS/sub-mouse-PYVMS_ses-20190211-s...   \n",
       "1421  sub-mouse-ZUDOB/sub-mouse-ZUDOB_ses-20200408-s...   \n",
       "\n",
       "      Pipette Resistance (MΩ)  Access Resistance (MΩ) Seal Resistance (MΩ)  \\\n",
       "626                       NaN                     NaN                  NaN   \n",
       "1421                      4.6                    19.8                136.6   \n",
       "\n",
       "     Recording Temperature (˚C)  \n",
       "626                         NaN  \n",
       "1421                      33-34  \n",
       "\n",
       "[2 rows x 38 columns]"
      ]
     },
     "execution_count": 8,
     "metadata": {},
     "output_type": "execute_result"
    }
   ],
   "source": [
    "meta_df[~meta_df['path'].isin(dandi_ls_df['path'])]"
   ]
  },
  {
   "cell_type": "markdown",
   "id": "818c9547-6ff4-480e-b84d-438d0fcd9611",
   "metadata": {},
   "source": [
    "2 cells not found nwb link."
   ]
  },
  {
   "cell_type": "code",
   "execution_count": 16,
   "id": "8c265371-bd33-493a-a993-8ea021996700",
   "metadata": {},
   "outputs": [
    {
     "data": {
      "text/html": [
       "<div>\n",
       "<style scoped>\n",
       "    .dataframe tbody tr th:only-of-type {\n",
       "        vertical-align: middle;\n",
       "    }\n",
       "\n",
       "    .dataframe tbody tr th {\n",
       "        vertical-align: top;\n",
       "    }\n",
       "\n",
       "    .dataframe thead th {\n",
       "        text-align: right;\n",
       "    }\n",
       "</style>\n",
       "<table border=\"1\" class=\"dataframe\">\n",
       "  <thead>\n",
       "    <tr style=\"text-align: right;\">\n",
       "      <th></th>\n",
       "      <th>Number</th>\n",
       "      <th>Cell</th>\n",
       "      <th>Slice</th>\n",
       "      <th>Date</th>\n",
       "      <th>Sample</th>\n",
       "      <th>Mouse</th>\n",
       "      <th>Mouse date of birth</th>\n",
       "      <th>Mouse age</th>\n",
       "      <th>Mouse gender</th>\n",
       "      <th>Mouse genotype</th>\n",
       "      <th>...</th>\n",
       "      <th>Soma depth (µm)</th>\n",
       "      <th>Soma depth (4x)</th>\n",
       "      <th>Cortical thickness (4x)</th>\n",
       "      <th>Cortical thickness (µm)</th>\n",
       "      <th>Traced</th>\n",
       "      <th>Exclusion reasons</th>\n",
       "      <th>path</th>\n",
       "      <th>ephys_session_id</th>\n",
       "      <th>asset_id</th>\n",
       "      <th>nwb_download_link</th>\n",
       "    </tr>\n",
       "  </thead>\n",
       "  <tbody>\n",
       "    <tr>\n",
       "      <th>0</th>\n",
       "      <td>1</td>\n",
       "      <td>20171204_sample_2</td>\n",
       "      <td>20171204_slice_2</td>\n",
       "      <td>2017-12-04</td>\n",
       "      <td>sample 2</td>\n",
       "      <td>mouse_GTOKH</td>\n",
       "      <td>2017-10-29</td>\n",
       "      <td>36</td>\n",
       "      <td>M</td>\n",
       "      <td>Pvalb-Cre/wt; Ai9/wt</td>\n",
       "      <td>...</td>\n",
       "      <td>736.7</td>\n",
       "      <td>271.0</td>\n",
       "      <td>535.8</td>\n",
       "      <td>1478.808</td>\n",
       "      <td>y</td>\n",
       "      <td>NaN</td>\n",
       "      <td>nwb/sub-mouse-GTOKH_ses-20171204-sample-2_slic...</td>\n",
       "      <td>20171204-sample-2</td>\n",
       "      <td>37c8ef44-9962-4d59-b861-009d94fc2e41</td>\n",
       "      <td>https://api.dandiarchive.org/api/dandisets/000...</td>\n",
       "    </tr>\n",
       "    <tr>\n",
       "      <th>1</th>\n",
       "      <td>2</td>\n",
       "      <td>20171204_sample_4</td>\n",
       "      <td>20171204_slice_4</td>\n",
       "      <td>2017-12-04</td>\n",
       "      <td>sample 4</td>\n",
       "      <td>mouse_GTOKH</td>\n",
       "      <td>2017-10-29</td>\n",
       "      <td>36</td>\n",
       "      <td>M</td>\n",
       "      <td>Pvalb-Cre/wt; Ai9/wt</td>\n",
       "      <td>...</td>\n",
       "      <td>726.2</td>\n",
       "      <td>285.7</td>\n",
       "      <td>545.9</td>\n",
       "      <td>1506.684</td>\n",
       "      <td>y</td>\n",
       "      <td>NaN</td>\n",
       "      <td>nwb/sub-mouse-GTOKH_ses-20171204-sample-4_slic...</td>\n",
       "      <td>20171204-sample-4</td>\n",
       "      <td>3f7aeaab-b347-4396-b7de-ca94f220c01a</td>\n",
       "      <td>https://api.dandiarchive.org/api/dandisets/000...</td>\n",
       "    </tr>\n",
       "    <tr>\n",
       "      <th>2</th>\n",
       "      <td>3</td>\n",
       "      <td>20171204_sample_5</td>\n",
       "      <td>20171204_slice_5</td>\n",
       "      <td>2017-12-04</td>\n",
       "      <td>sample 5</td>\n",
       "      <td>mouse_GTOKH</td>\n",
       "      <td>2017-10-29</td>\n",
       "      <td>36</td>\n",
       "      <td>M</td>\n",
       "      <td>Pvalb-Cre/wt; Ai9/wt</td>\n",
       "      <td>...</td>\n",
       "      <td>659.8</td>\n",
       "      <td>241.8</td>\n",
       "      <td>530.4</td>\n",
       "      <td>1463.904</td>\n",
       "      <td>y</td>\n",
       "      <td>NaN</td>\n",
       "      <td>nwb/sub-mouse-GTOKH_ses-20171204-sample-5_slic...</td>\n",
       "      <td>20171204-sample-5</td>\n",
       "      <td>69e5512e-ca1e-4bba-977c-79055d33d6bb</td>\n",
       "      <td>https://api.dandiarchive.org/api/dandisets/000...</td>\n",
       "    </tr>\n",
       "    <tr>\n",
       "      <th>3</th>\n",
       "      <td>4</td>\n",
       "      <td>20171204_sample_6</td>\n",
       "      <td>20171204_slice_6</td>\n",
       "      <td>2017-12-04</td>\n",
       "      <td>sample 6</td>\n",
       "      <td>mouse_GTOKH</td>\n",
       "      <td>2017-10-29</td>\n",
       "      <td>36</td>\n",
       "      <td>M</td>\n",
       "      <td>Pvalb-Cre/wt; Ai9/wt</td>\n",
       "      <td>...</td>\n",
       "      <td>571.7</td>\n",
       "      <td>210.0</td>\n",
       "      <td>501.1</td>\n",
       "      <td>1383.036</td>\n",
       "      <td>y</td>\n",
       "      <td>NaN</td>\n",
       "      <td>nwb/sub-mouse-GTOKH_ses-20171204-sample-6_slic...</td>\n",
       "      <td>20171204-sample-6</td>\n",
       "      <td>3ad6a394-80d7-407c-9264-2257b4c7d70a</td>\n",
       "      <td>https://api.dandiarchive.org/api/dandisets/000...</td>\n",
       "    </tr>\n",
       "    <tr>\n",
       "      <th>4</th>\n",
       "      <td>5</td>\n",
       "      <td>20171207_sample_1</td>\n",
       "      <td>20171207_slice_1</td>\n",
       "      <td>2017-12-07</td>\n",
       "      <td>sample 1</td>\n",
       "      <td>mouse_UGZSW</td>\n",
       "      <td>2017-09-18</td>\n",
       "      <td>80</td>\n",
       "      <td>F</td>\n",
       "      <td>Sst-IRES-Cre/wt; Ai9/wt</td>\n",
       "      <td>...</td>\n",
       "      <td>772.4</td>\n",
       "      <td>288.9</td>\n",
       "      <td>477.1</td>\n",
       "      <td>1316.796</td>\n",
       "      <td>y</td>\n",
       "      <td>NaN</td>\n",
       "      <td>nwb/sub-mouse-UGZSW_ses-20171207-sample-1_slic...</td>\n",
       "      <td>20171207-sample-1</td>\n",
       "      <td>7ad3819e-4077-40a7-978e-c2d0ad1fd747</td>\n",
       "      <td>https://api.dandiarchive.org/api/dandisets/000...</td>\n",
       "    </tr>\n",
       "  </tbody>\n",
       "</table>\n",
       "<p>5 rows × 37 columns</p>\n",
       "</div>"
      ],
      "text/plain": [
       "   Number               Cell             Slice        Date    Sample  \\\n",
       "0       1  20171204_sample_2  20171204_slice_2  2017-12-04  sample 2   \n",
       "1       2  20171204_sample_4  20171204_slice_4  2017-12-04  sample 4   \n",
       "2       3  20171204_sample_5  20171204_slice_5  2017-12-04  sample 5   \n",
       "3       4  20171204_sample_6  20171204_slice_6  2017-12-04  sample 6   \n",
       "4       5  20171207_sample_1  20171207_slice_1  2017-12-07  sample 1   \n",
       "\n",
       "         Mouse Mouse date of birth  Mouse age Mouse gender  \\\n",
       "0  mouse_GTOKH          2017-10-29         36            M   \n",
       "1  mouse_GTOKH          2017-10-29         36            M   \n",
       "2  mouse_GTOKH          2017-10-29         36            M   \n",
       "3  mouse_GTOKH          2017-10-29         36            M   \n",
       "4  mouse_UGZSW          2017-09-18         80            F   \n",
       "\n",
       "            Mouse genotype  ... Soma depth (µm) Soma depth (4x)  \\\n",
       "0     Pvalb-Cre/wt; Ai9/wt  ...           736.7           271.0   \n",
       "1     Pvalb-Cre/wt; Ai9/wt  ...           726.2           285.7   \n",
       "2     Pvalb-Cre/wt; Ai9/wt  ...           659.8           241.8   \n",
       "3     Pvalb-Cre/wt; Ai9/wt  ...           571.7           210.0   \n",
       "4  Sst-IRES-Cre/wt; Ai9/wt  ...           772.4           288.9   \n",
       "\n",
       "  Cortical thickness (4x)  Cortical thickness (µm)  Traced  Exclusion reasons  \\\n",
       "0                   535.8                 1478.808       y                NaN   \n",
       "1                   545.9                 1506.684       y                NaN   \n",
       "2                   530.4                 1463.904       y                NaN   \n",
       "3                   501.1                 1383.036       y                NaN   \n",
       "4                   477.1                 1316.796       y                NaN   \n",
       "\n",
       "                                                path   ephys_session_id  \\\n",
       "0  nwb/sub-mouse-GTOKH_ses-20171204-sample-2_slic...  20171204-sample-2   \n",
       "1  nwb/sub-mouse-GTOKH_ses-20171204-sample-4_slic...  20171204-sample-4   \n",
       "2  nwb/sub-mouse-GTOKH_ses-20171204-sample-5_slic...  20171204-sample-5   \n",
       "3  nwb/sub-mouse-GTOKH_ses-20171204-sample-6_slic...  20171204-sample-6   \n",
       "4  nwb/sub-mouse-UGZSW_ses-20171207-sample-1_slic...  20171207-sample-1   \n",
       "\n",
       "                               asset_id  \\\n",
       "0  37c8ef44-9962-4d59-b861-009d94fc2e41   \n",
       "1  3f7aeaab-b347-4396-b7de-ca94f220c01a   \n",
       "2  69e5512e-ca1e-4bba-977c-79055d33d6bb   \n",
       "3  3ad6a394-80d7-407c-9264-2257b4c7d70a   \n",
       "4  7ad3819e-4077-40a7-978e-c2d0ad1fd747   \n",
       "\n",
       "                                   nwb_download_link  \n",
       "0  https://api.dandiarchive.org/api/dandisets/000...  \n",
       "1  https://api.dandiarchive.org/api/dandisets/000...  \n",
       "2  https://api.dandiarchive.org/api/dandisets/000...  \n",
       "3  https://api.dandiarchive.org/api/dandisets/000...  \n",
       "4  https://api.dandiarchive.org/api/dandisets/000...  \n",
       "\n",
       "[5 rows x 37 columns]"
      ]
     },
     "execution_count": 16,
     "metadata": {},
     "output_type": "execute_result"
    }
   ],
   "source": [
    "electro_df_raw = meta_df_raw.merge(dandi_ls_df_raw[['ephys_session_id', 'asset_id', 'nwb_download_link', 'path']], \n",
    "                                   how='inner', on='path', validate='1:1')\n",
    "electro_df_raw['path'] = electro_df_raw['path'].map(lambda p: 'nwb/'+Path(p).name)\n",
    "electro_df_raw.head()"
   ]
  },
  {
   "cell_type": "code",
   "execution_count": 17,
   "id": "e556da46-2f4d-4838-ac04-9a44c1af39ce",
   "metadata": {},
   "outputs": [
    {
     "data": {
      "text/html": [
       "<div>\n",
       "<style scoped>\n",
       "    .dataframe tbody tr th:only-of-type {\n",
       "        vertical-align: middle;\n",
       "    }\n",
       "\n",
       "    .dataframe tbody tr th {\n",
       "        vertical-align: top;\n",
       "    }\n",
       "\n",
       "    .dataframe thead th {\n",
       "        text-align: right;\n",
       "    }\n",
       "</style>\n",
       "<table border=\"1\" class=\"dataframe\">\n",
       "  <thead>\n",
       "    <tr style=\"text-align: right;\">\n",
       "      <th></th>\n",
       "      <th>Number</th>\n",
       "      <th>Cell</th>\n",
       "      <th>Slice</th>\n",
       "      <th>Date</th>\n",
       "      <th>Sample</th>\n",
       "      <th>Mouse</th>\n",
       "      <th>Mouse date of birth</th>\n",
       "      <th>Mouse age</th>\n",
       "      <th>Mouse gender</th>\n",
       "      <th>Mouse genotype</th>\n",
       "      <th>...</th>\n",
       "      <th>Traced</th>\n",
       "      <th>Exclusion reasons</th>\n",
       "      <th>Pipette Resistance (MΩ)</th>\n",
       "      <th>Access Resistance (MΩ)</th>\n",
       "      <th>Seal Resistance (MΩ)</th>\n",
       "      <th>Recording Temperature (˚C)</th>\n",
       "      <th>path</th>\n",
       "      <th>ephys_session_id</th>\n",
       "      <th>asset_id</th>\n",
       "      <th>nwb_download_link</th>\n",
       "    </tr>\n",
       "  </thead>\n",
       "  <tbody>\n",
       "    <tr>\n",
       "      <th>0</th>\n",
       "      <td>1</td>\n",
       "      <td>20200403_sample_1</td>\n",
       "      <td>20200403_slice_1</td>\n",
       "      <td>2020-04-03</td>\n",
       "      <td>sample 1</td>\n",
       "      <td>mouse_KIYRP</td>\n",
       "      <td>2020-01-31</td>\n",
       "      <td>63</td>\n",
       "      <td>M</td>\n",
       "      <td>Sst-IRES-Cre/wt; Ai9/wt</td>\n",
       "      <td>...</td>\n",
       "      <td>NaN</td>\n",
       "      <td>NaN</td>\n",
       "      <td>2.91</td>\n",
       "      <td>22.9</td>\n",
       "      <td>256.9</td>\n",
       "      <td>33-34</td>\n",
       "      <td>nwb_temp/sub-mouse-KIYRP_ses-20200403-sample-1...</td>\n",
       "      <td>20200403-sample-1</td>\n",
       "      <td>42459f42-267e-4073-accd-a78d16ba80ef</td>\n",
       "      <td>https://api.dandiarchive.org/api/dandisets/000...</td>\n",
       "    </tr>\n",
       "    <tr>\n",
       "      <th>1</th>\n",
       "      <td>2</td>\n",
       "      <td>20200403_sample_2</td>\n",
       "      <td>20200403_slice_1</td>\n",
       "      <td>2020-04-03</td>\n",
       "      <td>sample 2</td>\n",
       "      <td>mouse_KIYRP</td>\n",
       "      <td>2020-01-31</td>\n",
       "      <td>63</td>\n",
       "      <td>M</td>\n",
       "      <td>Sst-IRES-Cre/wt; Ai9/wt</td>\n",
       "      <td>...</td>\n",
       "      <td>NaN</td>\n",
       "      <td>NaN</td>\n",
       "      <td>30.70</td>\n",
       "      <td>11.3</td>\n",
       "      <td>145.0</td>\n",
       "      <td>33-34</td>\n",
       "      <td>nwb_temp/sub-mouse-KIYRP_ses-20200403-sample-2...</td>\n",
       "      <td>20200403-sample-2</td>\n",
       "      <td>baeb07f5-170a-429b-8656-b6044e584eb4</td>\n",
       "      <td>https://api.dandiarchive.org/api/dandisets/000...</td>\n",
       "    </tr>\n",
       "    <tr>\n",
       "      <th>2</th>\n",
       "      <td>3</td>\n",
       "      <td>20200403_sample_3</td>\n",
       "      <td>20200403_slice_1</td>\n",
       "      <td>2020-04-03</td>\n",
       "      <td>sample 3</td>\n",
       "      <td>mouse_KIYRP</td>\n",
       "      <td>2020-01-31</td>\n",
       "      <td>63</td>\n",
       "      <td>M</td>\n",
       "      <td>Sst-IRES-Cre/wt; Ai9/wt</td>\n",
       "      <td>...</td>\n",
       "      <td>NaN</td>\n",
       "      <td>NaN</td>\n",
       "      <td>3.07</td>\n",
       "      <td>26.5</td>\n",
       "      <td>266.5</td>\n",
       "      <td>33-34</td>\n",
       "      <td>nwb_temp/sub-mouse-KIYRP_ses-20200403-sample-3...</td>\n",
       "      <td>20200403-sample-3</td>\n",
       "      <td>500c0d4b-76ec-47c7-bb24-ff9af6ab2309</td>\n",
       "      <td>https://api.dandiarchive.org/api/dandisets/000...</td>\n",
       "    </tr>\n",
       "    <tr>\n",
       "      <th>3</th>\n",
       "      <td>4</td>\n",
       "      <td>20200403_sample_4</td>\n",
       "      <td>20200403_slice_1</td>\n",
       "      <td>2020-04-03</td>\n",
       "      <td>sample 4</td>\n",
       "      <td>mouse_KIYRP</td>\n",
       "      <td>2020-01-31</td>\n",
       "      <td>63</td>\n",
       "      <td>M</td>\n",
       "      <td>Sst-IRES-Cre/wt; Ai9/wt</td>\n",
       "      <td>...</td>\n",
       "      <td>NaN</td>\n",
       "      <td>NaN</td>\n",
       "      <td>3.24</td>\n",
       "      <td>13.7</td>\n",
       "      <td>143.8</td>\n",
       "      <td>33-34</td>\n",
       "      <td>nwb_temp/sub-mouse-KIYRP_ses-20200403-sample-4...</td>\n",
       "      <td>20200403-sample-4</td>\n",
       "      <td>9912e6f1-4a33-4b41-bba3-e888d47d38a2</td>\n",
       "      <td>https://api.dandiarchive.org/api/dandisets/000...</td>\n",
       "    </tr>\n",
       "    <tr>\n",
       "      <th>4</th>\n",
       "      <td>5</td>\n",
       "      <td>20200403_sample_5</td>\n",
       "      <td>20200403_slice_2</td>\n",
       "      <td>2020-04-03</td>\n",
       "      <td>sample 5</td>\n",
       "      <td>mouse_KIYRP</td>\n",
       "      <td>2020-01-31</td>\n",
       "      <td>63</td>\n",
       "      <td>M</td>\n",
       "      <td>Sst-IRES-Cre/wt; Ai9/wt</td>\n",
       "      <td>...</td>\n",
       "      <td>NaN</td>\n",
       "      <td>NaN</td>\n",
       "      <td>2.94</td>\n",
       "      <td>15.7</td>\n",
       "      <td>180.1</td>\n",
       "      <td>33-34</td>\n",
       "      <td>nwb_temp/sub-mouse-KIYRP_ses-20200403-sample-5...</td>\n",
       "      <td>20200403-sample-5</td>\n",
       "      <td>68d4d528-c31b-4e09-ab6d-fc8788d86ada</td>\n",
       "      <td>https://api.dandiarchive.org/api/dandisets/000...</td>\n",
       "    </tr>\n",
       "  </tbody>\n",
       "</table>\n",
       "<p>5 rows × 41 columns</p>\n",
       "</div>"
      ],
      "text/plain": [
       "   Number               Cell             Slice        Date    Sample  \\\n",
       "0       1  20200403_sample_1  20200403_slice_1  2020-04-03  sample 1   \n",
       "1       2  20200403_sample_2  20200403_slice_1  2020-04-03  sample 2   \n",
       "2       3  20200403_sample_3  20200403_slice_1  2020-04-03  sample 3   \n",
       "3       4  20200403_sample_4  20200403_slice_1  2020-04-03  sample 4   \n",
       "4       5  20200403_sample_5  20200403_slice_2  2020-04-03  sample 5   \n",
       "\n",
       "         Mouse Mouse date of birth  Mouse age Mouse gender  \\\n",
       "0  mouse_KIYRP          2020-01-31         63            M   \n",
       "1  mouse_KIYRP          2020-01-31         63            M   \n",
       "2  mouse_KIYRP          2020-01-31         63            M   \n",
       "3  mouse_KIYRP          2020-01-31         63            M   \n",
       "4  mouse_KIYRP          2020-01-31         63            M   \n",
       "\n",
       "            Mouse genotype  ...  Traced Exclusion reasons  \\\n",
       "0  Sst-IRES-Cre/wt; Ai9/wt  ...     NaN               NaN   \n",
       "1  Sst-IRES-Cre/wt; Ai9/wt  ...     NaN               NaN   \n",
       "2  Sst-IRES-Cre/wt; Ai9/wt  ...     NaN               NaN   \n",
       "3  Sst-IRES-Cre/wt; Ai9/wt  ...     NaN               NaN   \n",
       "4  Sst-IRES-Cre/wt; Ai9/wt  ...     NaN               NaN   \n",
       "\n",
       "  Pipette Resistance (MΩ)  Access Resistance (MΩ)  Seal Resistance (MΩ)  \\\n",
       "0                    2.91                    22.9                 256.9   \n",
       "1                   30.70                    11.3                 145.0   \n",
       "2                    3.07                    26.5                 266.5   \n",
       "3                    3.24                    13.7                 143.8   \n",
       "4                    2.94                    15.7                 180.1   \n",
       "\n",
       "   Recording Temperature (˚C)  \\\n",
       "0                       33-34   \n",
       "1                       33-34   \n",
       "2                       33-34   \n",
       "3                       33-34   \n",
       "4                       33-34   \n",
       "\n",
       "                                                path   ephys_session_id  \\\n",
       "0  nwb_temp/sub-mouse-KIYRP_ses-20200403-sample-1...  20200403-sample-1   \n",
       "1  nwb_temp/sub-mouse-KIYRP_ses-20200403-sample-2...  20200403-sample-2   \n",
       "2  nwb_temp/sub-mouse-KIYRP_ses-20200403-sample-3...  20200403-sample-3   \n",
       "3  nwb_temp/sub-mouse-KIYRP_ses-20200403-sample-4...  20200403-sample-4   \n",
       "4  nwb_temp/sub-mouse-KIYRP_ses-20200403-sample-5...  20200403-sample-5   \n",
       "\n",
       "                               asset_id  \\\n",
       "0  42459f42-267e-4073-accd-a78d16ba80ef   \n",
       "1  baeb07f5-170a-429b-8656-b6044e584eb4   \n",
       "2  500c0d4b-76ec-47c7-bb24-ff9af6ab2309   \n",
       "3  9912e6f1-4a33-4b41-bba3-e888d47d38a2   \n",
       "4  68d4d528-c31b-4e09-ab6d-fc8788d86ada   \n",
       "\n",
       "                                   nwb_download_link  \n",
       "0  https://api.dandiarchive.org/api/dandisets/000...  \n",
       "1  https://api.dandiarchive.org/api/dandisets/000...  \n",
       "2  https://api.dandiarchive.org/api/dandisets/000...  \n",
       "3  https://api.dandiarchive.org/api/dandisets/000...  \n",
       "4  https://api.dandiarchive.org/api/dandisets/000...  \n",
       "\n",
       "[5 rows x 41 columns]"
      ]
     },
     "execution_count": 17,
     "metadata": {},
     "output_type": "execute_result"
    }
   ],
   "source": [
    "electro_df_temp = meta_df_temp.merge(dandi_ls_df_temp[['ephys_session_id', 'asset_id', 'nwb_download_link', 'path']],\n",
    "                                     how='inner', on='path', validate='1:1')\n",
    "electro_df_temp['path'] = electro_df_temp['path'].map(lambda p: 'nwb_temp/'+Path(p).name)\n",
    "electro_df_temp.head()"
   ]
  },
  {
   "cell_type": "code",
   "execution_count": 18,
   "id": "3f193069",
   "metadata": {},
   "outputs": [],
   "source": [
    "electro_df = pd.concat([electro_df_raw, electro_df_temp])\n",
    "electro_df.to_csv('m1_electro_meta_df.csv', index=False)"
   ]
  },
  {
   "cell_type": "code",
   "execution_count": 6,
   "id": "09ce4964",
   "metadata": {},
   "outputs": [],
   "source": [
    "# optional use\n",
    "electro_df = pd.read_csv('m1_electro_meta_df.csv')"
   ]
  },
  {
   "cell_type": "markdown",
   "id": "881f6b17-9c4b-49c7-9d12-809151462851",
   "metadata": {},
   "source": [
    "Batch downloading"
   ]
  },
  {
   "cell_type": "code",
   "execution_count": 89,
   "id": "812589c5-3fec-478b-bdd3-9a1b8b775808",
   "metadata": {},
   "outputs": [],
   "source": [
    "Path('nwb').mkdir(exist_ok=True)\n",
    "Path('nwb_temp').mkdir(exist_ok=True)"
   ]
  },
  {
   "cell_type": "code",
   "execution_count": 95,
   "id": "c881e038-cbfd-4afc-9d91-0891660fc6b3",
   "metadata": {
    "scrolled": true,
    "tags": []
   },
   "outputs": [
    {
     "data": {
      "application/vnd.jupyter.widget-view+json": {
       "model_id": "378501f76cc946d38177cda3c94ec0a2",
       "version_major": 2,
       "version_minor": 0
      },
      "text/plain": [
       "  0%|          | 0/1512 [00:00<?, ?it/s]"
      ]
     },
     "metadata": {},
     "output_type": "display_data"
    },
    {
     "name": "stdout",
     "output_type": "stream",
     "text": [
      "PATH                                                                                            SIZE    DONE           DONE% CHECKSUM STATUS          MESSAGE\n",
      "sub-mouse-KIYRP_ses-20200403-sample-1_slice-20200403-slice-1_cell-20200403-sample-1_icephys.nwb 9.3 MB  9.3 MB          100%    ok    done                   \n",
      "Summary:                                                                                        9.3 MB  9.3 MB                        1 done                 \n",
      "                                                                                                        100.00%                                              \n",
      "2021-08-16 15:24:33,274 [    INFO] Logs saved in /root/.cache/dandi-cli/log/20210816151453Z-1993.log\n",
      "PATH                                                                                            SIZE    DONE            DONE% CHECKSUM STATUS          MESSAGE\n",
      "sub-mouse-KIYRP_ses-20200403-sample-2_slice-20200403-slice-1_cell-20200403-sample-2_icephys.nwb 9.3 MB  9.3 MB           100%    ok    done                   \n",
      "Summary:                                                                                        9.3 MB  9.3 MB                         1 done                 \n",
      "                                                                                                        100.00%                                               \n",
      "2021-08-16 15:39:24,650 [    INFO] Logs saved in /root/.cache/dandi-cli/log/20210816152436Z-2255.log\n",
      "PATH                                                                                            SIZE    DONE           DONE% CHECKSUM STATUS          MESSAGE\n",
      "sub-mouse-KIYRP_ses-20200403-sample-3_slice-20200403-slice-1_cell-20200403-sample-3_icephys.nwb 9.1 MB  9.1 MB          100%    ok    done                   \n",
      "Summary:                                                                                        9.1 MB  9.1 MB                        1 done                 \n",
      "                                                                                                        100.00%                                              \n",
      "2021-08-16 15:45:36,545 [    INFO] Logs saved in /root/.cache/dandi-cli/log/20210816153927Z-2518.log\n",
      "PATH                                                                                            SIZE    DONE            DONE% CHECKSUM STATUS          MESSAGE\n",
      "sub-mouse-KIYRP_ses-20200403-sample-4_slice-20200403-slice-1_cell-20200403-sample-4_icephys.nwb 9.3 MB  9.3 MB           100%    ok    done                   \n",
      "Summary:                                                                                        9.3 MB  9.3 MB                         1 done                 \n",
      "                                                                                                        100.00%                                               \n",
      "2021-08-16 16:13:36,258 [    INFO] Logs saved in /root/.cache/dandi-cli/log/20210816154539Z-2589.log\n",
      "PATH                                                                                            SIZE    DONE           DONE% CHECKSUM STATUS          MESSAGE\n",
      "sub-mouse-KIYRP_ses-20200403-sample-5_slice-20200403-slice-2_cell-20200403-sample-5_icephys.nwb 9.4 MB  9.4 MB          100%    ok    done                   \n",
      "Summary:                                                                                        9.4 MB  9.4 MB                        1 done                 \n",
      "                                                                                                        100.00%                                              \n",
      "2021-08-16 16:23:15,352 [    INFO] Logs saved in /root/.cache/dandi-cli/log/20210816161338Z-2815.log\n",
      "PATH                                                                                            SIZE    DONE           DONE% CHECKSUM STATUS          MESSAGE\n",
      "sub-mouse-KIYRP_ses-20200403-sample-6_slice-20200403-slice-2_cell-20200403-sample-6_icephys.nwb 9.4 MB  9.4 MB          100%    ok    done                   \n",
      "Summary:                                                                                        9.4 MB  9.4 MB                        1 done                 \n",
      "                                                                                                        100.00%                                              \n",
      "2021-08-16 16:29:34,070 [    INFO] Logs saved in /root/.cache/dandi-cli/log/20210816162317Z-2845.log\n",
      "PATH                                                                                            SIZE    DONE           DONE% CHECKSUM STATUS          MESSAGE\n",
      "sub-mouse-KIYRP_ses-20200403-sample-7_slice-20200403-slice-2_cell-20200403-sample-7_icephys.nwb 9.1 MB  9.1 MB          100%    ok    done                   \n",
      "Summary:                                                                                        9.1 MB  9.1 MB                        1 done                 \n",
      "                                                                                                        100.00%                                              \n",
      "2021-08-16 16:34:46,436 [    INFO] Logs saved in /root/.cache/dandi-cli/log/20210816162936Z-2869.log\n",
      "PATH                                                                                            SIZE    DONE           DONE% CHECKSUM STATUS          MESSAGE\n",
      "sub-mouse-KIYRP_ses-20200403-sample-8_slice-20200403-slice-2_cell-20200403-sample-8_icephys.nwb 9.6 MB  9.6 MB          100%    ok    done                   \n",
      "Summary:                                                                                        9.6 MB  9.6 MB                        1 done                 \n",
      "                                                                                                        100.00%                                              \n",
      "2021-08-16 16:40:50,423 [    INFO] Logs saved in /root/.cache/dandi-cli/log/20210816163449Z-2895.log\n",
      "PATH                                                                                            SIZE    DONE           DONE% CHECKSUM STATUS        MESSAGE\n",
      "sub-mouse-KIYRP_ses-20200403-sample-9_slice-20200403-slice-2_cell-20200403-sample-9_icephys.nwb 9.3 MB  5.3 MB           57%          downloading          \n",
      "Summary:                                                                                        9.3 MB  5.3 MB                        1 downloading        \n",
      "                                                                                                        57.09%                                             \n",
      "                                                                                                        ETA: 6 minutes                                     \n",
      "\n",
      "\n",
      "ERROR: 1 asynchronous worker failed\n",
      "\n",
      "Producing value for row ('sub-mouse-KIYRP_ses-20200403-sample-9_slice-20200403-slice-2_cell-20200403-sample-9_icephys.nwb',) failed:\n",
      "Traceback (most recent call last):\n",
      "  File \"/usr/local/envs/neuron/lib/python3.8/site-packages/pyout/interface.py\", line 279, in _print_async_exceptions\n",
      "    future.result()\n",
      "  File \"/usr/local/envs/neuron/lib/python3.8/concurrent/futures/_base.py\", line 437, in result\n",
      "    return self.__get_result()\n",
      "  File \"/usr/local/envs/neuron/lib/python3.8/concurrent/futures/_base.py\", line 389, in __get_result\n",
      "    raise self._exception\n",
      "  File \"/usr/local/envs/neuron/lib/python3.8/concurrent/futures/thread.py\", line 57, in run\n",
      "    result = self.fn(*self.args, **self.kwargs)\n",
      "  File \"/usr/local/envs/neuron/lib/python3.8/site-packages/pyout/interface.py\", line 482, in async_fn\n",
      "    for i in gen:\n",
      "  File \"/usr/local/envs/neuron/lib/python3.8/site-packages/dandi/download.py\", line 585, in _download_file\n",
      "    downloaded_digest = downloaded_digest.hexdigest()  # we care only about hex\n",
      "  File \"/usr/local/envs/neuron/lib/python3.8/site-packages/dandi/core/digests/dandietag.py\", line 202, in hexdigest\n",
      "    return self.etagger.as_str()\n",
      "  File \"/usr/local/envs/neuron/lib/python3.8/site-packages/dandi/core/digests/dandietag.py\", line 129, in as_str\n",
      "    raise ValueError(\"Not all part hashes submitted\")\n",
      "ValueError: Not all part hashes submitted\n",
      "\n",
      "2021-08-16 16:44:54,328 [    INFO] Logs saved in /root/.cache/dandi-cli/log/20210816164052Z-2917.log\n",
      "PATH                                                                                              SIZE    DONE          DONE% CHECKSUM STATUS          MESSAGE\n",
      "sub-mouse-KIYRP_ses-20200403-sample-10_slice-20200403-slice-3_cell-20200403-sample-10_icephys.nwb 9.3 MB  9.3 MB         100%    ok    done                   \n",
      "Summary:                                                                                          9.3 MB  9.3 MB                       1 done                 \n",
      "                                                                                                          100.00%                                             \n",
      "2021-08-16 16:46:53,222 [    INFO] Logs saved in /root/.cache/dandi-cli/log/20210816164456Z-2938.log\n",
      "PATH                                                                                              SIZE    DONE            DONE% CHECKSUM STATUS        MESSAGE\n",
      "sub-mouse-KIYRP_ses-20200403-sample-11_slice-20200403-slice-3_cell-20200403-sample-11_icephys.nwb 9.3 MB  347.6 kB           3%          downloading          \n",
      "Summary:                                                                                          9.3 MB  347.6 kB                       1 downloading        \n",
      "                                                                                                          3.72%                                               \n",
      "                                                                                                          ETA: 40 minutes                                     \n",
      "\n",
      "\n",
      "ERROR: 1 asynchronous worker failed\n",
      "\n",
      "Producing value for row ('sub-mouse-KIYRP_ses-20200403-sample-11_slice-20200403-slice-3_cell-20200403-sample-11_icephys.nwb',) failed:\n",
      "Traceback (most recent call last):\n",
      "  File \"/usr/local/envs/neuron/lib/python3.8/site-packages/pyout/interface.py\", line 279, in _print_async_exceptions\n",
      "    future.result()\n",
      "  File \"/usr/local/envs/neuron/lib/python3.8/concurrent/futures/_base.py\", line 437, in result\n",
      "    return self.__get_result()\n",
      "  File \"/usr/local/envs/neuron/lib/python3.8/concurrent/futures/_base.py\", line 389, in __get_result\n",
      "    raise self._exception\n",
      "  File \"/usr/local/envs/neuron/lib/python3.8/concurrent/futures/thread.py\", line 57, in run\n",
      "    result = self.fn(*self.args, **self.kwargs)\n",
      "  File \"/usr/local/envs/neuron/lib/python3.8/site-packages/pyout/interface.py\", line 482, in async_fn\n",
      "    for i in gen:\n",
      "  File \"/usr/local/envs/neuron/lib/python3.8/site-packages/dandi/download.py\", line 585, in _download_file\n",
      "    downloaded_digest = downloaded_digest.hexdigest()  # we care only about hex\n",
      "  File \"/usr/local/envs/neuron/lib/python3.8/site-packages/dandi/core/digests/dandietag.py\", line 202, in hexdigest\n",
      "    return self.etagger.as_str()\n",
      "  File \"/usr/local/envs/neuron/lib/python3.8/site-packages/dandi/core/digests/dandietag.py\", line 129, in as_str\n",
      "    raise ValueError(\"Not all part hashes submitted\")\n",
      "ValueError: Not all part hashes submitted\n",
      "\n",
      "2021-08-16 16:48:30,156 [    INFO] Logs saved in /root/.cache/dandi-cli/log/20210816164655Z-2956.log\n",
      "PATH                                                                                              SIZE    DONE    DONE% CHECKSUM STATUS        MESSAGE\n",
      "sub-mouse-KIYRP_ses-20200403-sample-12_slice-20200403-slice-4_cell-20200403-sample-12_icephys.nwb 9.4 MB                         downloading          \n",
      "Summary:                                                                                          9.4 MB  0 Bytes                1 downloading        \n",
      "                                                                                                          0.00%                                       \n",
      "\n",
      "\n",
      "ERROR: 1 asynchronous worker failed\n",
      "\n",
      "Producing value for row ('sub-mouse-KIYRP_ses-20200403-sample-12_slice-20200403-slice-4_cell-20200403-sample-12_icephys.nwb',) failed:\n",
      "Traceback (most recent call last):\n",
      "  File \"/usr/local/envs/neuron/lib/python3.8/site-packages/urllib3/connectionpool.py\", line 699, in urlopen\n",
      "    httplib_response = self._make_request(\n",
      "  File \"/usr/local/envs/neuron/lib/python3.8/site-packages/urllib3/connectionpool.py\", line 445, in _make_request\n",
      "    six.raise_from(e, None)\n",
      "  File \"<string>\", line 3, in raise_from\n",
      "  File \"/usr/local/envs/neuron/lib/python3.8/site-packages/urllib3/connectionpool.py\", line 440, in _make_request\n",
      "    httplib_response = conn.getresponse()\n",
      "  File \"/usr/local/envs/neuron/lib/python3.8/http/client.py\", line 1344, in getresponse\n",
      "    response.begin()\n",
      "  File \"/usr/local/envs/neuron/lib/python3.8/http/client.py\", line 307, in begin\n",
      "    version, status, reason = self._read_status()\n",
      "  File \"/usr/local/envs/neuron/lib/python3.8/http/client.py\", line 276, in _read_status\n",
      "    raise RemoteDisconnected(\"Remote end closed connection without\"\n",
      "http.client.RemoteDisconnected: Remote end closed connection without response\n",
      "\n",
      "During handling of the above exception, another exception occurred:\n",
      "\n",
      "Traceback (most recent call last):\n",
      "  File \"/usr/local/envs/neuron/lib/python3.8/site-packages/requests/adapters.py\", line 439, in send\n",
      "    resp = conn.urlopen(\n",
      "  File \"/usr/local/envs/neuron/lib/python3.8/site-packages/urllib3/connectionpool.py\", line 755, in urlopen\n",
      "    retries = retries.increment(\n",
      "  File \"/usr/local/envs/neuron/lib/python3.8/site-packages/urllib3/util/retry.py\", line 532, in increment\n",
      "    raise six.reraise(type(error), error, _stacktrace)\n",
      "  File \"/usr/local/envs/neuron/lib/python3.8/site-packages/urllib3/packages/six.py\", line 769, in reraise\n",
      "    raise value.with_traceback(tb)\n",
      "  File \"/usr/local/envs/neuron/lib/python3.8/site-packages/urllib3/connectionpool.py\", line 699, in urlopen\n",
      "    httplib_response = self._make_request(\n",
      "  File \"/usr/local/envs/neuron/lib/python3.8/site-packages/urllib3/connectionpool.py\", line 445, in _make_request\n",
      "    six.raise_from(e, None)\n",
      "  File \"<string>\", line 3, in raise_from\n",
      "  File \"/usr/local/envs/neuron/lib/python3.8/site-packages/urllib3/connectionpool.py\", line 440, in _make_request\n",
      "    httplib_response = conn.getresponse()\n",
      "  File \"/usr/local/envs/neuron/lib/python3.8/http/client.py\", line 1344, in getresponse\n",
      "    response.begin()\n",
      "  File \"/usr/local/envs/neuron/lib/python3.8/http/client.py\", line 307, in begin\n",
      "    version, status, reason = self._read_status()\n",
      "  File \"/usr/local/envs/neuron/lib/python3.8/http/client.py\", line 276, in _read_status\n",
      "    raise RemoteDisconnected(\"Remote end closed connection without\"\n",
      "urllib3.exceptions.ProtocolError: ('Connection aborted.', RemoteDisconnected('Remote end closed connection without response'))\n",
      "\n",
      "During handling of the above exception, another exception occurred:\n",
      "\n",
      "Traceback (most recent call last):\n",
      "  File \"/usr/local/envs/neuron/lib/python3.8/site-packages/pyout/interface.py\", line 279, in _print_async_exceptions\n",
      "    future.result()\n",
      "  File \"/usr/local/envs/neuron/lib/python3.8/concurrent/futures/_base.py\", line 437, in result\n",
      "    return self.__get_result()\n",
      "  File \"/usr/local/envs/neuron/lib/python3.8/concurrent/futures/_base.py\", line 389, in __get_result\n",
      "    raise self._exception\n",
      "  File \"/usr/local/envs/neuron/lib/python3.8/concurrent/futures/thread.py\", line 57, in run\n",
      "    result = self.fn(*self.args, **self.kwargs)\n",
      "  File \"/usr/local/envs/neuron/lib/python3.8/site-packages/pyout/interface.py\", line 482, in async_fn\n",
      "    for i in gen:\n",
      "  File \"/usr/local/envs/neuron/lib/python3.8/site-packages/dandi/download.py\", line 543, in _download_file\n",
      "    for block in downloader(start_at=dldir.offset):\n",
      "  File \"/usr/local/envs/neuron/lib/python3.8/site-packages/dandi/dandiapi.py\", line 802, in downloader\n",
      "    result = self.client.session.get(url, stream=True, headers=headers)\n",
      "  File \"/usr/local/envs/neuron/lib/python3.8/site-packages/requests/sessions.py\", line 555, in get\n",
      "    return self.request('GET', url, **kwargs)\n",
      "  File \"/usr/local/envs/neuron/lib/python3.8/site-packages/requests/sessions.py\", line 542, in request\n",
      "    resp = self.send(prep, **send_kwargs)\n",
      "  File \"/usr/local/envs/neuron/lib/python3.8/site-packages/requests/sessions.py\", line 677, in send\n",
      "    history = [resp for resp in gen]\n",
      "  File \"/usr/local/envs/neuron/lib/python3.8/site-packages/requests/sessions.py\", line 677, in <listcomp>\n",
      "    history = [resp for resp in gen]\n",
      "  File \"/usr/local/envs/neuron/lib/python3.8/site-packages/requests/sessions.py\", line 237, in resolve_redirects\n",
      "    resp = self.send(\n",
      "  File \"/usr/local/envs/neuron/lib/python3.8/site-packages/requests/sessions.py\", line 655, in send\n",
      "    r = adapter.send(request, **kwargs)\n",
      "  File \"/usr/local/envs/neuron/lib/python3.8/site-packages/requests/adapters.py\", line 498, in send\n",
      "    raise ConnectionError(err, request=request)\n",
      "requests.exceptions.ConnectionError: ('Connection aborted.', RemoteDisconnected('Remote end closed connection without response'))\n",
      "\n",
      "2021-08-16 16:49:07,921 [    INFO] Logs saved in /root/.cache/dandi-cli/log/20210816164832Z-2974.log\n",
      "PATH                                                                                              SIZE    DONE           DONE% CHECKSUM STATUS          MESSAGE\n",
      "sub-mouse-KIYRP_ses-20200403-sample-13_slice-20200403-slice-4_cell-20200403-sample-13_icephys.nwb 9.2 MB  9.2 MB          100%    ok    done                   \n",
      "Summary:                                                                                          9.2 MB  9.2 MB                        1 done                 \n",
      "                                                                                                          100.00%                                              \n",
      "2021-08-16 16:55:12,064 [    INFO] Logs saved in /root/.cache/dandi-cli/log/20210816164909Z-2986.log\n",
      "PATH                                                                                              SIZE    DONE           DONE% CHECKSUM STATUS          MESSAGE\n",
      "sub-mouse-KIYRP_ses-20200403-sample-14_slice-20200403-slice-4_cell-20200403-sample-14_icephys.nwb 9.1 MB  9.1 MB          100%    ok    done                   \n",
      "Summary:                                                                                          9.1 MB  9.1 MB                        1 done                 \n",
      "                                                                                                          100.00%                                              \n",
      "2021-08-16 16:57:40,315 [    INFO] Logs saved in /root/.cache/dandi-cli/log/20210816165514Z-3010.log\n",
      "PATH                                                                                              SIZE    DONE           DONE% CHECKSUM STATUS          MESSAGE\n",
      "sub-mouse-KIYRP_ses-20200403-sample-16_slice-20200403-slice-4_cell-20200403-sample-16_icephys.nwb 9.0 MB  9.0 MB          100%    ok    done                   \n",
      "Summary:                                                                                          9.0 MB  9.0 MB                        1 done                 \n",
      "                                                                                                          100.00%                                              \n",
      "2021-08-16 17:03:11,008 [    INFO] Logs saved in /root/.cache/dandi-cli/log/20210816165742Z-3028.log\n",
      "PATH                                                                                            SIZE    DONE           DONE% CHECKSUM STATUS          MESSAGE\n",
      "sub-mouse-WPOGH_ses-20200406-sample-1_slice-20200406-slice-1_cell-20200406-sample-1_icephys.nwb 9.3 MB  9.3 MB          100%    ok    done                   \n",
      "Summary:                                                                                        9.3 MB  9.3 MB                        1 done                 \n",
      "                                                                                                        100.00%                                              \n",
      "2021-08-16 17:06:18,368 [    INFO] Logs saved in /root/.cache/dandi-cli/log/20210816170313Z-3052.log\n",
      "PATH                                                                                            SIZE    DONE           DONE% CHECKSUM STATUS          MESSAGE\n",
      "sub-mouse-WPOGH_ses-20200406-sample-2_slice-20200406-slice-1_cell-20200406-sample-2_icephys.nwb 9.5 MB  9.5 MB          100%    ok    done                   \n",
      "Summary:                                                                                        9.5 MB  9.5 MB                        1 done                 \n",
      "                                                                                                        100.00%                                              \n",
      "2021-08-16 17:09:47,509 [    INFO] Logs saved in /root/.cache/dandi-cli/log/20210816170620Z-3070.log\n",
      "PATH                                                                                            SIZE    DONE           DONE% CHECKSUM STATUS          MESSAGE\n",
      "sub-mouse-WPOGH_ses-20200406-sample-3_slice-20200406-slice-1_cell-20200406-sample-3_icephys.nwb 9.3 MB  9.3 MB          100%    ok    done                   \n",
      "Summary:                                                                                        9.3 MB  9.3 MB                        1 done                 \n",
      "                                                                                                        100.00%                                              \n",
      "2021-08-16 17:13:23,743 [    INFO] Logs saved in /root/.cache/dandi-cli/log/20210816170949Z-3091.log\n",
      "PATH                                                                                            SIZE    DONE           DONE% CHECKSUM STATUS          MESSAGE\n",
      "sub-mouse-WPOGH_ses-20200406-sample-4_slice-20200406-slice-2_cell-20200406-sample-4_icephys.nwb 9.1 MB  9.1 MB          100%    ok    done                   \n",
      "Summary:                                                                                        9.1 MB  9.1 MB                        1 done                 \n",
      "                                                                                                        100.00%                                              \n",
      "2021-08-16 17:16:31,104 [    INFO] Logs saved in /root/.cache/dandi-cli/log/20210816171325Z-3112.log\n",
      "PATH                                                                                            SIZE    DONE           DONE% CHECKSUM STATUS          MESSAGE\n",
      "sub-mouse-WPOGH_ses-20200406-sample-5_slice-20200406-slice-2_cell-20200406-sample-5_icephys.nwb 9.3 MB  9.3 MB          100%    ok    done                   \n",
      "Summary:                                                                                        9.3 MB  9.3 MB                        1 done                 \n",
      "                                                                                                        100.00%                                              \n",
      "2021-08-16 17:18:47,903 [    INFO] Logs saved in /root/.cache/dandi-cli/log/20210816171633Z-3130.log\n",
      "PATH                                                                                            SIZE    DONE           DONE% CHECKSUM STATUS          MESSAGE\n",
      "sub-mouse-WPOGH_ses-20200406-sample-6_slice-20200406-slice-2_cell-20200406-sample-6_icephys.nwb 9.4 MB  9.4 MB          100%    ok    done                   \n",
      "Summary:                                                                                        9.4 MB  9.4 MB                        1 done                 \n",
      "                                                                                                        100.00%                                              \n",
      "2021-08-16 17:20:54,713 [    INFO] Logs saved in /root/.cache/dandi-cli/log/20210816171849Z-3148.log\n",
      "PATH                                                                                            SIZE    DONE           DONE% CHECKSUM STATUS          MESSAGE\n",
      "sub-mouse-WPOGH_ses-20200406-sample-7_slice-20200406-slice-2_cell-20200406-sample-7_icephys.nwb 9.3 MB  9.3 MB          100%    ok    done                   \n",
      "Summary:                                                                                        9.3 MB  9.3 MB                        1 done                 \n",
      "                                                                                                        100.00%                                              \n",
      "2021-08-16 17:21:05,617 [    INFO] Logs saved in /root/.cache/dandi-cli/log/20210816172056Z-3166.log\n",
      "PATH                                                                                              SIZE    DONE          DONE% CHECKSUM STATUS          MESSAGE\n",
      "sub-mouse-WPOGH_ses-20200406-sample-10_slice-20200406-slice-3_cell-20200406-sample-10_icephys.nwb 9.3 MB  9.3 MB         100%    ok    done                   \n",
      "Summary:                                                                                          9.3 MB  9.3 MB                       1 done                 \n",
      "                                                                                                          100.00%                                             \n",
      "2021-08-16 17:22:47,505 [    INFO] Logs saved in /root/.cache/dandi-cli/log/20210816172108Z-3178.log\n",
      "PATH                                                                                              SIZE    DONE            DONE% CHECKSUM STATUS          MESSAGE\n",
      "sub-mouse-WPOGH_ses-20200406-sample-11_slice-20200406-slice-3_cell-20200406-sample-11_icephys.nwb 9.3 MB  9.3 MB           100%    ok    done                   \n",
      "Summary:                                                                                          9.3 MB  9.3 MB                         1 done                 \n",
      "                                                                                                          100.00%                                               \n",
      "2021-08-16 17:23:48,420 [    INFO] Logs saved in /root/.cache/dandi-cli/log/20210816172249Z-3196.log\n",
      "PATH                                                                                              SIZE    DONE    DONE% CHECKSUM STATUS          MESSAGE\n",
      "sub-mouse-WPOGH_ses-20200406-sample-12_slice-20200406-slice-4_cell-20200406-sample-12_icephys.nwb 4.6 MB  4.6 MB   100%    ok    done                   \n",
      "Summary:                                                                                          4.6 MB  4.6 MB                 1 done                 \n",
      "                                                                                                          100.00%                                       \n",
      "2021-08-16 17:24:14,762 [    INFO] Logs saved in /root/.cache/dandi-cli/log/20210816172350Z-3211.log\n",
      "PATH                                                                                              SIZE    DONE    DONE% CHECKSUM STATUS          MESSAGE\n",
      "sub-mouse-WPOGH_ses-20200406-sample-13_slice-20200406-slice-4_cell-20200406-sample-13_icephys.nwb 6.1 MB  6.1 MB   100%    ok    done                   \n",
      "Summary:                                                                                          6.1 MB  6.1 MB                 1 done                 \n",
      "                                                                                                          100.00%                                       \n",
      "2021-08-16 17:24:29,541 [    INFO] Logs saved in /root/.cache/dandi-cli/log/20210816172417Z-3225.log\n",
      "PATH                                                                                              SIZE    DONE           DONE% CHECKSUM STATUS          MESSAGE\n",
      "sub-mouse-WPOGH_ses-20200406-sample-15_slice-20200406-slice-4_cell-20200406-sample-15_icephys.nwb 9.5 MB  9.5 MB          100%    ok    done                   \n",
      "Summary:                                                                                          9.5 MB  9.5 MB                        1 done                 \n",
      "                                                                                                          100.00%                                              \n",
      "2021-08-16 17:24:41,028 [    INFO] Logs saved in /root/.cache/dandi-cli/log/20210816172431Z-3238.log\n",
      "PATH                                                                                              SIZE    DONE           DONE% CHECKSUM STATUS          MESSAGE\n",
      "sub-mouse-WPOGH_ses-20200406-sample-16_slice-20200406-slice-4_cell-20200406-sample-16_icephys.nwb 9.3 MB  9.3 MB          100%    ok    done                   \n",
      "Summary:                                                                                          9.3 MB  9.3 MB                        1 done                 \n",
      "                                                                                                          100.00%                                              \n",
      "2021-08-16 17:24:51,528 [    INFO] Logs saved in /root/.cache/dandi-cli/log/20210816172443Z-3250.log\n",
      "PATH                                                                                              SIZE    DONE    DONE% CHECKSUM STATUS          MESSAGE\n",
      "sub-mouse-WPOGH_ses-20200406-sample-17_slice-20200406-slice-4_cell-20200406-sample-17_icephys.nwb 8.3 MB  8.3 MB   100%    ok    done                   \n",
      "Summary:                                                                                          8.3 MB  8.3 MB                 1 done                 \n",
      "                                                                                                          100.00%                                       \n",
      "2021-08-16 17:25:12,133 [    INFO] Logs saved in /root/.cache/dandi-cli/log/20210816172453Z-3262.log\n",
      "PATH                                                                                              SIZE    DONE           DONE% CHECKSUM STATUS          MESSAGE\n",
      "sub-mouse-WPOGH_ses-20200406-sample-19_slice-20200406-slice-4_cell-20200406-sample-19_icephys.nwb 9.5 MB  9.5 MB          100%    ok    done                   \n",
      "Summary:                                                                                          9.5 MB  9.5 MB                        1 done                 \n",
      "                                                                                                          100.00%                                              \n",
      "2021-08-16 17:27:44,590 [    INFO] Logs saved in /root/.cache/dandi-cli/log/20210816172514Z-3274.log\n",
      "PATH                                                                                              SIZE    DONE            DONE% CHECKSUM STATUS          MESSAGE\n",
      "sub-mouse-WPOGH_ses-20200406-sample-20_slice-20200406-slice-4_cell-20200406-sample-20_icephys.nwb 9.4 MB  9.4 MB           100%    ok    done                   \n",
      "Summary:                                                                                          9.4 MB  9.4 MB                         1 done                 \n",
      "                                                                                                          100.00%                                               \n",
      "2021-08-16 17:28:39,305 [    INFO] Logs saved in /root/.cache/dandi-cli/log/20210816172747Z-3295.log\n",
      "PATH                                                                                              SIZE    DONE    DONE% CHECKSUM STATUS          MESSAGE\n",
      "sub-mouse-WPOGH_ses-20200406-sample-21_slice-20200406-slice-4_cell-20200406-sample-21_icephys.nwb 5.0 MB  5.0 MB   100%    ok    done                   \n",
      "Summary:                                                                                          5.0 MB  5.0 MB                 1 done                 \n",
      "                                                                                                          100.00%                                       \n",
      "2021-08-16 17:28:48,455 [    INFO] Logs saved in /root/.cache/dandi-cli/log/20210816172841Z-3310.log\n",
      "PATH                                                                                              SIZE    DONE           DONE% CHECKSUM STATUS          MESSAGE\n",
      "sub-mouse-WPOGH_ses-20200406-sample-22_slice-20200406-slice-4_cell-20200406-sample-22_icephys.nwb 9.2 MB  9.2 MB          100%    ok    done                   \n",
      "Summary:                                                                                          9.2 MB  9.2 MB                        1 done                 \n",
      "                                                                                                          100.00%                                              \n",
      "2021-08-16 17:28:58,890 [    INFO] Logs saved in /root/.cache/dandi-cli/log/20210816172850Z-3322.log\n",
      "PATH                                                                                              SIZE    DONE           DONE% CHECKSUM STATUS          MESSAGE\n",
      "sub-mouse-WPOGH_ses-20200406-sample-23_slice-20200406-slice-4_cell-20200406-sample-23_icephys.nwb 9.0 MB  9.0 MB          100%    ok    done                   \n",
      "Summary:                                                                                          9.0 MB  9.0 MB                        1 done                 \n",
      "                                                                                                          100.00%                                              \n",
      "2021-08-16 17:29:11,358 [    INFO] Logs saved in /root/.cache/dandi-cli/log/20210816172900Z-3334.log\n",
      "PATH                                                                                              SIZE    DONE            DONE% CHECKSUM STATUS          MESSAGE\n",
      "sub-mouse-WPOGH_ses-20200406-sample-24_slice-20200406-slice-4_cell-20200406-sample-24_icephys.nwb 9.3 MB  9.3 MB           100%    ok    done                   \n",
      "Summary:                                                                                          9.3 MB  9.3 MB                         1 done                 \n",
      "                                                                                                          100.00%                                               \n",
      "2021-08-16 17:29:46,234 [    INFO] Logs saved in /root/.cache/dandi-cli/log/20210816172913Z-3346.log\n",
      "PATH                                                                                              SIZE    DONE           DONE% CHECKSUM STATUS          MESSAGE\n",
      "sub-mouse-WPOGH_ses-20200406-sample-25_slice-20200406-slice-5_cell-20200406-sample-25_icephys.nwb 9.4 MB  9.4 MB          100%    ok    done                   \n",
      "Summary:                                                                                          9.4 MB  9.4 MB                        1 done                 \n",
      "                                                                                                          100.00%                                              \n",
      "2021-08-16 17:33:19,728 [    INFO] Logs saved in /root/.cache/dandi-cli/log/20210816172948Z-3360.log\n",
      "PATH                                                                                              SIZE    DONE            DONE% CHECKSUM STATUS          MESSAGE\n",
      "sub-mouse-WPOGH_ses-20200406-sample-27_slice-20200406-slice-5_cell-20200406-sample-27_icephys.nwb 9.5 MB  9.5 MB           100%    ok    done                   \n",
      "Summary:                                                                                          9.5 MB  9.5 MB                         1 done                 \n",
      "                                                                                                          100.00%                                               \n",
      "2021-08-16 17:33:37,387 [    INFO] Logs saved in /root/.cache/dandi-cli/log/20210816173322Z-3379.log\n",
      "PATH                                                                                              SIZE    DONE            DONE% CHECKSUM STATUS          MESSAGE\n",
      "sub-mouse-WPOGH_ses-20200406-sample-28_slice-20200406-slice-6_cell-20200406-sample-28_icephys.nwb 9.3 MB  9.3 MB           100%    ok    done                   \n",
      "Summary:                                                                                          9.3 MB  9.3 MB                         1 done                 \n",
      "                                                                                                          100.00%                                               \n",
      "2021-08-16 17:33:53,712 [    INFO] Logs saved in /root/.cache/dandi-cli/log/20210816173339Z-3391.log\n",
      "PATH                                                                                              SIZE    DONE           DONE% CHECKSUM STATUS          MESSAGE\n",
      "sub-mouse-WPOGH_ses-20200406-sample-29_slice-20200406-slice-6_cell-20200406-sample-29_icephys.nwb 9.3 MB  9.3 MB          100%    ok    done                   \n",
      "Summary:                                                                                          9.3 MB  9.3 MB                        1 done                 \n",
      "                                                                                                          100.00%                                              \n",
      "2021-08-16 17:34:05,488 [    INFO] Logs saved in /root/.cache/dandi-cli/log/20210816173356Z-3403.log\n",
      "PATH                                                                                              SIZE    DONE    DONE% CHECKSUM STATUS          MESSAGE\n",
      "sub-mouse-WPOGH_ses-20200406-sample-30_slice-20200406-slice-6_cell-20200406-sample-30_icephys.nwb 7.8 MB  7.8 MB   100%    ok    done                   \n",
      "Summary:                                                                                          7.8 MB  7.8 MB                 1 done                 \n",
      "                                                                                                          100.00%                                       \n",
      "2021-08-16 17:34:36,387 [    INFO] Logs saved in /root/.cache/dandi-cli/log/20210816173408Z-3417.log\n",
      "PATH                                                                                              SIZE    DONE           DONE% CHECKSUM STATUS          MESSAGE\n",
      "sub-mouse-WPOGH_ses-20200406-sample-31_slice-20200406-slice-6_cell-20200406-sample-31_icephys.nwb 9.3 MB  9.3 MB          100%    ok    done                   \n",
      "Summary:                                                                                          9.3 MB  9.3 MB                        1 done                 \n",
      "                                                                                                          100.00%                                              \n",
      "2021-08-16 17:34:49,025 [    INFO] Logs saved in /root/.cache/dandi-cli/log/20210816173438Z-3433.log\n",
      "PATH                                                                                              SIZE    DONE           DONE% CHECKSUM STATUS          MESSAGE\n",
      "sub-mouse-WPOGH_ses-20200406-sample-32_slice-20200406-slice-6_cell-20200406-sample-32_icephys.nwb 9.6 MB  9.6 MB          100%    ok    done                   \n",
      "Summary:                                                                                          9.6 MB  9.6 MB                        1 done                 \n",
      "                                                                                                          100.00%                                              \n",
      "2021-08-16 17:34:59,875 [    INFO] Logs saved in /root/.cache/dandi-cli/log/20210816173451Z-3445.log\n",
      "PATH                                                                                            SIZE    DONE    DONE% CHECKSUM STATUS          MESSAGE\n",
      "sub-mouse-INETJ_ses-20200407-sample-1_slice-20200407-slice-1_cell-20200407-sample-1_icephys.nwb 5.8 MB  5.8 MB   100%    ok    done                   \n",
      "Summary:                                                                                        5.8 MB  5.8 MB                 1 done                 \n",
      "                                                                                                        100.00%                                       \n",
      "2021-08-16 17:35:11,144 [    INFO] Logs saved in /root/.cache/dandi-cli/log/20210816173502Z-3457.log\n",
      "PATH                                                                                            SIZE    DONE    DONE% CHECKSUM STATUS          MESSAGE\n",
      "sub-mouse-INETJ_ses-20200407-sample-2_slice-20200407-slice-1_cell-20200407-sample-2_icephys.nwb 6.2 MB  6.2 MB   100%    ok    done                   \n",
      "Summary:                                                                                        6.2 MB  6.2 MB                 1 done                 \n",
      "                                                                                                        100.00%                                       \n",
      "2021-08-16 17:36:27,185 [    INFO] Logs saved in /root/.cache/dandi-cli/log/20210816173513Z-3469.log\n",
      "PATH                                                                                            SIZE    DONE           DONE% CHECKSUM STATUS          MESSAGE\n",
      "sub-mouse-INETJ_ses-20200407-sample-3_slice-20200407-slice-1_cell-20200407-sample-3_icephys.nwb 8.7 MB  8.7 MB          100%    ok    done                   \n",
      "Summary:                                                                                        8.7 MB  8.7 MB                        1 done                 \n",
      "                                                                                                        100.00%                                              \n",
      "2021-08-16 17:36:37,993 [    INFO] Logs saved in /root/.cache/dandi-cli/log/20210816173629Z-3486.log\n",
      "PATH                                                                                            SIZE    DONE           DONE% CHECKSUM STATUS          MESSAGE\n",
      "sub-mouse-INETJ_ses-20200407-sample-4_slice-20200407-slice-1_cell-20200407-sample-4_icephys.nwb 9.4 MB  9.4 MB          100%    ok    done                   \n",
      "Summary:                                                                                        9.4 MB  9.4 MB                        1 done                 \n",
      "                                                                                                        100.00%                                              \n",
      "2021-08-16 17:39:26,326 [    INFO] Logs saved in /root/.cache/dandi-cli/log/20210816173640Z-3499.log\n",
      "PATH                                                                                            SIZE    DONE           DONE% CHECKSUM STATUS          MESSAGE\n",
      "sub-mouse-INETJ_ses-20200407-sample-5_slice-20200407-slice-1_cell-20200407-sample-5_icephys.nwb 8.7 MB  8.7 MB          100%    ok    done                   \n",
      "Summary:                                                                                        8.7 MB  8.7 MB                        1 done                 \n",
      "                                                                                                        100.00%                                              \n",
      "2021-08-16 17:39:36,393 [    INFO] Logs saved in /root/.cache/dandi-cli/log/20210816173928Z-3517.log\n",
      "PATH                                                                                            SIZE    DONE            DONE% CHECKSUM STATUS          MESSAGE\n",
      "sub-mouse-INETJ_ses-20200407-sample-6_slice-20200407-slice-1_cell-20200407-sample-6_icephys.nwb 9.3 MB  9.3 MB           100%    ok    done                   \n",
      "Summary:                                                                                        9.3 MB  9.3 MB                         1 done                 \n",
      "                                                                                                        100.00%                                               \n",
      "2021-08-16 17:40:09,107 [    INFO] Logs saved in /root/.cache/dandi-cli/log/20210816173938Z-3529.log\n",
      "PATH                                                                                            SIZE    DONE           DONE% CHECKSUM STATUS          MESSAGE\n",
      "sub-mouse-INETJ_ses-20200407-sample-7_slice-20200407-slice-1_cell-20200407-sample-7_icephys.nwb 9.4 MB  9.4 MB          100%    ok    done                   \n",
      "Summary:                                                                                        9.4 MB  9.4 MB                        1 done                 \n",
      "                                                                                                        100.00%                                              \n",
      "2021-08-16 17:40:19,236 [    INFO] Logs saved in /root/.cache/dandi-cli/log/20210816174011Z-3541.log\n",
      "PATH                                                                                            SIZE    DONE    DONE% CHECKSUM STATUS          MESSAGE\n",
      "sub-mouse-INETJ_ses-20200407-sample-8_slice-20200407-slice-1_cell-20200407-sample-8_icephys.nwb 7.8 MB  7.8 MB   100%    ok    done                   \n",
      "Summary:                                                                                        7.8 MB  7.8 MB                 1 done                 \n",
      "                                                                                                        100.00%                                       \n",
      "2021-08-16 17:41:39,939 [    INFO] Logs saved in /root/.cache/dandi-cli/log/20210816174021Z-3555.log\n",
      "PATH                                                                                            SIZE    DONE           DONE% CHECKSUM STATUS          MESSAGE\n",
      "sub-mouse-INETJ_ses-20200407-sample-9_slice-20200407-slice-1_cell-20200407-sample-9_icephys.nwb 8.6 MB  8.6 MB          100%    ok    done                   \n",
      "Summary:                                                                                        8.6 MB  8.6 MB                        1 done                 \n",
      "                                                                                                        100.00%                                              \n",
      "2021-08-16 17:41:51,739 [    INFO] Logs saved in /root/.cache/dandi-cli/log/20210816174141Z-3571.log\n",
      "PATH                                                                                              SIZE    DONE           DONE% CHECKSUM STATUS          MESSAGE\n",
      "sub-mouse-INETJ_ses-20200407-sample-10_slice-20200407-slice-1_cell-20200407-sample-10_icephys.nwb 9.3 MB  9.3 MB          100%    ok    done                   \n",
      "Summary:                                                                                          9.3 MB  9.3 MB                        1 done                 \n",
      "                                                                                                          100.00%                                              \n",
      "2021-08-16 17:42:01,615 [    INFO] Logs saved in /root/.cache/dandi-cli/log/20210816174153Z-3583.log\n",
      "PATH                                                                                              SIZE    DONE           DONE% CHECKSUM STATUS          MESSAGE\n",
      "sub-mouse-INETJ_ses-20200407-sample-11_slice-20200407-slice-4_cell-20200407-sample-11_icephys.nwb 9.5 MB  9.5 MB          100%    ok    done                   \n",
      "Summary:                                                                                          9.5 MB  9.5 MB                        1 done                 \n",
      "                                                                                                          100.00%                                              \n",
      "2021-08-16 17:42:11,555 [    INFO] Logs saved in /root/.cache/dandi-cli/log/20210816174203Z-3595.log\n",
      "PATH                                                                                              SIZE    DONE           DONE% CHECKSUM STATUS          MESSAGE\n",
      "sub-mouse-INETJ_ses-20200407-sample-12_slice-20200407-slice-4_cell-20200407-sample-12_icephys.nwb 8.5 MB  8.5 MB          100%    ok    done                   \n",
      "Summary:                                                                                          8.5 MB  8.5 MB                        1 done                 \n",
      "                                                                                                          100.00%                                              \n",
      "2021-08-16 17:42:23,045 [    INFO] Logs saved in /root/.cache/dandi-cli/log/20210816174213Z-3607.log\n",
      "PATH                                                                                              SIZE    DONE    DONE% CHECKSUM STATUS          MESSAGE\n",
      "sub-mouse-INETJ_ses-20200407-sample-13_slice-20200407-slice-5_cell-20200407-sample-13_icephys.nwb 6.2 MB  6.2 MB   100%    ok    done                   \n",
      "Summary:                                                                                          6.2 MB  6.2 MB                 1 done                 \n",
      "                                                                                                          100.00%                                       \n",
      "2021-08-16 17:42:33,626 [    INFO] Logs saved in /root/.cache/dandi-cli/log/20210816174225Z-3619.log\n",
      "PATH                                                                                              SIZE    DONE            DONE% CHECKSUM STATUS          MESSAGE\n",
      "sub-mouse-INETJ_ses-20200407-sample-14_slice-20200407-slice-5_cell-20200407-sample-14_icephys.nwb 9.6 MB  9.6 MB           100%    ok    done                   \n",
      "Summary:                                                                                          9.6 MB  9.6 MB                         1 done                 \n",
      "                                                                                                          100.00%                                               \n",
      "2021-08-16 17:43:31,050 [    INFO] Logs saved in /root/.cache/dandi-cli/log/20210816174236Z-3634.log\n",
      "PATH                                                                                              SIZE    DONE           DONE% CHECKSUM STATUS          MESSAGE\n",
      "sub-mouse-INETJ_ses-20200407-sample-15_slice-20200407-slice-5_cell-20200407-sample-15_icephys.nwb 9.5 MB  9.5 MB          100%    ok    done                   \n",
      "Summary:                                                                                          9.5 MB  9.5 MB                        1 done                 \n",
      "                                                                                                          100.00%                                              \n",
      "2021-08-16 17:43:40,742 [    INFO] Logs saved in /root/.cache/dandi-cli/log/20210816174333Z-3649.log\n",
      "PATH                                                                                              SIZE    DONE            DONE% CHECKSUM STATUS          MESSAGE\n",
      "sub-mouse-INETJ_ses-20200407-sample-16_slice-20200407-slice-5_cell-20200407-sample-16_icephys.nwb 9.4 MB  9.4 MB           100%    ok    done                   \n",
      "Summary:                                                                                          9.4 MB  9.4 MB                         1 done                 \n",
      "                                                                                                          100.00%                                               \n",
      "2021-08-16 17:44:28,057 [    INFO] Logs saved in /root/.cache/dandi-cli/log/20210816174342Z-3661.log\n",
      "PATH                                                                                              SIZE    DONE    DONE% CHECKSUM STATUS          MESSAGE\n",
      "sub-mouse-INETJ_ses-20200407-sample-18_slice-20200407-slice-5_cell-20200407-sample-18_icephys.nwb 6.8 MB  6.8 MB   100%    ok    done                   \n",
      "Summary:                                                                                          6.8 MB  6.8 MB                 1 done                 \n",
      "                                                                                                          100.00%                                       \n",
      "2021-08-16 17:44:38,149 [    INFO] Logs saved in /root/.cache/dandi-cli/log/20210816174430Z-3673.log\n",
      "PATH                                                                                              SIZE    DONE           DONE% CHECKSUM STATUS          MESSAGE\n",
      "sub-mouse-INETJ_ses-20200407-sample-19_slice-20200407-slice-5_cell-20200407-sample-19_icephys.nwb 8.4 MB  8.4 MB          100%    ok    done                   \n",
      "Summary:                                                                                          8.4 MB  8.4 MB                        1 done                 \n",
      "                                                                                                          100.00%                                              \n",
      "2021-08-16 17:44:54,342 [    INFO] Logs saved in /root/.cache/dandi-cli/log/20210816174441Z-3688.log\n",
      "PATH                                                                                              SIZE    DONE    DONE% CHECKSUM STATUS          MESSAGE\n",
      "sub-mouse-INETJ_ses-20200407-sample-20_slice-20200407-slice-5_cell-20200407-sample-20_icephys.nwb 7.7 MB  7.7 MB   100%    ok    done                   \n",
      "Summary:                                                                                          7.7 MB  7.7 MB                 1 done                 \n",
      "                                                                                                          100.00%                                       \n",
      "2021-08-16 17:45:04,883 [    INFO] Logs saved in /root/.cache/dandi-cli/log/20210816174456Z-3701.log\n",
      "PATH                                                                                              SIZE    DONE            DONE% CHECKSUM STATUS          MESSAGE\n",
      "sub-mouse-INETJ_ses-20200407-sample-21_slice-20200407-slice-5_cell-20200407-sample-21_icephys.nwb 9.4 MB  9.4 MB           100%    ok    done                   \n",
      "Summary:                                                                                          9.4 MB  9.4 MB                         1 done                 \n",
      "                                                                                                          100.00%                                               \n",
      "2021-08-16 17:45:30,257 [    INFO] Logs saved in /root/.cache/dandi-cli/log/20210816174507Z-3715.log\n",
      "PATH                                                                                              SIZE    DONE           DONE% CHECKSUM STATUS          MESSAGE\n",
      "sub-mouse-INETJ_ses-20200407-sample-22_slice-20200407-slice-5_cell-20200407-sample-22_icephys.nwb 9.1 MB  9.1 MB          100%    ok    done                   \n",
      "Summary:                                                                                          9.1 MB  9.1 MB                        1 done                 \n",
      "                                                                                                          100.00%                                              \n",
      "2021-08-16 17:45:40,456 [    INFO] Logs saved in /root/.cache/dandi-cli/log/20210816174532Z-3727.log\n",
      "PATH                                                                                              SIZE    DONE            DONE% CHECKSUM STATUS          MESSAGE\n",
      "sub-mouse-INETJ_ses-20200407-sample-23_slice-20200407-slice-5_cell-20200407-sample-23_icephys.nwb 9.3 MB  9.3 MB           100%    ok    done                   \n",
      "Summary:                                                                                          9.3 MB  9.3 MB                         1 done                 \n",
      "                                                                                                          100.00%                                               \n",
      "2021-08-16 17:46:33,099 [    INFO] Logs saved in /root/.cache/dandi-cli/log/20210816174542Z-3739.log\n",
      "PATH                                                                                              SIZE    DONE           DONE% CHECKSUM STATUS          MESSAGE\n",
      "sub-mouse-INETJ_ses-20200407-sample-24_slice-20200407-slice-5_cell-20200407-sample-24_icephys.nwb 9.6 MB  9.6 MB          100%    ok    done                   \n",
      "Summary:                                                                                          9.6 MB  9.6 MB                        1 done                 \n",
      "                                                                                                          100.00%                                              \n",
      "2021-08-16 17:46:44,232 [    INFO] Logs saved in /root/.cache/dandi-cli/log/20210816174635Z-3751.log\n",
      "PATH                                                                                              SIZE    DONE            DONE% CHECKSUM STATUS          MESSAGE\n",
      "sub-mouse-INETJ_ses-20200407-sample-25_slice-20200407-slice-5_cell-20200407-sample-25_icephys.nwb 9.5 MB  9.5 MB           100%    ok    done                   \n",
      "Summary:                                                                                          9.5 MB  9.5 MB                         1 done                 \n",
      "                                                                                                          100.00%                                               \n",
      "2021-08-16 17:47:12,506 [    INFO] Logs saved in /root/.cache/dandi-cli/log/20210816174647Z-3766.log\n",
      "PATH                                                                                              SIZE    DONE           DONE% CHECKSUM STATUS          MESSAGE\n",
      "sub-mouse-INETJ_ses-20200407-sample-26_slice-20200407-slice-5_cell-20200407-sample-26_icephys.nwb 9.3 MB  9.3 MB          100%    ok    done                   \n",
      "Summary:                                                                                          9.3 MB  9.3 MB                        1 done                 \n",
      "                                                                                                          100.00%                                              \n",
      "2021-08-16 17:47:22,136 [    INFO] Logs saved in /root/.cache/dandi-cli/log/20210816174714Z-3781.log\n",
      "PATH                                                                                            SIZE    DONE           DONE% CHECKSUM STATUS          MESSAGE\n",
      "sub-mouse-ZUDOB_ses-20200408-sample-1_slice-20200408-slice-1_cell-20200408-sample-1_icephys.nwb 9.2 MB  9.2 MB          100%    ok    done                   \n",
      "Summary:                                                                                        9.2 MB  9.2 MB                        1 done                 \n",
      "                                                                                                        100.00%                                              \n",
      "2021-08-16 17:47:56,159 [    INFO] Logs saved in /root/.cache/dandi-cli/log/20210816174724Z-3793.log\n",
      "PATH                                                                                            SIZE    DONE            DONE% CHECKSUM STATUS          MESSAGE\n",
      "sub-mouse-ZUDOB_ses-20200408-sample-2_slice-20200408-slice-1_cell-20200408-sample-2_icephys.nwb 9.2 MB  9.2 MB           100%    ok    done                   \n",
      "Summary:                                                                                        9.2 MB  9.2 MB                         1 done                 \n",
      "                                                                                                        100.00%                                               \n",
      "2021-08-16 17:48:53,094 [    INFO] Logs saved in /root/.cache/dandi-cli/log/20210816174758Z-3805.log\n",
      "PATH                                                                                            SIZE    DONE           DONE% CHECKSUM STATUS          MESSAGE\n",
      "sub-mouse-ZUDOB_ses-20200408-sample-3_slice-20200408-slice-1_cell-20200408-sample-3_icephys.nwb 9.4 MB  9.4 MB          100%    ok    done                   \n",
      "Summary:                                                                                        9.4 MB  9.4 MB                        1 done                 \n",
      "                                                                                                        100.00%                                              \n",
      "2021-08-16 17:49:04,861 [    INFO] Logs saved in /root/.cache/dandi-cli/log/20210816174856Z-3820.log\n",
      "PATH                                                                                            SIZE    DONE            DONE% CHECKSUM STATUS          MESSAGE\n",
      "sub-mouse-ZUDOB_ses-20200408-sample-4_slice-20200408-slice-2_cell-20200408-sample-4_icephys.nwb 9.4 MB  9.4 MB           100%    ok    done                   \n",
      "Summary:                                                                                        9.4 MB  9.4 MB                         1 done                 \n",
      "                                                                                                        100.00%                                               \n",
      "2021-08-16 17:49:38,949 [    INFO] Logs saved in /root/.cache/dandi-cli/log/20210816174907Z-3833.log\n",
      "PATH                                                                                            SIZE    DONE           DONE% CHECKSUM STATUS          MESSAGE\n",
      "sub-mouse-ZUDOB_ses-20200408-sample-5_slice-20200408-slice-2_cell-20200408-sample-5_icephys.nwb 9.3 MB  9.3 MB          100%    ok    done                   \n",
      "Summary:                                                                                        9.3 MB  9.3 MB                        1 done                 \n",
      "                                                                                                        100.00%                                              \n",
      "2021-08-16 17:49:48,738 [    INFO] Logs saved in /root/.cache/dandi-cli/log/20210816174940Z-3847.log\n",
      "PATH                                                                                            SIZE    DONE           DONE% CHECKSUM STATUS          MESSAGE\n",
      "sub-mouse-ZUDOB_ses-20200408-sample-6_slice-20200408-slice-2_cell-20200408-sample-6_icephys.nwb 9.3 MB  9.3 MB          100%    ok    done                   \n",
      "Summary:                                                                                        9.3 MB  9.3 MB                        1 done                 \n",
      "                                                                                                        100.00%                                              \n",
      "2021-08-16 17:49:58,808 [    INFO] Logs saved in /root/.cache/dandi-cli/log/20210816174950Z-3859.log\n",
      "PATH                                                                                            SIZE    DONE            DONE% CHECKSUM STATUS          MESSAGE\n",
      "sub-mouse-ZUDOB_ses-20200408-sample-7_slice-20200408-slice-2_cell-20200408-sample-7_icephys.nwb 9.4 MB  9.4 MB           100%    ok    done                   \n",
      "Summary:                                                                                        9.4 MB  9.4 MB                         1 done                 \n",
      "                                                                                                        100.00%                                               \n",
      "2021-08-16 17:50:19,175 [    INFO] Logs saved in /root/.cache/dandi-cli/log/20210816175000Z-3871.log\n",
      "PATH                                                                                            SIZE    DONE           DONE% CHECKSUM STATUS          MESSAGE\n",
      "sub-mouse-ZUDOB_ses-20200408-sample-8_slice-20200408-slice-3_cell-20200408-sample-8_icephys.nwb 9.5 MB  9.5 MB          100%    ok    done                   \n",
      "Summary:                                                                                        9.5 MB  9.5 MB                        1 done                 \n",
      "                                                                                                        100.00%                                              \n",
      "2021-08-16 17:50:29,105 [    INFO] Logs saved in /root/.cache/dandi-cli/log/20210816175021Z-3883.log\n",
      "PATH                                                                                            SIZE    DONE    DONE% CHECKSUM STATUS          MESSAGE\n",
      "sub-mouse-ZUDOB_ses-20200408-sample-9_slice-20200408-slice-3_cell-20200408-sample-9_icephys.nwb 7.7 MB  7.7 MB   100%    ok    done                   \n",
      "Summary:                                                                                        7.7 MB  7.7 MB                 1 done                 \n",
      "                                                                                                        100.00%                                       \n",
      "2021-08-16 17:50:39,226 [    INFO] Logs saved in /root/.cache/dandi-cli/log/20210816175031Z-3895.log\n",
      "PATH                                                                                              SIZE    DONE           DONE% CHECKSUM STATUS          MESSAGE\n",
      "sub-mouse-ZUDOB_ses-20200408-sample-11_slice-20200408-slice-3_cell-20200408-sample-11_icephys.nwb 9.2 MB  9.2 MB          100%    ok    done                   \n",
      "Summary:                                                                                          9.2 MB  9.2 MB                        1 done                 \n",
      "                                                                                                          100.00%                                              \n",
      "2021-08-16 17:50:50,789 [    INFO] Logs saved in /root/.cache/dandi-cli/log/20210816175041Z-3907.log\n",
      "PATH                                                                                              SIZE    DONE            DONE% CHECKSUM STATUS          MESSAGE\n",
      "sub-mouse-ZUDOB_ses-20200408-sample-12_slice-20200408-slice-3_cell-20200408-sample-12_icephys.nwb 9.5 MB  9.5 MB           100%    ok    done                   \n",
      "Summary:                                                                                          9.5 MB  9.5 MB                         1 done                 \n",
      "                                                                                                          100.00%                                               \n",
      "2021-08-16 17:51:15,226 [    INFO] Logs saved in /root/.cache/dandi-cli/log/20210816175052Z-3919.log\n",
      "PATH                                                                                              SIZE    DONE           DONE% CHECKSUM STATUS          MESSAGE\n",
      "sub-mouse-ZUDOB_ses-20200408-sample-13_slice-20200408-slice-3_cell-20200408-sample-13_icephys.nwb 9.6 MB  9.6 MB          100%    ok    done                   \n",
      "Summary:                                                                                          9.6 MB  9.6 MB                        1 done                 \n",
      "                                                                                                          100.00%                                              \n",
      "2021-08-16 17:51:25,989 [    INFO] Logs saved in /root/.cache/dandi-cli/log/20210816175117Z-3935.log\n",
      "PATH                                                                                              SIZE    DONE           DONE% CHECKSUM STATUS          MESSAGE\n",
      "sub-mouse-ZUDOB_ses-20200408-sample-14_slice-20200408-slice-3_cell-20200408-sample-14_icephys.nwb 9.2 MB  9.2 MB          100%    ok    done                   \n",
      "Summary:                                                                                          9.2 MB  9.2 MB                        1 done                 \n",
      "                                                                                                          100.00%                                              \n",
      "2021-08-16 17:51:36,672 [    INFO] Logs saved in /root/.cache/dandi-cli/log/20210816175128Z-3949.log\n",
      "PATH                                                                                              SIZE    DONE            DONE% CHECKSUM STATUS          MESSAGE\n",
      "sub-mouse-ZUDOB_ses-20200408-sample-15_slice-20200408-slice-3_cell-20200408-sample-15_icephys.nwb 9.8 MB  9.8 MB           100%    ok    done                   \n",
      "Summary:                                                                                          9.8 MB  9.8 MB                         1 done                 \n",
      "                                                                                                          100.00%                                               \n",
      "2021-08-16 17:52:02,999 [    INFO] Logs saved in /root/.cache/dandi-cli/log/20210816175138Z-3961.log\n",
      "PATH                                                                                              SIZE    DONE           DONE% CHECKSUM STATUS          MESSAGE\n",
      "sub-mouse-ZUDOB_ses-20200408-sample-16_slice-20200408-slice-3_cell-20200408-sample-16_icephys.nwb 9.4 MB  9.4 MB          100%    ok    done                   \n",
      "Summary:                                                                                          9.4 MB  9.4 MB                        1 done                 \n",
      "                                                                                                          100.00%                                              \n",
      "2021-08-16 17:52:13,427 [    INFO] Logs saved in /root/.cache/dandi-cli/log/20210816175205Z-3973.log\n",
      "PATH                                                                                              SIZE    DONE            DONE% CHECKSUM STATUS          MESSAGE\n",
      "sub-mouse-ZUDOB_ses-20200408-sample-17_slice-20200408-slice-3_cell-20200408-sample-17_icephys.nwb 9.5 MB  9.5 MB           100%    ok    done                   \n",
      "Summary:                                                                                          9.5 MB  9.5 MB                         1 done                 \n",
      "                                                                                                          100.00%                                               \n",
      "2021-08-16 17:52:42,503 [    INFO] Logs saved in /root/.cache/dandi-cli/log/20210816175215Z-3985.log\n",
      "PATH                                                                                              SIZE    DONE           DONE% CHECKSUM STATUS          MESSAGE\n",
      "sub-mouse-ZUDOB_ses-20200408-sample-18_slice-20200408-slice-4_cell-20200408-sample-18_icephys.nwb 9.5 MB  9.5 MB          100%    ok    done                   \n",
      "Summary:                                                                                          9.5 MB  9.5 MB                        1 done                 \n",
      "                                                                                                          100.00%                                              \n",
      "2021-08-16 17:52:52,630 [    INFO] Logs saved in /root/.cache/dandi-cli/log/20210816175244Z-3997.log\n",
      "PATH                                                                                              SIZE    DONE            DONE% CHECKSUM STATUS          MESSAGE\n",
      "sub-mouse-ZUDOB_ses-20200408-sample-19_slice-20200408-slice-4_cell-20200408-sample-19_icephys.nwb 9.3 MB  9.3 MB           100%    ok    done                   \n",
      "Summary:                                                                                          9.3 MB  9.3 MB                         1 done                 \n",
      "                                                                                                          100.00%                                               \n",
      "2021-08-16 17:53:09,328 [    INFO] Logs saved in /root/.cache/dandi-cli/log/20210816175254Z-4009.log\n",
      "PATH                                                                                              SIZE    DONE            DONE% CHECKSUM STATUS          MESSAGE\n",
      "sub-mouse-ZUDOB_ses-20200408-sample-20_slice-20200408-slice-4_cell-20200408-sample-20_icephys.nwb 9.2 MB  9.2 MB           100%    ok    done                   \n",
      "Summary:                                                                                          9.2 MB  9.2 MB                         1 done                 \n",
      "                                                                                                          100.00%                                               \n",
      "2021-08-16 17:53:57,571 [    INFO] Logs saved in /root/.cache/dandi-cli/log/20210816175313Z-4024.log\n",
      "PATH                                                                                              SIZE    DONE           DONE% CHECKSUM STATUS          MESSAGE\n",
      "sub-mouse-ZUDOB_ses-20200408-sample-21_slice-20200408-slice-4_cell-20200408-sample-21_icephys.nwb 9.3 MB  9.3 MB          100%    ok    done                   \n",
      "Summary:                                                                                          9.3 MB  9.3 MB                        1 done                 \n",
      "                                                                                                          100.00%                                              \n",
      "2021-08-16 17:54:08,088 [    INFO] Logs saved in /root/.cache/dandi-cli/log/20210816175359Z-4039.log\n",
      "PATH                                                                                              SIZE    DONE          DONE% CHECKSUM STATUS          MESSAGE\n",
      "sub-mouse-ZUDOB_ses-20200408-sample-23_slice-20200408-slice-4_cell-20200408-sample-23_icephys.nwb 9.3 MB  9.3 MB         100%    ok    done                   \n",
      "Summary:                                                                                          9.3 MB  9.3 MB                       1 done                 \n",
      "                                                                                                          100.00%                                             \n",
      "2021-08-16 17:55:26,839 [    INFO] Logs saved in /root/.cache/dandi-cli/log/20210816175410Z-4051.log\n",
      "PATH                                                                                              SIZE    DONE           DONE% CHECKSUM STATUS          MESSAGE\n",
      "sub-mouse-ZUDOB_ses-20200408-sample-24_slice-20200408-slice-4_cell-20200408-sample-24_icephys.nwb 9.4 MB  9.4 MB          100%    ok    done                   \n",
      "Summary:                                                                                          9.4 MB  9.4 MB                        1 done                 \n",
      "                                                                                                          100.00%                                              \n",
      "2021-08-16 17:55:38,031 [    INFO] Logs saved in /root/.cache/dandi-cli/log/20210816175529Z-4067.log\n",
      "PATH                                                                                              SIZE    DONE           DONE% CHECKSUM STATUS          MESSAGE\n",
      "sub-mouse-ZUDOB_ses-20200408-sample-25_slice-20200408-slice-4_cell-20200408-sample-25_icephys.nwb 9.6 MB  9.6 MB          100%    ok    done                   \n",
      "Summary:                                                                                          9.6 MB  9.6 MB                        1 done                 \n",
      "                                                                                                          100.00%                                              \n",
      "2021-08-16 17:55:47,957 [    INFO] Logs saved in /root/.cache/dandi-cli/log/20210816175540Z-4081.log\n",
      "PATH                                                                                              SIZE    DONE           DONE% CHECKSUM STATUS          MESSAGE\n",
      "sub-mouse-ZUDOB_ses-20200408-sample-26_slice-20200408-slice-4_cell-20200408-sample-26_icephys.nwb 9.3 MB  9.3 MB          100%    ok    done                   \n",
      "Summary:                                                                                          9.3 MB  9.3 MB                        1 done                 \n",
      "                                                                                                          100.00%                                              \n",
      "2021-08-16 17:55:59,986 [    INFO] Logs saved in /root/.cache/dandi-cli/log/20210816175550Z-4093.log\n",
      "PATH                                                                                              SIZE    DONE    DONE% CHECKSUM STATUS          MESSAGE\n",
      "sub-mouse-ZUDOB_ses-20200408-sample-27_slice-20200408-slice-4_cell-20200408-sample-27_icephys.nwb 2.9 MB  2.9 MB   100%    ok    done                   \n",
      "Summary:                                                                                          2.9 MB  2.9 MB                 1 done                 \n",
      "                                                                                                          100.00%                                       \n",
      "2021-08-16 17:56:08,829 [    INFO] Logs saved in /root/.cache/dandi-cli/log/20210816175602Z-4105.log\n",
      "PATH                                                                                            SIZE    DONE           DONE% CHECKSUM STATUS          MESSAGE\n",
      "sub-mouse-NDKCQ_ses-20200409-sample-1_slice-20200409-slice-1_cell-20200409-sample-1_icephys.nwb 9.5 MB  9.5 MB          100%    ok    done                   \n",
      "Summary:                                                                                        9.5 MB  9.5 MB                        1 done                 \n",
      "                                                                                                        100.00%                                              \n",
      "2021-08-16 17:56:18,507 [    INFO] Logs saved in /root/.cache/dandi-cli/log/20210816175610Z-4117.log\n",
      "PATH                                                                                            SIZE    DONE    DONE% CHECKSUM STATUS          MESSAGE\n",
      "sub-mouse-NDKCQ_ses-20200409-sample-2_slice-20200409-slice-1_cell-20200409-sample-2_icephys.nwb 6.4 MB  6.4 MB   100%    ok    done                   \n",
      "Summary:                                                                                        6.4 MB  6.4 MB                 1 done                 \n",
      "                                                                                                        100.00%                                       \n",
      "2021-08-16 17:56:27,959 [    INFO] Logs saved in /root/.cache/dandi-cli/log/20210816175620Z-4129.log\n",
      "PATH                                                                                            SIZE    DONE           DONE% CHECKSUM STATUS          MESSAGE\n",
      "sub-mouse-NDKCQ_ses-20200409-sample-3_slice-20200409-slice-1_cell-20200409-sample-3_icephys.nwb 9.4 MB  9.4 MB          100%    ok    done                   \n",
      "Summary:                                                                                        9.4 MB  9.4 MB                        1 done                 \n",
      "                                                                                                        100.00%                                              \n",
      "2021-08-16 17:56:38,177 [    INFO] Logs saved in /root/.cache/dandi-cli/log/20210816175630Z-4141.log\n",
      "PATH                                                                                            SIZE    DONE           DONE% CHECKSUM STATUS          MESSAGE\n",
      "sub-mouse-NDKCQ_ses-20200409-sample-4_slice-20200409-slice-1_cell-20200409-sample-4_icephys.nwb 9.5 MB  9.5 MB          100%    ok    done                   \n",
      "Summary:                                                                                        9.5 MB  9.5 MB                        1 done                 \n",
      "                                                                                                        100.00%                                              \n",
      "2021-08-16 17:56:48,568 [    INFO] Logs saved in /root/.cache/dandi-cli/log/20210816175640Z-4153.log\n",
      "PATH                                                                                            SIZE    DONE            DONE% CHECKSUM STATUS          MESSAGE\n",
      "sub-mouse-NDKCQ_ses-20200409-sample-5_slice-20200409-slice-1_cell-20200409-sample-5_icephys.nwb 9.5 MB  9.5 MB           100%    ok    done                   \n",
      "Summary:                                                                                        9.5 MB  9.5 MB                         1 done                 \n",
      "                                                                                                        100.00%                                               \n",
      "2021-08-16 17:57:06,358 [    INFO] Logs saved in /root/.cache/dandi-cli/log/20210816175650Z-4165.log\n",
      "PATH                                                                                            SIZE    DONE           DONE% CHECKSUM STATUS          MESSAGE\n",
      "sub-mouse-NDKCQ_ses-20200409-sample-6_slice-20200409-slice-1_cell-20200409-sample-6_icephys.nwb 9.6 MB  9.6 MB          100%    ok    done                   \n",
      "Summary:                                                                                        9.6 MB  9.6 MB                        1 done                 \n",
      "                                                                                                        100.00%                                              \n",
      "2021-08-16 17:57:16,189 [    INFO] Logs saved in /root/.cache/dandi-cli/log/20210816175708Z-4177.log\n",
      "PATH                                                                                            SIZE    DONE           DONE% CHECKSUM STATUS          MESSAGE\n",
      "sub-mouse-NDKCQ_ses-20200409-sample-7_slice-20200409-slice-1_cell-20200409-sample-7_icephys.nwb 9.4 MB  9.4 MB          100%    ok    done                   \n",
      "Summary:                                                                                        9.4 MB  9.4 MB                        1 done                 \n",
      "                                                                                                        100.00%                                              \n",
      "2021-08-16 17:57:27,346 [    INFO] Logs saved in /root/.cache/dandi-cli/log/20210816175718Z-4189.log\n",
      "PATH                                                                                            SIZE    DONE           DONE% CHECKSUM STATUS          MESSAGE\n",
      "sub-mouse-NDKCQ_ses-20200409-sample-8_slice-20200409-slice-1_cell-20200409-sample-8_icephys.nwb 9.4 MB  9.4 MB          100%    ok    done                   \n",
      "Summary:                                                                                        9.4 MB  9.4 MB                        1 done                 \n",
      "                                                                                                        100.00%                                              \n",
      "2021-08-16 17:57:39,327 [    INFO] Logs saved in /root/.cache/dandi-cli/log/20210816175730Z-4204.log\n",
      "PATH                                                                                            SIZE    DONE    DONE% CHECKSUM STATUS          MESSAGE\n",
      "sub-mouse-NDKCQ_ses-20200409-sample-9_slice-20200409-slice-1_cell-20200409-sample-9_icephys.nwb 7.0 MB  7.0 MB   100%    ok    done                   \n",
      "Summary:                                                                                        7.0 MB  7.0 MB                 1 done                 \n",
      "                                                                                                        100.00%                                       \n",
      "2021-08-16 17:57:50,257 [    INFO] Logs saved in /root/.cache/dandi-cli/log/20210816175741Z-4217.log\n",
      "PATH                                                                                              SIZE    DONE           DONE% CHECKSUM STATUS          MESSAGE\n",
      "sub-mouse-NDKCQ_ses-20200409-sample-10_slice-20200409-slice-2_cell-20200409-sample-10_icephys.nwb 9.5 MB  9.5 MB          100%    ok    done                   \n",
      "Summary:                                                                                          9.5 MB  9.5 MB                        1 done                 \n",
      "                                                                                                          100.00%                                              \n",
      "2021-08-16 17:58:00,954 [    INFO] Logs saved in /root/.cache/dandi-cli/log/20210816175752Z-4231.log\n",
      "PATH                                                                                              SIZE    DONE           DONE% CHECKSUM STATUS          MESSAGE\n",
      "sub-mouse-NDKCQ_ses-20200409-sample-11_slice-20200409-slice-2_cell-20200409-sample-11_icephys.nwb 9.6 MB  9.6 MB          100%    ok    done                   \n",
      "Summary:                                                                                          9.6 MB  9.6 MB                        1 done                 \n",
      "                                                                                                          100.00%                                              \n",
      "2021-08-16 17:58:11,141 [    INFO] Logs saved in /root/.cache/dandi-cli/log/20210816175802Z-4243.log\n",
      "PATH                                                                                              SIZE    DONE           DONE% CHECKSUM STATUS          MESSAGE\n",
      "sub-mouse-NDKCQ_ses-20200409-sample-12_slice-20200409-slice-2_cell-20200409-sample-12_icephys.nwb 9.7 MB  9.7 MB          100%    ok    done                   \n",
      "Summary:                                                                                          9.7 MB  9.7 MB                        1 done                 \n",
      "                                                                                                          100.00%                                              \n",
      "2021-08-16 17:58:21,695 [    INFO] Logs saved in /root/.cache/dandi-cli/log/20210816175813Z-4255.log\n",
      "PATH                                                                                              SIZE    DONE           DONE% CHECKSUM STATUS          MESSAGE\n",
      "sub-mouse-NDKCQ_ses-20200409-sample-13_slice-20200409-slice-2_cell-20200409-sample-13_icephys.nwb 9.4 MB  9.4 MB          100%    ok    done                   \n",
      "Summary:                                                                                          9.4 MB  9.4 MB                        1 done                 \n",
      "                                                                                                          100.00%                                              \n",
      "2021-08-16 17:58:33,927 [    INFO] Logs saved in /root/.cache/dandi-cli/log/20210816175823Z-4267.log\n",
      "PATH                                                                                              SIZE    DONE    DONE% CHECKSUM STATUS          MESSAGE\n",
      "sub-mouse-NDKCQ_ses-20200409-sample-14_slice-20200409-slice-2_cell-20200409-sample-14_icephys.nwb 6.4 MB  6.4 MB   100%    ok    done                   \n",
      "Summary:                                                                                          6.4 MB  6.4 MB                 1 done                 \n",
      "                                                                                                          100.00%                                       \n",
      "2021-08-16 17:58:43,198 [    INFO] Logs saved in /root/.cache/dandi-cli/log/20210816175836Z-4279.log\n",
      "PATH                                                                                              SIZE    DONE            DONE% CHECKSUM STATUS          MESSAGE\n",
      "sub-mouse-NDKCQ_ses-20200409-sample-15_slice-20200409-slice-3_cell-20200409-sample-15_icephys.nwb 9.5 MB  9.5 MB           100%    ok    done                   \n",
      "Summary:                                                                                          9.5 MB  9.5 MB                         1 done                 \n",
      "                                                                                                          100.00%                                               \n",
      "2021-08-16 17:59:04,910 [    INFO] Logs saved in /root/.cache/dandi-cli/log/20210816175845Z-4291.log\n",
      "PATH                                                                                              SIZE    DONE    DONE% CHECKSUM STATUS          MESSAGE\n",
      "sub-mouse-NDKCQ_ses-20200409-sample-17_slice-20200409-slice-3_cell-20200409-sample-17_icephys.nwb 6.8 MB  6.8 MB   100%    ok    done                   \n",
      "Summary:                                                                                          6.8 MB  6.8 MB                 1 done                 \n",
      "                                                                                                          100.00%                                       \n",
      "2021-08-16 17:59:14,882 [    INFO] Logs saved in /root/.cache/dandi-cli/log/20210816175907Z-4303.log\n",
      "PATH                                                                                              SIZE    DONE            DONE% CHECKSUM STATUS          MESSAGE\n",
      "sub-mouse-NDKCQ_ses-20200409-sample-18_slice-20200409-slice-4_cell-20200409-sample-18_icephys.nwb 9.5 MB  9.5 MB           100%    ok    done                   \n",
      "Summary:                                                                                          9.5 MB  9.5 MB                         1 done                 \n",
      "                                                                                                          100.00%                                               \n",
      "2021-08-16 17:59:34,885 [    INFO] Logs saved in /root/.cache/dandi-cli/log/20210816175916Z-4315.log\n",
      "PATH                                                                                              SIZE    DONE           DONE% CHECKSUM STATUS          MESSAGE\n",
      "sub-mouse-NDKCQ_ses-20200409-sample-19_slice-20200409-slice-4_cell-20200409-sample-19_icephys.nwb 9.4 MB  9.4 MB          100%    ok    done                   \n",
      "Summary:                                                                                          9.4 MB  9.4 MB                        1 done                 \n",
      "                                                                                                          100.00%                                              \n",
      "2021-08-16 17:59:46,222 [    INFO] Logs saved in /root/.cache/dandi-cli/log/20210816175937Z-4330.log\n",
      "PATH                                                                                              SIZE    DONE           DONE% CHECKSUM STATUS          MESSAGE\n",
      "sub-mouse-NDKCQ_ses-20200409-sample-20_slice-20200409-slice-4_cell-20200409-sample-20_icephys.nwb 9.5 MB  9.5 MB          100%    ok    done                   \n",
      "Summary:                                                                                          9.5 MB  9.5 MB                        1 done                 \n",
      "                                                                                                          100.00%                                              \n",
      "2021-08-16 17:59:56,829 [    INFO] Logs saved in /root/.cache/dandi-cli/log/20210816175948Z-4343.log\n",
      "PATH                                                                                            SIZE    DONE           DONE% CHECKSUM STATUS          MESSAGE\n",
      "sub-mouse-MITSU_ses-20200410-sample-1_slice-20200410-slice-1_cell-20200410-sample-1_icephys.nwb 9.0 MB  9.0 MB          100%    ok    done                   \n",
      "Summary:                                                                                        9.0 MB  9.0 MB                        1 done                 \n",
      "                                                                                                        100.00%                                              \n",
      "2021-08-16 18:00:06,635 [    INFO] Logs saved in /root/.cache/dandi-cli/log/20210816175958Z-4357.log\n",
      "PATH                                                                                            SIZE    DONE           DONE% CHECKSUM STATUS          MESSAGE\n",
      "sub-mouse-MITSU_ses-20200410-sample-2_slice-20200410-slice-1_cell-20200410-sample-2_icephys.nwb 9.2 MB  9.2 MB          100%    ok    done                   \n",
      "Summary:                                                                                        9.2 MB  9.2 MB                        1 done                 \n",
      "                                                                                                        100.00%                                              \n",
      "2021-08-16 18:00:16,849 [    INFO] Logs saved in /root/.cache/dandi-cli/log/20210816180008Z-4369.log\n",
      "PATH                                                                                            SIZE    DONE           DONE% CHECKSUM STATUS          MESSAGE\n",
      "sub-mouse-MITSU_ses-20200410-sample-4_slice-20200410-slice-1_cell-20200410-sample-4_icephys.nwb 9.0 MB  9.0 MB          100%    ok    done                   \n",
      "Summary:                                                                                        9.0 MB  9.0 MB                        1 done                 \n",
      "                                                                                                        100.00%                                              \n",
      "2021-08-16 18:00:27,088 [    INFO] Logs saved in /root/.cache/dandi-cli/log/20210816180018Z-4381.log\n",
      "PATH                                                                                            SIZE    DONE           DONE% CHECKSUM STATUS          MESSAGE\n",
      "sub-mouse-MITSU_ses-20200410-sample-5_slice-20200410-slice-1_cell-20200410-sample-5_icephys.nwb 9.2 MB  9.2 MB          100%    ok    done                   \n",
      "Summary:                                                                                        9.2 MB  9.2 MB                        1 done                 \n",
      "                                                                                                        100.00%                                              \n",
      "2021-08-16 18:00:37,458 [    INFO] Logs saved in /root/.cache/dandi-cli/log/20210816180029Z-4393.log\n",
      "PATH                                                                                            SIZE    DONE    DONE% CHECKSUM STATUS          MESSAGE\n",
      "sub-mouse-MITSU_ses-20200410-sample-6_slice-20200410-slice-1_cell-20200410-sample-6_icephys.nwb 6.3 MB  6.3 MB   100%    ok    done                   \n",
      "Summary:                                                                                        6.3 MB  6.3 MB                 1 done                 \n",
      "                                                                                                        100.00%                                       \n",
      "2021-08-16 18:01:18,538 [    INFO] Logs saved in /root/.cache/dandi-cli/log/20210816180039Z-4405.log\n",
      "PATH                                                                                            SIZE    DONE           DONE% CHECKSUM STATUS          MESSAGE\n",
      "sub-mouse-MITSU_ses-20200410-sample-7_slice-20200410-slice-1_cell-20200410-sample-7_icephys.nwb 9.3 MB  9.3 MB          100%    ok    done                   \n",
      "Summary:                                                                                        9.3 MB  9.3 MB                        1 done                 \n",
      "                                                                                                        100.00%                                              \n",
      "2021-08-16 18:01:29,171 [    INFO] Logs saved in /root/.cache/dandi-cli/log/20210816180120Z-4417.log\n",
      "PATH                                                                                            SIZE    DONE            DONE% CHECKSUM STATUS          MESSAGE\n",
      "sub-mouse-MITSU_ses-20200410-sample-8_slice-20200410-slice-1_cell-20200410-sample-8_icephys.nwb 9.2 MB  9.2 MB           100%    ok    done                   \n",
      "Summary:                                                                                        9.2 MB  9.2 MB                         1 done                 \n",
      "                                                                                                        100.00%                                               \n",
      "2021-08-16 18:02:08,881 [    INFO] Logs saved in /root/.cache/dandi-cli/log/20210816180131Z-4429.log\n",
      "PATH                                                                                              SIZE    DONE            DONE% CHECKSUM STATUS          MESSAGE\n",
      "sub-mouse-MITSU_ses-20200410-sample-10_slice-20200410-slice-1_cell-20200410-sample-10_icephys.nwb 9.2 MB  9.2 MB           100%    ok    done                   \n",
      "Summary:                                                                                          9.2 MB  9.2 MB                         1 done                 \n",
      "                                                                                                          100.00%                                               \n",
      "2021-08-16 18:02:59,132 [    INFO] Logs saved in /root/.cache/dandi-cli/log/20210816180210Z-4447.log\n",
      "PATH                                                                                              SIZE    DONE           DONE% CHECKSUM STATUS          MESSAGE\n",
      "sub-mouse-MITSU_ses-20200410-sample-11_slice-20200410-slice-1_cell-20200410-sample-11_icephys.nwb 9.2 MB  9.2 MB          100%    ok    done                   \n",
      "Summary:                                                                                          9.2 MB  9.2 MB                        1 done                 \n",
      "                                                                                                          100.00%                                              \n",
      "2021-08-16 18:03:08,916 [    INFO] Logs saved in /root/.cache/dandi-cli/log/20210816180301Z-4459.log\n",
      "PATH                                                                                              SIZE    DONE           DONE% CHECKSUM STATUS          MESSAGE\n",
      "sub-mouse-MITSU_ses-20200410-sample-13_slice-20200410-slice-1_cell-20200410-sample-13_icephys.nwb 9.0 MB  9.0 MB          100%    ok    done                   \n",
      "Summary:                                                                                          9.0 MB  9.0 MB                        1 done                 \n",
      "                                                                                                          100.00%                                              \n",
      "2021-08-16 18:03:18,032 [    INFO] Logs saved in /root/.cache/dandi-cli/log/20210816180310Z-4471.log\n",
      "PATH                                                                                              SIZE    DONE           DONE% CHECKSUM STATUS          MESSAGE\n",
      "sub-mouse-MITSU_ses-20200410-sample-14_slice-20200410-slice-1_cell-20200410-sample-14_icephys.nwb 9.2 MB  9.2 MB          100%    ok    done                   \n",
      "Summary:                                                                                          9.2 MB  9.2 MB                        1 done                 \n",
      "                                                                                                          100.00%                                              \n",
      "2021-08-16 18:03:27,351 [    INFO] Logs saved in /root/.cache/dandi-cli/log/20210816180319Z-4483.log\n",
      "PATH                                                                                              SIZE    DONE           DONE% CHECKSUM STATUS          MESSAGE\n",
      "sub-mouse-MITSU_ses-20200410-sample-15_slice-20200410-slice-1_cell-20200410-sample-15_icephys.nwb 8.8 MB  8.8 MB          100%    ok    done                   \n",
      "Summary:                                                                                          8.8 MB  8.8 MB                        1 done                 \n",
      "                                                                                                          100.00%                                              \n",
      "2021-08-16 18:03:36,990 [    INFO] Logs saved in /root/.cache/dandi-cli/log/20210816180329Z-4495.log\n",
      "PATH                                                                                              SIZE    DONE    DONE% CHECKSUM STATUS          MESSAGE\n",
      "sub-mouse-MITSU_ses-20200410-sample-17_slice-20200410-slice-2_cell-20200410-sample-17_icephys.nwb 7.2 MB  7.2 MB   100%    ok    done                   \n",
      "Summary:                                                                                          7.2 MB  7.2 MB                 1 done                 \n",
      "                                                                                                          100.00%                                       \n",
      "2021-08-16 18:03:58,962 [    INFO] Logs saved in /root/.cache/dandi-cli/log/20210816180338Z-4507.log\n",
      "PATH                                                                                              SIZE    DONE           DONE% CHECKSUM STATUS          MESSAGE\n",
      "sub-mouse-MITSU_ses-20200410-sample-18_slice-20200410-slice-2_cell-20200410-sample-18_icephys.nwb 9.1 MB  9.1 MB          100%    ok    done                   \n",
      "Summary:                                                                                          9.1 MB  9.1 MB                        1 done                 \n",
      "                                                                                                          100.00%                                              \n",
      "2021-08-16 18:04:09,072 [    INFO] Logs saved in /root/.cache/dandi-cli/log/20210816180401Z-4523.log\n",
      "PATH                                                                                              SIZE    DONE            DONE% CHECKSUM STATUS          MESSAGE\n",
      "sub-mouse-MITSU_ses-20200410-sample-20_slice-20200410-slice-2_cell-20200410-sample-20_icephys.nwb 9.0 MB  9.0 MB           100%    ok    done                   \n",
      "Summary:                                                                                          9.0 MB  9.0 MB                         1 done                 \n",
      "                                                                                                          100.00%                                               \n",
      "2021-08-16 18:04:28,604 [    INFO] Logs saved in /root/.cache/dandi-cli/log/20210816180410Z-4537.log\n",
      "PATH                                                                                              SIZE    DONE           DONE% CHECKSUM STATUS          MESSAGE\n",
      "sub-mouse-MITSU_ses-20200410-sample-21_slice-20200410-slice-2_cell-20200410-sample-21_icephys.nwb 9.0 MB  9.0 MB          100%    ok    done                   \n",
      "Summary:                                                                                          9.0 MB  9.0 MB                        1 done                 \n",
      "                                                                                                          100.00%                                              \n",
      "2021-08-16 18:04:38,519 [    INFO] Logs saved in /root/.cache/dandi-cli/log/20210816180430Z-4549.log\n",
      "PATH                                                                                              SIZE    DONE           DONE% CHECKSUM STATUS          MESSAGE\n",
      "sub-mouse-MITSU_ses-20200410-sample-22_slice-20200410-slice-2_cell-20200410-sample-22_icephys.nwb 9.2 MB  9.2 MB          100%    ok    done                   \n",
      "Summary:                                                                                          9.2 MB  9.2 MB                        1 done                 \n",
      "                                                                                                          100.00%                                              \n",
      "2021-08-16 18:04:49,611 [    INFO] Logs saved in /root/.cache/dandi-cli/log/20210816180440Z-4561.log\n",
      "PATH                                                                                              SIZE    DONE           DONE% CHECKSUM STATUS          MESSAGE\n",
      "sub-mouse-MITSU_ses-20200410-sample-23_slice-20200410-slice-2_cell-20200410-sample-23_icephys.nwb 9.2 MB  9.2 MB          100%    ok    done                   \n",
      "Summary:                                                                                          9.2 MB  9.2 MB                        1 done                 \n",
      "                                                                                                          100.00%                                              \n",
      "2021-08-16 18:04:59,222 [    INFO] Logs saved in /root/.cache/dandi-cli/log/20210816180451Z-4573.log\n",
      "PATH                                                                                              SIZE    DONE            DONE% CHECKSUM STATUS          MESSAGE\n",
      "sub-mouse-MITSU_ses-20200410-sample-24_slice-20200410-slice-3_cell-20200410-sample-24_icephys.nwb 9.1 MB  9.1 MB           100%    ok    done                   \n",
      "Summary:                                                                                          9.1 MB  9.1 MB                         1 done                 \n",
      "                                                                                                          100.00%                                               \n",
      "2021-08-16 18:05:36,137 [    INFO] Logs saved in /root/.cache/dandi-cli/log/20210816180501Z-4585.log\n",
      "PATH                                                                                              SIZE    DONE           DONE% CHECKSUM STATUS          MESSAGE\n",
      "sub-mouse-MITSU_ses-20200410-sample-26_slice-20200410-slice-3_cell-20200410-sample-26_icephys.nwb 9.1 MB  9.1 MB          100%    ok    done                   \n",
      "Summary:                                                                                          9.1 MB  9.1 MB                        1 done                 \n",
      "                                                                                                          100.00%                                              \n",
      "2021-08-16 18:05:45,968 [    INFO] Logs saved in /root/.cache/dandi-cli/log/20210816180537Z-4597.log\n",
      "PATH                                                                                              SIZE    DONE            DONE% CHECKSUM STATUS          MESSAGE\n",
      "sub-mouse-MITSU_ses-20200410-sample-27_slice-20200410-slice-3_cell-20200410-sample-27_icephys.nwb 8.8 MB  8.8 MB           100%    ok    done                   \n",
      "Summary:                                                                                          8.8 MB  8.8 MB                         1 done                 \n",
      "                                                                                                          100.00%                                               \n",
      "2021-08-16 18:06:11,301 [    INFO] Logs saved in /root/.cache/dandi-cli/log/20210816180548Z-4609.log\n",
      "PATH                                                                                              SIZE    DONE           DONE% CHECKSUM STATUS          MESSAGE\n",
      "sub-mouse-MITSU_ses-20200410-sample-28_slice-20200410-slice-3_cell-20200410-sample-28_icephys.nwb 9.4 MB  9.4 MB          100%    ok    done                   \n",
      "Summary:                                                                                          9.4 MB  9.4 MB                        1 done                 \n",
      "                                                                                                          100.00%                                              \n",
      "2021-08-16 18:06:21,112 [    INFO] Logs saved in /root/.cache/dandi-cli/log/20210816180613Z-4627.log\n",
      "PATH                                                                                              SIZE    DONE    DONE% CHECKSUM STATUS          MESSAGE\n",
      "sub-mouse-MITSU_ses-20200410-sample-29_slice-20200410-slice-3_cell-20200410-sample-29_icephys.nwb 5.7 MB  5.7 MB   100%    ok    done                   \n",
      "Summary:                                                                                          5.7 MB  5.7 MB                 1 done                 \n",
      "                                                                                                          100.00%                                       \n",
      "2021-08-16 18:06:30,275 [    INFO] Logs saved in /root/.cache/dandi-cli/log/20210816180623Z-4639.log\n",
      "PATH                                                                                              SIZE    DONE           DONE% CHECKSUM STATUS          MESSAGE\n",
      "sub-mouse-MITSU_ses-20200410-sample-30_slice-20200410-slice-3_cell-20200410-sample-30_icephys.nwb 9.2 MB  9.2 MB          100%    ok    done                   \n",
      "Summary:                                                                                          9.2 MB  9.2 MB                        1 done                 \n",
      "                                                                                                          100.00%                                              \n",
      "2021-08-16 18:06:39,792 [    INFO] Logs saved in /root/.cache/dandi-cli/log/20210816180632Z-4651.log\n",
      "PATH                                                                                            SIZE    DONE           DONE% CHECKSUM STATUS          MESSAGE\n",
      "sub-mouse-UEQOU_ses-20200413-sample-1_slice-20200413-slice-1_cell-20200413-sample-1_icephys.nwb 8.8 MB  8.8 MB          100%    ok    done                   \n",
      "Summary:                                                                                        8.8 MB  8.8 MB                        1 done                 \n",
      "                                                                                                        100.00%                                              \n",
      "2021-08-16 18:06:49,628 [    INFO] Logs saved in /root/.cache/dandi-cli/log/20210816180642Z-4663.log\n",
      "PATH                                                                                            SIZE    DONE           DONE% CHECKSUM STATUS          MESSAGE\n",
      "sub-mouse-UEQOU_ses-20200413-sample-2_slice-20200413-slice-1_cell-20200413-sample-2_icephys.nwb 8.9 MB  8.9 MB          100%    ok    done                   \n",
      "Summary:                                                                                        8.9 MB  8.9 MB                        1 done                 \n",
      "                                                                                                        100.00%                                              \n",
      "2021-08-16 18:06:58,977 [    INFO] Logs saved in /root/.cache/dandi-cli/log/20210816180651Z-4675.log\n",
      "PATH                                                                                            SIZE    DONE           DONE% CHECKSUM STATUS          MESSAGE\n",
      "sub-mouse-UEQOU_ses-20200413-sample-3_slice-20200413-slice-1_cell-20200413-sample-3_icephys.nwb 9.1 MB  9.1 MB          100%    ok    done                   \n",
      "Summary:                                                                                        9.1 MB  9.1 MB                        1 done                 \n",
      "                                                                                                        100.00%                                              \n",
      "2021-08-16 18:07:08,583 [    INFO] Logs saved in /root/.cache/dandi-cli/log/20210816180700Z-4687.log\n",
      "PATH                                                                                            SIZE    DONE           DONE% CHECKSUM STATUS          MESSAGE\n",
      "sub-mouse-UEQOU_ses-20200413-sample-4_slice-20200413-slice-1_cell-20200413-sample-4_icephys.nwb 8.9 MB  8.9 MB          100%    ok    done                   \n",
      "Summary:                                                                                        8.9 MB  8.9 MB                        1 done                 \n",
      "                                                                                                        100.00%                                              \n",
      "2021-08-16 18:07:21,588 [    INFO] Logs saved in /root/.cache/dandi-cli/log/20210816180710Z-4699.log\n",
      "PATH                                                                                            SIZE    DONE           DONE% CHECKSUM STATUS          MESSAGE\n",
      "sub-mouse-UEQOU_ses-20200413-sample-5_slice-20200413-slice-1_cell-20200413-sample-5_icephys.nwb 9.4 MB  9.4 MB          100%    ok    done                   \n",
      "Summary:                                                                                        9.4 MB  9.4 MB                        1 done                 \n",
      "                                                                                                        100.00%                                              \n",
      "2021-08-16 18:07:30,612 [    INFO] Logs saved in /root/.cache/dandi-cli/log/20210816180723Z-4711.log\n",
      "PATH                                                                                            SIZE    DONE           DONE% CHECKSUM STATUS          MESSAGE\n",
      "sub-mouse-UEQOU_ses-20200413-sample-6_slice-20200413-slice-1_cell-20200413-sample-6_icephys.nwb 9.2 MB  9.2 MB          100%    ok    done                   \n",
      "Summary:                                                                                        9.2 MB  9.2 MB                        1 done                 \n",
      "                                                                                                        100.00%                                              \n",
      "2021-08-16 18:07:40,551 [    INFO] Logs saved in /root/.cache/dandi-cli/log/20210816180732Z-4723.log\n",
      "PATH                                                                                            SIZE    DONE           DONE% CHECKSUM STATUS          MESSAGE\n",
      "sub-mouse-UEQOU_ses-20200413-sample-7_slice-20200413-slice-2_cell-20200413-sample-7_icephys.nwb 9.1 MB  9.1 MB          100%    ok    done                   \n",
      "Summary:                                                                                        9.1 MB  9.1 MB                        1 done                 \n",
      "                                                                                                        100.00%                                              \n",
      "2021-08-16 18:07:50,616 [    INFO] Logs saved in /root/.cache/dandi-cli/log/20210816180742Z-4735.log\n",
      "PATH                                                                                            SIZE     DONE            DONE% CHECKSUM STATUS          MESSAGE\n",
      "sub-mouse-UEQOU_ses-20200413-sample-8_slice-20200413-slice-2_cell-20200413-sample-8_icephys.nwb 10.3 MB  10.3 MB          100%    ok    done                   \n",
      "Summary:                                                                                        10.3 MB  10.3 MB                        1 done                 \n",
      "                                                                                                         100.00%                                               \n",
      "2021-08-16 18:08:15,187 [    INFO] Logs saved in /root/.cache/dandi-cli/log/20210816180752Z-4747.log\n",
      "PATH                                                                                            SIZE    DONE    DONE% CHECKSUM STATUS          MESSAGE\n",
      "sub-mouse-UEQOU_ses-20200413-sample-9_slice-20200413-slice-2_cell-20200413-sample-9_icephys.nwb 8.2 MB  8.2 MB   100%    ok    done                   \n",
      "Summary:                                                                                        8.2 MB  8.2 MB                 1 done                 \n",
      "                                                                                                        100.00%                                       \n",
      "2021-08-16 18:08:26,744 [    INFO] Logs saved in /root/.cache/dandi-cli/log/20210816180818Z-4763.log\n",
      "PATH                                                                                              SIZE    DONE           DONE% CHECKSUM STATUS          MESSAGE\n",
      "sub-mouse-UEQOU_ses-20200413-sample-10_slice-20200413-slice-2_cell-20200413-sample-10_icephys.nwb 9.6 MB  9.6 MB          100%    ok    done                   \n",
      "Summary:                                                                                          9.6 MB  9.6 MB                        1 done                 \n",
      "                                                                                                          100.00%                                              \n",
      "2021-08-16 18:08:37,123 [    INFO] Logs saved in /root/.cache/dandi-cli/log/20210816180829Z-4777.log\n",
      "PATH                                                                                              SIZE     DONE           DONE% CHECKSUM STATUS          MESSAGE\n",
      "sub-mouse-UEQOU_ses-20200413-sample-11_slice-20200413-slice-2_cell-20200413-sample-11_icephys.nwb 10.2 MB  10.2 MB         100%    ok    done                   \n",
      "Summary:                                                                                          10.2 MB  10.2 MB                       1 done                 \n",
      "                                                                                                           100.00%                                              \n",
      "2021-08-16 18:08:47,483 [    INFO] Logs saved in /root/.cache/dandi-cli/log/20210816180839Z-4789.log\n",
      "PATH                                                                                              SIZE    DONE           DONE% CHECKSUM STATUS          MESSAGE\n",
      "sub-mouse-UEQOU_ses-20200413-sample-12_slice-20200413-slice-2_cell-20200413-sample-12_icephys.nwb 9.3 MB  9.3 MB          100%    ok    done                   \n",
      "Summary:                                                                                          9.3 MB  9.3 MB                        1 done                 \n",
      "                                                                                                          100.00%                                              \n",
      "2021-08-16 18:09:00,987 [    INFO] Logs saved in /root/.cache/dandi-cli/log/20210816180849Z-4801.log\n",
      "PATH                                                                                              SIZE    DONE    DONE% CHECKSUM STATUS          MESSAGE\n",
      "sub-mouse-UEQOU_ses-20200413-sample-13_slice-20200413-slice-2_cell-20200413-sample-13_icephys.nwb 8.3 MB  8.3 MB   100%    ok    done                   \n",
      "Summary:                                                                                          8.3 MB  8.3 MB                 1 done                 \n",
      "                                                                                                          100.00%                                       \n",
      "2021-08-16 18:09:19,848 [    INFO] Logs saved in /root/.cache/dandi-cli/log/20210816180903Z-4813.log\n",
      "PATH                                                                                              SIZE     DONE           DONE% CHECKSUM STATUS          MESSAGE\n",
      "sub-mouse-UEQOU_ses-20200413-sample-14_slice-20200413-slice-2_cell-20200413-sample-14_icephys.nwb 10.3 MB  10.3 MB         100%    ok    done                   \n",
      "Summary:                                                                                          10.3 MB  10.3 MB                       1 done                 \n",
      "                                                                                                           100.00%                                              \n",
      "2021-08-16 18:09:30,124 [    INFO] Logs saved in /root/.cache/dandi-cli/log/20210816180921Z-4825.log\n",
      "PATH                                                                                              SIZE    DONE           DONE% CHECKSUM STATUS          MESSAGE\n",
      "sub-mouse-UEQOU_ses-20200413-sample-15_slice-20200413-slice-2_cell-20200413-sample-15_icephys.nwb 9.1 MB  9.1 MB          100%    ok    done                   \n",
      "Summary:                                                                                          9.1 MB  9.1 MB                        1 done                 \n",
      "                                                                                                          100.00%                                              \n",
      "2021-08-16 18:09:42,926 [    INFO] Logs saved in /root/.cache/dandi-cli/log/20210816180932Z-4837.log\n",
      "PATH                                                                                              SIZE    DONE            DONE% CHECKSUM STATUS          MESSAGE\n",
      "sub-mouse-UEQOU_ses-20200413-sample-16_slice-20200413-slice-2_cell-20200413-sample-16_icephys.nwb 8.6 MB  8.6 MB           100%    ok    done                   \n",
      "Summary:                                                                                          8.6 MB  8.6 MB                         1 done                 \n",
      "                                                                                                          100.00%                                               \n",
      "2021-08-16 18:10:21,293 [    INFO] Logs saved in /root/.cache/dandi-cli/log/20210816180944Z-4849.log\n",
      "PATH                                                                                              SIZE     DONE           DONE% CHECKSUM STATUS          MESSAGE\n",
      "sub-mouse-UEQOU_ses-20200413-sample-17_slice-20200413-slice-2_cell-20200413-sample-17_icephys.nwb 10.0 MB  10.0 MB         100%    ok    done                   \n",
      "Summary:                                                                                          10.0 MB  10.0 MB                       1 done                 \n",
      "                                                                                                           100.00%                                              \n",
      "2021-08-16 18:10:31,870 [    INFO] Logs saved in /root/.cache/dandi-cli/log/20210816181023Z-4865.log\n",
      "PATH                                                                                              SIZE     DONE           DONE% CHECKSUM STATUS          MESSAGE\n",
      "sub-mouse-UEQOU_ses-20200413-sample-18_slice-20200413-slice-2_cell-20200413-sample-18_icephys.nwb 10.6 MB  10.6 MB         100%    ok    done                   \n",
      "Summary:                                                                                          10.6 MB  10.6 MB                       1 done                 \n",
      "                                                                                                           100.00%                                              \n",
      "2021-08-16 18:10:42,116 [    INFO] Logs saved in /root/.cache/dandi-cli/log/20210816181033Z-4879.log\n",
      "PATH                                                                                              SIZE    DONE            DONE% CHECKSUM STATUS          MESSAGE\n",
      "sub-mouse-UEQOU_ses-20200413-sample-19_slice-20200413-slice-2_cell-20200413-sample-19_icephys.nwb 9.4 MB  9.4 MB           100%    ok    done                   \n",
      "Summary:                                                                                          9.4 MB  9.4 MB                         1 done                 \n",
      "                                                                                                          100.00%                                               \n",
      "2021-08-16 18:11:02,213 [    INFO] Logs saved in /root/.cache/dandi-cli/log/20210816181044Z-4891.log\n",
      "PATH                                                                                              SIZE    DONE    DONE% CHECKSUM STATUS          MESSAGE\n",
      "sub-mouse-UEQOU_ses-20200413-sample-20_slice-20200413-slice-3_cell-20200413-sample-20_icephys.nwb 6.8 MB  6.8 MB   100%    ok    done                   \n",
      "Summary:                                                                                          6.8 MB  6.8 MB                 1 done                 \n",
      "                                                                                                          100.00%                                       \n",
      "2021-08-16 18:11:11,817 [    INFO] Logs saved in /root/.cache/dandi-cli/log/20210816181104Z-4903.log\n",
      "PATH                                                                                              SIZE    DONE           DONE% CHECKSUM STATUS          MESSAGE\n",
      "sub-mouse-UEQOU_ses-20200413-sample-21_slice-20200413-slice-3_cell-20200413-sample-21_icephys.nwb 9.2 MB  9.2 MB          100%    ok    done                   \n",
      "Summary:                                                                                          9.2 MB  9.2 MB                        1 done                 \n",
      "                                                                                                          100.00%                                              \n",
      "2021-08-16 18:11:24,733 [    INFO] Logs saved in /root/.cache/dandi-cli/log/20210816181113Z-4915.log\n",
      "PATH                                                                                              SIZE    DONE           DONE% CHECKSUM STATUS          MESSAGE\n",
      "sub-mouse-UEQOU_ses-20200413-sample-22_slice-20200413-slice-3_cell-20200413-sample-22_icephys.nwb 9.2 MB  9.2 MB          100%    ok    done                   \n",
      "Summary:                                                                                          9.2 MB  9.2 MB                        1 done                 \n",
      "                                                                                                          100.00%                                              \n",
      "2021-08-16 18:11:35,785 [    INFO] Logs saved in /root/.cache/dandi-cli/log/20210816181126Z-4927.log\n",
      "PATH                                                                                              SIZE    DONE           DONE% CHECKSUM STATUS          MESSAGE\n",
      "sub-mouse-UEQOU_ses-20200413-sample-23_slice-20200413-slice-3_cell-20200413-sample-23_icephys.nwb 9.2 MB  9.2 MB          100%    ok    done                   \n",
      "Summary:                                                                                          9.2 MB  9.2 MB                        1 done                 \n",
      "                                                                                                          100.00%                                              \n",
      "2021-08-16 18:11:46,005 [    INFO] Logs saved in /root/.cache/dandi-cli/log/20210816181137Z-4939.log\n",
      "PATH                                                                                            SIZE    DONE           DONE% CHECKSUM STATUS          MESSAGE\n",
      "sub-mouse-SCEAC_ses-20200414-sample-1_slice-20200414-slice-1_cell-20200414-sample-1_icephys.nwb 9.2 MB  9.2 MB          100%    ok    done                   \n",
      "Summary:                                                                                        9.2 MB  9.2 MB                        1 done                 \n",
      "                                                                                                        100.00%                                              \n",
      "2021-08-16 18:11:56,408 [    INFO] Logs saved in /root/.cache/dandi-cli/log/20210816181148Z-4951.log\n",
      "PATH                                                                                            SIZE    DONE            DONE% CHECKSUM STATUS          MESSAGE\n",
      "sub-mouse-SCEAC_ses-20200414-sample-2_slice-20200414-slice-1_cell-20200414-sample-2_icephys.nwb 9.3 MB  9.3 MB           100%    ok    done                   \n",
      "Summary:                                                                                        9.3 MB  9.3 MB                         1 done                 \n",
      "                                                                                                        100.00%                                               \n",
      "2021-08-16 18:12:21,366 [    INFO] Logs saved in /root/.cache/dandi-cli/log/20210816181158Z-4963.log\n",
      "PATH                                                                                            SIZE    DONE           DONE% CHECKSUM STATUS          MESSAGE\n",
      "sub-mouse-SCEAC_ses-20200414-sample-3_slice-20200414-slice-1_cell-20200414-sample-3_icephys.nwb 9.1 MB  9.1 MB          100%    ok    done                   \n",
      "Summary:                                                                                        9.1 MB  9.1 MB                        1 done                 \n",
      "                                                                                                        100.00%                                              \n",
      "2021-08-16 18:12:32,668 [    INFO] Logs saved in /root/.cache/dandi-cli/log/20210816181224Z-4978.log\n",
      "PATH                                                                                            SIZE    DONE           DONE% CHECKSUM STATUS          MESSAGE\n",
      "sub-mouse-SCEAC_ses-20200414-sample-4_slice-20200414-slice-1_cell-20200414-sample-4_icephys.nwb 9.3 MB  9.3 MB          100%    ok    done                   \n",
      "Summary:                                                                                        9.3 MB  9.3 MB                        1 done                 \n",
      "                                                                                                        100.00%                                              \n",
      "2021-08-16 18:12:43,178 [    INFO] Logs saved in /root/.cache/dandi-cli/log/20210816181235Z-4991.log\n",
      "PATH                                                                                            SIZE    DONE           DONE% CHECKSUM STATUS          MESSAGE\n",
      "sub-mouse-SCEAC_ses-20200414-sample-5_slice-20200414-slice-2_cell-20200414-sample-5_icephys.nwb 9.2 MB  9.2 MB          100%    ok    done                   \n",
      "Summary:                                                                                        9.2 MB  9.2 MB                        1 done                 \n",
      "                                                                                                        100.00%                                              \n",
      "2021-08-16 18:12:53,803 [    INFO] Logs saved in /root/.cache/dandi-cli/log/20210816181245Z-5005.log\n",
      "PATH                                                                                            SIZE    DONE           DONE% CHECKSUM STATUS          MESSAGE\n",
      "sub-mouse-SCEAC_ses-20200414-sample-6_slice-20200414-slice-2_cell-20200414-sample-6_icephys.nwb 9.1 MB  9.1 MB          100%    ok    done                   \n",
      "Summary:                                                                                        9.1 MB  9.1 MB                        1 done                 \n",
      "                                                                                                        100.00%                                              \n",
      "2021-08-16 18:13:03,623 [    INFO] Logs saved in /root/.cache/dandi-cli/log/20210816181255Z-5017.log\n",
      "PATH                                                                                            SIZE    DONE           DONE% CHECKSUM STATUS          MESSAGE\n",
      "sub-mouse-SCEAC_ses-20200414-sample-7_slice-20200414-slice-2_cell-20200414-sample-7_icephys.nwb 9.3 MB  9.3 MB          100%    ok    done                   \n",
      "Summary:                                                                                        9.3 MB  9.3 MB                        1 done                 \n",
      "                                                                                                        100.00%                                              \n",
      "2021-08-16 18:13:14,000 [    INFO] Logs saved in /root/.cache/dandi-cli/log/20210816181305Z-5029.log\n",
      "PATH                                                                                            SIZE    DONE           DONE% CHECKSUM STATUS          MESSAGE\n",
      "sub-mouse-SCEAC_ses-20200414-sample-8_slice-20200414-slice-2_cell-20200414-sample-8_icephys.nwb 9.3 MB  9.3 MB          100%    ok    done                   \n",
      "Summary:                                                                                        9.3 MB  9.3 MB                        1 done                 \n",
      "                                                                                                        100.00%                                              \n",
      "2021-08-16 18:13:24,393 [    INFO] Logs saved in /root/.cache/dandi-cli/log/20210816181316Z-5041.log\n",
      "PATH                                                                                            SIZE    DONE           DONE% CHECKSUM STATUS          MESSAGE\n",
      "sub-mouse-SCEAC_ses-20200414-sample-9_slice-20200414-slice-2_cell-20200414-sample-9_icephys.nwb 9.5 MB  9.5 MB          100%    ok    done                   \n",
      "Summary:                                                                                        9.5 MB  9.5 MB                        1 done                 \n",
      "                                                                                                        100.00%                                              \n",
      "2021-08-16 18:13:34,509 [    INFO] Logs saved in /root/.cache/dandi-cli/log/20210816181326Z-5053.log\n",
      "PATH                                                                                              SIZE    DONE           DONE% CHECKSUM STATUS          MESSAGE\n",
      "sub-mouse-SCEAC_ses-20200414-sample-10_slice-20200414-slice-2_cell-20200414-sample-10_icephys.nwb 9.4 MB  9.4 MB          100%    ok    done                   \n",
      "Summary:                                                                                          9.4 MB  9.4 MB                        1 done                 \n",
      "                                                                                                          100.00%                                              \n",
      "2021-08-16 18:13:44,662 [    INFO] Logs saved in /root/.cache/dandi-cli/log/20210816181336Z-5065.log\n",
      "PATH                                                                                              SIZE    DONE           DONE% CHECKSUM STATUS          MESSAGE\n",
      "sub-mouse-SCEAC_ses-20200414-sample-11_slice-20200414-slice-2_cell-20200414-sample-11_icephys.nwb 9.2 MB  9.2 MB          100%    ok    done                   \n",
      "Summary:                                                                                          9.2 MB  9.2 MB                        1 done                 \n",
      "                                                                                                          100.00%                                              \n",
      "2021-08-16 18:13:59,961 [    INFO] Logs saved in /root/.cache/dandi-cli/log/20210816181347Z-5077.log\n",
      "PATH                                                                                              SIZE    DONE           DONE% CHECKSUM STATUS          MESSAGE\n",
      "sub-mouse-SCEAC_ses-20200414-sample-12_slice-20200414-slice-3_cell-20200414-sample-12_icephys.nwb 9.2 MB  9.2 MB          100%    ok    done                   \n",
      "Summary:                                                                                          9.2 MB  9.2 MB                        1 done                 \n",
      "                                                                                                          100.00%                                              \n",
      "2021-08-16 18:14:10,151 [    INFO] Logs saved in /root/.cache/dandi-cli/log/20210816181402Z-5089.log\n",
      "PATH                                                                                              SIZE    DONE           DONE% CHECKSUM STATUS          MESSAGE\n",
      "sub-mouse-SCEAC_ses-20200414-sample-13_slice-20200414-slice-3_cell-20200414-sample-13_icephys.nwb 9.3 MB  9.3 MB          100%    ok    done                   \n",
      "Summary:                                                                                          9.3 MB  9.3 MB                        1 done                 \n",
      "                                                                                                          100.00%                                              \n",
      "2021-08-16 18:14:21,105 [    INFO] Logs saved in /root/.cache/dandi-cli/log/20210816181412Z-5101.log\n",
      "PATH                                                                                              SIZE    DONE           DONE% CHECKSUM STATUS          MESSAGE\n",
      "sub-mouse-SCEAC_ses-20200414-sample-14_slice-20200414-slice-3_cell-20200414-sample-14_icephys.nwb 9.1 MB  9.1 MB          100%    ok    done                   \n",
      "Summary:                                                                                          9.1 MB  9.1 MB                        1 done                 \n",
      "                                                                                                          100.00%                                              \n",
      "2021-08-16 18:14:32,286 [    INFO] Logs saved in /root/.cache/dandi-cli/log/20210816181423Z-5113.log\n",
      "PATH                                                                                              SIZE    DONE           DONE% CHECKSUM STATUS          MESSAGE\n",
      "sub-mouse-SCEAC_ses-20200414-sample-15_slice-20200414-slice-3_cell-20200414-sample-15_icephys.nwb 9.3 MB  9.3 MB          100%    ok    done                   \n",
      "Summary:                                                                                          9.3 MB  9.3 MB                        1 done                 \n",
      "                                                                                                          100.00%                                              \n",
      "2021-08-16 18:14:44,445 [    INFO] Logs saved in /root/.cache/dandi-cli/log/20210816181434Z-5128.log\n",
      "PATH                                                                                              SIZE    DONE           DONE% CHECKSUM STATUS          MESSAGE\n",
      "sub-mouse-SCEAC_ses-20200414-sample-16_slice-20200414-slice-3_cell-20200414-sample-16_icephys.nwb 9.2 MB  9.2 MB          100%    ok    done                   \n",
      "Summary:                                                                                          9.2 MB  9.2 MB                        1 done                 \n",
      "                                                                                                          100.00%                                              \n",
      "2021-08-16 18:14:55,664 [    INFO] Logs saved in /root/.cache/dandi-cli/log/20210816181446Z-5141.log\n",
      "PATH                                                                                              SIZE    DONE            DONE% CHECKSUM STATUS          MESSAGE\n",
      "sub-mouse-SCEAC_ses-20200414-sample-17_slice-20200414-slice-3_cell-20200414-sample-17_icephys.nwb 9.3 MB  9.3 MB           100%    ok    done                   \n",
      "Summary:                                                                                          9.3 MB  9.3 MB                         1 done                 \n",
      "                                                                                                          100.00%                                               \n",
      "2021-08-16 18:15:13,720 [    INFO] Logs saved in /root/.cache/dandi-cli/log/20210816181457Z-5155.log\n",
      "PATH                                                                                              SIZE    DONE            DONE% CHECKSUM STATUS          MESSAGE\n",
      "sub-mouse-SCEAC_ses-20200414-sample-18_slice-20200414-slice-3_cell-20200414-sample-18_icephys.nwb 9.0 MB  9.0 MB           100%    ok    done                   \n",
      "Summary:                                                                                          9.0 MB  9.0 MB                         1 done                 \n",
      "                                                                                                          100.00%                                               \n",
      "2021-08-16 18:15:32,974 [    INFO] Logs saved in /root/.cache/dandi-cli/log/20210816181515Z-5167.log\n",
      "PATH                                                                                              SIZE    DONE            DONE% CHECKSUM STATUS          MESSAGE\n",
      "sub-mouse-SCEAC_ses-20200414-sample-19_slice-20200414-slice-3_cell-20200414-sample-19_icephys.nwb 9.2 MB  9.2 MB           100%    ok    done                   \n",
      "Summary:                                                                                          9.2 MB  9.2 MB                         1 done                 \n",
      "                                                                                                          100.00%                                               \n",
      "2021-08-16 18:15:53,132 [    INFO] Logs saved in /root/.cache/dandi-cli/log/20210816181535Z-5179.log\n",
      "PATH                                                                                              SIZE    DONE           DONE% CHECKSUM STATUS          MESSAGE\n",
      "sub-mouse-SCEAC_ses-20200414-sample-21_slice-20200414-slice-3_cell-20200414-sample-21_icephys.nwb 9.1 MB  9.1 MB          100%    ok    done                   \n",
      "Summary:                                                                                          9.1 MB  9.1 MB                        1 done                 \n",
      "                                                                                                          100.00%                                              \n",
      "2021-08-16 18:16:03,448 [    INFO] Logs saved in /root/.cache/dandi-cli/log/20210816181555Z-5191.log\n",
      "PATH                                                                                              SIZE    DONE           DONE% CHECKSUM STATUS          MESSAGE\n",
      "sub-mouse-SCEAC_ses-20200414-sample-22_slice-20200414-slice-3_cell-20200414-sample-22_icephys.nwb 9.4 MB  9.4 MB          100%    ok    done                   \n",
      "Summary:                                                                                          9.4 MB  9.4 MB                        1 done                 \n",
      "                                                                                                          100.00%                                              \n",
      "2021-08-16 18:16:13,308 [    INFO] Logs saved in /root/.cache/dandi-cli/log/20210816181605Z-5203.log\n",
      "PATH                                                                                              SIZE    DONE           DONE% CHECKSUM STATUS          MESSAGE\n",
      "sub-mouse-SCEAC_ses-20200414-sample-23_slice-20200414-slice-3_cell-20200414-sample-23_icephys.nwb 8.9 MB  8.9 MB          100%    ok    done                   \n",
      "Summary:                                                                                          8.9 MB  8.9 MB                        1 done                 \n",
      "                                                                                                          100.00%                                              \n",
      "2021-08-16 18:16:23,128 [    INFO] Logs saved in /root/.cache/dandi-cli/log/20210816181615Z-5215.log\n",
      "PATH                                                                                              SIZE    DONE           DONE% CHECKSUM STATUS          MESSAGE\n",
      "sub-mouse-SCEAC_ses-20200414-sample-24_slice-20200414-slice-3_cell-20200414-sample-24_icephys.nwb 9.2 MB  9.2 MB          100%    ok    done                   \n",
      "Summary:                                                                                          9.2 MB  9.2 MB                        1 done                 \n",
      "                                                                                                          100.00%                                              \n",
      "2021-08-16 18:16:33,621 [    INFO] Logs saved in /root/.cache/dandi-cli/log/20210816181625Z-5227.log\n",
      "PATH                                                                                              SIZE    DONE           DONE% CHECKSUM STATUS          MESSAGE\n",
      "sub-mouse-SCEAC_ses-20200414-sample-25_slice-20200414-slice-3_cell-20200414-sample-25_icephys.nwb 9.1 MB  9.1 MB          100%    ok    done                   \n",
      "Summary:                                                                                          9.1 MB  9.1 MB                        1 done                 \n",
      "                                                                                                          100.00%                                              \n",
      "2021-08-16 18:16:45,850 [    INFO] Logs saved in /root/.cache/dandi-cli/log/20210816181636Z-5242.log\n",
      "PATH                                                                                              SIZE    DONE    DONE% CHECKSUM STATUS          MESSAGE\n",
      "sub-mouse-SCEAC_ses-20200414-sample-26_slice-20200414-slice-3_cell-20200414-sample-26_icephys.nwb 6.5 MB  6.5 MB   100%    ok    done                   \n",
      "Summary:                                                                                          6.5 MB  6.5 MB                 1 done                 \n",
      "                                                                                                          100.00%                                       \n",
      "2021-08-16 18:16:55,951 [    INFO] Logs saved in /root/.cache/dandi-cli/log/20210816181648Z-5255.log\n",
      "PATH                                                                                              SIZE    DONE           DONE% CHECKSUM STATUS          MESSAGE\n",
      "sub-mouse-SCEAC_ses-20200414-sample-27_slice-20200414-slice-3_cell-20200414-sample-27_icephys.nwb 9.4 MB  9.4 MB          100%    ok    done                   \n",
      "Summary:                                                                                          9.4 MB  9.4 MB                        1 done                 \n",
      "                                                                                                          100.00%                                              \n",
      "2021-08-16 18:17:06,169 [    INFO] Logs saved in /root/.cache/dandi-cli/log/20210816181658Z-5269.log\n"
     ]
    }
   ],
   "source": [
    "for _, row in tqdm(electro_df.iterrows(), total=electro_df.shape[0]):\n",
    "    out_path = Path(row['path'])\n",
    "    if not out_path.exists():\n",
    "        out_dir = out_path.parent.as_posix()\n",
    "        download_link = row['nwb_download_link']\n",
    "        !dandi download -o {out_dir} -e skip {download_link}"
   ]
  },
  {
   "cell_type": "code",
   "execution_count": 96,
   "id": "a709119d-e89e-4172-aa2e-8b7a982dbf49",
   "metadata": {},
   "outputs": [
    {
     "data": {
      "text/plain": [
       "1511"
      ]
     },
     "execution_count": 96,
     "metadata": {},
     "output_type": "execute_result"
    }
   ],
   "source": [
    "from itertools import chain\n",
    "nwb_dir_iter = chain(Path('nwb').iterdir(), Path('nwb_temp').iterdir())\n",
    "downlowded_files = [f for f in nwb_dir_iter if f.suffix=='.nwb']\n",
    "len(downlowded_files)"
   ]
  },
  {
   "cell_type": "code",
   "execution_count": 97,
   "id": "dca3908e-61db-435e-96eb-0fb1748df0fb",
   "metadata": {},
   "outputs": [
    {
     "name": "stdout",
     "output_type": "stream",
     "text": [
      "12G\tnwb\n",
      "1.6G\tnwb_temp\n"
     ]
    }
   ],
   "source": [
    "!du -sh nwb*"
   ]
  },
  {
   "cell_type": "markdown",
   "id": "d1d10cd2-7d90-4bcc-a956-ef2aa8d7c4e0",
   "metadata": {},
   "source": [
    "Filter ME neurons:"
   ]
  },
  {
   "cell_type": "code",
   "execution_count": 21,
   "id": "717105d5-64a4-40f2-8932-14cd0b6fe758",
   "metadata": {},
   "outputs": [],
   "source": [
    "select_L5_ids_df = pd.read_csv('Scala_ephys_feature.csv', usecols=['cell.id'])\n",
    "select_L5_ids = select_L5_ids_df['cell.id']\n",
    "L5_me_df = pd.read_csv('Scala_morpho_feature.csv', usecols=['cell.id'])\n",
    "L5_me_ids = L5_me_df['cell.id']"
   ]
  },
  {
   "cell_type": "code",
   "execution_count": 22,
   "id": "9533a594-8cea-43a5-a520-f945c56786fb",
   "metadata": {},
   "outputs": [],
   "source": [
    "electro_df_L5=electro_df[electro_df['Cell'].isin(select_L5_ids)]\n",
    "electro_df_me=electro_df[electro_df['Cell'].isin(L5_me_ids)]\n",
    "electro_df_nm=electro_df_L5[~electro_df_L5['Cell'].isin(electro_df_me['Cell'])]"
   ]
  },
  {
   "cell_type": "code",
   "execution_count": 23,
   "id": "e937328d-bd84-4a43-914f-f649509a700e",
   "metadata": {},
   "outputs": [
    {
     "data": {
      "text/plain": [
       "((469, 41), (154, 41), (315, 41))"
      ]
     },
     "execution_count": 23,
     "metadata": {},
     "output_type": "execute_result"
    }
   ],
   "source": [
    "electro_df_L5.shape, electro_df_me.shape, electro_df_nm.shape"
   ]
  },
  {
   "cell_type": "code",
   "execution_count": 105,
   "id": "cbd57ecd-a3ff-4213-8474-04fcfa7da525",
   "metadata": {},
   "outputs": [],
   "source": [
    "ids_neg = [id_ for id_ in select_L5_ids if id_ not in electro_df['Cell'].values]\n",
    "ids_neg_df = pd.DataFrame({'Cell': ids_neg})\n",
    "ids_neg_df.to_csv('L5_CellIDs_not_exist.csv', index=False)"
   ]
  },
  {
   "cell_type": "code",
   "execution_count": 106,
   "id": "b5170c22-c16a-4db4-b7cd-164c86db1afb",
   "metadata": {},
   "outputs": [
    {
     "data": {
      "text/plain": [
       "1"
      ]
     },
     "execution_count": 106,
     "metadata": {},
     "output_type": "execute_result"
    }
   ],
   "source": [
    "len(ids_neg)"
   ]
  },
  {
   "cell_type": "markdown",
   "id": "ffff0565-dbba-478c-ae84-34ce2bd70478",
   "metadata": {},
   "source": [
    "# Plot trace"
   ]
  },
  {
   "cell_type": "code",
   "execution_count": 24,
   "id": "0ecde7ce-0fb6-4050-8c0d-5d114b873c9c",
   "metadata": {},
   "outputs": [],
   "source": [
    "from Nature.electro_utils import custom_create_ephys_data_set, plot_iclamp_sweep, plot_nwb_trace\n",
    "import matplotlib.pyplot as plt"
   ]
  },
  {
   "cell_type": "markdown",
   "id": "da7c5ee0-4ffb-47d0-8f3e-fdb0462829fc",
   "metadata": {},
   "source": [
    "Calculate IV ranges for plotting:"
   ]
  },
  {
   "cell_type": "code",
   "execution_count": 17,
   "id": "139e1c74",
   "metadata": {
    "lines_to_next_cell": 1
   },
   "outputs": [],
   "source": [
    "def get_iv_dataset(nwb):\n",
    "    with warnings.catch_warnings():\n",
    "        warnings.simplefilter('ignore')\n",
    "        dataset = custom_create_ephys_data_set(nwb_file=nwb)\n",
    "    return dataset\n",
    "\n",
    "def get_iv_range(nwb):\n",
    "    dataset = get_iv_dataset(nwb)\n",
    "    sweep_table = dataset.sweep_table\n",
    "    sweeps = dataset.sweep_set(sweep_table['sweep_number'].tolist())\n",
    "    i_ranges = [(min(i), max(i)) for i in sweeps.i]\n",
    "    v_ranges = [(min(v), max(v)) for v in sweeps.v]\n",
    "    min_is, max_is = zip(*i_ranges)\n",
    "    min_vs, max_vs = zip(*v_ranges)\n",
    "    return min(min_is), max(max_is), min(min_vs), max(max_vs)"
   ]
  },
  {
   "cell_type": "code",
   "execution_count": 19,
   "id": "93833533",
   "metadata": {
    "scrolled": true,
    "tags": []
   },
   "outputs": [
    {
     "data": {
      "application/vnd.jupyter.widget-view+json": {
       "model_id": "3fa0b85972a94182ba8495ba9b0f8ae4",
       "version_major": 2,
       "version_minor": 0
      },
      "text/plain": [
       "  0%|          | 0/154 [00:00<?, ?it/s]"
      ]
     },
     "metadata": {},
     "output_type": "display_data"
    },
    {
     "name": "stderr",
     "output_type": "stream",
     "text": [
      "/usr/local/envs/neuron/lib/python3.8/site-packages/ipfx/stimulus.py:88: UserWarning: Could not find stimulus: NA\n",
      "  warnings.warn(\"Could not find stimulus: %s\" % tag)\n",
      "/usr/local/envs/neuron/lib/python3.8/site-packages/pynwb/icephys.py:329: UserWarning: Unit 'volts' for CurrentClampStimulusSeries 'CurrentClampSeriesIZero' is ignored and will be set to 'amperes' as per NWB 2.1.0.\n",
      "  warnings.warn(\n",
      "/usr/local/envs/neuron/lib/python3.8/site-packages/ipfx/stimulus.py:88: UserWarning: Could not find stimulus: N/A\n",
      "  warnings.warn(\"Could not find stimulus: %s\" % tag)\n",
      "/usr/local/envs/neuron/lib/python3.8/site-packages/ipfx/stimulus.py:88: UserWarning: Could not find stimulus: NA\n",
      "  warnings.warn(\"Could not find stimulus: %s\" % tag)\n",
      "/usr/local/envs/neuron/lib/python3.8/site-packages/pynwb/icephys.py:329: UserWarning: Unit 'volts' for CurrentClampStimulusSeries 'CurrentClampSeriesIZero' is ignored and will be set to 'amperes' as per NWB 2.1.0.\n",
      "  warnings.warn(\n",
      "/usr/local/envs/neuron/lib/python3.8/site-packages/ipfx/stimulus.py:88: UserWarning: Could not find stimulus: N/A\n",
      "  warnings.warn(\"Could not find stimulus: %s\" % tag)\n",
      "/usr/local/envs/neuron/lib/python3.8/site-packages/ipfx/stimulus.py:88: UserWarning: Could not find stimulus: NA\n",
      "  warnings.warn(\"Could not find stimulus: %s\" % tag)\n",
      "/usr/local/envs/neuron/lib/python3.8/site-packages/pynwb/icephys.py:329: UserWarning: Unit 'volts' for CurrentClampStimulusSeries 'CurrentClampSeriesIZero' is ignored and will be set to 'amperes' as per NWB 2.1.0.\n",
      "  warnings.warn(\n",
      "/usr/local/envs/neuron/lib/python3.8/site-packages/ipfx/stimulus.py:88: UserWarning: Could not find stimulus: N/A\n",
      "  warnings.warn(\"Could not find stimulus: %s\" % tag)\n",
      "/usr/local/envs/neuron/lib/python3.8/site-packages/ipfx/stimulus.py:88: UserWarning: Could not find stimulus: NA\n",
      "  warnings.warn(\"Could not find stimulus: %s\" % tag)\n",
      "/usr/local/envs/neuron/lib/python3.8/site-packages/pynwb/icephys.py:329: UserWarning: Unit 'volts' for CurrentClampStimulusSeries 'CurrentClampSeriesIZero' is ignored and will be set to 'amperes' as per NWB 2.1.0.\n",
      "  warnings.warn(\n",
      "/usr/local/envs/neuron/lib/python3.8/site-packages/ipfx/stimulus.py:88: UserWarning: Could not find stimulus: N/A\n",
      "  warnings.warn(\"Could not find stimulus: %s\" % tag)\n",
      "/usr/local/envs/neuron/lib/python3.8/site-packages/ipfx/stimulus.py:88: UserWarning: Could not find stimulus: NA\n",
      "  warnings.warn(\"Could not find stimulus: %s\" % tag)\n",
      "/usr/local/envs/neuron/lib/python3.8/site-packages/pynwb/icephys.py:329: UserWarning: Unit 'volts' for CurrentClampStimulusSeries 'CurrentClampSeriesIZero' is ignored and will be set to 'amperes' as per NWB 2.1.0.\n",
      "  warnings.warn(\n",
      "/usr/local/envs/neuron/lib/python3.8/site-packages/ipfx/stimulus.py:88: UserWarning: Could not find stimulus: N/A\n",
      "  warnings.warn(\"Could not find stimulus: %s\" % tag)\n",
      "/usr/local/envs/neuron/lib/python3.8/site-packages/ipfx/stimulus.py:88: UserWarning: Could not find stimulus: NA\n",
      "  warnings.warn(\"Could not find stimulus: %s\" % tag)\n",
      "/usr/local/envs/neuron/lib/python3.8/site-packages/pynwb/icephys.py:329: UserWarning: Unit 'volts' for CurrentClampStimulusSeries 'CurrentClampSeriesIZero' is ignored and will be set to 'amperes' as per NWB 2.1.0.\n",
      "  warnings.warn(\n",
      "/usr/local/envs/neuron/lib/python3.8/site-packages/ipfx/stimulus.py:88: UserWarning: Could not find stimulus: N/A\n",
      "  warnings.warn(\"Could not find stimulus: %s\" % tag)\n",
      "/usr/local/envs/neuron/lib/python3.8/site-packages/ipfx/stimulus.py:88: UserWarning: Could not find stimulus: NA\n",
      "  warnings.warn(\"Could not find stimulus: %s\" % tag)\n",
      "/usr/local/envs/neuron/lib/python3.8/site-packages/pynwb/icephys.py:329: UserWarning: Unit 'volts' for CurrentClampStimulusSeries 'CurrentClampSeriesIZero' is ignored and will be set to 'amperes' as per NWB 2.1.0.\n",
      "  warnings.warn(\n",
      "/usr/local/envs/neuron/lib/python3.8/site-packages/ipfx/stimulus.py:88: UserWarning: Could not find stimulus: N/A\n",
      "  warnings.warn(\"Could not find stimulus: %s\" % tag)\n",
      "/usr/local/envs/neuron/lib/python3.8/site-packages/ipfx/stimulus.py:88: UserWarning: Could not find stimulus: NA\n",
      "  warnings.warn(\"Could not find stimulus: %s\" % tag)\n",
      "/usr/local/envs/neuron/lib/python3.8/site-packages/pynwb/icephys.py:329: UserWarning: Unit 'volts' for CurrentClampStimulusSeries 'CurrentClampSeriesIZero' is ignored and will be set to 'amperes' as per NWB 2.1.0.\n",
      "  warnings.warn(\n",
      "/usr/local/envs/neuron/lib/python3.8/site-packages/ipfx/stimulus.py:88: UserWarning: Could not find stimulus: N/A\n",
      "  warnings.warn(\"Could not find stimulus: %s\" % tag)\n",
      "/usr/local/envs/neuron/lib/python3.8/site-packages/ipfx/stimulus.py:88: UserWarning: Could not find stimulus: NA\n",
      "  warnings.warn(\"Could not find stimulus: %s\" % tag)\n",
      "/usr/local/envs/neuron/lib/python3.8/site-packages/pynwb/icephys.py:329: UserWarning: Unit 'volts' for CurrentClampStimulusSeries 'CurrentClampSeriesIZero' is ignored and will be set to 'amperes' as per NWB 2.1.0.\n",
      "  warnings.warn(\n",
      "/usr/local/envs/neuron/lib/python3.8/site-packages/ipfx/stimulus.py:88: UserWarning: Could not find stimulus: N/A\n",
      "  warnings.warn(\"Could not find stimulus: %s\" % tag)\n",
      "/usr/local/envs/neuron/lib/python3.8/site-packages/ipfx/stimulus.py:88: UserWarning: Could not find stimulus: NA\n",
      "  warnings.warn(\"Could not find stimulus: %s\" % tag)\n",
      "/usr/local/envs/neuron/lib/python3.8/site-packages/pynwb/icephys.py:329: UserWarning: Unit 'volts' for CurrentClampStimulusSeries 'CurrentClampSeriesIZero' is ignored and will be set to 'amperes' as per NWB 2.1.0.\n",
      "  warnings.warn(\n",
      "/usr/local/envs/neuron/lib/python3.8/site-packages/ipfx/stimulus.py:88: UserWarning: Could not find stimulus: N/A\n",
      "  warnings.warn(\"Could not find stimulus: %s\" % tag)\n",
      "/usr/local/envs/neuron/lib/python3.8/site-packages/ipfx/stimulus.py:88: UserWarning: Could not find stimulus: NA\n",
      "  warnings.warn(\"Could not find stimulus: %s\" % tag)\n",
      "/usr/local/envs/neuron/lib/python3.8/site-packages/pynwb/icephys.py:329: UserWarning: Unit 'volts' for CurrentClampStimulusSeries 'CurrentClampSeriesIZero' is ignored and will be set to 'amperes' as per NWB 2.1.0.\n",
      "  warnings.warn(\n",
      "/usr/local/envs/neuron/lib/python3.8/site-packages/ipfx/stimulus.py:88: UserWarning: Could not find stimulus: N/A\n",
      "  warnings.warn(\"Could not find stimulus: %s\" % tag)\n",
      "/usr/local/envs/neuron/lib/python3.8/site-packages/ipfx/stimulus.py:88: UserWarning: Could not find stimulus: NA\n",
      "  warnings.warn(\"Could not find stimulus: %s\" % tag)\n",
      "/usr/local/envs/neuron/lib/python3.8/site-packages/pynwb/icephys.py:329: UserWarning: Unit 'volts' for CurrentClampStimulusSeries 'CurrentClampSeriesIZero' is ignored and will be set to 'amperes' as per NWB 2.1.0.\n",
      "  warnings.warn(\n",
      "/usr/local/envs/neuron/lib/python3.8/site-packages/ipfx/stimulus.py:88: UserWarning: Could not find stimulus: N/A\n",
      "  warnings.warn(\"Could not find stimulus: %s\" % tag)\n",
      "/usr/local/envs/neuron/lib/python3.8/site-packages/ipfx/stimulus.py:88: UserWarning: Could not find stimulus: NA\n",
      "  warnings.warn(\"Could not find stimulus: %s\" % tag)\n",
      "/usr/local/envs/neuron/lib/python3.8/site-packages/pynwb/icephys.py:329: UserWarning: Unit 'volts' for CurrentClampStimulusSeries 'CurrentClampSeriesIZero' is ignored and will be set to 'amperes' as per NWB 2.1.0.\n",
      "  warnings.warn(\n",
      "/usr/local/envs/neuron/lib/python3.8/site-packages/ipfx/stimulus.py:88: UserWarning: Could not find stimulus: N/A\n",
      "  warnings.warn(\"Could not find stimulus: %s\" % tag)\n",
      "/usr/local/envs/neuron/lib/python3.8/site-packages/ipfx/stimulus.py:88: UserWarning: Could not find stimulus: NA\n",
      "  warnings.warn(\"Could not find stimulus: %s\" % tag)\n",
      "/usr/local/envs/neuron/lib/python3.8/site-packages/pynwb/icephys.py:329: UserWarning: Unit 'volts' for CurrentClampStimulusSeries 'CurrentClampSeriesIZero' is ignored and will be set to 'amperes' as per NWB 2.1.0.\n",
      "  warnings.warn(\n",
      "/usr/local/envs/neuron/lib/python3.8/site-packages/ipfx/stimulus.py:88: UserWarning: Could not find stimulus: N/A\n",
      "  warnings.warn(\"Could not find stimulus: %s\" % tag)\n",
      "/usr/local/envs/neuron/lib/python3.8/site-packages/ipfx/stimulus.py:88: UserWarning: Could not find stimulus: NA\n",
      "  warnings.warn(\"Could not find stimulus: %s\" % tag)\n",
      "/usr/local/envs/neuron/lib/python3.8/site-packages/pynwb/icephys.py:329: UserWarning: Unit 'volts' for CurrentClampStimulusSeries 'CurrentClampSeriesIZero' is ignored and will be set to 'amperes' as per NWB 2.1.0.\n",
      "  warnings.warn(\n",
      "/usr/local/envs/neuron/lib/python3.8/site-packages/ipfx/stimulus.py:88: UserWarning: Could not find stimulus: N/A\n",
      "  warnings.warn(\"Could not find stimulus: %s\" % tag)\n",
      "/usr/local/envs/neuron/lib/python3.8/site-packages/ipfx/stimulus.py:88: UserWarning: Could not find stimulus: NA\n",
      "  warnings.warn(\"Could not find stimulus: %s\" % tag)\n",
      "/usr/local/envs/neuron/lib/python3.8/site-packages/pynwb/icephys.py:329: UserWarning: Unit 'volts' for CurrentClampStimulusSeries 'CurrentClampSeriesIZero' is ignored and will be set to 'amperes' as per NWB 2.1.0.\n",
      "  warnings.warn(\n",
      "/usr/local/envs/neuron/lib/python3.8/site-packages/ipfx/stimulus.py:88: UserWarning: Could not find stimulus: N/A\n",
      "  warnings.warn(\"Could not find stimulus: %s\" % tag)\n",
      "/usr/local/envs/neuron/lib/python3.8/site-packages/ipfx/stimulus.py:88: UserWarning: Could not find stimulus: NA\n",
      "  warnings.warn(\"Could not find stimulus: %s\" % tag)\n",
      "/usr/local/envs/neuron/lib/python3.8/site-packages/pynwb/icephys.py:329: UserWarning: Unit 'volts' for CurrentClampStimulusSeries 'CurrentClampSeriesIZero' is ignored and will be set to 'amperes' as per NWB 2.1.0.\n",
      "  warnings.warn(\n",
      "/usr/local/envs/neuron/lib/python3.8/site-packages/ipfx/stimulus.py:88: UserWarning: Could not find stimulus: N/A\n",
      "  warnings.warn(\"Could not find stimulus: %s\" % tag)\n",
      "/usr/local/envs/neuron/lib/python3.8/site-packages/ipfx/stimulus.py:88: UserWarning: Could not find stimulus: NA\n",
      "  warnings.warn(\"Could not find stimulus: %s\" % tag)\n",
      "/usr/local/envs/neuron/lib/python3.8/site-packages/pynwb/icephys.py:329: UserWarning: Unit 'volts' for CurrentClampStimulusSeries 'CurrentClampSeriesIZero' is ignored and will be set to 'amperes' as per NWB 2.1.0.\n",
      "  warnings.warn(\n",
      "/usr/local/envs/neuron/lib/python3.8/site-packages/ipfx/stimulus.py:88: UserWarning: Could not find stimulus: N/A\n",
      "  warnings.warn(\"Could not find stimulus: %s\" % tag)\n",
      "/usr/local/envs/neuron/lib/python3.8/site-packages/ipfx/stimulus.py:88: UserWarning: Could not find stimulus: NA\n",
      "  warnings.warn(\"Could not find stimulus: %s\" % tag)\n",
      "/usr/local/envs/neuron/lib/python3.8/site-packages/pynwb/icephys.py:329: UserWarning: Unit 'volts' for CurrentClampStimulusSeries 'CurrentClampSeriesIZero' is ignored and will be set to 'amperes' as per NWB 2.1.0.\n",
      "  warnings.warn(\n",
      "/usr/local/envs/neuron/lib/python3.8/site-packages/ipfx/stimulus.py:88: UserWarning: Could not find stimulus: N/A\n",
      "  warnings.warn(\"Could not find stimulus: %s\" % tag)\n",
      "/usr/local/envs/neuron/lib/python3.8/site-packages/ipfx/stimulus.py:88: UserWarning: Could not find stimulus: NA\n",
      "  warnings.warn(\"Could not find stimulus: %s\" % tag)\n",
      "/usr/local/envs/neuron/lib/python3.8/site-packages/pynwb/icephys.py:329: UserWarning: Unit 'volts' for CurrentClampStimulusSeries 'CurrentClampSeriesIZero' is ignored and will be set to 'amperes' as per NWB 2.1.0.\n",
      "  warnings.warn(\n",
      "/usr/local/envs/neuron/lib/python3.8/site-packages/ipfx/stimulus.py:88: UserWarning: Could not find stimulus: N/A\n",
      "  warnings.warn(\"Could not find stimulus: %s\" % tag)\n",
      "/usr/local/envs/neuron/lib/python3.8/site-packages/ipfx/stimulus.py:88: UserWarning: Could not find stimulus: NA\n",
      "  warnings.warn(\"Could not find stimulus: %s\" % tag)\n",
      "/usr/local/envs/neuron/lib/python3.8/site-packages/pynwb/icephys.py:329: UserWarning: Unit 'volts' for CurrentClampStimulusSeries 'CurrentClampSeriesIZero' is ignored and will be set to 'amperes' as per NWB 2.1.0.\n",
      "  warnings.warn(\n",
      "/usr/local/envs/neuron/lib/python3.8/site-packages/ipfx/stimulus.py:88: UserWarning: Could not find stimulus: N/A\n",
      "  warnings.warn(\"Could not find stimulus: %s\" % tag)\n",
      "/usr/local/envs/neuron/lib/python3.8/site-packages/ipfx/stimulus.py:88: UserWarning: Could not find stimulus: NA\n",
      "  warnings.warn(\"Could not find stimulus: %s\" % tag)\n",
      "/usr/local/envs/neuron/lib/python3.8/site-packages/pynwb/icephys.py:329: UserWarning: Unit 'volts' for CurrentClampStimulusSeries 'CurrentClampSeriesIZero' is ignored and will be set to 'amperes' as per NWB 2.1.0.\n",
      "  warnings.warn(\n",
      "/usr/local/envs/neuron/lib/python3.8/site-packages/ipfx/stimulus.py:88: UserWarning: Could not find stimulus: N/A\n",
      "  warnings.warn(\"Could not find stimulus: %s\" % tag)\n",
      "/usr/local/envs/neuron/lib/python3.8/site-packages/ipfx/stimulus.py:88: UserWarning: Could not find stimulus: NA\n",
      "  warnings.warn(\"Could not find stimulus: %s\" % tag)\n",
      "/usr/local/envs/neuron/lib/python3.8/site-packages/pynwb/icephys.py:329: UserWarning: Unit 'volts' for CurrentClampStimulusSeries 'CurrentClampSeriesIZero' is ignored and will be set to 'amperes' as per NWB 2.1.0.\n",
      "  warnings.warn(\n",
      "/usr/local/envs/neuron/lib/python3.8/site-packages/ipfx/stimulus.py:88: UserWarning: Could not find stimulus: N/A\n",
      "  warnings.warn(\"Could not find stimulus: %s\" % tag)\n",
      "/usr/local/envs/neuron/lib/python3.8/site-packages/ipfx/stimulus.py:88: UserWarning: Could not find stimulus: NA\n",
      "  warnings.warn(\"Could not find stimulus: %s\" % tag)\n",
      "/usr/local/envs/neuron/lib/python3.8/site-packages/pynwb/icephys.py:329: UserWarning: Unit 'volts' for CurrentClampStimulusSeries 'CurrentClampSeriesIZero' is ignored and will be set to 'amperes' as per NWB 2.1.0.\n",
      "  warnings.warn(\n",
      "/usr/local/envs/neuron/lib/python3.8/site-packages/ipfx/stimulus.py:88: UserWarning: Could not find stimulus: N/A\n",
      "  warnings.warn(\"Could not find stimulus: %s\" % tag)\n",
      "/usr/local/envs/neuron/lib/python3.8/site-packages/ipfx/stimulus.py:88: UserWarning: Could not find stimulus: NA\n",
      "  warnings.warn(\"Could not find stimulus: %s\" % tag)\n",
      "/usr/local/envs/neuron/lib/python3.8/site-packages/pynwb/icephys.py:329: UserWarning: Unit 'volts' for CurrentClampStimulusSeries 'CurrentClampSeriesIZero' is ignored and will be set to 'amperes' as per NWB 2.1.0.\n",
      "  warnings.warn(\n",
      "/usr/local/envs/neuron/lib/python3.8/site-packages/ipfx/stimulus.py:88: UserWarning: Could not find stimulus: N/A\n",
      "  warnings.warn(\"Could not find stimulus: %s\" % tag)\n",
      "/usr/local/envs/neuron/lib/python3.8/site-packages/ipfx/stimulus.py:88: UserWarning: Could not find stimulus: NA\n",
      "  warnings.warn(\"Could not find stimulus: %s\" % tag)\n",
      "/usr/local/envs/neuron/lib/python3.8/site-packages/pynwb/icephys.py:329: UserWarning: Unit 'volts' for CurrentClampStimulusSeries 'CurrentClampSeriesIZero' is ignored and will be set to 'amperes' as per NWB 2.1.0.\n",
      "  warnings.warn(\n",
      "/usr/local/envs/neuron/lib/python3.8/site-packages/ipfx/stimulus.py:88: UserWarning: Could not find stimulus: N/A\n",
      "  warnings.warn(\"Could not find stimulus: %s\" % tag)\n",
      "/usr/local/envs/neuron/lib/python3.8/site-packages/ipfx/stimulus.py:88: UserWarning: Could not find stimulus: NA\n",
      "  warnings.warn(\"Could not find stimulus: %s\" % tag)\n",
      "/usr/local/envs/neuron/lib/python3.8/site-packages/pynwb/icephys.py:329: UserWarning: Unit 'volts' for CurrentClampStimulusSeries 'CurrentClampSeriesIZero' is ignored and will be set to 'amperes' as per NWB 2.1.0.\n",
      "  warnings.warn(\n",
      "/usr/local/envs/neuron/lib/python3.8/site-packages/ipfx/stimulus.py:88: UserWarning: Could not find stimulus: N/A\n",
      "  warnings.warn(\"Could not find stimulus: %s\" % tag)\n",
      "/usr/local/envs/neuron/lib/python3.8/site-packages/ipfx/stimulus.py:88: UserWarning: Could not find stimulus: NA\n",
      "  warnings.warn(\"Could not find stimulus: %s\" % tag)\n",
      "/usr/local/envs/neuron/lib/python3.8/site-packages/pynwb/icephys.py:329: UserWarning: Unit 'volts' for CurrentClampStimulusSeries 'CurrentClampSeriesIZero' is ignored and will be set to 'amperes' as per NWB 2.1.0.\n",
      "  warnings.warn(\n",
      "/usr/local/envs/neuron/lib/python3.8/site-packages/ipfx/stimulus.py:88: UserWarning: Could not find stimulus: N/A\n",
      "  warnings.warn(\"Could not find stimulus: %s\" % tag)\n",
      "/usr/local/envs/neuron/lib/python3.8/site-packages/ipfx/stimulus.py:88: UserWarning: Could not find stimulus: NA\n",
      "  warnings.warn(\"Could not find stimulus: %s\" % tag)\n",
      "/usr/local/envs/neuron/lib/python3.8/site-packages/pynwb/icephys.py:329: UserWarning: Unit 'volts' for CurrentClampStimulusSeries 'CurrentClampSeriesIZero' is ignored and will be set to 'amperes' as per NWB 2.1.0.\n",
      "  warnings.warn(\n",
      "/usr/local/envs/neuron/lib/python3.8/site-packages/ipfx/stimulus.py:88: UserWarning: Could not find stimulus: N/A\n",
      "  warnings.warn(\"Could not find stimulus: %s\" % tag)\n",
      "/usr/local/envs/neuron/lib/python3.8/site-packages/ipfx/stimulus.py:88: UserWarning: Could not find stimulus: NA\n",
      "  warnings.warn(\"Could not find stimulus: %s\" % tag)\n",
      "/usr/local/envs/neuron/lib/python3.8/site-packages/pynwb/icephys.py:329: UserWarning: Unit 'volts' for CurrentClampStimulusSeries 'CurrentClampSeriesIZero' is ignored and will be set to 'amperes' as per NWB 2.1.0.\n",
      "  warnings.warn(\n",
      "/usr/local/envs/neuron/lib/python3.8/site-packages/ipfx/stimulus.py:88: UserWarning: Could not find stimulus: N/A\n",
      "  warnings.warn(\"Could not find stimulus: %s\" % tag)\n",
      "/usr/local/envs/neuron/lib/python3.8/site-packages/ipfx/stimulus.py:88: UserWarning: Could not find stimulus: NA\n",
      "  warnings.warn(\"Could not find stimulus: %s\" % tag)\n",
      "/usr/local/envs/neuron/lib/python3.8/site-packages/pynwb/icephys.py:329: UserWarning: Unit 'volts' for CurrentClampStimulusSeries 'CurrentClampSeriesIZero' is ignored and will be set to 'amperes' as per NWB 2.1.0.\n",
      "  warnings.warn(\n",
      "/usr/local/envs/neuron/lib/python3.8/site-packages/ipfx/stimulus.py:88: UserWarning: Could not find stimulus: N/A\n",
      "  warnings.warn(\"Could not find stimulus: %s\" % tag)\n",
      "/usr/local/envs/neuron/lib/python3.8/site-packages/ipfx/stimulus.py:88: UserWarning: Could not find stimulus: NA\n",
      "  warnings.warn(\"Could not find stimulus: %s\" % tag)\n",
      "/usr/local/envs/neuron/lib/python3.8/site-packages/pynwb/icephys.py:329: UserWarning: Unit 'volts' for CurrentClampStimulusSeries 'CurrentClampSeriesIZero' is ignored and will be set to 'amperes' as per NWB 2.1.0.\n",
      "  warnings.warn(\n",
      "/usr/local/envs/neuron/lib/python3.8/site-packages/ipfx/stimulus.py:88: UserWarning: Could not find stimulus: N/A\n",
      "  warnings.warn(\"Could not find stimulus: %s\" % tag)\n",
      "/usr/local/envs/neuron/lib/python3.8/site-packages/ipfx/stimulus.py:88: UserWarning: Could not find stimulus: NA\n",
      "  warnings.warn(\"Could not find stimulus: %s\" % tag)\n",
      "/usr/local/envs/neuron/lib/python3.8/site-packages/pynwb/icephys.py:329: UserWarning: Unit 'volts' for CurrentClampStimulusSeries 'CurrentClampSeriesIZero' is ignored and will be set to 'amperes' as per NWB 2.1.0.\n",
      "  warnings.warn(\n",
      "/usr/local/envs/neuron/lib/python3.8/site-packages/ipfx/stimulus.py:88: UserWarning: Could not find stimulus: N/A\n",
      "  warnings.warn(\"Could not find stimulus: %s\" % tag)\n",
      "/usr/local/envs/neuron/lib/python3.8/site-packages/ipfx/stimulus.py:88: UserWarning: Could not find stimulus: NA\n",
      "  warnings.warn(\"Could not find stimulus: %s\" % tag)\n",
      "/usr/local/envs/neuron/lib/python3.8/site-packages/pynwb/icephys.py:329: UserWarning: Unit 'volts' for CurrentClampStimulusSeries 'CurrentClampSeriesIZero' is ignored and will be set to 'amperes' as per NWB 2.1.0.\n",
      "  warnings.warn(\n",
      "/usr/local/envs/neuron/lib/python3.8/site-packages/ipfx/stimulus.py:88: UserWarning: Could not find stimulus: N/A\n",
      "  warnings.warn(\"Could not find stimulus: %s\" % tag)\n",
      "/usr/local/envs/neuron/lib/python3.8/site-packages/ipfx/stimulus.py:88: UserWarning: Could not find stimulus: NA\n",
      "  warnings.warn(\"Could not find stimulus: %s\" % tag)\n",
      "/usr/local/envs/neuron/lib/python3.8/site-packages/pynwb/icephys.py:329: UserWarning: Unit 'volts' for CurrentClampStimulusSeries 'CurrentClampSeriesIZero' is ignored and will be set to 'amperes' as per NWB 2.1.0.\n",
      "  warnings.warn(\n",
      "/usr/local/envs/neuron/lib/python3.8/site-packages/ipfx/stimulus.py:88: UserWarning: Could not find stimulus: N/A\n",
      "  warnings.warn(\"Could not find stimulus: %s\" % tag)\n",
      "/usr/local/envs/neuron/lib/python3.8/site-packages/ipfx/stimulus.py:88: UserWarning: Could not find stimulus: NA\n",
      "  warnings.warn(\"Could not find stimulus: %s\" % tag)\n",
      "/usr/local/envs/neuron/lib/python3.8/site-packages/pynwb/icephys.py:329: UserWarning: Unit 'volts' for CurrentClampStimulusSeries 'CurrentClampSeriesIZero' is ignored and will be set to 'amperes' as per NWB 2.1.0.\n",
      "  warnings.warn(\n",
      "/usr/local/envs/neuron/lib/python3.8/site-packages/ipfx/stimulus.py:88: UserWarning: Could not find stimulus: N/A\n",
      "  warnings.warn(\"Could not find stimulus: %s\" % tag)\n",
      "/usr/local/envs/neuron/lib/python3.8/site-packages/ipfx/stimulus.py:88: UserWarning: Could not find stimulus: NA\n",
      "  warnings.warn(\"Could not find stimulus: %s\" % tag)\n",
      "/usr/local/envs/neuron/lib/python3.8/site-packages/pynwb/icephys.py:329: UserWarning: Unit 'volts' for CurrentClampStimulusSeries 'CurrentClampSeriesIZero' is ignored and will be set to 'amperes' as per NWB 2.1.0.\n",
      "  warnings.warn(\n",
      "/usr/local/envs/neuron/lib/python3.8/site-packages/ipfx/stimulus.py:88: UserWarning: Could not find stimulus: N/A\n",
      "  warnings.warn(\"Could not find stimulus: %s\" % tag)\n",
      "/usr/local/envs/neuron/lib/python3.8/site-packages/ipfx/stimulus.py:88: UserWarning: Could not find stimulus: NA\n",
      "  warnings.warn(\"Could not find stimulus: %s\" % tag)\n",
      "/usr/local/envs/neuron/lib/python3.8/site-packages/pynwb/icephys.py:329: UserWarning: Unit 'volts' for CurrentClampStimulusSeries 'CurrentClampSeriesIZero' is ignored and will be set to 'amperes' as per NWB 2.1.0.\n",
      "  warnings.warn(\n",
      "/usr/local/envs/neuron/lib/python3.8/site-packages/ipfx/stimulus.py:88: UserWarning: Could not find stimulus: N/A\n",
      "  warnings.warn(\"Could not find stimulus: %s\" % tag)\n",
      "/usr/local/envs/neuron/lib/python3.8/site-packages/ipfx/stimulus.py:88: UserWarning: Could not find stimulus: NA\n",
      "  warnings.warn(\"Could not find stimulus: %s\" % tag)\n",
      "/usr/local/envs/neuron/lib/python3.8/site-packages/pynwb/icephys.py:329: UserWarning: Unit 'volts' for CurrentClampStimulusSeries 'CurrentClampSeriesIZero' is ignored and will be set to 'amperes' as per NWB 2.1.0.\n",
      "  warnings.warn(\n",
      "/usr/local/envs/neuron/lib/python3.8/site-packages/ipfx/stimulus.py:88: UserWarning: Could not find stimulus: N/A\n",
      "  warnings.warn(\"Could not find stimulus: %s\" % tag)\n",
      "/usr/local/envs/neuron/lib/python3.8/site-packages/ipfx/stimulus.py:88: UserWarning: Could not find stimulus: NA\n",
      "  warnings.warn(\"Could not find stimulus: %s\" % tag)\n",
      "/usr/local/envs/neuron/lib/python3.8/site-packages/pynwb/icephys.py:329: UserWarning: Unit 'volts' for CurrentClampStimulusSeries 'CurrentClampSeriesIZero' is ignored and will be set to 'amperes' as per NWB 2.1.0.\n",
      "  warnings.warn(\n",
      "/usr/local/envs/neuron/lib/python3.8/site-packages/ipfx/stimulus.py:88: UserWarning: Could not find stimulus: N/A\n",
      "  warnings.warn(\"Could not find stimulus: %s\" % tag)\n",
      "/usr/local/envs/neuron/lib/python3.8/site-packages/ipfx/stimulus.py:88: UserWarning: Could not find stimulus: NA\n",
      "  warnings.warn(\"Could not find stimulus: %s\" % tag)\n",
      "/usr/local/envs/neuron/lib/python3.8/site-packages/pynwb/icephys.py:329: UserWarning: Unit 'volts' for CurrentClampStimulusSeries 'CurrentClampSeriesIZero' is ignored and will be set to 'amperes' as per NWB 2.1.0.\n",
      "  warnings.warn(\n",
      "/usr/local/envs/neuron/lib/python3.8/site-packages/ipfx/stimulus.py:88: UserWarning: Could not find stimulus: N/A\n",
      "  warnings.warn(\"Could not find stimulus: %s\" % tag)\n",
      "/usr/local/envs/neuron/lib/python3.8/site-packages/ipfx/stimulus.py:88: UserWarning: Could not find stimulus: NA\n",
      "  warnings.warn(\"Could not find stimulus: %s\" % tag)\n",
      "/usr/local/envs/neuron/lib/python3.8/site-packages/pynwb/icephys.py:329: UserWarning: Unit 'volts' for CurrentClampStimulusSeries 'CurrentClampSeriesIZero' is ignored and will be set to 'amperes' as per NWB 2.1.0.\n",
      "  warnings.warn(\n",
      "/usr/local/envs/neuron/lib/python3.8/site-packages/ipfx/stimulus.py:88: UserWarning: Could not find stimulus: N/A\n",
      "  warnings.warn(\"Could not find stimulus: %s\" % tag)\n",
      "/usr/local/envs/neuron/lib/python3.8/site-packages/ipfx/stimulus.py:88: UserWarning: Could not find stimulus: NA\n",
      "  warnings.warn(\"Could not find stimulus: %s\" % tag)\n",
      "/usr/local/envs/neuron/lib/python3.8/site-packages/pynwb/icephys.py:329: UserWarning: Unit 'volts' for CurrentClampStimulusSeries 'CurrentClampSeriesIZero' is ignored and will be set to 'amperes' as per NWB 2.1.0.\n",
      "  warnings.warn(\n",
      "/usr/local/envs/neuron/lib/python3.8/site-packages/ipfx/stimulus.py:88: UserWarning: Could not find stimulus: N/A\n",
      "  warnings.warn(\"Could not find stimulus: %s\" % tag)\n",
      "/usr/local/envs/neuron/lib/python3.8/site-packages/ipfx/stimulus.py:88: UserWarning: Could not find stimulus: NA\n",
      "  warnings.warn(\"Could not find stimulus: %s\" % tag)\n",
      "/usr/local/envs/neuron/lib/python3.8/site-packages/pynwb/icephys.py:329: UserWarning: Unit 'volts' for CurrentClampStimulusSeries 'CurrentClampSeriesIZero' is ignored and will be set to 'amperes' as per NWB 2.1.0.\n",
      "  warnings.warn(\n",
      "/usr/local/envs/neuron/lib/python3.8/site-packages/ipfx/stimulus.py:88: UserWarning: Could not find stimulus: N/A\n",
      "  warnings.warn(\"Could not find stimulus: %s\" % tag)\n",
      "/usr/local/envs/neuron/lib/python3.8/site-packages/ipfx/stimulus.py:88: UserWarning: Could not find stimulus: NA\n",
      "  warnings.warn(\"Could not find stimulus: %s\" % tag)\n",
      "/usr/local/envs/neuron/lib/python3.8/site-packages/pynwb/icephys.py:329: UserWarning: Unit 'volts' for CurrentClampStimulusSeries 'CurrentClampSeriesIZero' is ignored and will be set to 'amperes' as per NWB 2.1.0.\n",
      "  warnings.warn(\n",
      "/usr/local/envs/neuron/lib/python3.8/site-packages/ipfx/stimulus.py:88: UserWarning: Could not find stimulus: N/A\n",
      "  warnings.warn(\"Could not find stimulus: %s\" % tag)\n",
      "/usr/local/envs/neuron/lib/python3.8/site-packages/ipfx/stimulus.py:88: UserWarning: Could not find stimulus: NA\n",
      "  warnings.warn(\"Could not find stimulus: %s\" % tag)\n",
      "/usr/local/envs/neuron/lib/python3.8/site-packages/pynwb/icephys.py:329: UserWarning: Unit 'volts' for CurrentClampStimulusSeries 'CurrentClampSeriesIZero' is ignored and will be set to 'amperes' as per NWB 2.1.0.\n",
      "  warnings.warn(\n",
      "/usr/local/envs/neuron/lib/python3.8/site-packages/ipfx/stimulus.py:88: UserWarning: Could not find stimulus: N/A\n",
      "  warnings.warn(\"Could not find stimulus: %s\" % tag)\n",
      "/usr/local/envs/neuron/lib/python3.8/site-packages/ipfx/stimulus.py:88: UserWarning: Could not find stimulus: NA\n",
      "  warnings.warn(\"Could not find stimulus: %s\" % tag)\n",
      "/usr/local/envs/neuron/lib/python3.8/site-packages/pynwb/icephys.py:329: UserWarning: Unit 'volts' for CurrentClampStimulusSeries 'CurrentClampSeriesIZero' is ignored and will be set to 'amperes' as per NWB 2.1.0.\n",
      "  warnings.warn(\n",
      "/usr/local/envs/neuron/lib/python3.8/site-packages/ipfx/stimulus.py:88: UserWarning: Could not find stimulus: N/A\n",
      "  warnings.warn(\"Could not find stimulus: %s\" % tag)\n",
      "/usr/local/envs/neuron/lib/python3.8/site-packages/ipfx/stimulus.py:88: UserWarning: Could not find stimulus: NA\n",
      "  warnings.warn(\"Could not find stimulus: %s\" % tag)\n",
      "/usr/local/envs/neuron/lib/python3.8/site-packages/pynwb/icephys.py:329: UserWarning: Unit 'volts' for CurrentClampStimulusSeries 'CurrentClampSeriesIZero' is ignored and will be set to 'amperes' as per NWB 2.1.0.\n",
      "  warnings.warn(\n",
      "/usr/local/envs/neuron/lib/python3.8/site-packages/ipfx/stimulus.py:88: UserWarning: Could not find stimulus: N/A\n",
      "  warnings.warn(\"Could not find stimulus: %s\" % tag)\n",
      "/usr/local/envs/neuron/lib/python3.8/site-packages/ipfx/stimulus.py:88: UserWarning: Could not find stimulus: NA\n",
      "  warnings.warn(\"Could not find stimulus: %s\" % tag)\n",
      "/usr/local/envs/neuron/lib/python3.8/site-packages/pynwb/icephys.py:329: UserWarning: Unit 'volts' for CurrentClampStimulusSeries 'CurrentClampSeriesIZero' is ignored and will be set to 'amperes' as per NWB 2.1.0.\n",
      "  warnings.warn(\n",
      "/usr/local/envs/neuron/lib/python3.8/site-packages/ipfx/stimulus.py:88: UserWarning: Could not find stimulus: N/A\n",
      "  warnings.warn(\"Could not find stimulus: %s\" % tag)\n",
      "/usr/local/envs/neuron/lib/python3.8/site-packages/ipfx/stimulus.py:88: UserWarning: Could not find stimulus: NA\n",
      "  warnings.warn(\"Could not find stimulus: %s\" % tag)\n",
      "/usr/local/envs/neuron/lib/python3.8/site-packages/pynwb/icephys.py:329: UserWarning: Unit 'volts' for CurrentClampStimulusSeries 'CurrentClampSeriesIZero' is ignored and will be set to 'amperes' as per NWB 2.1.0.\n",
      "  warnings.warn(\n",
      "/usr/local/envs/neuron/lib/python3.8/site-packages/ipfx/stimulus.py:88: UserWarning: Could not find stimulus: N/A\n",
      "  warnings.warn(\"Could not find stimulus: %s\" % tag)\n",
      "/usr/local/envs/neuron/lib/python3.8/site-packages/ipfx/stimulus.py:88: UserWarning: Could not find stimulus: NA\n",
      "  warnings.warn(\"Could not find stimulus: %s\" % tag)\n",
      "/usr/local/envs/neuron/lib/python3.8/site-packages/pynwb/icephys.py:329: UserWarning: Unit 'volts' for CurrentClampStimulusSeries 'CurrentClampSeriesIZero' is ignored and will be set to 'amperes' as per NWB 2.1.0.\n",
      "  warnings.warn(\n",
      "/usr/local/envs/neuron/lib/python3.8/site-packages/ipfx/stimulus.py:88: UserWarning: Could not find stimulus: N/A\n",
      "  warnings.warn(\"Could not find stimulus: %s\" % tag)\n",
      "/usr/local/envs/neuron/lib/python3.8/site-packages/ipfx/stimulus.py:88: UserWarning: Could not find stimulus: NA\n",
      "  warnings.warn(\"Could not find stimulus: %s\" % tag)\n",
      "/usr/local/envs/neuron/lib/python3.8/site-packages/pynwb/icephys.py:329: UserWarning: Unit 'volts' for CurrentClampStimulusSeries 'CurrentClampSeriesIZero' is ignored and will be set to 'amperes' as per NWB 2.1.0.\n",
      "  warnings.warn(\n",
      "/usr/local/envs/neuron/lib/python3.8/site-packages/ipfx/stimulus.py:88: UserWarning: Could not find stimulus: N/A\n",
      "  warnings.warn(\"Could not find stimulus: %s\" % tag)\n",
      "/usr/local/envs/neuron/lib/python3.8/site-packages/ipfx/stimulus.py:88: UserWarning: Could not find stimulus: NA\n",
      "  warnings.warn(\"Could not find stimulus: %s\" % tag)\n",
      "/usr/local/envs/neuron/lib/python3.8/site-packages/pynwb/icephys.py:329: UserWarning: Unit 'volts' for CurrentClampStimulusSeries 'CurrentClampSeriesIZero' is ignored and will be set to 'amperes' as per NWB 2.1.0.\n",
      "  warnings.warn(\n",
      "/usr/local/envs/neuron/lib/python3.8/site-packages/ipfx/stimulus.py:88: UserWarning: Could not find stimulus: N/A\n",
      "  warnings.warn(\"Could not find stimulus: %s\" % tag)\n",
      "/usr/local/envs/neuron/lib/python3.8/site-packages/ipfx/stimulus.py:88: UserWarning: Could not find stimulus: NA\n",
      "  warnings.warn(\"Could not find stimulus: %s\" % tag)\n",
      "/usr/local/envs/neuron/lib/python3.8/site-packages/pynwb/icephys.py:329: UserWarning: Unit 'volts' for CurrentClampStimulusSeries 'CurrentClampSeriesIZero' is ignored and will be set to 'amperes' as per NWB 2.1.0.\n",
      "  warnings.warn(\n",
      "/usr/local/envs/neuron/lib/python3.8/site-packages/ipfx/stimulus.py:88: UserWarning: Could not find stimulus: N/A\n",
      "  warnings.warn(\"Could not find stimulus: %s\" % tag)\n",
      "/usr/local/envs/neuron/lib/python3.8/site-packages/ipfx/stimulus.py:88: UserWarning: Could not find stimulus: NA\n",
      "  warnings.warn(\"Could not find stimulus: %s\" % tag)\n",
      "/usr/local/envs/neuron/lib/python3.8/site-packages/pynwb/icephys.py:329: UserWarning: Unit 'volts' for CurrentClampStimulusSeries 'CurrentClampSeriesIZero' is ignored and will be set to 'amperes' as per NWB 2.1.0.\n",
      "  warnings.warn(\n",
      "/usr/local/envs/neuron/lib/python3.8/site-packages/ipfx/stimulus.py:88: UserWarning: Could not find stimulus: N/A\n",
      "  warnings.warn(\"Could not find stimulus: %s\" % tag)\n",
      "/usr/local/envs/neuron/lib/python3.8/site-packages/ipfx/stimulus.py:88: UserWarning: Could not find stimulus: NA\n",
      "  warnings.warn(\"Could not find stimulus: %s\" % tag)\n",
      "/usr/local/envs/neuron/lib/python3.8/site-packages/pynwb/icephys.py:329: UserWarning: Unit 'volts' for CurrentClampStimulusSeries 'CurrentClampSeriesIZero' is ignored and will be set to 'amperes' as per NWB 2.1.0.\n",
      "  warnings.warn(\n",
      "/usr/local/envs/neuron/lib/python3.8/site-packages/ipfx/stimulus.py:88: UserWarning: Could not find stimulus: N/A\n",
      "  warnings.warn(\"Could not find stimulus: %s\" % tag)\n",
      "/usr/local/envs/neuron/lib/python3.8/site-packages/ipfx/stimulus.py:88: UserWarning: Could not find stimulus: NA\n",
      "  warnings.warn(\"Could not find stimulus: %s\" % tag)\n",
      "/usr/local/envs/neuron/lib/python3.8/site-packages/pynwb/icephys.py:329: UserWarning: Unit 'volts' for CurrentClampStimulusSeries 'CurrentClampSeriesIZero' is ignored and will be set to 'amperes' as per NWB 2.1.0.\n",
      "  warnings.warn(\n",
      "/usr/local/envs/neuron/lib/python3.8/site-packages/ipfx/stimulus.py:88: UserWarning: Could not find stimulus: N/A\n",
      "  warnings.warn(\"Could not find stimulus: %s\" % tag)\n",
      "/usr/local/envs/neuron/lib/python3.8/site-packages/ipfx/stimulus.py:88: UserWarning: Could not find stimulus: NA\n",
      "  warnings.warn(\"Could not find stimulus: %s\" % tag)\n",
      "/usr/local/envs/neuron/lib/python3.8/site-packages/pynwb/icephys.py:329: UserWarning: Unit 'volts' for CurrentClampStimulusSeries 'CurrentClampSeriesIZero' is ignored and will be set to 'amperes' as per NWB 2.1.0.\n",
      "  warnings.warn(\n",
      "/usr/local/envs/neuron/lib/python3.8/site-packages/ipfx/stimulus.py:88: UserWarning: Could not find stimulus: N/A\n",
      "  warnings.warn(\"Could not find stimulus: %s\" % tag)\n",
      "/usr/local/envs/neuron/lib/python3.8/site-packages/ipfx/stimulus.py:88: UserWarning: Could not find stimulus: NA\n",
      "  warnings.warn(\"Could not find stimulus: %s\" % tag)\n",
      "/usr/local/envs/neuron/lib/python3.8/site-packages/pynwb/icephys.py:329: UserWarning: Unit 'volts' for CurrentClampStimulusSeries 'CurrentClampSeriesIZero' is ignored and will be set to 'amperes' as per NWB 2.1.0.\n",
      "  warnings.warn(\n",
      "/usr/local/envs/neuron/lib/python3.8/site-packages/ipfx/stimulus.py:88: UserWarning: Could not find stimulus: N/A\n",
      "  warnings.warn(\"Could not find stimulus: %s\" % tag)\n",
      "/usr/local/envs/neuron/lib/python3.8/site-packages/ipfx/stimulus.py:88: UserWarning: Could not find stimulus: NA\n",
      "  warnings.warn(\"Could not find stimulus: %s\" % tag)\n",
      "/usr/local/envs/neuron/lib/python3.8/site-packages/pynwb/icephys.py:329: UserWarning: Unit 'volts' for CurrentClampStimulusSeries 'CurrentClampSeriesIZero' is ignored and will be set to 'amperes' as per NWB 2.1.0.\n",
      "  warnings.warn(\n",
      "/usr/local/envs/neuron/lib/python3.8/site-packages/ipfx/stimulus.py:88: UserWarning: Could not find stimulus: N/A\n",
      "  warnings.warn(\"Could not find stimulus: %s\" % tag)\n",
      "/usr/local/envs/neuron/lib/python3.8/site-packages/ipfx/stimulus.py:88: UserWarning: Could not find stimulus: NA\n",
      "  warnings.warn(\"Could not find stimulus: %s\" % tag)\n",
      "/usr/local/envs/neuron/lib/python3.8/site-packages/pynwb/icephys.py:329: UserWarning: Unit 'volts' for CurrentClampStimulusSeries 'CurrentClampSeriesIZero' is ignored and will be set to 'amperes' as per NWB 2.1.0.\n",
      "  warnings.warn(\n",
      "/usr/local/envs/neuron/lib/python3.8/site-packages/ipfx/stimulus.py:88: UserWarning: Could not find stimulus: N/A\n",
      "  warnings.warn(\"Could not find stimulus: %s\" % tag)\n",
      "/usr/local/envs/neuron/lib/python3.8/site-packages/ipfx/stimulus.py:88: UserWarning: Could not find stimulus: NA\n",
      "  warnings.warn(\"Could not find stimulus: %s\" % tag)\n",
      "/usr/local/envs/neuron/lib/python3.8/site-packages/pynwb/icephys.py:329: UserWarning: Unit 'volts' for CurrentClampStimulusSeries 'CurrentClampSeriesIZero' is ignored and will be set to 'amperes' as per NWB 2.1.0.\n",
      "  warnings.warn(\n",
      "/usr/local/envs/neuron/lib/python3.8/site-packages/ipfx/stimulus.py:88: UserWarning: Could not find stimulus: N/A\n",
      "  warnings.warn(\"Could not find stimulus: %s\" % tag)\n",
      "/usr/local/envs/neuron/lib/python3.8/site-packages/ipfx/stimulus.py:88: UserWarning: Could not find stimulus: NA\n",
      "  warnings.warn(\"Could not find stimulus: %s\" % tag)\n",
      "/usr/local/envs/neuron/lib/python3.8/site-packages/pynwb/icephys.py:329: UserWarning: Unit 'volts' for CurrentClampStimulusSeries 'CurrentClampSeriesIZero' is ignored and will be set to 'amperes' as per NWB 2.1.0.\n",
      "  warnings.warn(\n",
      "/usr/local/envs/neuron/lib/python3.8/site-packages/ipfx/stimulus.py:88: UserWarning: Could not find stimulus: N/A\n",
      "  warnings.warn(\"Could not find stimulus: %s\" % tag)\n",
      "/usr/local/envs/neuron/lib/python3.8/site-packages/ipfx/stimulus.py:88: UserWarning: Could not find stimulus: NA\n",
      "  warnings.warn(\"Could not find stimulus: %s\" % tag)\n",
      "/usr/local/envs/neuron/lib/python3.8/site-packages/pynwb/icephys.py:329: UserWarning: Unit 'volts' for CurrentClampStimulusSeries 'CurrentClampSeriesIZero' is ignored and will be set to 'amperes' as per NWB 2.1.0.\n",
      "  warnings.warn(\n",
      "/usr/local/envs/neuron/lib/python3.8/site-packages/ipfx/stimulus.py:88: UserWarning: Could not find stimulus: N/A\n",
      "  warnings.warn(\"Could not find stimulus: %s\" % tag)\n",
      "/usr/local/envs/neuron/lib/python3.8/site-packages/ipfx/stimulus.py:88: UserWarning: Could not find stimulus: NA\n",
      "  warnings.warn(\"Could not find stimulus: %s\" % tag)\n",
      "/usr/local/envs/neuron/lib/python3.8/site-packages/pynwb/icephys.py:329: UserWarning: Unit 'volts' for CurrentClampStimulusSeries 'CurrentClampSeriesIZero' is ignored and will be set to 'amperes' as per NWB 2.1.0.\n",
      "  warnings.warn(\n",
      "/usr/local/envs/neuron/lib/python3.8/site-packages/ipfx/stimulus.py:88: UserWarning: Could not find stimulus: N/A\n",
      "  warnings.warn(\"Could not find stimulus: %s\" % tag)\n",
      "/usr/local/envs/neuron/lib/python3.8/site-packages/ipfx/stimulus.py:88: UserWarning: Could not find stimulus: NA\n",
      "  warnings.warn(\"Could not find stimulus: %s\" % tag)\n",
      "/usr/local/envs/neuron/lib/python3.8/site-packages/pynwb/icephys.py:329: UserWarning: Unit 'volts' for CurrentClampStimulusSeries 'CurrentClampSeriesIZero' is ignored and will be set to 'amperes' as per NWB 2.1.0.\n",
      "  warnings.warn(\n",
      "/usr/local/envs/neuron/lib/python3.8/site-packages/ipfx/stimulus.py:88: UserWarning: Could not find stimulus: N/A\n",
      "  warnings.warn(\"Could not find stimulus: %s\" % tag)\n",
      "/usr/local/envs/neuron/lib/python3.8/site-packages/ipfx/stimulus.py:88: UserWarning: Could not find stimulus: NA\n",
      "  warnings.warn(\"Could not find stimulus: %s\" % tag)\n",
      "/usr/local/envs/neuron/lib/python3.8/site-packages/pynwb/icephys.py:329: UserWarning: Unit 'volts' for CurrentClampStimulusSeries 'CurrentClampSeriesIZero' is ignored and will be set to 'amperes' as per NWB 2.1.0.\n",
      "  warnings.warn(\n",
      "/usr/local/envs/neuron/lib/python3.8/site-packages/ipfx/stimulus.py:88: UserWarning: Could not find stimulus: N/A\n",
      "  warnings.warn(\"Could not find stimulus: %s\" % tag)\n",
      "/usr/local/envs/neuron/lib/python3.8/site-packages/ipfx/stimulus.py:88: UserWarning: Could not find stimulus: NA\n",
      "  warnings.warn(\"Could not find stimulus: %s\" % tag)\n",
      "/usr/local/envs/neuron/lib/python3.8/site-packages/pynwb/icephys.py:329: UserWarning: Unit 'volts' for CurrentClampStimulusSeries 'CurrentClampSeriesIZero' is ignored and will be set to 'amperes' as per NWB 2.1.0.\n",
      "  warnings.warn(\n",
      "/usr/local/envs/neuron/lib/python3.8/site-packages/ipfx/stimulus.py:88: UserWarning: Could not find stimulus: N/A\n",
      "  warnings.warn(\"Could not find stimulus: %s\" % tag)\n",
      "/usr/local/envs/neuron/lib/python3.8/site-packages/ipfx/stimulus.py:88: UserWarning: Could not find stimulus: NA\n",
      "  warnings.warn(\"Could not find stimulus: %s\" % tag)\n",
      "/usr/local/envs/neuron/lib/python3.8/site-packages/pynwb/icephys.py:329: UserWarning: Unit 'volts' for CurrentClampStimulusSeries 'CurrentClampSeriesIZero' is ignored and will be set to 'amperes' as per NWB 2.1.0.\n",
      "  warnings.warn(\n",
      "/usr/local/envs/neuron/lib/python3.8/site-packages/ipfx/stimulus.py:88: UserWarning: Could not find stimulus: N/A\n",
      "  warnings.warn(\"Could not find stimulus: %s\" % tag)\n",
      "/usr/local/envs/neuron/lib/python3.8/site-packages/ipfx/stimulus.py:88: UserWarning: Could not find stimulus: NA\n",
      "  warnings.warn(\"Could not find stimulus: %s\" % tag)\n",
      "/usr/local/envs/neuron/lib/python3.8/site-packages/pynwb/icephys.py:329: UserWarning: Unit 'volts' for CurrentClampStimulusSeries 'CurrentClampSeriesIZero' is ignored and will be set to 'amperes' as per NWB 2.1.0.\n",
      "  warnings.warn(\n",
      "/usr/local/envs/neuron/lib/python3.8/site-packages/ipfx/stimulus.py:88: UserWarning: Could not find stimulus: N/A\n",
      "  warnings.warn(\"Could not find stimulus: %s\" % tag)\n",
      "/usr/local/envs/neuron/lib/python3.8/site-packages/ipfx/stimulus.py:88: UserWarning: Could not find stimulus: NA\n",
      "  warnings.warn(\"Could not find stimulus: %s\" % tag)\n",
      "/usr/local/envs/neuron/lib/python3.8/site-packages/pynwb/icephys.py:329: UserWarning: Unit 'volts' for CurrentClampStimulusSeries 'CurrentClampSeriesIZero' is ignored and will be set to 'amperes' as per NWB 2.1.0.\n",
      "  warnings.warn(\n",
      "/usr/local/envs/neuron/lib/python3.8/site-packages/ipfx/stimulus.py:88: UserWarning: Could not find stimulus: N/A\n",
      "  warnings.warn(\"Could not find stimulus: %s\" % tag)\n",
      "/usr/local/envs/neuron/lib/python3.8/site-packages/ipfx/stimulus.py:88: UserWarning: Could not find stimulus: NA\n",
      "  warnings.warn(\"Could not find stimulus: %s\" % tag)\n",
      "/usr/local/envs/neuron/lib/python3.8/site-packages/pynwb/icephys.py:329: UserWarning: Unit 'volts' for CurrentClampStimulusSeries 'CurrentClampSeriesIZero' is ignored and will be set to 'amperes' as per NWB 2.1.0.\n",
      "  warnings.warn(\n",
      "/usr/local/envs/neuron/lib/python3.8/site-packages/ipfx/stimulus.py:88: UserWarning: Could not find stimulus: N/A\n",
      "  warnings.warn(\"Could not find stimulus: %s\" % tag)\n",
      "/usr/local/envs/neuron/lib/python3.8/site-packages/ipfx/stimulus.py:88: UserWarning: Could not find stimulus: NA\n",
      "  warnings.warn(\"Could not find stimulus: %s\" % tag)\n",
      "/usr/local/envs/neuron/lib/python3.8/site-packages/pynwb/icephys.py:329: UserWarning: Unit 'volts' for CurrentClampStimulusSeries 'CurrentClampSeriesIZero' is ignored and will be set to 'amperes' as per NWB 2.1.0.\n",
      "  warnings.warn(\n",
      "/usr/local/envs/neuron/lib/python3.8/site-packages/ipfx/stimulus.py:88: UserWarning: Could not find stimulus: N/A\n",
      "  warnings.warn(\"Could not find stimulus: %s\" % tag)\n",
      "/usr/local/envs/neuron/lib/python3.8/site-packages/ipfx/stimulus.py:88: UserWarning: Could not find stimulus: NA\n",
      "  warnings.warn(\"Could not find stimulus: %s\" % tag)\n",
      "/usr/local/envs/neuron/lib/python3.8/site-packages/pynwb/icephys.py:329: UserWarning: Unit 'volts' for CurrentClampStimulusSeries 'CurrentClampSeriesIZero' is ignored and will be set to 'amperes' as per NWB 2.1.0.\n",
      "  warnings.warn(\n",
      "/usr/local/envs/neuron/lib/python3.8/site-packages/ipfx/stimulus.py:88: UserWarning: Could not find stimulus: N/A\n",
      "  warnings.warn(\"Could not find stimulus: %s\" % tag)\n",
      "/usr/local/envs/neuron/lib/python3.8/site-packages/ipfx/stimulus.py:88: UserWarning: Could not find stimulus: NA\n",
      "  warnings.warn(\"Could not find stimulus: %s\" % tag)\n",
      "/usr/local/envs/neuron/lib/python3.8/site-packages/pynwb/icephys.py:329: UserWarning: Unit 'volts' for CurrentClampStimulusSeries 'CurrentClampSeriesIZero' is ignored and will be set to 'amperes' as per NWB 2.1.0.\n",
      "  warnings.warn(\n",
      "/usr/local/envs/neuron/lib/python3.8/site-packages/ipfx/stimulus.py:88: UserWarning: Could not find stimulus: N/A\n",
      "  warnings.warn(\"Could not find stimulus: %s\" % tag)\n",
      "/usr/local/envs/neuron/lib/python3.8/site-packages/ipfx/stimulus.py:88: UserWarning: Could not find stimulus: NA\n",
      "  warnings.warn(\"Could not find stimulus: %s\" % tag)\n",
      "/usr/local/envs/neuron/lib/python3.8/site-packages/pynwb/icephys.py:329: UserWarning: Unit 'volts' for CurrentClampStimulusSeries 'CurrentClampSeriesIZero' is ignored and will be set to 'amperes' as per NWB 2.1.0.\n",
      "  warnings.warn(\n",
      "/usr/local/envs/neuron/lib/python3.8/site-packages/ipfx/stimulus.py:88: UserWarning: Could not find stimulus: N/A\n",
      "  warnings.warn(\"Could not find stimulus: %s\" % tag)\n",
      "/usr/local/envs/neuron/lib/python3.8/site-packages/ipfx/stimulus.py:88: UserWarning: Could not find stimulus: NA\n",
      "  warnings.warn(\"Could not find stimulus: %s\" % tag)\n",
      "/usr/local/envs/neuron/lib/python3.8/site-packages/pynwb/icephys.py:329: UserWarning: Unit 'volts' for CurrentClampStimulusSeries 'CurrentClampSeriesIZero' is ignored and will be set to 'amperes' as per NWB 2.1.0.\n",
      "  warnings.warn(\n",
      "/usr/local/envs/neuron/lib/python3.8/site-packages/ipfx/stimulus.py:88: UserWarning: Could not find stimulus: N/A\n",
      "  warnings.warn(\"Could not find stimulus: %s\" % tag)\n",
      "/usr/local/envs/neuron/lib/python3.8/site-packages/ipfx/stimulus.py:88: UserWarning: Could not find stimulus: NA\n",
      "  warnings.warn(\"Could not find stimulus: %s\" % tag)\n",
      "/usr/local/envs/neuron/lib/python3.8/site-packages/pynwb/icephys.py:329: UserWarning: Unit 'volts' for CurrentClampStimulusSeries 'CurrentClampSeriesIZero' is ignored and will be set to 'amperes' as per NWB 2.1.0.\n",
      "  warnings.warn(\n",
      "/usr/local/envs/neuron/lib/python3.8/site-packages/ipfx/stimulus.py:88: UserWarning: Could not find stimulus: N/A\n",
      "  warnings.warn(\"Could not find stimulus: %s\" % tag)\n",
      "/usr/local/envs/neuron/lib/python3.8/site-packages/ipfx/stimulus.py:88: UserWarning: Could not find stimulus: NA\n",
      "  warnings.warn(\"Could not find stimulus: %s\" % tag)\n",
      "/usr/local/envs/neuron/lib/python3.8/site-packages/pynwb/icephys.py:329: UserWarning: Unit 'volts' for CurrentClampStimulusSeries 'CurrentClampSeriesIZero' is ignored and will be set to 'amperes' as per NWB 2.1.0.\n",
      "  warnings.warn(\n",
      "/usr/local/envs/neuron/lib/python3.8/site-packages/ipfx/stimulus.py:88: UserWarning: Could not find stimulus: N/A\n",
      "  warnings.warn(\"Could not find stimulus: %s\" % tag)\n",
      "/usr/local/envs/neuron/lib/python3.8/site-packages/ipfx/stimulus.py:88: UserWarning: Could not find stimulus: NA\n",
      "  warnings.warn(\"Could not find stimulus: %s\" % tag)\n",
      "/usr/local/envs/neuron/lib/python3.8/site-packages/pynwb/icephys.py:329: UserWarning: Unit 'volts' for CurrentClampStimulusSeries 'CurrentClampSeriesIZero' is ignored and will be set to 'amperes' as per NWB 2.1.0.\n",
      "  warnings.warn(\n",
      "/usr/local/envs/neuron/lib/python3.8/site-packages/ipfx/stimulus.py:88: UserWarning: Could not find stimulus: N/A\n",
      "  warnings.warn(\"Could not find stimulus: %s\" % tag)\n",
      "/usr/local/envs/neuron/lib/python3.8/site-packages/ipfx/stimulus.py:88: UserWarning: Could not find stimulus: NA\n",
      "  warnings.warn(\"Could not find stimulus: %s\" % tag)\n",
      "/usr/local/envs/neuron/lib/python3.8/site-packages/pynwb/icephys.py:329: UserWarning: Unit 'volts' for CurrentClampStimulusSeries 'CurrentClampSeriesIZero' is ignored and will be set to 'amperes' as per NWB 2.1.0.\n",
      "  warnings.warn(\n",
      "/usr/local/envs/neuron/lib/python3.8/site-packages/ipfx/stimulus.py:88: UserWarning: Could not find stimulus: N/A\n",
      "  warnings.warn(\"Could not find stimulus: %s\" % tag)\n",
      "/usr/local/envs/neuron/lib/python3.8/site-packages/ipfx/stimulus.py:88: UserWarning: Could not find stimulus: NA\n",
      "  warnings.warn(\"Could not find stimulus: %s\" % tag)\n",
      "/usr/local/envs/neuron/lib/python3.8/site-packages/pynwb/icephys.py:329: UserWarning: Unit 'volts' for CurrentClampStimulusSeries 'CurrentClampSeriesIZero' is ignored and will be set to 'amperes' as per NWB 2.1.0.\n",
      "  warnings.warn(\n",
      "/usr/local/envs/neuron/lib/python3.8/site-packages/ipfx/stimulus.py:88: UserWarning: Could not find stimulus: N/A\n",
      "  warnings.warn(\"Could not find stimulus: %s\" % tag)\n",
      "/usr/local/envs/neuron/lib/python3.8/site-packages/ipfx/stimulus.py:88: UserWarning: Could not find stimulus: NA\n",
      "  warnings.warn(\"Could not find stimulus: %s\" % tag)\n",
      "/usr/local/envs/neuron/lib/python3.8/site-packages/pynwb/icephys.py:329: UserWarning: Unit 'volts' for CurrentClampStimulusSeries 'CurrentClampSeriesIZero' is ignored and will be set to 'amperes' as per NWB 2.1.0.\n",
      "  warnings.warn(\n",
      "/usr/local/envs/neuron/lib/python3.8/site-packages/ipfx/stimulus.py:88: UserWarning: Could not find stimulus: N/A\n",
      "  warnings.warn(\"Could not find stimulus: %s\" % tag)\n",
      "/usr/local/envs/neuron/lib/python3.8/site-packages/ipfx/stimulus.py:88: UserWarning: Could not find stimulus: NA\n",
      "  warnings.warn(\"Could not find stimulus: %s\" % tag)\n",
      "/usr/local/envs/neuron/lib/python3.8/site-packages/pynwb/icephys.py:329: UserWarning: Unit 'volts' for CurrentClampStimulusSeries 'CurrentClampSeriesIZero' is ignored and will be set to 'amperes' as per NWB 2.1.0.\n",
      "  warnings.warn(\n",
      "/usr/local/envs/neuron/lib/python3.8/site-packages/ipfx/stimulus.py:88: UserWarning: Could not find stimulus: N/A\n",
      "  warnings.warn(\"Could not find stimulus: %s\" % tag)\n",
      "/usr/local/envs/neuron/lib/python3.8/site-packages/ipfx/stimulus.py:88: UserWarning: Could not find stimulus: NA\n",
      "  warnings.warn(\"Could not find stimulus: %s\" % tag)\n",
      "/usr/local/envs/neuron/lib/python3.8/site-packages/pynwb/icephys.py:329: UserWarning: Unit 'volts' for CurrentClampStimulusSeries 'CurrentClampSeriesIZero' is ignored and will be set to 'amperes' as per NWB 2.1.0.\n",
      "  warnings.warn(\n",
      "/usr/local/envs/neuron/lib/python3.8/site-packages/ipfx/stimulus.py:88: UserWarning: Could not find stimulus: N/A\n",
      "  warnings.warn(\"Could not find stimulus: %s\" % tag)\n",
      "/usr/local/envs/neuron/lib/python3.8/site-packages/ipfx/stimulus.py:88: UserWarning: Could not find stimulus: NA\n",
      "  warnings.warn(\"Could not find stimulus: %s\" % tag)\n",
      "/usr/local/envs/neuron/lib/python3.8/site-packages/pynwb/icephys.py:329: UserWarning: Unit 'volts' for CurrentClampStimulusSeries 'CurrentClampSeriesIZero' is ignored and will be set to 'amperes' as per NWB 2.1.0.\n",
      "  warnings.warn(\n",
      "/usr/local/envs/neuron/lib/python3.8/site-packages/ipfx/stimulus.py:88: UserWarning: Could not find stimulus: N/A\n",
      "  warnings.warn(\"Could not find stimulus: %s\" % tag)\n",
      "/usr/local/envs/neuron/lib/python3.8/site-packages/ipfx/stimulus.py:88: UserWarning: Could not find stimulus: NA\n",
      "  warnings.warn(\"Could not find stimulus: %s\" % tag)\n",
      "/usr/local/envs/neuron/lib/python3.8/site-packages/pynwb/icephys.py:329: UserWarning: Unit 'volts' for CurrentClampStimulusSeries 'CurrentClampSeriesIZero' is ignored and will be set to 'amperes' as per NWB 2.1.0.\n",
      "  warnings.warn(\n",
      "/usr/local/envs/neuron/lib/python3.8/site-packages/ipfx/stimulus.py:88: UserWarning: Could not find stimulus: N/A\n",
      "  warnings.warn(\"Could not find stimulus: %s\" % tag)\n",
      "/usr/local/envs/neuron/lib/python3.8/site-packages/ipfx/stimulus.py:88: UserWarning: Could not find stimulus: NA\n",
      "  warnings.warn(\"Could not find stimulus: %s\" % tag)\n",
      "/usr/local/envs/neuron/lib/python3.8/site-packages/pynwb/icephys.py:329: UserWarning: Unit 'volts' for CurrentClampStimulusSeries 'CurrentClampSeriesIZero' is ignored and will be set to 'amperes' as per NWB 2.1.0.\n",
      "  warnings.warn(\n",
      "/usr/local/envs/neuron/lib/python3.8/site-packages/ipfx/stimulus.py:88: UserWarning: Could not find stimulus: N/A\n",
      "  warnings.warn(\"Could not find stimulus: %s\" % tag)\n",
      "/usr/local/envs/neuron/lib/python3.8/site-packages/ipfx/stimulus.py:88: UserWarning: Could not find stimulus: NA\n",
      "  warnings.warn(\"Could not find stimulus: %s\" % tag)\n",
      "/usr/local/envs/neuron/lib/python3.8/site-packages/pynwb/icephys.py:329: UserWarning: Unit 'volts' for CurrentClampStimulusSeries 'CurrentClampSeriesIZero' is ignored and will be set to 'amperes' as per NWB 2.1.0.\n",
      "  warnings.warn(\n",
      "/usr/local/envs/neuron/lib/python3.8/site-packages/ipfx/stimulus.py:88: UserWarning: Could not find stimulus: N/A\n",
      "  warnings.warn(\"Could not find stimulus: %s\" % tag)\n",
      "/usr/local/envs/neuron/lib/python3.8/site-packages/ipfx/stimulus.py:88: UserWarning: Could not find stimulus: NA\n",
      "  warnings.warn(\"Could not find stimulus: %s\" % tag)\n",
      "/usr/local/envs/neuron/lib/python3.8/site-packages/pynwb/icephys.py:329: UserWarning: Unit 'volts' for CurrentClampStimulusSeries 'CurrentClampSeriesIZero' is ignored and will be set to 'amperes' as per NWB 2.1.0.\n",
      "  warnings.warn(\n",
      "/usr/local/envs/neuron/lib/python3.8/site-packages/ipfx/stimulus.py:88: UserWarning: Could not find stimulus: N/A\n",
      "  warnings.warn(\"Could not find stimulus: %s\" % tag)\n",
      "/usr/local/envs/neuron/lib/python3.8/site-packages/ipfx/stimulus.py:88: UserWarning: Could not find stimulus: NA\n",
      "  warnings.warn(\"Could not find stimulus: %s\" % tag)\n",
      "/usr/local/envs/neuron/lib/python3.8/site-packages/pynwb/icephys.py:329: UserWarning: Unit 'volts' for CurrentClampStimulusSeries 'CurrentClampSeriesIZero' is ignored and will be set to 'amperes' as per NWB 2.1.0.\n",
      "  warnings.warn(\n",
      "/usr/local/envs/neuron/lib/python3.8/site-packages/ipfx/stimulus.py:88: UserWarning: Could not find stimulus: N/A\n",
      "  warnings.warn(\"Could not find stimulus: %s\" % tag)\n",
      "/usr/local/envs/neuron/lib/python3.8/site-packages/ipfx/stimulus.py:88: UserWarning: Could not find stimulus: NA\n",
      "  warnings.warn(\"Could not find stimulus: %s\" % tag)\n",
      "/usr/local/envs/neuron/lib/python3.8/site-packages/pynwb/icephys.py:329: UserWarning: Unit 'volts' for CurrentClampStimulusSeries 'CurrentClampSeriesIZero' is ignored and will be set to 'amperes' as per NWB 2.1.0.\n",
      "  warnings.warn(\n",
      "/usr/local/envs/neuron/lib/python3.8/site-packages/ipfx/stimulus.py:88: UserWarning: Could not find stimulus: N/A\n",
      "  warnings.warn(\"Could not find stimulus: %s\" % tag)\n",
      "/usr/local/envs/neuron/lib/python3.8/site-packages/ipfx/stimulus.py:88: UserWarning: Could not find stimulus: NA\n",
      "  warnings.warn(\"Could not find stimulus: %s\" % tag)\n",
      "/usr/local/envs/neuron/lib/python3.8/site-packages/pynwb/icephys.py:329: UserWarning: Unit 'volts' for CurrentClampStimulusSeries 'CurrentClampSeriesIZero' is ignored and will be set to 'amperes' as per NWB 2.1.0.\n",
      "  warnings.warn(\n",
      "/usr/local/envs/neuron/lib/python3.8/site-packages/ipfx/stimulus.py:88: UserWarning: Could not find stimulus: N/A\n",
      "  warnings.warn(\"Could not find stimulus: %s\" % tag)\n",
      "/usr/local/envs/neuron/lib/python3.8/site-packages/ipfx/stimulus.py:88: UserWarning: Could not find stimulus: NA\n",
      "  warnings.warn(\"Could not find stimulus: %s\" % tag)\n",
      "/usr/local/envs/neuron/lib/python3.8/site-packages/pynwb/icephys.py:329: UserWarning: Unit 'volts' for CurrentClampStimulusSeries 'CurrentClampSeriesIZero' is ignored and will be set to 'amperes' as per NWB 2.1.0.\n",
      "  warnings.warn(\n",
      "/usr/local/envs/neuron/lib/python3.8/site-packages/ipfx/stimulus.py:88: UserWarning: Could not find stimulus: N/A\n",
      "  warnings.warn(\"Could not find stimulus: %s\" % tag)\n",
      "/usr/local/envs/neuron/lib/python3.8/site-packages/ipfx/stimulus.py:88: UserWarning: Could not find stimulus: NA\n",
      "  warnings.warn(\"Could not find stimulus: %s\" % tag)\n",
      "/usr/local/envs/neuron/lib/python3.8/site-packages/pynwb/icephys.py:329: UserWarning: Unit 'volts' for CurrentClampStimulusSeries 'CurrentClampSeriesIZero' is ignored and will be set to 'amperes' as per NWB 2.1.0.\n",
      "  warnings.warn(\n",
      "/usr/local/envs/neuron/lib/python3.8/site-packages/ipfx/stimulus.py:88: UserWarning: Could not find stimulus: N/A\n",
      "  warnings.warn(\"Could not find stimulus: %s\" % tag)\n",
      "/usr/local/envs/neuron/lib/python3.8/site-packages/ipfx/stimulus.py:88: UserWarning: Could not find stimulus: NA\n",
      "  warnings.warn(\"Could not find stimulus: %s\" % tag)\n",
      "/usr/local/envs/neuron/lib/python3.8/site-packages/pynwb/icephys.py:329: UserWarning: Unit 'volts' for CurrentClampStimulusSeries 'CurrentClampSeriesIZero' is ignored and will be set to 'amperes' as per NWB 2.1.0.\n",
      "  warnings.warn(\n",
      "/usr/local/envs/neuron/lib/python3.8/site-packages/ipfx/stimulus.py:88: UserWarning: Could not find stimulus: N/A\n",
      "  warnings.warn(\"Could not find stimulus: %s\" % tag)\n",
      "/usr/local/envs/neuron/lib/python3.8/site-packages/ipfx/stimulus.py:88: UserWarning: Could not find stimulus: NA\n",
      "  warnings.warn(\"Could not find stimulus: %s\" % tag)\n",
      "/usr/local/envs/neuron/lib/python3.8/site-packages/pynwb/icephys.py:329: UserWarning: Unit 'volts' for CurrentClampStimulusSeries 'CurrentClampSeriesIZero' is ignored and will be set to 'amperes' as per NWB 2.1.0.\n",
      "  warnings.warn(\n",
      "/usr/local/envs/neuron/lib/python3.8/site-packages/ipfx/stimulus.py:88: UserWarning: Could not find stimulus: N/A\n",
      "  warnings.warn(\"Could not find stimulus: %s\" % tag)\n",
      "/usr/local/envs/neuron/lib/python3.8/site-packages/ipfx/stimulus.py:88: UserWarning: Could not find stimulus: NA\n",
      "  warnings.warn(\"Could not find stimulus: %s\" % tag)\n",
      "/usr/local/envs/neuron/lib/python3.8/site-packages/pynwb/icephys.py:329: UserWarning: Unit 'volts' for CurrentClampStimulusSeries 'CurrentClampSeriesIZero' is ignored and will be set to 'amperes' as per NWB 2.1.0.\n",
      "  warnings.warn(\n",
      "/usr/local/envs/neuron/lib/python3.8/site-packages/ipfx/stimulus.py:88: UserWarning: Could not find stimulus: N/A\n",
      "  warnings.warn(\"Could not find stimulus: %s\" % tag)\n",
      "/usr/local/envs/neuron/lib/python3.8/site-packages/ipfx/stimulus.py:88: UserWarning: Could not find stimulus: NA\n",
      "  warnings.warn(\"Could not find stimulus: %s\" % tag)\n",
      "/usr/local/envs/neuron/lib/python3.8/site-packages/pynwb/icephys.py:329: UserWarning: Unit 'volts' for CurrentClampStimulusSeries 'CurrentClampSeriesIZero' is ignored and will be set to 'amperes' as per NWB 2.1.0.\n",
      "  warnings.warn(\n",
      "/usr/local/envs/neuron/lib/python3.8/site-packages/ipfx/stimulus.py:88: UserWarning: Could not find stimulus: N/A\n",
      "  warnings.warn(\"Could not find stimulus: %s\" % tag)\n",
      "/usr/local/envs/neuron/lib/python3.8/site-packages/ipfx/stimulus.py:88: UserWarning: Could not find stimulus: NA\n",
      "  warnings.warn(\"Could not find stimulus: %s\" % tag)\n",
      "/usr/local/envs/neuron/lib/python3.8/site-packages/pynwb/icephys.py:329: UserWarning: Unit 'volts' for CurrentClampStimulusSeries 'CurrentClampSeriesIZero' is ignored and will be set to 'amperes' as per NWB 2.1.0.\n",
      "  warnings.warn(\n",
      "/usr/local/envs/neuron/lib/python3.8/site-packages/ipfx/stimulus.py:88: UserWarning: Could not find stimulus: N/A\n",
      "  warnings.warn(\"Could not find stimulus: %s\" % tag)\n",
      "/usr/local/envs/neuron/lib/python3.8/site-packages/ipfx/stimulus.py:88: UserWarning: Could not find stimulus: NA\n",
      "  warnings.warn(\"Could not find stimulus: %s\" % tag)\n",
      "/usr/local/envs/neuron/lib/python3.8/site-packages/pynwb/icephys.py:329: UserWarning: Unit 'volts' for CurrentClampStimulusSeries 'CurrentClampSeriesIZero' is ignored and will be set to 'amperes' as per NWB 2.1.0.\n",
      "  warnings.warn(\n",
      "/usr/local/envs/neuron/lib/python3.8/site-packages/ipfx/stimulus.py:88: UserWarning: Could not find stimulus: N/A\n",
      "  warnings.warn(\"Could not find stimulus: %s\" % tag)\n",
      "/usr/local/envs/neuron/lib/python3.8/site-packages/ipfx/stimulus.py:88: UserWarning: Could not find stimulus: NA\n",
      "  warnings.warn(\"Could not find stimulus: %s\" % tag)\n",
      "/usr/local/envs/neuron/lib/python3.8/site-packages/pynwb/icephys.py:329: UserWarning: Unit 'volts' for CurrentClampStimulusSeries 'CurrentClampSeriesIZero' is ignored and will be set to 'amperes' as per NWB 2.1.0.\n",
      "  warnings.warn(\n",
      "/usr/local/envs/neuron/lib/python3.8/site-packages/ipfx/stimulus.py:88: UserWarning: Could not find stimulus: N/A\n",
      "  warnings.warn(\"Could not find stimulus: %s\" % tag)\n",
      "/usr/local/envs/neuron/lib/python3.8/site-packages/ipfx/stimulus.py:88: UserWarning: Could not find stimulus: NA\n",
      "  warnings.warn(\"Could not find stimulus: %s\" % tag)\n",
      "/usr/local/envs/neuron/lib/python3.8/site-packages/pynwb/icephys.py:329: UserWarning: Unit 'volts' for CurrentClampStimulusSeries 'CurrentClampSeriesIZero' is ignored and will be set to 'amperes' as per NWB 2.1.0.\n",
      "  warnings.warn(\n",
      "/usr/local/envs/neuron/lib/python3.8/site-packages/ipfx/stimulus.py:88: UserWarning: Could not find stimulus: N/A\n",
      "  warnings.warn(\"Could not find stimulus: %s\" % tag)\n",
      "/usr/local/envs/neuron/lib/python3.8/site-packages/ipfx/stimulus.py:88: UserWarning: Could not find stimulus: NA\n",
      "  warnings.warn(\"Could not find stimulus: %s\" % tag)\n",
      "/usr/local/envs/neuron/lib/python3.8/site-packages/pynwb/icephys.py:329: UserWarning: Unit 'volts' for CurrentClampStimulusSeries 'CurrentClampSeriesIZero' is ignored and will be set to 'amperes' as per NWB 2.1.0.\n",
      "  warnings.warn(\n",
      "/usr/local/envs/neuron/lib/python3.8/site-packages/ipfx/stimulus.py:88: UserWarning: Could not find stimulus: N/A\n",
      "  warnings.warn(\"Could not find stimulus: %s\" % tag)\n",
      "/usr/local/envs/neuron/lib/python3.8/site-packages/ipfx/stimulus.py:88: UserWarning: Could not find stimulus: NA\n",
      "  warnings.warn(\"Could not find stimulus: %s\" % tag)\n",
      "/usr/local/envs/neuron/lib/python3.8/site-packages/pynwb/icephys.py:329: UserWarning: Unit 'volts' for CurrentClampStimulusSeries 'CurrentClampSeriesIZero' is ignored and will be set to 'amperes' as per NWB 2.1.0.\n",
      "  warnings.warn(\n",
      "/usr/local/envs/neuron/lib/python3.8/site-packages/ipfx/stimulus.py:88: UserWarning: Could not find stimulus: N/A\n",
      "  warnings.warn(\"Could not find stimulus: %s\" % tag)\n",
      "/usr/local/envs/neuron/lib/python3.8/site-packages/ipfx/stimulus.py:88: UserWarning: Could not find stimulus: NA\n",
      "  warnings.warn(\"Could not find stimulus: %s\" % tag)\n",
      "/usr/local/envs/neuron/lib/python3.8/site-packages/pynwb/icephys.py:329: UserWarning: Unit 'volts' for CurrentClampStimulusSeries 'CurrentClampSeriesIZero' is ignored and will be set to 'amperes' as per NWB 2.1.0.\n",
      "  warnings.warn(\n",
      "/usr/local/envs/neuron/lib/python3.8/site-packages/ipfx/stimulus.py:88: UserWarning: Could not find stimulus: N/A\n",
      "  warnings.warn(\"Could not find stimulus: %s\" % tag)\n",
      "/usr/local/envs/neuron/lib/python3.8/site-packages/ipfx/stimulus.py:88: UserWarning: Could not find stimulus: NA\n",
      "  warnings.warn(\"Could not find stimulus: %s\" % tag)\n",
      "/usr/local/envs/neuron/lib/python3.8/site-packages/pynwb/icephys.py:329: UserWarning: Unit 'volts' for CurrentClampStimulusSeries 'CurrentClampSeriesIZero' is ignored and will be set to 'amperes' as per NWB 2.1.0.\n",
      "  warnings.warn(\n",
      "/usr/local/envs/neuron/lib/python3.8/site-packages/ipfx/stimulus.py:88: UserWarning: Could not find stimulus: N/A\n",
      "  warnings.warn(\"Could not find stimulus: %s\" % tag)\n",
      "/usr/local/envs/neuron/lib/python3.8/site-packages/ipfx/stimulus.py:88: UserWarning: Could not find stimulus: NA\n",
      "  warnings.warn(\"Could not find stimulus: %s\" % tag)\n",
      "/usr/local/envs/neuron/lib/python3.8/site-packages/pynwb/icephys.py:329: UserWarning: Unit 'volts' for CurrentClampStimulusSeries 'CurrentClampSeriesIZero' is ignored and will be set to 'amperes' as per NWB 2.1.0.\n",
      "  warnings.warn(\n",
      "/usr/local/envs/neuron/lib/python3.8/site-packages/ipfx/stimulus.py:88: UserWarning: Could not find stimulus: N/A\n",
      "  warnings.warn(\"Could not find stimulus: %s\" % tag)\n",
      "/usr/local/envs/neuron/lib/python3.8/site-packages/ipfx/stimulus.py:88: UserWarning: Could not find stimulus: NA\n",
      "  warnings.warn(\"Could not find stimulus: %s\" % tag)\n",
      "/usr/local/envs/neuron/lib/python3.8/site-packages/pynwb/icephys.py:329: UserWarning: Unit 'volts' for CurrentClampStimulusSeries 'CurrentClampSeriesIZero' is ignored and will be set to 'amperes' as per NWB 2.1.0.\n",
      "  warnings.warn(\n",
      "/usr/local/envs/neuron/lib/python3.8/site-packages/ipfx/stimulus.py:88: UserWarning: Could not find stimulus: N/A\n",
      "  warnings.warn(\"Could not find stimulus: %s\" % tag)\n",
      "/usr/local/envs/neuron/lib/python3.8/site-packages/ipfx/stimulus.py:88: UserWarning: Could not find stimulus: NA\n",
      "  warnings.warn(\"Could not find stimulus: %s\" % tag)\n",
      "/usr/local/envs/neuron/lib/python3.8/site-packages/pynwb/icephys.py:329: UserWarning: Unit 'volts' for CurrentClampStimulusSeries 'CurrentClampSeriesIZero' is ignored and will be set to 'amperes' as per NWB 2.1.0.\n",
      "  warnings.warn(\n",
      "/usr/local/envs/neuron/lib/python3.8/site-packages/ipfx/stimulus.py:88: UserWarning: Could not find stimulus: N/A\n",
      "  warnings.warn(\"Could not find stimulus: %s\" % tag)\n",
      "/usr/local/envs/neuron/lib/python3.8/site-packages/ipfx/stimulus.py:88: UserWarning: Could not find stimulus: NA\n",
      "  warnings.warn(\"Could not find stimulus: %s\" % tag)\n",
      "/usr/local/envs/neuron/lib/python3.8/site-packages/pynwb/icephys.py:329: UserWarning: Unit 'volts' for CurrentClampStimulusSeries 'CurrentClampSeriesIZero' is ignored and will be set to 'amperes' as per NWB 2.1.0.\n",
      "  warnings.warn(\n",
      "/usr/local/envs/neuron/lib/python3.8/site-packages/ipfx/stimulus.py:88: UserWarning: Could not find stimulus: N/A\n",
      "  warnings.warn(\"Could not find stimulus: %s\" % tag)\n",
      "/usr/local/envs/neuron/lib/python3.8/site-packages/ipfx/stimulus.py:88: UserWarning: Could not find stimulus: NA\n",
      "  warnings.warn(\"Could not find stimulus: %s\" % tag)\n",
      "/usr/local/envs/neuron/lib/python3.8/site-packages/pynwb/icephys.py:329: UserWarning: Unit 'volts' for CurrentClampStimulusSeries 'CurrentClampSeriesIZero' is ignored and will be set to 'amperes' as per NWB 2.1.0.\n",
      "  warnings.warn(\n",
      "/usr/local/envs/neuron/lib/python3.8/site-packages/ipfx/stimulus.py:88: UserWarning: Could not find stimulus: N/A\n",
      "  warnings.warn(\"Could not find stimulus: %s\" % tag)\n",
      "/usr/local/envs/neuron/lib/python3.8/site-packages/ipfx/stimulus.py:88: UserWarning: Could not find stimulus: NA\n",
      "  warnings.warn(\"Could not find stimulus: %s\" % tag)\n",
      "/usr/local/envs/neuron/lib/python3.8/site-packages/pynwb/icephys.py:329: UserWarning: Unit 'volts' for CurrentClampStimulusSeries 'CurrentClampSeriesIZero' is ignored and will be set to 'amperes' as per NWB 2.1.0.\n",
      "  warnings.warn(\n",
      "/usr/local/envs/neuron/lib/python3.8/site-packages/ipfx/stimulus.py:88: UserWarning: Could not find stimulus: N/A\n",
      "  warnings.warn(\"Could not find stimulus: %s\" % tag)\n",
      "/usr/local/envs/neuron/lib/python3.8/site-packages/ipfx/stimulus.py:88: UserWarning: Could not find stimulus: NA\n",
      "  warnings.warn(\"Could not find stimulus: %s\" % tag)\n",
      "/usr/local/envs/neuron/lib/python3.8/site-packages/pynwb/icephys.py:329: UserWarning: Unit 'volts' for CurrentClampStimulusSeries 'CurrentClampSeriesIZero' is ignored and will be set to 'amperes' as per NWB 2.1.0.\n",
      "  warnings.warn(\n",
      "/usr/local/envs/neuron/lib/python3.8/site-packages/ipfx/stimulus.py:88: UserWarning: Could not find stimulus: N/A\n",
      "  warnings.warn(\"Could not find stimulus: %s\" % tag)\n",
      "/usr/local/envs/neuron/lib/python3.8/site-packages/ipfx/stimulus.py:88: UserWarning: Could not find stimulus: NA\n",
      "  warnings.warn(\"Could not find stimulus: %s\" % tag)\n",
      "/usr/local/envs/neuron/lib/python3.8/site-packages/pynwb/icephys.py:329: UserWarning: Unit 'volts' for CurrentClampStimulusSeries 'CurrentClampSeriesIZero' is ignored and will be set to 'amperes' as per NWB 2.1.0.\n",
      "  warnings.warn(\n",
      "/usr/local/envs/neuron/lib/python3.8/site-packages/ipfx/stimulus.py:88: UserWarning: Could not find stimulus: N/A\n",
      "  warnings.warn(\"Could not find stimulus: %s\" % tag)\n",
      "/usr/local/envs/neuron/lib/python3.8/site-packages/ipfx/stimulus.py:88: UserWarning: Could not find stimulus: NA\n",
      "  warnings.warn(\"Could not find stimulus: %s\" % tag)\n",
      "/usr/local/envs/neuron/lib/python3.8/site-packages/pynwb/icephys.py:329: UserWarning: Unit 'volts' for CurrentClampStimulusSeries 'CurrentClampSeriesIZero' is ignored and will be set to 'amperes' as per NWB 2.1.0.\n",
      "  warnings.warn(\n",
      "/usr/local/envs/neuron/lib/python3.8/site-packages/ipfx/stimulus.py:88: UserWarning: Could not find stimulus: N/A\n",
      "  warnings.warn(\"Could not find stimulus: %s\" % tag)\n",
      "/usr/local/envs/neuron/lib/python3.8/site-packages/ipfx/stimulus.py:88: UserWarning: Could not find stimulus: NA\n",
      "  warnings.warn(\"Could not find stimulus: %s\" % tag)\n",
      "/usr/local/envs/neuron/lib/python3.8/site-packages/pynwb/icephys.py:329: UserWarning: Unit 'volts' for CurrentClampStimulusSeries 'CurrentClampSeriesIZero' is ignored and will be set to 'amperes' as per NWB 2.1.0.\n",
      "  warnings.warn(\n",
      "/usr/local/envs/neuron/lib/python3.8/site-packages/ipfx/stimulus.py:88: UserWarning: Could not find stimulus: N/A\n",
      "  warnings.warn(\"Could not find stimulus: %s\" % tag)\n",
      "/usr/local/envs/neuron/lib/python3.8/site-packages/ipfx/stimulus.py:88: UserWarning: Could not find stimulus: NA\n",
      "  warnings.warn(\"Could not find stimulus: %s\" % tag)\n",
      "/usr/local/envs/neuron/lib/python3.8/site-packages/pynwb/icephys.py:329: UserWarning: Unit 'volts' for CurrentClampStimulusSeries 'CurrentClampSeriesIZero' is ignored and will be set to 'amperes' as per NWB 2.1.0.\n",
      "  warnings.warn(\n",
      "/usr/local/envs/neuron/lib/python3.8/site-packages/ipfx/stimulus.py:88: UserWarning: Could not find stimulus: N/A\n",
      "  warnings.warn(\"Could not find stimulus: %s\" % tag)\n",
      "/usr/local/envs/neuron/lib/python3.8/site-packages/ipfx/stimulus.py:88: UserWarning: Could not find stimulus: NA\n",
      "  warnings.warn(\"Could not find stimulus: %s\" % tag)\n",
      "/usr/local/envs/neuron/lib/python3.8/site-packages/pynwb/icephys.py:329: UserWarning: Unit 'volts' for CurrentClampStimulusSeries 'CurrentClampSeriesIZero' is ignored and will be set to 'amperes' as per NWB 2.1.0.\n",
      "  warnings.warn(\n",
      "/usr/local/envs/neuron/lib/python3.8/site-packages/ipfx/stimulus.py:88: UserWarning: Could not find stimulus: N/A\n",
      "  warnings.warn(\"Could not find stimulus: %s\" % tag)\n",
      "/usr/local/envs/neuron/lib/python3.8/site-packages/ipfx/stimulus.py:88: UserWarning: Could not find stimulus: NA\n",
      "  warnings.warn(\"Could not find stimulus: %s\" % tag)\n",
      "/usr/local/envs/neuron/lib/python3.8/site-packages/pynwb/icephys.py:329: UserWarning: Unit 'volts' for CurrentClampStimulusSeries 'CurrentClampSeriesIZero' is ignored and will be set to 'amperes' as per NWB 2.1.0.\n",
      "  warnings.warn(\n",
      "/usr/local/envs/neuron/lib/python3.8/site-packages/ipfx/stimulus.py:88: UserWarning: Could not find stimulus: N/A\n",
      "  warnings.warn(\"Could not find stimulus: %s\" % tag)\n",
      "/usr/local/envs/neuron/lib/python3.8/site-packages/ipfx/stimulus.py:88: UserWarning: Could not find stimulus: NA\n",
      "  warnings.warn(\"Could not find stimulus: %s\" % tag)\n",
      "/usr/local/envs/neuron/lib/python3.8/site-packages/pynwb/icephys.py:329: UserWarning: Unit 'volts' for CurrentClampStimulusSeries 'CurrentClampSeriesIZero' is ignored and will be set to 'amperes' as per NWB 2.1.0.\n",
      "  warnings.warn(\n",
      "/usr/local/envs/neuron/lib/python3.8/site-packages/ipfx/stimulus.py:88: UserWarning: Could not find stimulus: N/A\n",
      "  warnings.warn(\"Could not find stimulus: %s\" % tag)\n",
      "/usr/local/envs/neuron/lib/python3.8/site-packages/ipfx/stimulus.py:88: UserWarning: Could not find stimulus: NA\n",
      "  warnings.warn(\"Could not find stimulus: %s\" % tag)\n",
      "/usr/local/envs/neuron/lib/python3.8/site-packages/pynwb/icephys.py:329: UserWarning: Unit 'volts' for CurrentClampStimulusSeries 'CurrentClampSeriesIZero' is ignored and will be set to 'amperes' as per NWB 2.1.0.\n",
      "  warnings.warn(\n",
      "/usr/local/envs/neuron/lib/python3.8/site-packages/ipfx/stimulus.py:88: UserWarning: Could not find stimulus: N/A\n",
      "  warnings.warn(\"Could not find stimulus: %s\" % tag)\n",
      "/usr/local/envs/neuron/lib/python3.8/site-packages/ipfx/stimulus.py:88: UserWarning: Could not find stimulus: NA\n",
      "  warnings.warn(\"Could not find stimulus: %s\" % tag)\n",
      "/usr/local/envs/neuron/lib/python3.8/site-packages/pynwb/icephys.py:329: UserWarning: Unit 'volts' for CurrentClampStimulusSeries 'CurrentClampSeriesIZero' is ignored and will be set to 'amperes' as per NWB 2.1.0.\n",
      "  warnings.warn(\n",
      "/usr/local/envs/neuron/lib/python3.8/site-packages/ipfx/stimulus.py:88: UserWarning: Could not find stimulus: N/A\n",
      "  warnings.warn(\"Could not find stimulus: %s\" % tag)\n",
      "/usr/local/envs/neuron/lib/python3.8/site-packages/ipfx/stimulus.py:88: UserWarning: Could not find stimulus: NA\n",
      "  warnings.warn(\"Could not find stimulus: %s\" % tag)\n",
      "/usr/local/envs/neuron/lib/python3.8/site-packages/pynwb/icephys.py:329: UserWarning: Unit 'volts' for CurrentClampStimulusSeries 'CurrentClampSeriesIZero' is ignored and will be set to 'amperes' as per NWB 2.1.0.\n",
      "  warnings.warn(\n",
      "/usr/local/envs/neuron/lib/python3.8/site-packages/ipfx/stimulus.py:88: UserWarning: Could not find stimulus: N/A\n",
      "  warnings.warn(\"Could not find stimulus: %s\" % tag)\n",
      "/usr/local/envs/neuron/lib/python3.8/site-packages/ipfx/stimulus.py:88: UserWarning: Could not find stimulus: NA\n",
      "  warnings.warn(\"Could not find stimulus: %s\" % tag)\n",
      "/usr/local/envs/neuron/lib/python3.8/site-packages/pynwb/icephys.py:329: UserWarning: Unit 'volts' for CurrentClampStimulusSeries 'CurrentClampSeriesIZero' is ignored and will be set to 'amperes' as per NWB 2.1.0.\n",
      "  warnings.warn(\n",
      "/usr/local/envs/neuron/lib/python3.8/site-packages/ipfx/stimulus.py:88: UserWarning: Could not find stimulus: N/A\n",
      "  warnings.warn(\"Could not find stimulus: %s\" % tag)\n",
      "/usr/local/envs/neuron/lib/python3.8/site-packages/ipfx/stimulus.py:88: UserWarning: Could not find stimulus: NA\n",
      "  warnings.warn(\"Could not find stimulus: %s\" % tag)\n",
      "/usr/local/envs/neuron/lib/python3.8/site-packages/pynwb/icephys.py:329: UserWarning: Unit 'volts' for CurrentClampStimulusSeries 'CurrentClampSeriesIZero' is ignored and will be set to 'amperes' as per NWB 2.1.0.\n",
      "  warnings.warn(\n",
      "/usr/local/envs/neuron/lib/python3.8/site-packages/ipfx/stimulus.py:88: UserWarning: Could not find stimulus: N/A\n",
      "  warnings.warn(\"Could not find stimulus: %s\" % tag)\n",
      "/usr/local/envs/neuron/lib/python3.8/site-packages/ipfx/stimulus.py:88: UserWarning: Could not find stimulus: NA\n",
      "  warnings.warn(\"Could not find stimulus: %s\" % tag)\n",
      "/usr/local/envs/neuron/lib/python3.8/site-packages/pynwb/icephys.py:329: UserWarning: Unit 'volts' for CurrentClampStimulusSeries 'CurrentClampSeriesIZero' is ignored and will be set to 'amperes' as per NWB 2.1.0.\n",
      "  warnings.warn(\n",
      "/usr/local/envs/neuron/lib/python3.8/site-packages/ipfx/stimulus.py:88: UserWarning: Could not find stimulus: N/A\n",
      "  warnings.warn(\"Could not find stimulus: %s\" % tag)\n",
      "/usr/local/envs/neuron/lib/python3.8/site-packages/ipfx/stimulus.py:88: UserWarning: Could not find stimulus: NA\n",
      "  warnings.warn(\"Could not find stimulus: %s\" % tag)\n",
      "/usr/local/envs/neuron/lib/python3.8/site-packages/pynwb/icephys.py:329: UserWarning: Unit 'volts' for CurrentClampStimulusSeries 'CurrentClampSeriesIZero' is ignored and will be set to 'amperes' as per NWB 2.1.0.\n",
      "  warnings.warn(\n",
      "/usr/local/envs/neuron/lib/python3.8/site-packages/ipfx/stimulus.py:88: UserWarning: Could not find stimulus: N/A\n",
      "  warnings.warn(\"Could not find stimulus: %s\" % tag)\n",
      "/usr/local/envs/neuron/lib/python3.8/site-packages/ipfx/stimulus.py:88: UserWarning: Could not find stimulus: NA\n",
      "  warnings.warn(\"Could not find stimulus: %s\" % tag)\n",
      "/usr/local/envs/neuron/lib/python3.8/site-packages/pynwb/icephys.py:329: UserWarning: Unit 'volts' for CurrentClampStimulusSeries 'CurrentClampSeriesIZero' is ignored and will be set to 'amperes' as per NWB 2.1.0.\n",
      "  warnings.warn(\n",
      "/usr/local/envs/neuron/lib/python3.8/site-packages/ipfx/stimulus.py:88: UserWarning: Could not find stimulus: N/A\n",
      "  warnings.warn(\"Could not find stimulus: %s\" % tag)\n",
      "/usr/local/envs/neuron/lib/python3.8/site-packages/ipfx/stimulus.py:88: UserWarning: Could not find stimulus: NA\n",
      "  warnings.warn(\"Could not find stimulus: %s\" % tag)\n",
      "/usr/local/envs/neuron/lib/python3.8/site-packages/pynwb/icephys.py:329: UserWarning: Unit 'volts' for CurrentClampStimulusSeries 'CurrentClampSeriesIZero' is ignored and will be set to 'amperes' as per NWB 2.1.0.\n",
      "  warnings.warn(\n",
      "/usr/local/envs/neuron/lib/python3.8/site-packages/ipfx/stimulus.py:88: UserWarning: Could not find stimulus: N/A\n",
      "  warnings.warn(\"Could not find stimulus: %s\" % tag)\n",
      "/usr/local/envs/neuron/lib/python3.8/site-packages/ipfx/stimulus.py:88: UserWarning: Could not find stimulus: NA\n",
      "  warnings.warn(\"Could not find stimulus: %s\" % tag)\n",
      "/usr/local/envs/neuron/lib/python3.8/site-packages/pynwb/icephys.py:329: UserWarning: Unit 'volts' for CurrentClampStimulusSeries 'CurrentClampSeriesIZero' is ignored and will be set to 'amperes' as per NWB 2.1.0.\n",
      "  warnings.warn(\n",
      "/usr/local/envs/neuron/lib/python3.8/site-packages/ipfx/stimulus.py:88: UserWarning: Could not find stimulus: N/A\n",
      "  warnings.warn(\"Could not find stimulus: %s\" % tag)\n",
      "/usr/local/envs/neuron/lib/python3.8/site-packages/ipfx/stimulus.py:88: UserWarning: Could not find stimulus: NA\n",
      "  warnings.warn(\"Could not find stimulus: %s\" % tag)\n",
      "/usr/local/envs/neuron/lib/python3.8/site-packages/pynwb/icephys.py:329: UserWarning: Unit 'volts' for CurrentClampStimulusSeries 'CurrentClampSeriesIZero' is ignored and will be set to 'amperes' as per NWB 2.1.0.\n",
      "  warnings.warn(\n",
      "/usr/local/envs/neuron/lib/python3.8/site-packages/ipfx/stimulus.py:88: UserWarning: Could not find stimulus: N/A\n",
      "  warnings.warn(\"Could not find stimulus: %s\" % tag)\n",
      "/usr/local/envs/neuron/lib/python3.8/site-packages/ipfx/stimulus.py:88: UserWarning: Could not find stimulus: NA\n",
      "  warnings.warn(\"Could not find stimulus: %s\" % tag)\n",
      "/usr/local/envs/neuron/lib/python3.8/site-packages/pynwb/icephys.py:329: UserWarning: Unit 'volts' for CurrentClampStimulusSeries 'CurrentClampSeriesIZero' is ignored and will be set to 'amperes' as per NWB 2.1.0.\n",
      "  warnings.warn(\n",
      "/usr/local/envs/neuron/lib/python3.8/site-packages/ipfx/stimulus.py:88: UserWarning: Could not find stimulus: N/A\n",
      "  warnings.warn(\"Could not find stimulus: %s\" % tag)\n",
      "/usr/local/envs/neuron/lib/python3.8/site-packages/ipfx/stimulus.py:88: UserWarning: Could not find stimulus: NA\n",
      "  warnings.warn(\"Could not find stimulus: %s\" % tag)\n",
      "/usr/local/envs/neuron/lib/python3.8/site-packages/pynwb/icephys.py:329: UserWarning: Unit 'volts' for CurrentClampStimulusSeries 'CurrentClampSeriesIZero' is ignored and will be set to 'amperes' as per NWB 2.1.0.\n",
      "  warnings.warn(\n",
      "/usr/local/envs/neuron/lib/python3.8/site-packages/ipfx/stimulus.py:88: UserWarning: Could not find stimulus: N/A\n",
      "  warnings.warn(\"Could not find stimulus: %s\" % tag)\n",
      "/usr/local/envs/neuron/lib/python3.8/site-packages/ipfx/stimulus.py:88: UserWarning: Could not find stimulus: NA\n",
      "  warnings.warn(\"Could not find stimulus: %s\" % tag)\n",
      "/usr/local/envs/neuron/lib/python3.8/site-packages/pynwb/icephys.py:329: UserWarning: Unit 'volts' for CurrentClampStimulusSeries 'CurrentClampSeriesIZero' is ignored and will be set to 'amperes' as per NWB 2.1.0.\n",
      "  warnings.warn(\n",
      "/usr/local/envs/neuron/lib/python3.8/site-packages/ipfx/stimulus.py:88: UserWarning: Could not find stimulus: N/A\n",
      "  warnings.warn(\"Could not find stimulus: %s\" % tag)\n",
      "/usr/local/envs/neuron/lib/python3.8/site-packages/ipfx/stimulus.py:88: UserWarning: Could not find stimulus: NA\n",
      "  warnings.warn(\"Could not find stimulus: %s\" % tag)\n",
      "/usr/local/envs/neuron/lib/python3.8/site-packages/pynwb/icephys.py:329: UserWarning: Unit 'volts' for CurrentClampStimulusSeries 'CurrentClampSeriesIZero' is ignored and will be set to 'amperes' as per NWB 2.1.0.\n",
      "  warnings.warn(\n",
      "/usr/local/envs/neuron/lib/python3.8/site-packages/ipfx/stimulus.py:88: UserWarning: Could not find stimulus: N/A\n",
      "  warnings.warn(\"Could not find stimulus: %s\" % tag)\n",
      "/usr/local/envs/neuron/lib/python3.8/site-packages/ipfx/stimulus.py:88: UserWarning: Could not find stimulus: NA\n",
      "  warnings.warn(\"Could not find stimulus: %s\" % tag)\n",
      "/usr/local/envs/neuron/lib/python3.8/site-packages/pynwb/icephys.py:329: UserWarning: Unit 'volts' for CurrentClampStimulusSeries 'CurrentClampSeriesIZero' is ignored and will be set to 'amperes' as per NWB 2.1.0.\n",
      "  warnings.warn(\n",
      "/usr/local/envs/neuron/lib/python3.8/site-packages/ipfx/stimulus.py:88: UserWarning: Could not find stimulus: N/A\n",
      "  warnings.warn(\"Could not find stimulus: %s\" % tag)\n",
      "/usr/local/envs/neuron/lib/python3.8/site-packages/ipfx/stimulus.py:88: UserWarning: Could not find stimulus: NA\n",
      "  warnings.warn(\"Could not find stimulus: %s\" % tag)\n",
      "/usr/local/envs/neuron/lib/python3.8/site-packages/pynwb/icephys.py:329: UserWarning: Unit 'volts' for CurrentClampStimulusSeries 'CurrentClampSeriesIZero' is ignored and will be set to 'amperes' as per NWB 2.1.0.\n",
      "  warnings.warn(\n",
      "/usr/local/envs/neuron/lib/python3.8/site-packages/ipfx/stimulus.py:88: UserWarning: Could not find stimulus: N/A\n",
      "  warnings.warn(\"Could not find stimulus: %s\" % tag)\n",
      "/usr/local/envs/neuron/lib/python3.8/site-packages/ipfx/stimulus.py:88: UserWarning: Could not find stimulus: NA\n",
      "  warnings.warn(\"Could not find stimulus: %s\" % tag)\n",
      "/usr/local/envs/neuron/lib/python3.8/site-packages/pynwb/icephys.py:329: UserWarning: Unit 'volts' for CurrentClampStimulusSeries 'CurrentClampSeriesIZero' is ignored and will be set to 'amperes' as per NWB 2.1.0.\n",
      "  warnings.warn(\n",
      "/usr/local/envs/neuron/lib/python3.8/site-packages/ipfx/stimulus.py:88: UserWarning: Could not find stimulus: N/A\n",
      "  warnings.warn(\"Could not find stimulus: %s\" % tag)\n",
      "/usr/local/envs/neuron/lib/python3.8/site-packages/ipfx/stimulus.py:88: UserWarning: Could not find stimulus: NA\n",
      "  warnings.warn(\"Could not find stimulus: %s\" % tag)\n",
      "/usr/local/envs/neuron/lib/python3.8/site-packages/pynwb/icephys.py:329: UserWarning: Unit 'volts' for CurrentClampStimulusSeries 'CurrentClampSeriesIZero' is ignored and will be set to 'amperes' as per NWB 2.1.0.\n",
      "  warnings.warn(\n",
      "/usr/local/envs/neuron/lib/python3.8/site-packages/ipfx/stimulus.py:88: UserWarning: Could not find stimulus: N/A\n",
      "  warnings.warn(\"Could not find stimulus: %s\" % tag)\n",
      "/usr/local/envs/neuron/lib/python3.8/site-packages/ipfx/stimulus.py:88: UserWarning: Could not find stimulus: NA\n",
      "  warnings.warn(\"Could not find stimulus: %s\" % tag)\n",
      "/usr/local/envs/neuron/lib/python3.8/site-packages/pynwb/icephys.py:329: UserWarning: Unit 'volts' for CurrentClampStimulusSeries 'CurrentClampSeriesIZero' is ignored and will be set to 'amperes' as per NWB 2.1.0.\n",
      "  warnings.warn(\n",
      "/usr/local/envs/neuron/lib/python3.8/site-packages/ipfx/stimulus.py:88: UserWarning: Could not find stimulus: N/A\n",
      "  warnings.warn(\"Could not find stimulus: %s\" % tag)\n",
      "/usr/local/envs/neuron/lib/python3.8/site-packages/ipfx/stimulus.py:88: UserWarning: Could not find stimulus: NA\n",
      "  warnings.warn(\"Could not find stimulus: %s\" % tag)\n",
      "/usr/local/envs/neuron/lib/python3.8/site-packages/pynwb/icephys.py:329: UserWarning: Unit 'volts' for CurrentClampStimulusSeries 'CurrentClampSeriesIZero' is ignored and will be set to 'amperes' as per NWB 2.1.0.\n",
      "  warnings.warn(\n",
      "/usr/local/envs/neuron/lib/python3.8/site-packages/ipfx/stimulus.py:88: UserWarning: Could not find stimulus: N/A\n",
      "  warnings.warn(\"Could not find stimulus: %s\" % tag)\n",
      "/usr/local/envs/neuron/lib/python3.8/site-packages/ipfx/stimulus.py:88: UserWarning: Could not find stimulus: NA\n",
      "  warnings.warn(\"Could not find stimulus: %s\" % tag)\n",
      "/usr/local/envs/neuron/lib/python3.8/site-packages/pynwb/icephys.py:329: UserWarning: Unit 'volts' for CurrentClampStimulusSeries 'CurrentClampSeriesIZero' is ignored and will be set to 'amperes' as per NWB 2.1.0.\n",
      "  warnings.warn(\n",
      "/usr/local/envs/neuron/lib/python3.8/site-packages/ipfx/stimulus.py:88: UserWarning: Could not find stimulus: N/A\n",
      "  warnings.warn(\"Could not find stimulus: %s\" % tag)\n",
      "/usr/local/envs/neuron/lib/python3.8/site-packages/ipfx/stimulus.py:88: UserWarning: Could not find stimulus: NA\n",
      "  warnings.warn(\"Could not find stimulus: %s\" % tag)\n",
      "/usr/local/envs/neuron/lib/python3.8/site-packages/pynwb/icephys.py:329: UserWarning: Unit 'volts' for CurrentClampStimulusSeries 'CurrentClampSeriesIZero' is ignored and will be set to 'amperes' as per NWB 2.1.0.\n",
      "  warnings.warn(\n",
      "/usr/local/envs/neuron/lib/python3.8/site-packages/ipfx/stimulus.py:88: UserWarning: Could not find stimulus: N/A\n",
      "  warnings.warn(\"Could not find stimulus: %s\" % tag)\n",
      "/usr/local/envs/neuron/lib/python3.8/site-packages/ipfx/stimulus.py:88: UserWarning: Could not find stimulus: NA\n",
      "  warnings.warn(\"Could not find stimulus: %s\" % tag)\n",
      "/usr/local/envs/neuron/lib/python3.8/site-packages/pynwb/icephys.py:329: UserWarning: Unit 'volts' for CurrentClampStimulusSeries 'CurrentClampSeriesIZero' is ignored and will be set to 'amperes' as per NWB 2.1.0.\n",
      "  warnings.warn(\n",
      "/usr/local/envs/neuron/lib/python3.8/site-packages/ipfx/stimulus.py:88: UserWarning: Could not find stimulus: N/A\n",
      "  warnings.warn(\"Could not find stimulus: %s\" % tag)\n",
      "/usr/local/envs/neuron/lib/python3.8/site-packages/ipfx/stimulus.py:88: UserWarning: Could not find stimulus: NA\n",
      "  warnings.warn(\"Could not find stimulus: %s\" % tag)\n",
      "/usr/local/envs/neuron/lib/python3.8/site-packages/pynwb/icephys.py:329: UserWarning: Unit 'volts' for CurrentClampStimulusSeries 'CurrentClampSeriesIZero' is ignored and will be set to 'amperes' as per NWB 2.1.0.\n",
      "  warnings.warn(\n",
      "/usr/local/envs/neuron/lib/python3.8/site-packages/ipfx/stimulus.py:88: UserWarning: Could not find stimulus: N/A\n",
      "  warnings.warn(\"Could not find stimulus: %s\" % tag)\n",
      "/usr/local/envs/neuron/lib/python3.8/site-packages/ipfx/stimulus.py:88: UserWarning: Could not find stimulus: NA\n",
      "  warnings.warn(\"Could not find stimulus: %s\" % tag)\n",
      "/usr/local/envs/neuron/lib/python3.8/site-packages/pynwb/icephys.py:329: UserWarning: Unit 'volts' for CurrentClampStimulusSeries 'CurrentClampSeriesIZero' is ignored and will be set to 'amperes' as per NWB 2.1.0.\n",
      "  warnings.warn(\n",
      "/usr/local/envs/neuron/lib/python3.8/site-packages/ipfx/stimulus.py:88: UserWarning: Could not find stimulus: N/A\n",
      "  warnings.warn(\"Could not find stimulus: %s\" % tag)\n",
      "/usr/local/envs/neuron/lib/python3.8/site-packages/ipfx/stimulus.py:88: UserWarning: Could not find stimulus: NA\n",
      "  warnings.warn(\"Could not find stimulus: %s\" % tag)\n",
      "/usr/local/envs/neuron/lib/python3.8/site-packages/pynwb/icephys.py:329: UserWarning: Unit 'volts' for CurrentClampStimulusSeries 'CurrentClampSeriesIZero' is ignored and will be set to 'amperes' as per NWB 2.1.0.\n",
      "  warnings.warn(\n",
      "/usr/local/envs/neuron/lib/python3.8/site-packages/ipfx/stimulus.py:88: UserWarning: Could not find stimulus: N/A\n",
      "  warnings.warn(\"Could not find stimulus: %s\" % tag)\n",
      "/usr/local/envs/neuron/lib/python3.8/site-packages/ipfx/stimulus.py:88: UserWarning: Could not find stimulus: NA\n",
      "  warnings.warn(\"Could not find stimulus: %s\" % tag)\n",
      "/usr/local/envs/neuron/lib/python3.8/site-packages/pynwb/icephys.py:329: UserWarning: Unit 'volts' for CurrentClampStimulusSeries 'CurrentClampSeriesIZero' is ignored and will be set to 'amperes' as per NWB 2.1.0.\n",
      "  warnings.warn(\n",
      "/usr/local/envs/neuron/lib/python3.8/site-packages/ipfx/stimulus.py:88: UserWarning: Could not find stimulus: N/A\n",
      "  warnings.warn(\"Could not find stimulus: %s\" % tag)\n",
      "/usr/local/envs/neuron/lib/python3.8/site-packages/ipfx/stimulus.py:88: UserWarning: Could not find stimulus: NA\n",
      "  warnings.warn(\"Could not find stimulus: %s\" % tag)\n",
      "/usr/local/envs/neuron/lib/python3.8/site-packages/pynwb/icephys.py:329: UserWarning: Unit 'volts' for CurrentClampStimulusSeries 'CurrentClampSeriesIZero' is ignored and will be set to 'amperes' as per NWB 2.1.0.\n",
      "  warnings.warn(\n",
      "/usr/local/envs/neuron/lib/python3.8/site-packages/ipfx/stimulus.py:88: UserWarning: Could not find stimulus: N/A\n",
      "  warnings.warn(\"Could not find stimulus: %s\" % tag)\n",
      "/usr/local/envs/neuron/lib/python3.8/site-packages/ipfx/stimulus.py:88: UserWarning: Could not find stimulus: NA\n",
      "  warnings.warn(\"Could not find stimulus: %s\" % tag)\n",
      "/usr/local/envs/neuron/lib/python3.8/site-packages/pynwb/icephys.py:329: UserWarning: Unit 'volts' for CurrentClampStimulusSeries 'CurrentClampSeriesIZero' is ignored and will be set to 'amperes' as per NWB 2.1.0.\n",
      "  warnings.warn(\n",
      "/usr/local/envs/neuron/lib/python3.8/site-packages/ipfx/stimulus.py:88: UserWarning: Could not find stimulus: N/A\n",
      "  warnings.warn(\"Could not find stimulus: %s\" % tag)\n",
      "/usr/local/envs/neuron/lib/python3.8/site-packages/ipfx/stimulus.py:88: UserWarning: Could not find stimulus: NA\n",
      "  warnings.warn(\"Could not find stimulus: %s\" % tag)\n",
      "/usr/local/envs/neuron/lib/python3.8/site-packages/pynwb/icephys.py:329: UserWarning: Unit 'volts' for CurrentClampStimulusSeries 'CurrentClampSeriesIZero' is ignored and will be set to 'amperes' as per NWB 2.1.0.\n",
      "  warnings.warn(\n",
      "/usr/local/envs/neuron/lib/python3.8/site-packages/ipfx/stimulus.py:88: UserWarning: Could not find stimulus: N/A\n",
      "  warnings.warn(\"Could not find stimulus: %s\" % tag)\n",
      "/usr/local/envs/neuron/lib/python3.8/site-packages/ipfx/stimulus.py:88: UserWarning: Could not find stimulus: NA\n",
      "  warnings.warn(\"Could not find stimulus: %s\" % tag)\n",
      "/usr/local/envs/neuron/lib/python3.8/site-packages/pynwb/icephys.py:329: UserWarning: Unit 'volts' for CurrentClampStimulusSeries 'CurrentClampSeriesIZero' is ignored and will be set to 'amperes' as per NWB 2.1.0.\n",
      "  warnings.warn(\n",
      "/usr/local/envs/neuron/lib/python3.8/site-packages/ipfx/stimulus.py:88: UserWarning: Could not find stimulus: N/A\n",
      "  warnings.warn(\"Could not find stimulus: %s\" % tag)\n",
      "/usr/local/envs/neuron/lib/python3.8/site-packages/ipfx/stimulus.py:88: UserWarning: Could not find stimulus: NA\n",
      "  warnings.warn(\"Could not find stimulus: %s\" % tag)\n",
      "/usr/local/envs/neuron/lib/python3.8/site-packages/pynwb/icephys.py:329: UserWarning: Unit 'volts' for CurrentClampStimulusSeries 'CurrentClampSeriesIZero' is ignored and will be set to 'amperes' as per NWB 2.1.0.\n",
      "  warnings.warn(\n",
      "/usr/local/envs/neuron/lib/python3.8/site-packages/ipfx/stimulus.py:88: UserWarning: Could not find stimulus: N/A\n",
      "  warnings.warn(\"Could not find stimulus: %s\" % tag)\n"
     ]
    },
    {
     "data": {
      "text/html": [
       "<div>\n",
       "<style scoped>\n",
       "    .dataframe tbody tr th:only-of-type {\n",
       "        vertical-align: middle;\n",
       "    }\n",
       "\n",
       "    .dataframe tbody tr th {\n",
       "        vertical-align: top;\n",
       "    }\n",
       "\n",
       "    .dataframe thead th {\n",
       "        text-align: right;\n",
       "    }\n",
       "</style>\n",
       "<table border=\"1\" class=\"dataframe\">\n",
       "  <thead>\n",
       "    <tr style=\"text-align: right;\">\n",
       "      <th></th>\n",
       "      <th>path</th>\n",
       "      <th>min_i</th>\n",
       "      <th>max_i</th>\n",
       "      <th>min_v</th>\n",
       "      <th>max_v</th>\n",
       "    </tr>\n",
       "  </thead>\n",
       "  <tbody>\n",
       "    <tr>\n",
       "      <th>0</th>\n",
       "      <td>nwb/sub-mouse-LBJDN_ses-20180215-sample-1_slic...</td>\n",
       "      <td>-2.000000e+14</td>\n",
       "      <td>1.380000e+15</td>\n",
       "      <td>-97041.815519</td>\n",
       "      <td>49518.063664</td>\n",
       "    </tr>\n",
       "    <tr>\n",
       "      <th>1</th>\n",
       "      <td>nwb/sub-mouse-XECLH_ses-20180327-sample-1_slic...</td>\n",
       "      <td>-2.000000e+14</td>\n",
       "      <td>1.380000e+15</td>\n",
       "      <td>-96425.689757</td>\n",
       "      <td>50498.537719</td>\n",
       "    </tr>\n",
       "    <tr>\n",
       "      <th>2</th>\n",
       "      <td>nwb/sub-mouse-XECLH_ses-20180327-sample-4_slic...</td>\n",
       "      <td>-2.000000e+14</td>\n",
       "      <td>1.380000e+15</td>\n",
       "      <td>-105918.392539</td>\n",
       "      <td>44660.981745</td>\n",
       "    </tr>\n",
       "    <tr>\n",
       "      <th>3</th>\n",
       "      <td>nwb/sub-mouse-XECLH_ses-20180327-sample-5_slic...</td>\n",
       "      <td>-2.000000e+14</td>\n",
       "      <td>1.380000e+15</td>\n",
       "      <td>-87301.008403</td>\n",
       "      <td>48983.950168</td>\n",
       "    </tr>\n",
       "    <tr>\n",
       "      <th>4</th>\n",
       "      <td>nwb/sub-mouse-ZWNGI_ses-20180404-sample-5_slic...</td>\n",
       "      <td>-3.200000e+14</td>\n",
       "      <td>1.260000e+15</td>\n",
       "      <td>-100862.309337</td>\n",
       "      <td>45364.845544</td>\n",
       "    </tr>\n",
       "  </tbody>\n",
       "</table>\n",
       "</div>"
      ],
      "text/plain": [
       "                                                path         min_i  \\\n",
       "0  nwb/sub-mouse-LBJDN_ses-20180215-sample-1_slic... -2.000000e+14   \n",
       "1  nwb/sub-mouse-XECLH_ses-20180327-sample-1_slic... -2.000000e+14   \n",
       "2  nwb/sub-mouse-XECLH_ses-20180327-sample-4_slic... -2.000000e+14   \n",
       "3  nwb/sub-mouse-XECLH_ses-20180327-sample-5_slic... -2.000000e+14   \n",
       "4  nwb/sub-mouse-ZWNGI_ses-20180404-sample-5_slic... -3.200000e+14   \n",
       "\n",
       "          max_i          min_v         max_v  \n",
       "0  1.380000e+15  -97041.815519  49518.063664  \n",
       "1  1.380000e+15  -96425.689757  50498.537719  \n",
       "2  1.380000e+15 -105918.392539  44660.981745  \n",
       "3  1.380000e+15  -87301.008403  48983.950168  \n",
       "4  1.260000e+15 -100862.309337  45364.845544  "
      ]
     },
     "execution_count": 19,
     "metadata": {},
     "output_type": "execute_result"
    }
   ],
   "source": [
    "iv_range_df = pd.DataFrame(((p, *get_iv_range(p)) for p in tqdm(electro_df_me['path'])),\n",
    "                           columns=['path','min_i', 'max_i', 'min_v', 'max_v'])\n",
    "iv_range_df.head()"
   ]
  },
  {
   "cell_type": "code",
   "execution_count": 20,
   "id": "57a7585b-6d7e-4feb-906f-439ae52539f4",
   "metadata": {},
   "outputs": [
    {
     "data": {
      "text/plain": [
       "min_i   -3.200000e+14\n",
       "max_i    1.480000e+15\n",
       "min_v   -1.442714e+05\n",
       "max_v    9.995224e+04\n",
       "dtype: float64"
      ]
     },
     "execution_count": 20,
     "metadata": {},
     "output_type": "execute_result"
    }
   ],
   "source": [
    "iv_range_df.agg({'min_i': min, 'max_i':max, 'min_v':min,'max_v':max})"
   ]
  },
  {
   "cell_type": "markdown",
   "id": "e818d2d7-b24a-4b15-bc10-e36d29033dad",
   "metadata": {},
   "source": [
    "Plot and save:"
   ]
  },
  {
   "cell_type": "code",
   "execution_count": 21,
   "id": "1e868e97-c3b3-4a4a-baa1-44c1246c5de9",
   "metadata": {},
   "outputs": [
    {
     "name": "stderr",
     "output_type": "stream",
     "text": [
      "/usr/local/envs/neuron/lib/python3.8/site-packages/hdmf/spec/namespace.py:532: UserWarning: Ignoring cached namespace 'hdmf-common' version 1.3.0 because version 1.5.0 is already loaded.\n",
      "  warn(\"Ignoring cached namespace '%s' version %s because version %s is already loaded.\"\n",
      "/usr/local/envs/neuron/lib/python3.8/site-packages/hdmf/spec/namespace.py:532: UserWarning: Ignoring cached namespace 'core' version 2.2.5 because version 2.3.0 is already loaded.\n",
      "  warn(\"Ignoring cached namespace '%s' version %s because version %s is already loaded.\"\n",
      "/usr/local/envs/neuron/lib/python3.8/site-packages/ipfx/stimulus.py:88: UserWarning: Could not find stimulus: NA\n",
      "  warnings.warn(\"Could not find stimulus: %s\" % tag)\n",
      "/usr/local/envs/neuron/lib/python3.8/site-packages/pynwb/icephys.py:329: UserWarning: Unit 'volts' for CurrentClampStimulusSeries 'CurrentClampSeriesIZero' is ignored and will be set to 'amperes' as per NWB 2.1.0.\n",
      "  warnings.warn(\n",
      "/usr/local/envs/neuron/lib/python3.8/site-packages/ipfx/stimulus.py:88: UserWarning: Could not find stimulus: N/A\n",
      "  warnings.warn(\"Could not find stimulus: %s\" % tag)\n"
     ]
    }
   ],
   "source": [
    "test_nwb=electro_df.iloc[0]['path']\n",
    "test_data_set = custom_create_ephys_data_set(test_nwb)\n",
    "test_sweep_table = test_data_set.sweep_table"
   ]
  },
  {
   "cell_type": "code",
   "execution_count": 25,
   "id": "592d73e5",
   "metadata": {},
   "outputs": [
    {
     "data": {
      "image/png": "[encoded data removed]",
      "text/plain": [
       "<Figure size 640x480 with 2 Axes>"
      ]
     },
     "metadata": {},
     "output_type": "display_data"
    }
   ],
   "source": [
    "test_fig = plot_iclamp_sweep(test_data_set, test_sweep_table['sweep_number'].tolist(), 24, min_max_i=(-320, 1490), min_max_v=(-150, 100))\n",
    "plt.show()"
   ]
  },
  {
   "cell_type": "code",
   "execution_count": 26,
   "id": "2b505d89-f179-4d95-9bcd-574e60ef5a45",
   "metadata": {},
   "outputs": [],
   "source": [
    "# reuse figure to plot another sweep\n",
    "test_fig=plot_iclamp_sweep(test_data_set, test_sweep_table['sweep_number'].tolist(), 40, fig=test_fig, min_max_i=(-320, 1490), min_max_v=(-150, 100))\n",
    "test_fig.show()"
   ]
  },
  {
   "cell_type": "code",
   "execution_count": 27,
   "id": "3f27f2e3",
   "metadata": {},
   "outputs": [],
   "source": [
    "figs_me_path = Path('electro_L5_me_figs_0725')\n",
    "figs_me_path.mkdir(exist_ok=True)"
   ]
  },
  {
   "cell_type": "code",
   "execution_count": 29,
   "id": "07860c62-e22f-4fa1-ac71-bca39d022c82",
   "metadata": {
    "scrolled": true,
    "tags": []
   },
   "outputs": [
    {
     "data": {
      "application/vnd.jupyter.widget-view+json": {
       "model_id": "1c8fe97e709e41bdb4df356eeb14edf8",
       "version_major": 2,
       "version_minor": 0
      },
      "text/plain": [
       "plot neuron:   0%|          | 0/154 [00:00<?, ?it/s]"
      ]
     },
     "metadata": {},
     "output_type": "display_data"
    },
    {
     "data": {
      "application/vnd.jupyter.widget-view+json": {
       "model_id": "",
       "version_major": 2,
       "version_minor": 0
      },
      "text/plain": [
       "plot sweep:   0%|          | 0/80 [00:00<?, ?it/s]"
      ]
     },
     "metadata": {},
     "output_type": "display_data"
    },
    {
     "data": {
      "application/vnd.jupyter.widget-view+json": {
       "model_id": "",
       "version_major": 2,
       "version_minor": 0
      },
      "text/plain": [
       "plot sweep:   0%|          | 0/80 [00:00<?, ?it/s]"
      ]
     },
     "metadata": {},
     "output_type": "display_data"
    },
    {
     "data": {
      "application/vnd.jupyter.widget-view+json": {
       "model_id": "",
       "version_major": 2,
       "version_minor": 0
      },
      "text/plain": [
       "plot sweep:   0%|          | 0/80 [00:00<?, ?it/s]"
      ]
     },
     "metadata": {},
     "output_type": "display_data"
    },
    {
     "data": {
      "application/vnd.jupyter.widget-view+json": {
       "model_id": "",
       "version_major": 2,
       "version_minor": 0
      },
      "text/plain": [
       "plot sweep:   0%|          | 0/80 [00:00<?, ?it/s]"
      ]
     },
     "metadata": {},
     "output_type": "display_data"
    },
    {
     "data": {
      "application/vnd.jupyter.widget-view+json": {
       "model_id": "",
       "version_major": 2,
       "version_minor": 0
      },
      "text/plain": [
       "plot sweep:   0%|          | 0/80 [00:00<?, ?it/s]"
      ]
     },
     "metadata": {},
     "output_type": "display_data"
    },
    {
     "data": {
      "application/vnd.jupyter.widget-view+json": {
       "model_id": "",
       "version_major": 2,
       "version_minor": 0
      },
      "text/plain": [
       "plot sweep:   0%|          | 0/80 [00:00<?, ?it/s]"
      ]
     },
     "metadata": {},
     "output_type": "display_data"
    },
    {
     "data": {
      "application/vnd.jupyter.widget-view+json": {
       "model_id": "",
       "version_major": 2,
       "version_minor": 0
      },
      "text/plain": [
       "plot sweep:   0%|          | 0/80 [00:00<?, ?it/s]"
      ]
     },
     "metadata": {},
     "output_type": "display_data"
    },
    {
     "data": {
      "application/vnd.jupyter.widget-view+json": {
       "model_id": "",
       "version_major": 2,
       "version_minor": 0
      },
      "text/plain": [
       "plot sweep:   0%|          | 0/80 [00:00<?, ?it/s]"
      ]
     },
     "metadata": {},
     "output_type": "display_data"
    },
    {
     "data": {
      "application/vnd.jupyter.widget-view+json": {
       "model_id": "",
       "version_major": 2,
       "version_minor": 0
      },
      "text/plain": [
       "plot sweep:   0%|          | 0/80 [00:00<?, ?it/s]"
      ]
     },
     "metadata": {},
     "output_type": "display_data"
    },
    {
     "data": {
      "application/vnd.jupyter.widget-view+json": {
       "model_id": "",
       "version_major": 2,
       "version_minor": 0
      },
      "text/plain": [
       "plot sweep:   0%|          | 0/80 [00:00<?, ?it/s]"
      ]
     },
     "metadata": {},
     "output_type": "display_data"
    },
    {
     "data": {
      "application/vnd.jupyter.widget-view+json": {
       "model_id": "",
       "version_major": 2,
       "version_minor": 0
      },
      "text/plain": [
       "plot sweep:   0%|          | 0/80 [00:00<?, ?it/s]"
      ]
     },
     "metadata": {},
     "output_type": "display_data"
    },
    {
     "data": {
      "application/vnd.jupyter.widget-view+json": {
       "model_id": "",
       "version_major": 2,
       "version_minor": 0
      },
      "text/plain": [
       "plot sweep:   0%|          | 0/80 [00:00<?, ?it/s]"
      ]
     },
     "metadata": {},
     "output_type": "display_data"
    },
    {
     "data": {
      "application/vnd.jupyter.widget-view+json": {
       "model_id": "",
       "version_major": 2,
       "version_minor": 0
      },
      "text/plain": [
       "plot sweep:   0%|          | 0/80 [00:00<?, ?it/s]"
      ]
     },
     "metadata": {},
     "output_type": "display_data"
    },
    {
     "data": {
      "application/vnd.jupyter.widget-view+json": {
       "model_id": "",
       "version_major": 2,
       "version_minor": 0
      },
      "text/plain": [
       "plot sweep:   0%|          | 0/80 [00:00<?, ?it/s]"
      ]
     },
     "metadata": {},
     "output_type": "display_data"
    },
    {
     "data": {
      "application/vnd.jupyter.widget-view+json": {
       "model_id": "",
       "version_major": 2,
       "version_minor": 0
      },
      "text/plain": [
       "plot sweep:   0%|          | 0/80 [00:00<?, ?it/s]"
      ]
     },
     "metadata": {},
     "output_type": "display_data"
    },
    {
     "data": {
      "application/vnd.jupyter.widget-view+json": {
       "model_id": "",
       "version_major": 2,
       "version_minor": 0
      },
      "text/plain": [
       "plot sweep:   0%|          | 0/80 [00:00<?, ?it/s]"
      ]
     },
     "metadata": {},
     "output_type": "display_data"
    },
    {
     "data": {
      "application/vnd.jupyter.widget-view+json": {
       "model_id": "",
       "version_major": 2,
       "version_minor": 0
      },
      "text/plain": [
       "plot sweep:   0%|          | 0/80 [00:00<?, ?it/s]"
      ]
     },
     "metadata": {},
     "output_type": "display_data"
    },
    {
     "data": {
      "application/vnd.jupyter.widget-view+json": {
       "model_id": "",
       "version_major": 2,
       "version_minor": 0
      },
      "text/plain": [
       "plot sweep:   0%|          | 0/80 [00:00<?, ?it/s]"
      ]
     },
     "metadata": {},
     "output_type": "display_data"
    },
    {
     "data": {
      "application/vnd.jupyter.widget-view+json": {
       "model_id": "",
       "version_major": 2,
       "version_minor": 0
      },
      "text/plain": [
       "plot sweep:   0%|          | 0/80 [00:00<?, ?it/s]"
      ]
     },
     "metadata": {},
     "output_type": "display_data"
    },
    {
     "data": {
      "application/vnd.jupyter.widget-view+json": {
       "model_id": "",
       "version_major": 2,
       "version_minor": 0
      },
      "text/plain": [
       "plot sweep:   0%|          | 0/80 [00:00<?, ?it/s]"
      ]
     },
     "metadata": {},
     "output_type": "display_data"
    },
    {
     "data": {
      "application/vnd.jupyter.widget-view+json": {
       "model_id": "",
       "version_major": 2,
       "version_minor": 0
      },
      "text/plain": [
       "plot sweep:   0%|          | 0/80 [00:00<?, ?it/s]"
      ]
     },
     "metadata": {},
     "output_type": "display_data"
    },
    {
     "data": {
      "application/vnd.jupyter.widget-view+json": {
       "model_id": "",
       "version_major": 2,
       "version_minor": 0
      },
      "text/plain": [
       "plot sweep:   0%|          | 0/80 [00:00<?, ?it/s]"
      ]
     },
     "metadata": {},
     "output_type": "display_data"
    },
    {
     "data": {
      "application/vnd.jupyter.widget-view+json": {
       "model_id": "",
       "version_major": 2,
       "version_minor": 0
      },
      "text/plain": [
       "plot sweep:   0%|          | 0/80 [00:00<?, ?it/s]"
      ]
     },
     "metadata": {},
     "output_type": "display_data"
    },
    {
     "data": {
      "application/vnd.jupyter.widget-view+json": {
       "model_id": "",
       "version_major": 2,
       "version_minor": 0
      },
      "text/plain": [
       "plot sweep:   0%|          | 0/80 [00:00<?, ?it/s]"
      ]
     },
     "metadata": {},
     "output_type": "display_data"
    },
    {
     "data": {
      "application/vnd.jupyter.widget-view+json": {
       "model_id": "",
       "version_major": 2,
       "version_minor": 0
      },
      "text/plain": [
       "plot sweep:   0%|          | 0/80 [00:00<?, ?it/s]"
      ]
     },
     "metadata": {},
     "output_type": "display_data"
    },
    {
     "data": {
      "application/vnd.jupyter.widget-view+json": {
       "model_id": "",
       "version_major": 2,
       "version_minor": 0
      },
      "text/plain": [
       "plot sweep:   0%|          | 0/80 [00:00<?, ?it/s]"
      ]
     },
     "metadata": {},
     "output_type": "display_data"
    },
    {
     "data": {
      "application/vnd.jupyter.widget-view+json": {
       "model_id": "",
       "version_major": 2,
       "version_minor": 0
      },
      "text/plain": [
       "plot sweep:   0%|          | 0/80 [00:00<?, ?it/s]"
      ]
     },
     "metadata": {},
     "output_type": "display_data"
    },
    {
     "data": {
      "application/vnd.jupyter.widget-view+json": {
       "model_id": "",
       "version_major": 2,
       "version_minor": 0
      },
      "text/plain": [
       "plot sweep:   0%|          | 0/80 [00:00<?, ?it/s]"
      ]
     },
     "metadata": {},
     "output_type": "display_data"
    },
    {
     "data": {
      "application/vnd.jupyter.widget-view+json": {
       "model_id": "",
       "version_major": 2,
       "version_minor": 0
      },
      "text/plain": [
       "plot sweep:   0%|          | 0/80 [00:00<?, ?it/s]"
      ]
     },
     "metadata": {},
     "output_type": "display_data"
    },
    {
     "data": {
      "application/vnd.jupyter.widget-view+json": {
       "model_id": "",
       "version_major": 2,
       "version_minor": 0
      },
      "text/plain": [
       "plot sweep:   0%|          | 0/80 [00:00<?, ?it/s]"
      ]
     },
     "metadata": {},
     "output_type": "display_data"
    },
    {
     "data": {
      "application/vnd.jupyter.widget-view+json": {
       "model_id": "",
       "version_major": 2,
       "version_minor": 0
      },
      "text/plain": [
       "plot sweep:   0%|          | 0/80 [00:00<?, ?it/s]"
      ]
     },
     "metadata": {},
     "output_type": "display_data"
    },
    {
     "data": {
      "application/vnd.jupyter.widget-view+json": {
       "model_id": "",
       "version_major": 2,
       "version_minor": 0
      },
      "text/plain": [
       "plot sweep:   0%|          | 0/80 [00:00<?, ?it/s]"
      ]
     },
     "metadata": {},
     "output_type": "display_data"
    },
    {
     "data": {
      "application/vnd.jupyter.widget-view+json": {
       "model_id": "",
       "version_major": 2,
       "version_minor": 0
      },
      "text/plain": [
       "plot sweep:   0%|          | 0/80 [00:00<?, ?it/s]"
      ]
     },
     "metadata": {},
     "output_type": "display_data"
    },
    {
     "data": {
      "application/vnd.jupyter.widget-view+json": {
       "model_id": "",
       "version_major": 2,
       "version_minor": 0
      },
      "text/plain": [
       "plot sweep:   0%|          | 0/80 [00:00<?, ?it/s]"
      ]
     },
     "metadata": {},
     "output_type": "display_data"
    },
    {
     "data": {
      "application/vnd.jupyter.widget-view+json": {
       "model_id": "",
       "version_major": 2,
       "version_minor": 0
      },
      "text/plain": [
       "plot sweep:   0%|          | 0/80 [00:00<?, ?it/s]"
      ]
     },
     "metadata": {},
     "output_type": "display_data"
    },
    {
     "data": {
      "application/vnd.jupyter.widget-view+json": {
       "model_id": "",
       "version_major": 2,
       "version_minor": 0
      },
      "text/plain": [
       "plot sweep:   0%|          | 0/80 [00:00<?, ?it/s]"
      ]
     },
     "metadata": {},
     "output_type": "display_data"
    },
    {
     "data": {
      "application/vnd.jupyter.widget-view+json": {
       "model_id": "",
       "version_major": 2,
       "version_minor": 0
      },
      "text/plain": [
       "plot sweep:   0%|          | 0/80 [00:00<?, ?it/s]"
      ]
     },
     "metadata": {},
     "output_type": "display_data"
    },
    {
     "data": {
      "application/vnd.jupyter.widget-view+json": {
       "model_id": "",
       "version_major": 2,
       "version_minor": 0
      },
      "text/plain": [
       "plot sweep:   0%|          | 0/80 [00:00<?, ?it/s]"
      ]
     },
     "metadata": {},
     "output_type": "display_data"
    },
    {
     "data": {
      "application/vnd.jupyter.widget-view+json": {
       "model_id": "",
       "version_major": 2,
       "version_minor": 0
      },
      "text/plain": [
       "plot sweep:   0%|          | 0/80 [00:00<?, ?it/s]"
      ]
     },
     "metadata": {},
     "output_type": "display_data"
    },
    {
     "data": {
      "application/vnd.jupyter.widget-view+json": {
       "model_id": "",
       "version_major": 2,
       "version_minor": 0
      },
      "text/plain": [
       "plot sweep:   0%|          | 0/80 [00:00<?, ?it/s]"
      ]
     },
     "metadata": {},
     "output_type": "display_data"
    },
    {
     "data": {
      "application/vnd.jupyter.widget-view+json": {
       "model_id": "",
       "version_major": 2,
       "version_minor": 0
      },
      "text/plain": [
       "plot sweep:   0%|          | 0/80 [00:00<?, ?it/s]"
      ]
     },
     "metadata": {},
     "output_type": "display_data"
    },
    {
     "data": {
      "application/vnd.jupyter.widget-view+json": {
       "model_id": "",
       "version_major": 2,
       "version_minor": 0
      },
      "text/plain": [
       "plot sweep:   0%|          | 0/80 [00:00<?, ?it/s]"
      ]
     },
     "metadata": {},
     "output_type": "display_data"
    },
    {
     "data": {
      "application/vnd.jupyter.widget-view+json": {
       "model_id": "",
       "version_major": 2,
       "version_minor": 0
      },
      "text/plain": [
       "plot sweep:   0%|          | 0/80 [00:00<?, ?it/s]"
      ]
     },
     "metadata": {},
     "output_type": "display_data"
    },
    {
     "data": {
      "application/vnd.jupyter.widget-view+json": {
       "model_id": "",
       "version_major": 2,
       "version_minor": 0
      },
      "text/plain": [
       "plot sweep:   0%|          | 0/80 [00:00<?, ?it/s]"
      ]
     },
     "metadata": {},
     "output_type": "display_data"
    },
    {
     "data": {
      "application/vnd.jupyter.widget-view+json": {
       "model_id": "",
       "version_major": 2,
       "version_minor": 0
      },
      "text/plain": [
       "plot sweep:   0%|          | 0/80 [00:00<?, ?it/s]"
      ]
     },
     "metadata": {},
     "output_type": "display_data"
    },
    {
     "data": {
      "application/vnd.jupyter.widget-view+json": {
       "model_id": "",
       "version_major": 2,
       "version_minor": 0
      },
      "text/plain": [
       "plot sweep:   0%|          | 0/80 [00:00<?, ?it/s]"
      ]
     },
     "metadata": {},
     "output_type": "display_data"
    },
    {
     "data": {
      "application/vnd.jupyter.widget-view+json": {
       "model_id": "",
       "version_major": 2,
       "version_minor": 0
      },
      "text/plain": [
       "plot sweep:   0%|          | 0/80 [00:00<?, ?it/s]"
      ]
     },
     "metadata": {},
     "output_type": "display_data"
    },
    {
     "data": {
      "application/vnd.jupyter.widget-view+json": {
       "model_id": "",
       "version_major": 2,
       "version_minor": 0
      },
      "text/plain": [
       "plot sweep:   0%|          | 0/80 [00:00<?, ?it/s]"
      ]
     },
     "metadata": {},
     "output_type": "display_data"
    },
    {
     "data": {
      "application/vnd.jupyter.widget-view+json": {
       "model_id": "",
       "version_major": 2,
       "version_minor": 0
      },
      "text/plain": [
       "plot sweep:   0%|          | 0/80 [00:00<?, ?it/s]"
      ]
     },
     "metadata": {},
     "output_type": "display_data"
    },
    {
     "data": {
      "application/vnd.jupyter.widget-view+json": {
       "model_id": "",
       "version_major": 2,
       "version_minor": 0
      },
      "text/plain": [
       "plot sweep:   0%|          | 0/80 [00:00<?, ?it/s]"
      ]
     },
     "metadata": {},
     "output_type": "display_data"
    },
    {
     "data": {
      "application/vnd.jupyter.widget-view+json": {
       "model_id": "",
       "version_major": 2,
       "version_minor": 0
      },
      "text/plain": [
       "plot sweep:   0%|          | 0/80 [00:00<?, ?it/s]"
      ]
     },
     "metadata": {},
     "output_type": "display_data"
    },
    {
     "data": {
      "application/vnd.jupyter.widget-view+json": {
       "model_id": "",
       "version_major": 2,
       "version_minor": 0
      },
      "text/plain": [
       "plot sweep:   0%|          | 0/80 [00:00<?, ?it/s]"
      ]
     },
     "metadata": {},
     "output_type": "display_data"
    },
    {
     "data": {
      "application/vnd.jupyter.widget-view+json": {
       "model_id": "",
       "version_major": 2,
       "version_minor": 0
      },
      "text/plain": [
       "plot sweep:   0%|          | 0/80 [00:00<?, ?it/s]"
      ]
     },
     "metadata": {},
     "output_type": "display_data"
    },
    {
     "data": {
      "application/vnd.jupyter.widget-view+json": {
       "model_id": "",
       "version_major": 2,
       "version_minor": 0
      },
      "text/plain": [
       "plot sweep:   0%|          | 0/80 [00:00<?, ?it/s]"
      ]
     },
     "metadata": {},
     "output_type": "display_data"
    },
    {
     "data": {
      "application/vnd.jupyter.widget-view+json": {
       "model_id": "",
       "version_major": 2,
       "version_minor": 0
      },
      "text/plain": [
       "plot sweep:   0%|          | 0/80 [00:00<?, ?it/s]"
      ]
     },
     "metadata": {},
     "output_type": "display_data"
    },
    {
     "data": {
      "application/vnd.jupyter.widget-view+json": {
       "model_id": "",
       "version_major": 2,
       "version_minor": 0
      },
      "text/plain": [
       "plot sweep:   0%|          | 0/80 [00:00<?, ?it/s]"
      ]
     },
     "metadata": {},
     "output_type": "display_data"
    },
    {
     "data": {
      "application/vnd.jupyter.widget-view+json": {
       "model_id": "",
       "version_major": 2,
       "version_minor": 0
      },
      "text/plain": [
       "plot sweep:   0%|          | 0/80 [00:00<?, ?it/s]"
      ]
     },
     "metadata": {},
     "output_type": "display_data"
    },
    {
     "data": {
      "application/vnd.jupyter.widget-view+json": {
       "model_id": "",
       "version_major": 2,
       "version_minor": 0
      },
      "text/plain": [
       "plot sweep:   0%|          | 0/80 [00:00<?, ?it/s]"
      ]
     },
     "metadata": {},
     "output_type": "display_data"
    },
    {
     "data": {
      "application/vnd.jupyter.widget-view+json": {
       "model_id": "",
       "version_major": 2,
       "version_minor": 0
      },
      "text/plain": [
       "plot sweep:   0%|          | 0/80 [00:00<?, ?it/s]"
      ]
     },
     "metadata": {},
     "output_type": "display_data"
    },
    {
     "data": {
      "application/vnd.jupyter.widget-view+json": {
       "model_id": "",
       "version_major": 2,
       "version_minor": 0
      },
      "text/plain": [
       "plot sweep:   0%|          | 0/80 [00:00<?, ?it/s]"
      ]
     },
     "metadata": {},
     "output_type": "display_data"
    },
    {
     "data": {
      "application/vnd.jupyter.widget-view+json": {
       "model_id": "",
       "version_major": 2,
       "version_minor": 0
      },
      "text/plain": [
       "plot sweep:   0%|          | 0/80 [00:00<?, ?it/s]"
      ]
     },
     "metadata": {},
     "output_type": "display_data"
    },
    {
     "data": {
      "application/vnd.jupyter.widget-view+json": {
       "model_id": "",
       "version_major": 2,
       "version_minor": 0
      },
      "text/plain": [
       "plot sweep:   0%|          | 0/80 [00:00<?, ?it/s]"
      ]
     },
     "metadata": {},
     "output_type": "display_data"
    },
    {
     "data": {
      "application/vnd.jupyter.widget-view+json": {
       "model_id": "",
       "version_major": 2,
       "version_minor": 0
      },
      "text/plain": [
       "plot sweep:   0%|          | 0/80 [00:00<?, ?it/s]"
      ]
     },
     "metadata": {},
     "output_type": "display_data"
    },
    {
     "data": {
      "application/vnd.jupyter.widget-view+json": {
       "model_id": "",
       "version_major": 2,
       "version_minor": 0
      },
      "text/plain": [
       "plot sweep:   0%|          | 0/80 [00:00<?, ?it/s]"
      ]
     },
     "metadata": {},
     "output_type": "display_data"
    },
    {
     "data": {
      "application/vnd.jupyter.widget-view+json": {
       "model_id": "",
       "version_major": 2,
       "version_minor": 0
      },
      "text/plain": [
       "plot sweep:   0%|          | 0/80 [00:00<?, ?it/s]"
      ]
     },
     "metadata": {},
     "output_type": "display_data"
    },
    {
     "data": {
      "application/vnd.jupyter.widget-view+json": {
       "model_id": "",
       "version_major": 2,
       "version_minor": 0
      },
      "text/plain": [
       "plot sweep:   0%|          | 0/80 [00:00<?, ?it/s]"
      ]
     },
     "metadata": {},
     "output_type": "display_data"
    },
    {
     "data": {
      "application/vnd.jupyter.widget-view+json": {
       "model_id": "",
       "version_major": 2,
       "version_minor": 0
      },
      "text/plain": [
       "plot sweep:   0%|          | 0/80 [00:00<?, ?it/s]"
      ]
     },
     "metadata": {},
     "output_type": "display_data"
    },
    {
     "data": {
      "application/vnd.jupyter.widget-view+json": {
       "model_id": "",
       "version_major": 2,
       "version_minor": 0
      },
      "text/plain": [
       "plot sweep:   0%|          | 0/80 [00:00<?, ?it/s]"
      ]
     },
     "metadata": {},
     "output_type": "display_data"
    },
    {
     "data": {
      "application/vnd.jupyter.widget-view+json": {
       "model_id": "",
       "version_major": 2,
       "version_minor": 0
      },
      "text/plain": [
       "plot sweep:   0%|          | 0/80 [00:00<?, ?it/s]"
      ]
     },
     "metadata": {},
     "output_type": "display_data"
    },
    {
     "data": {
      "application/vnd.jupyter.widget-view+json": {
       "model_id": "",
       "version_major": 2,
       "version_minor": 0
      },
      "text/plain": [
       "plot sweep:   0%|          | 0/80 [00:00<?, ?it/s]"
      ]
     },
     "metadata": {},
     "output_type": "display_data"
    },
    {
     "data": {
      "application/vnd.jupyter.widget-view+json": {
       "model_id": "",
       "version_major": 2,
       "version_minor": 0
      },
      "text/plain": [
       "plot sweep:   0%|          | 0/80 [00:00<?, ?it/s]"
      ]
     },
     "metadata": {},
     "output_type": "display_data"
    },
    {
     "data": {
      "application/vnd.jupyter.widget-view+json": {
       "model_id": "",
       "version_major": 2,
       "version_minor": 0
      },
      "text/plain": [
       "plot sweep:   0%|          | 0/80 [00:00<?, ?it/s]"
      ]
     },
     "metadata": {},
     "output_type": "display_data"
    },
    {
     "data": {
      "application/vnd.jupyter.widget-view+json": {
       "model_id": "",
       "version_major": 2,
       "version_minor": 0
      },
      "text/plain": [
       "plot sweep:   0%|          | 0/80 [00:00<?, ?it/s]"
      ]
     },
     "metadata": {},
     "output_type": "display_data"
    },
    {
     "data": {
      "application/vnd.jupyter.widget-view+json": {
       "model_id": "",
       "version_major": 2,
       "version_minor": 0
      },
      "text/plain": [
       "plot sweep:   0%|          | 0/80 [00:00<?, ?it/s]"
      ]
     },
     "metadata": {},
     "output_type": "display_data"
    },
    {
     "data": {
      "application/vnd.jupyter.widget-view+json": {
       "model_id": "",
       "version_major": 2,
       "version_minor": 0
      },
      "text/plain": [
       "plot sweep:   0%|          | 0/80 [00:00<?, ?it/s]"
      ]
     },
     "metadata": {},
     "output_type": "display_data"
    },
    {
     "data": {
      "application/vnd.jupyter.widget-view+json": {
       "model_id": "",
       "version_major": 2,
       "version_minor": 0
      },
      "text/plain": [
       "plot sweep:   0%|          | 0/80 [00:00<?, ?it/s]"
      ]
     },
     "metadata": {},
     "output_type": "display_data"
    },
    {
     "data": {
      "application/vnd.jupyter.widget-view+json": {
       "model_id": "",
       "version_major": 2,
       "version_minor": 0
      },
      "text/plain": [
       "plot sweep:   0%|          | 0/80 [00:00<?, ?it/s]"
      ]
     },
     "metadata": {},
     "output_type": "display_data"
    },
    {
     "data": {
      "application/vnd.jupyter.widget-view+json": {
       "model_id": "",
       "version_major": 2,
       "version_minor": 0
      },
      "text/plain": [
       "plot sweep:   0%|          | 0/80 [00:00<?, ?it/s]"
      ]
     },
     "metadata": {},
     "output_type": "display_data"
    },
    {
     "data": {
      "application/vnd.jupyter.widget-view+json": {
       "model_id": "",
       "version_major": 2,
       "version_minor": 0
      },
      "text/plain": [
       "plot sweep:   0%|          | 0/80 [00:00<?, ?it/s]"
      ]
     },
     "metadata": {},
     "output_type": "display_data"
    },
    {
     "data": {
      "application/vnd.jupyter.widget-view+json": {
       "model_id": "",
       "version_major": 2,
       "version_minor": 0
      },
      "text/plain": [
       "plot sweep:   0%|          | 0/80 [00:00<?, ?it/s]"
      ]
     },
     "metadata": {},
     "output_type": "display_data"
    },
    {
     "data": {
      "application/vnd.jupyter.widget-view+json": {
       "model_id": "",
       "version_major": 2,
       "version_minor": 0
      },
      "text/plain": [
       "plot sweep:   0%|          | 0/80 [00:00<?, ?it/s]"
      ]
     },
     "metadata": {},
     "output_type": "display_data"
    },
    {
     "data": {
      "application/vnd.jupyter.widget-view+json": {
       "model_id": "",
       "version_major": 2,
       "version_minor": 0
      },
      "text/plain": [
       "plot sweep:   0%|          | 0/80 [00:00<?, ?it/s]"
      ]
     },
     "metadata": {},
     "output_type": "display_data"
    },
    {
     "data": {
      "application/vnd.jupyter.widget-view+json": {
       "model_id": "",
       "version_major": 2,
       "version_minor": 0
      },
      "text/plain": [
       "plot sweep:   0%|          | 0/80 [00:00<?, ?it/s]"
      ]
     },
     "metadata": {},
     "output_type": "display_data"
    },
    {
     "data": {
      "application/vnd.jupyter.widget-view+json": {
       "model_id": "",
       "version_major": 2,
       "version_minor": 0
      },
      "text/plain": [
       "plot sweep:   0%|          | 0/80 [00:00<?, ?it/s]"
      ]
     },
     "metadata": {},
     "output_type": "display_data"
    },
    {
     "data": {
      "application/vnd.jupyter.widget-view+json": {
       "model_id": "",
       "version_major": 2,
       "version_minor": 0
      },
      "text/plain": [
       "plot sweep:   0%|          | 0/80 [00:00<?, ?it/s]"
      ]
     },
     "metadata": {},
     "output_type": "display_data"
    },
    {
     "data": {
      "application/vnd.jupyter.widget-view+json": {
       "model_id": "",
       "version_major": 2,
       "version_minor": 0
      },
      "text/plain": [
       "plot sweep:   0%|          | 0/80 [00:00<?, ?it/s]"
      ]
     },
     "metadata": {},
     "output_type": "display_data"
    },
    {
     "data": {
      "application/vnd.jupyter.widget-view+json": {
       "model_id": "",
       "version_major": 2,
       "version_minor": 0
      },
      "text/plain": [
       "plot sweep:   0%|          | 0/80 [00:00<?, ?it/s]"
      ]
     },
     "metadata": {},
     "output_type": "display_data"
    },
    {
     "data": {
      "application/vnd.jupyter.widget-view+json": {
       "model_id": "",
       "version_major": 2,
       "version_minor": 0
      },
      "text/plain": [
       "plot sweep:   0%|          | 0/80 [00:00<?, ?it/s]"
      ]
     },
     "metadata": {},
     "output_type": "display_data"
    },
    {
     "data": {
      "application/vnd.jupyter.widget-view+json": {
       "model_id": "",
       "version_major": 2,
       "version_minor": 0
      },
      "text/plain": [
       "plot sweep:   0%|          | 0/80 [00:00<?, ?it/s]"
      ]
     },
     "metadata": {},
     "output_type": "display_data"
    },
    {
     "data": {
      "application/vnd.jupyter.widget-view+json": {
       "model_id": "",
       "version_major": 2,
       "version_minor": 0
      },
      "text/plain": [
       "plot sweep:   0%|          | 0/80 [00:00<?, ?it/s]"
      ]
     },
     "metadata": {},
     "output_type": "display_data"
    },
    {
     "data": {
      "application/vnd.jupyter.widget-view+json": {
       "model_id": "",
       "version_major": 2,
       "version_minor": 0
      },
      "text/plain": [
       "plot sweep:   0%|          | 0/80 [00:00<?, ?it/s]"
      ]
     },
     "metadata": {},
     "output_type": "display_data"
    },
    {
     "data": {
      "application/vnd.jupyter.widget-view+json": {
       "model_id": "",
       "version_major": 2,
       "version_minor": 0
      },
      "text/plain": [
       "plot sweep:   0%|          | 0/80 [00:00<?, ?it/s]"
      ]
     },
     "metadata": {},
     "output_type": "display_data"
    },
    {
     "data": {
      "application/vnd.jupyter.widget-view+json": {
       "model_id": "",
       "version_major": 2,
       "version_minor": 0
      },
      "text/plain": [
       "plot sweep:   0%|          | 0/80 [00:00<?, ?it/s]"
      ]
     },
     "metadata": {},
     "output_type": "display_data"
    },
    {
     "data": {
      "application/vnd.jupyter.widget-view+json": {
       "model_id": "",
       "version_major": 2,
       "version_minor": 0
      },
      "text/plain": [
       "plot sweep:   0%|          | 0/80 [00:00<?, ?it/s]"
      ]
     },
     "metadata": {},
     "output_type": "display_data"
    },
    {
     "data": {
      "application/vnd.jupyter.widget-view+json": {
       "model_id": "",
       "version_major": 2,
       "version_minor": 0
      },
      "text/plain": [
       "plot sweep:   0%|          | 0/80 [00:00<?, ?it/s]"
      ]
     },
     "metadata": {},
     "output_type": "display_data"
    },
    {
     "data": {
      "application/vnd.jupyter.widget-view+json": {
       "model_id": "",
       "version_major": 2,
       "version_minor": 0
      },
      "text/plain": [
       "plot sweep:   0%|          | 0/80 [00:00<?, ?it/s]"
      ]
     },
     "metadata": {},
     "output_type": "display_data"
    },
    {
     "data": {
      "application/vnd.jupyter.widget-view+json": {
       "model_id": "",
       "version_major": 2,
       "version_minor": 0
      },
      "text/plain": [
       "plot sweep:   0%|          | 0/80 [00:00<?, ?it/s]"
      ]
     },
     "metadata": {},
     "output_type": "display_data"
    },
    {
     "data": {
      "application/vnd.jupyter.widget-view+json": {
       "model_id": "",
       "version_major": 2,
       "version_minor": 0
      },
      "text/plain": [
       "plot sweep:   0%|          | 0/80 [00:00<?, ?it/s]"
      ]
     },
     "metadata": {},
     "output_type": "display_data"
    },
    {
     "data": {
      "application/vnd.jupyter.widget-view+json": {
       "model_id": "",
       "version_major": 2,
       "version_minor": 0
      },
      "text/plain": [
       "plot sweep:   0%|          | 0/80 [00:00<?, ?it/s]"
      ]
     },
     "metadata": {},
     "output_type": "display_data"
    },
    {
     "data": {
      "application/vnd.jupyter.widget-view+json": {
       "model_id": "",
       "version_major": 2,
       "version_minor": 0
      },
      "text/plain": [
       "plot sweep:   0%|          | 0/80 [00:00<?, ?it/s]"
      ]
     },
     "metadata": {},
     "output_type": "display_data"
    },
    {
     "data": {
      "application/vnd.jupyter.widget-view+json": {
       "model_id": "",
       "version_major": 2,
       "version_minor": 0
      },
      "text/plain": [
       "plot sweep:   0%|          | 0/80 [00:00<?, ?it/s]"
      ]
     },
     "metadata": {},
     "output_type": "display_data"
    },
    {
     "data": {
      "application/vnd.jupyter.widget-view+json": {
       "model_id": "",
       "version_major": 2,
       "version_minor": 0
      },
      "text/plain": [
       "plot sweep:   0%|          | 0/80 [00:00<?, ?it/s]"
      ]
     },
     "metadata": {},
     "output_type": "display_data"
    },
    {
     "data": {
      "application/vnd.jupyter.widget-view+json": {
       "model_id": "",
       "version_major": 2,
       "version_minor": 0
      },
      "text/plain": [
       "plot sweep:   0%|          | 0/80 [00:00<?, ?it/s]"
      ]
     },
     "metadata": {},
     "output_type": "display_data"
    },
    {
     "data": {
      "application/vnd.jupyter.widget-view+json": {
       "model_id": "",
       "version_major": 2,
       "version_minor": 0
      },
      "text/plain": [
       "plot sweep:   0%|          | 0/80 [00:00<?, ?it/s]"
      ]
     },
     "metadata": {},
     "output_type": "display_data"
    },
    {
     "data": {
      "application/vnd.jupyter.widget-view+json": {
       "model_id": "",
       "version_major": 2,
       "version_minor": 0
      },
      "text/plain": [
       "plot sweep:   0%|          | 0/80 [00:00<?, ?it/s]"
      ]
     },
     "metadata": {},
     "output_type": "display_data"
    },
    {
     "data": {
      "application/vnd.jupyter.widget-view+json": {
       "model_id": "",
       "version_major": 2,
       "version_minor": 0
      },
      "text/plain": [
       "plot sweep:   0%|          | 0/80 [00:00<?, ?it/s]"
      ]
     },
     "metadata": {},
     "output_type": "display_data"
    },
    {
     "data": {
      "application/vnd.jupyter.widget-view+json": {
       "model_id": "",
       "version_major": 2,
       "version_minor": 0
      },
      "text/plain": [
       "plot sweep:   0%|          | 0/80 [00:00<?, ?it/s]"
      ]
     },
     "metadata": {},
     "output_type": "display_data"
    },
    {
     "data": {
      "application/vnd.jupyter.widget-view+json": {
       "model_id": "",
       "version_major": 2,
       "version_minor": 0
      },
      "text/plain": [
       "plot sweep:   0%|          | 0/80 [00:00<?, ?it/s]"
      ]
     },
     "metadata": {},
     "output_type": "display_data"
    },
    {
     "data": {
      "application/vnd.jupyter.widget-view+json": {
       "model_id": "",
       "version_major": 2,
       "version_minor": 0
      },
      "text/plain": [
       "plot sweep:   0%|          | 0/80 [00:00<?, ?it/s]"
      ]
     },
     "metadata": {},
     "output_type": "display_data"
    },
    {
     "data": {
      "application/vnd.jupyter.widget-view+json": {
       "model_id": "",
       "version_major": 2,
       "version_minor": 0
      },
      "text/plain": [
       "plot sweep:   0%|          | 0/80 [00:00<?, ?it/s]"
      ]
     },
     "metadata": {},
     "output_type": "display_data"
    },
    {
     "data": {
      "application/vnd.jupyter.widget-view+json": {
       "model_id": "",
       "version_major": 2,
       "version_minor": 0
      },
      "text/plain": [
       "plot sweep:   0%|          | 0/80 [00:00<?, ?it/s]"
      ]
     },
     "metadata": {},
     "output_type": "display_data"
    },
    {
     "data": {
      "application/vnd.jupyter.widget-view+json": {
       "model_id": "",
       "version_major": 2,
       "version_minor": 0
      },
      "text/plain": [
       "plot sweep:   0%|          | 0/80 [00:00<?, ?it/s]"
      ]
     },
     "metadata": {},
     "output_type": "display_data"
    },
    {
     "data": {
      "application/vnd.jupyter.widget-view+json": {
       "model_id": "",
       "version_major": 2,
       "version_minor": 0
      },
      "text/plain": [
       "plot sweep:   0%|          | 0/80 [00:00<?, ?it/s]"
      ]
     },
     "metadata": {},
     "output_type": "display_data"
    },
    {
     "data": {
      "application/vnd.jupyter.widget-view+json": {
       "model_id": "",
       "version_major": 2,
       "version_minor": 0
      },
      "text/plain": [
       "plot sweep:   0%|          | 0/80 [00:00<?, ?it/s]"
      ]
     },
     "metadata": {},
     "output_type": "display_data"
    },
    {
     "data": {
      "application/vnd.jupyter.widget-view+json": {
       "model_id": "",
       "version_major": 2,
       "version_minor": 0
      },
      "text/plain": [
       "plot sweep:   0%|          | 0/80 [00:00<?, ?it/s]"
      ]
     },
     "metadata": {},
     "output_type": "display_data"
    },
    {
     "data": {
      "application/vnd.jupyter.widget-view+json": {
       "model_id": "",
       "version_major": 2,
       "version_minor": 0
      },
      "text/plain": [
       "plot sweep:   0%|          | 0/80 [00:00<?, ?it/s]"
      ]
     },
     "metadata": {},
     "output_type": "display_data"
    },
    {
     "data": {
      "application/vnd.jupyter.widget-view+json": {
       "model_id": "",
       "version_major": 2,
       "version_minor": 0
      },
      "text/plain": [
       "plot sweep:   0%|          | 0/80 [00:00<?, ?it/s]"
      ]
     },
     "metadata": {},
     "output_type": "display_data"
    },
    {
     "data": {
      "application/vnd.jupyter.widget-view+json": {
       "model_id": "",
       "version_major": 2,
       "version_minor": 0
      },
      "text/plain": [
       "plot sweep:   0%|          | 0/80 [00:00<?, ?it/s]"
      ]
     },
     "metadata": {},
     "output_type": "display_data"
    },
    {
     "data": {
      "application/vnd.jupyter.widget-view+json": {
       "model_id": "",
       "version_major": 2,
       "version_minor": 0
      },
      "text/plain": [
       "plot sweep:   0%|          | 0/80 [00:00<?, ?it/s]"
      ]
     },
     "metadata": {},
     "output_type": "display_data"
    },
    {
     "data": {
      "application/vnd.jupyter.widget-view+json": {
       "model_id": "",
       "version_major": 2,
       "version_minor": 0
      },
      "text/plain": [
       "plot sweep:   0%|          | 0/80 [00:00<?, ?it/s]"
      ]
     },
     "metadata": {},
     "output_type": "display_data"
    },
    {
     "data": {
      "application/vnd.jupyter.widget-view+json": {
       "model_id": "",
       "version_major": 2,
       "version_minor": 0
      },
      "text/plain": [
       "plot sweep:   0%|          | 0/80 [00:00<?, ?it/s]"
      ]
     },
     "metadata": {},
     "output_type": "display_data"
    },
    {
     "data": {
      "application/vnd.jupyter.widget-view+json": {
       "model_id": "",
       "version_major": 2,
       "version_minor": 0
      },
      "text/plain": [
       "plot sweep:   0%|          | 0/80 [00:00<?, ?it/s]"
      ]
     },
     "metadata": {},
     "output_type": "display_data"
    },
    {
     "data": {
      "application/vnd.jupyter.widget-view+json": {
       "model_id": "",
       "version_major": 2,
       "version_minor": 0
      },
      "text/plain": [
       "plot sweep:   0%|          | 0/80 [00:00<?, ?it/s]"
      ]
     },
     "metadata": {},
     "output_type": "display_data"
    },
    {
     "data": {
      "application/vnd.jupyter.widget-view+json": {
       "model_id": "",
       "version_major": 2,
       "version_minor": 0
      },
      "text/plain": [
       "plot sweep:   0%|          | 0/80 [00:00<?, ?it/s]"
      ]
     },
     "metadata": {},
     "output_type": "display_data"
    },
    {
     "data": {
      "application/vnd.jupyter.widget-view+json": {
       "model_id": "",
       "version_major": 2,
       "version_minor": 0
      },
      "text/plain": [
       "plot sweep:   0%|          | 0/80 [00:00<?, ?it/s]"
      ]
     },
     "metadata": {},
     "output_type": "display_data"
    },
    {
     "data": {
      "application/vnd.jupyter.widget-view+json": {
       "model_id": "",
       "version_major": 2,
       "version_minor": 0
      },
      "text/plain": [
       "plot sweep:   0%|          | 0/80 [00:00<?, ?it/s]"
      ]
     },
     "metadata": {},
     "output_type": "display_data"
    },
    {
     "data": {
      "application/vnd.jupyter.widget-view+json": {
       "model_id": "",
       "version_major": 2,
       "version_minor": 0
      },
      "text/plain": [
       "plot sweep:   0%|          | 0/80 [00:00<?, ?it/s]"
      ]
     },
     "metadata": {},
     "output_type": "display_data"
    },
    {
     "data": {
      "application/vnd.jupyter.widget-view+json": {
       "model_id": "",
       "version_major": 2,
       "version_minor": 0
      },
      "text/plain": [
       "plot sweep:   0%|          | 0/80 [00:00<?, ?it/s]"
      ]
     },
     "metadata": {},
     "output_type": "display_data"
    },
    {
     "data": {
      "application/vnd.jupyter.widget-view+json": {
       "model_id": "",
       "version_major": 2,
       "version_minor": 0
      },
      "text/plain": [
       "plot sweep:   0%|          | 0/80 [00:00<?, ?it/s]"
      ]
     },
     "metadata": {},
     "output_type": "display_data"
    },
    {
     "data": {
      "application/vnd.jupyter.widget-view+json": {
       "model_id": "",
       "version_major": 2,
       "version_minor": 0
      },
      "text/plain": [
       "plot sweep:   0%|          | 0/80 [00:00<?, ?it/s]"
      ]
     },
     "metadata": {},
     "output_type": "display_data"
    },
    {
     "data": {
      "application/vnd.jupyter.widget-view+json": {
       "model_id": "",
       "version_major": 2,
       "version_minor": 0
      },
      "text/plain": [
       "plot sweep:   0%|          | 0/80 [00:00<?, ?it/s]"
      ]
     },
     "metadata": {},
     "output_type": "display_data"
    },
    {
     "data": {
      "application/vnd.jupyter.widget-view+json": {
       "model_id": "",
       "version_major": 2,
       "version_minor": 0
      },
      "text/plain": [
       "plot sweep:   0%|          | 0/80 [00:00<?, ?it/s]"
      ]
     },
     "metadata": {},
     "output_type": "display_data"
    },
    {
     "data": {
      "application/vnd.jupyter.widget-view+json": {
       "model_id": "",
       "version_major": 2,
       "version_minor": 0
      },
      "text/plain": [
       "plot sweep:   0%|          | 0/80 [00:00<?, ?it/s]"
      ]
     },
     "metadata": {},
     "output_type": "display_data"
    },
    {
     "data": {
      "application/vnd.jupyter.widget-view+json": {
       "model_id": "",
       "version_major": 2,
       "version_minor": 0
      },
      "text/plain": [
       "plot sweep:   0%|          | 0/80 [00:00<?, ?it/s]"
      ]
     },
     "metadata": {},
     "output_type": "display_data"
    },
    {
     "data": {
      "application/vnd.jupyter.widget-view+json": {
       "model_id": "",
       "version_major": 2,
       "version_minor": 0
      },
      "text/plain": [
       "plot sweep:   0%|          | 0/80 [00:00<?, ?it/s]"
      ]
     },
     "metadata": {},
     "output_type": "display_data"
    },
    {
     "data": {
      "application/vnd.jupyter.widget-view+json": {
       "model_id": "",
       "version_major": 2,
       "version_minor": 0
      },
      "text/plain": [
       "plot sweep:   0%|          | 0/69 [00:00<?, ?it/s]"
      ]
     },
     "metadata": {},
     "output_type": "display_data"
    },
    {
     "data": {
      "application/vnd.jupyter.widget-view+json": {
       "model_id": "",
       "version_major": 2,
       "version_minor": 0
      },
      "text/plain": [
       "plot sweep:   0%|          | 0/80 [00:00<?, ?it/s]"
      ]
     },
     "metadata": {},
     "output_type": "display_data"
    },
    {
     "data": {
      "application/vnd.jupyter.widget-view+json": {
       "model_id": "",
       "version_major": 2,
       "version_minor": 0
      },
      "text/plain": [
       "plot sweep:   0%|          | 0/80 [00:00<?, ?it/s]"
      ]
     },
     "metadata": {},
     "output_type": "display_data"
    },
    {
     "data": {
      "application/vnd.jupyter.widget-view+json": {
       "model_id": "",
       "version_major": 2,
       "version_minor": 0
      },
      "text/plain": [
       "plot sweep:   0%|          | 0/80 [00:00<?, ?it/s]"
      ]
     },
     "metadata": {},
     "output_type": "display_data"
    },
    {
     "data": {
      "application/vnd.jupyter.widget-view+json": {
       "model_id": "",
       "version_major": 2,
       "version_minor": 0
      },
      "text/plain": [
       "plot sweep:   0%|          | 0/80 [00:00<?, ?it/s]"
      ]
     },
     "metadata": {},
     "output_type": "display_data"
    },
    {
     "data": {
      "application/vnd.jupyter.widget-view+json": {
       "model_id": "",
       "version_major": 2,
       "version_minor": 0
      },
      "text/plain": [
       "plot sweep:   0%|          | 0/80 [00:00<?, ?it/s]"
      ]
     },
     "metadata": {},
     "output_type": "display_data"
    },
    {
     "data": {
      "application/vnd.jupyter.widget-view+json": {
       "model_id": "",
       "version_major": 2,
       "version_minor": 0
      },
      "text/plain": [
       "plot sweep:   0%|          | 0/80 [00:00<?, ?it/s]"
      ]
     },
     "metadata": {},
     "output_type": "display_data"
    },
    {
     "data": {
      "application/vnd.jupyter.widget-view+json": {
       "model_id": "",
       "version_major": 2,
       "version_minor": 0
      },
      "text/plain": [
       "plot sweep:   0%|          | 0/80 [00:00<?, ?it/s]"
      ]
     },
     "metadata": {},
     "output_type": "display_data"
    },
    {
     "data": {
      "application/vnd.jupyter.widget-view+json": {
       "model_id": "",
       "version_major": 2,
       "version_minor": 0
      },
      "text/plain": [
       "plot sweep:   0%|          | 0/80 [00:00<?, ?it/s]"
      ]
     },
     "metadata": {},
     "output_type": "display_data"
    },
    {
     "data": {
      "application/vnd.jupyter.widget-view+json": {
       "model_id": "",
       "version_major": 2,
       "version_minor": 0
      },
      "text/plain": [
       "plot sweep:   0%|          | 0/80 [00:00<?, ?it/s]"
      ]
     },
     "metadata": {},
     "output_type": "display_data"
    },
    {
     "data": {
      "application/vnd.jupyter.widget-view+json": {
       "model_id": "",
       "version_major": 2,
       "version_minor": 0
      },
      "text/plain": [
       "plot sweep:   0%|          | 0/80 [00:00<?, ?it/s]"
      ]
     },
     "metadata": {},
     "output_type": "display_data"
    },
    {
     "data": {
      "application/vnd.jupyter.widget-view+json": {
       "model_id": "",
       "version_major": 2,
       "version_minor": 0
      },
      "text/plain": [
       "plot sweep:   0%|          | 0/80 [00:00<?, ?it/s]"
      ]
     },
     "metadata": {},
     "output_type": "display_data"
    },
    {
     "data": {
      "application/vnd.jupyter.widget-view+json": {
       "model_id": "",
       "version_major": 2,
       "version_minor": 0
      },
      "text/plain": [
       "plot sweep:   0%|          | 0/80 [00:00<?, ?it/s]"
      ]
     },
     "metadata": {},
     "output_type": "display_data"
    },
    {
     "data": {
      "application/vnd.jupyter.widget-view+json": {
       "model_id": "",
       "version_major": 2,
       "version_minor": 0
      },
      "text/plain": [
       "plot sweep:   0%|          | 0/80 [00:00<?, ?it/s]"
      ]
     },
     "metadata": {},
     "output_type": "display_data"
    },
    {
     "data": {
      "application/vnd.jupyter.widget-view+json": {
       "model_id": "",
       "version_major": 2,
       "version_minor": 0
      },
      "text/plain": [
       "plot sweep:   0%|          | 0/80 [00:00<?, ?it/s]"
      ]
     },
     "metadata": {},
     "output_type": "display_data"
    },
    {
     "data": {
      "application/vnd.jupyter.widget-view+json": {
       "model_id": "",
       "version_major": 2,
       "version_minor": 0
      },
      "text/plain": [
       "plot sweep:   0%|          | 0/80 [00:00<?, ?it/s]"
      ]
     },
     "metadata": {},
     "output_type": "display_data"
    },
    {
     "data": {
      "application/vnd.jupyter.widget-view+json": {
       "model_id": "",
       "version_major": 2,
       "version_minor": 0
      },
      "text/plain": [
       "plot sweep:   0%|          | 0/80 [00:00<?, ?it/s]"
      ]
     },
     "metadata": {},
     "output_type": "display_data"
    },
    {
     "data": {
      "application/vnd.jupyter.widget-view+json": {
       "model_id": "",
       "version_major": 2,
       "version_minor": 0
      },
      "text/plain": [
       "plot sweep:   0%|          | 0/80 [00:00<?, ?it/s]"
      ]
     },
     "metadata": {},
     "output_type": "display_data"
    },
    {
     "data": {
      "application/vnd.jupyter.widget-view+json": {
       "model_id": "",
       "version_major": 2,
       "version_minor": 0
      },
      "text/plain": [
       "plot sweep:   0%|          | 0/80 [00:00<?, ?it/s]"
      ]
     },
     "metadata": {},
     "output_type": "display_data"
    }
   ],
   "source": [
    "for _, row in tqdm(electro_df_me.iterrows(), total=electro_df_me.shape[0], desc='plot neuron'):\n",
    "    plot_nwb_trace(row['path'], row['Cell'], figs_me_path, min_max_i=(-320, 1490), min_max_v=(-150, 100))"
   ]
  },
  {
   "cell_type": "code",
   "execution_count": 30,
   "id": "e167ce97-ac28-48ec-b044-8c2a7d96d7d1",
   "metadata": {},
   "outputs": [
    {
     "data": {
      "text/plain": [
       "0"
      ]
     },
     "execution_count": 30,
     "metadata": {},
     "output_type": "execute_result"
    }
   ],
   "source": [
    "failed_me=[row['Cell'] for _, row in electro_df_me.iterrows() if len([f for f in (figs_me_path/Path(row['Cell'])).iterdir()])<2]\n",
    "len(failed_me)"
   ]
  },
  {
   "cell_type": "code",
   "execution_count": null,
   "id": "0f7c2e54",
   "metadata": {},
   "outputs": [],
   "source": [
    "from shutil import rmtree\n",
    "for d in failed_me:\n",
    "    rmtree(figs_me_path/d)\n",
    "removed_me = [row['Cell'] for _, row in electro_df_me.iterrows() if not (figs_me_path/row['Cell']).exists()]\n",
    "len(removed_me)"
   ]
  },
  {
   "cell_type": "code",
   "execution_count": 14,
   "id": "9d8f7f26-8e09-4b45-899e-b707e7c27db1",
   "metadata": {},
   "outputs": [],
   "source": [
    "figs_nm_path = Path('electro_L5_figs')\n",
    "figs_nm_path.mkdir(exist_ok=True)"
   ]
  },
  {
   "cell_type": "code",
   "execution_count": 15,
   "id": "233f4e09-3b91-43ef-ae1c-eda004237f19",
   "metadata": {
    "scrolled": true,
    "tags": []
   },
   "outputs": [
    {
     "data": {
      "application/vnd.jupyter.widget-view+json": {
       "model_id": "46aacfc9a33344b1891396a24ffb0746",
       "version_major": 2,
       "version_minor": 0
      },
      "text/plain": [
       "plot neuron:   0%|          | 0/205 [00:00<?, ?it/s]"
      ]
     },
     "metadata": {},
     "output_type": "display_data"
    },
    {
     "data": {
      "application/vnd.jupyter.widget-view+json": {
       "model_id": "",
       "version_major": 2,
       "version_minor": 0
      },
      "text/plain": [
       "plot sweep:   0%|          | 0/80 [00:00<?, ?it/s]"
      ]
     },
     "metadata": {},
     "output_type": "display_data"
    },
    {
     "data": {
      "application/vnd.jupyter.widget-view+json": {
       "model_id": "",
       "version_major": 2,
       "version_minor": 0
      },
      "text/plain": [
       "plot sweep:   0%|          | 0/80 [00:00<?, ?it/s]"
      ]
     },
     "metadata": {},
     "output_type": "display_data"
    },
    {
     "data": {
      "application/vnd.jupyter.widget-view+json": {
       "model_id": "",
       "version_major": 2,
       "version_minor": 0
      },
      "text/plain": [
       "plot sweep:   0%|          | 0/80 [00:00<?, ?it/s]"
      ]
     },
     "metadata": {},
     "output_type": "display_data"
    },
    {
     "data": {
      "application/vnd.jupyter.widget-view+json": {
       "model_id": "",
       "version_major": 2,
       "version_minor": 0
      },
      "text/plain": [
       "plot sweep:   0%|          | 0/80 [00:00<?, ?it/s]"
      ]
     },
     "metadata": {},
     "output_type": "display_data"
    },
    {
     "data": {
      "application/vnd.jupyter.widget-view+json": {
       "model_id": "",
       "version_major": 2,
       "version_minor": 0
      },
      "text/plain": [
       "plot sweep:   0%|          | 0/80 [00:00<?, ?it/s]"
      ]
     },
     "metadata": {},
     "output_type": "display_data"
    },
    {
     "data": {
      "application/vnd.jupyter.widget-view+json": {
       "model_id": "",
       "version_major": 2,
       "version_minor": 0
      },
      "text/plain": [
       "plot sweep:   0%|          | 0/80 [00:00<?, ?it/s]"
      ]
     },
     "metadata": {},
     "output_type": "display_data"
    },
    {
     "data": {
      "application/vnd.jupyter.widget-view+json": {
       "model_id": "",
       "version_major": 2,
       "version_minor": 0
      },
      "text/plain": [
       "plot sweep:   0%|          | 0/80 [00:00<?, ?it/s]"
      ]
     },
     "metadata": {},
     "output_type": "display_data"
    },
    {
     "data": {
      "application/vnd.jupyter.widget-view+json": {
       "model_id": "",
       "version_major": 2,
       "version_minor": 0
      },
      "text/plain": [
       "plot sweep:   0%|          | 0/80 [00:00<?, ?it/s]"
      ]
     },
     "metadata": {},
     "output_type": "display_data"
    },
    {
     "data": {
      "application/vnd.jupyter.widget-view+json": {
       "model_id": "",
       "version_major": 2,
       "version_minor": 0
      },
      "text/plain": [
       "plot sweep:   0%|          | 0/80 [00:00<?, ?it/s]"
      ]
     },
     "metadata": {},
     "output_type": "display_data"
    },
    {
     "data": {
      "application/vnd.jupyter.widget-view+json": {
       "model_id": "",
       "version_major": 2,
       "version_minor": 0
      },
      "text/plain": [
       "plot sweep:   0%|          | 0/80 [00:00<?, ?it/s]"
      ]
     },
     "metadata": {},
     "output_type": "display_data"
    },
    {
     "data": {
      "application/vnd.jupyter.widget-view+json": {
       "model_id": "",
       "version_major": 2,
       "version_minor": 0
      },
      "text/plain": [
       "plot sweep:   0%|          | 0/80 [00:00<?, ?it/s]"
      ]
     },
     "metadata": {},
     "output_type": "display_data"
    },
    {
     "data": {
      "application/vnd.jupyter.widget-view+json": {
       "model_id": "",
       "version_major": 2,
       "version_minor": 0
      },
      "text/plain": [
       "plot sweep:   0%|          | 0/80 [00:00<?, ?it/s]"
      ]
     },
     "metadata": {},
     "output_type": "display_data"
    },
    {
     "data": {
      "application/vnd.jupyter.widget-view+json": {
       "model_id": "",
       "version_major": 2,
       "version_minor": 0
      },
      "text/plain": [
       "plot sweep:   0%|          | 0/80 [00:00<?, ?it/s]"
      ]
     },
     "metadata": {},
     "output_type": "display_data"
    },
    {
     "data": {
      "application/vnd.jupyter.widget-view+json": {
       "model_id": "",
       "version_major": 2,
       "version_minor": 0
      },
      "text/plain": [
       "plot sweep:   0%|          | 0/80 [00:00<?, ?it/s]"
      ]
     },
     "metadata": {},
     "output_type": "display_data"
    },
    {
     "data": {
      "application/vnd.jupyter.widget-view+json": {
       "model_id": "",
       "version_major": 2,
       "version_minor": 0
      },
      "text/plain": [
       "plot sweep:   0%|          | 0/80 [00:00<?, ?it/s]"
      ]
     },
     "metadata": {},
     "output_type": "display_data"
    },
    {
     "data": {
      "application/vnd.jupyter.widget-view+json": {
       "model_id": "",
       "version_major": 2,
       "version_minor": 0
      },
      "text/plain": [
       "plot sweep:   0%|          | 0/80 [00:00<?, ?it/s]"
      ]
     },
     "metadata": {},
     "output_type": "display_data"
    },
    {
     "data": {
      "application/vnd.jupyter.widget-view+json": {
       "model_id": "",
       "version_major": 2,
       "version_minor": 0
      },
      "text/plain": [
       "plot sweep:   0%|          | 0/80 [00:00<?, ?it/s]"
      ]
     },
     "metadata": {},
     "output_type": "display_data"
    },
    {
     "data": {
      "application/vnd.jupyter.widget-view+json": {
       "model_id": "",
       "version_major": 2,
       "version_minor": 0
      },
      "text/plain": [
       "plot sweep:   0%|          | 0/80 [00:00<?, ?it/s]"
      ]
     },
     "metadata": {},
     "output_type": "display_data"
    },
    {
     "data": {
      "application/vnd.jupyter.widget-view+json": {
       "model_id": "",
       "version_major": 2,
       "version_minor": 0
      },
      "text/plain": [
       "plot sweep:   0%|          | 0/80 [00:00<?, ?it/s]"
      ]
     },
     "metadata": {},
     "output_type": "display_data"
    },
    {
     "data": {
      "application/vnd.jupyter.widget-view+json": {
       "model_id": "",
       "version_major": 2,
       "version_minor": 0
      },
      "text/plain": [
       "plot sweep:   0%|          | 0/80 [00:00<?, ?it/s]"
      ]
     },
     "metadata": {},
     "output_type": "display_data"
    },
    {
     "data": {
      "application/vnd.jupyter.widget-view+json": {
       "model_id": "",
       "version_major": 2,
       "version_minor": 0
      },
      "text/plain": [
       "plot sweep:   0%|          | 0/80 [00:00<?, ?it/s]"
      ]
     },
     "metadata": {},
     "output_type": "display_data"
    },
    {
     "data": {
      "application/vnd.jupyter.widget-view+json": {
       "model_id": "",
       "version_major": 2,
       "version_minor": 0
      },
      "text/plain": [
       "plot sweep:   0%|          | 0/80 [00:00<?, ?it/s]"
      ]
     },
     "metadata": {},
     "output_type": "display_data"
    },
    {
     "data": {
      "application/vnd.jupyter.widget-view+json": {
       "model_id": "",
       "version_major": 2,
       "version_minor": 0
      },
      "text/plain": [
       "plot sweep:   0%|          | 0/80 [00:00<?, ?it/s]"
      ]
     },
     "metadata": {},
     "output_type": "display_data"
    },
    {
     "data": {
      "application/vnd.jupyter.widget-view+json": {
       "model_id": "",
       "version_major": 2,
       "version_minor": 0
      },
      "text/plain": [
       "plot sweep:   0%|          | 0/80 [00:00<?, ?it/s]"
      ]
     },
     "metadata": {},
     "output_type": "display_data"
    },
    {
     "data": {
      "application/vnd.jupyter.widget-view+json": {
       "model_id": "",
       "version_major": 2,
       "version_minor": 0
      },
      "text/plain": [
       "plot sweep:   0%|          | 0/80 [00:00<?, ?it/s]"
      ]
     },
     "metadata": {},
     "output_type": "display_data"
    },
    {
     "data": {
      "application/vnd.jupyter.widget-view+json": {
       "model_id": "",
       "version_major": 2,
       "version_minor": 0
      },
      "text/plain": [
       "plot sweep:   0%|          | 0/80 [00:00<?, ?it/s]"
      ]
     },
     "metadata": {},
     "output_type": "display_data"
    },
    {
     "data": {
      "application/vnd.jupyter.widget-view+json": {
       "model_id": "",
       "version_major": 2,
       "version_minor": 0
      },
      "text/plain": [
       "plot sweep:   0%|          | 0/80 [00:00<?, ?it/s]"
      ]
     },
     "metadata": {},
     "output_type": "display_data"
    },
    {
     "data": {
      "application/vnd.jupyter.widget-view+json": {
       "model_id": "",
       "version_major": 2,
       "version_minor": 0
      },
      "text/plain": [
       "plot sweep:   0%|          | 0/80 [00:00<?, ?it/s]"
      ]
     },
     "metadata": {},
     "output_type": "display_data"
    },
    {
     "data": {
      "application/vnd.jupyter.widget-view+json": {
       "model_id": "",
       "version_major": 2,
       "version_minor": 0
      },
      "text/plain": [
       "plot sweep:   0%|          | 0/80 [00:00<?, ?it/s]"
      ]
     },
     "metadata": {},
     "output_type": "display_data"
    },
    {
     "data": {
      "application/vnd.jupyter.widget-view+json": {
       "model_id": "",
       "version_major": 2,
       "version_minor": 0
      },
      "text/plain": [
       "plot sweep:   0%|          | 0/80 [00:00<?, ?it/s]"
      ]
     },
     "metadata": {},
     "output_type": "display_data"
    },
    {
     "data": {
      "application/vnd.jupyter.widget-view+json": {
       "model_id": "",
       "version_major": 2,
       "version_minor": 0
      },
      "text/plain": [
       "plot sweep:   0%|          | 0/80 [00:00<?, ?it/s]"
      ]
     },
     "metadata": {},
     "output_type": "display_data"
    },
    {
     "data": {
      "application/vnd.jupyter.widget-view+json": {
       "model_id": "",
       "version_major": 2,
       "version_minor": 0
      },
      "text/plain": [
       "plot sweep:   0%|          | 0/80 [00:00<?, ?it/s]"
      ]
     },
     "metadata": {},
     "output_type": "display_data"
    },
    {
     "data": {
      "application/vnd.jupyter.widget-view+json": {
       "model_id": "",
       "version_major": 2,
       "version_minor": 0
      },
      "text/plain": [
       "plot sweep:   0%|          | 0/80 [00:00<?, ?it/s]"
      ]
     },
     "metadata": {},
     "output_type": "display_data"
    },
    {
     "data": {
      "application/vnd.jupyter.widget-view+json": {
       "model_id": "",
       "version_major": 2,
       "version_minor": 0
      },
      "text/plain": [
       "plot sweep:   0%|          | 0/80 [00:00<?, ?it/s]"
      ]
     },
     "metadata": {},
     "output_type": "display_data"
    },
    {
     "data": {
      "application/vnd.jupyter.widget-view+json": {
       "model_id": "",
       "version_major": 2,
       "version_minor": 0
      },
      "text/plain": [
       "plot sweep:   0%|          | 0/80 [00:00<?, ?it/s]"
      ]
     },
     "metadata": {},
     "output_type": "display_data"
    },
    {
     "data": {
      "application/vnd.jupyter.widget-view+json": {
       "model_id": "",
       "version_major": 2,
       "version_minor": 0
      },
      "text/plain": [
       "plot sweep:   0%|          | 0/80 [00:00<?, ?it/s]"
      ]
     },
     "metadata": {},
     "output_type": "display_data"
    },
    {
     "data": {
      "application/vnd.jupyter.widget-view+json": {
       "model_id": "",
       "version_major": 2,
       "version_minor": 0
      },
      "text/plain": [
       "plot sweep:   0%|          | 0/80 [00:00<?, ?it/s]"
      ]
     },
     "metadata": {},
     "output_type": "display_data"
    },
    {
     "data": {
      "application/vnd.jupyter.widget-view+json": {
       "model_id": "",
       "version_major": 2,
       "version_minor": 0
      },
      "text/plain": [
       "plot sweep:   0%|          | 0/80 [00:00<?, ?it/s]"
      ]
     },
     "metadata": {},
     "output_type": "display_data"
    },
    {
     "data": {
      "application/vnd.jupyter.widget-view+json": {
       "model_id": "",
       "version_major": 2,
       "version_minor": 0
      },
      "text/plain": [
       "plot sweep:   0%|          | 0/80 [00:00<?, ?it/s]"
      ]
     },
     "metadata": {},
     "output_type": "display_data"
    },
    {
     "data": {
      "application/vnd.jupyter.widget-view+json": {
       "model_id": "",
       "version_major": 2,
       "version_minor": 0
      },
      "text/plain": [
       "plot sweep:   0%|          | 0/80 [00:00<?, ?it/s]"
      ]
     },
     "metadata": {},
     "output_type": "display_data"
    },
    {
     "data": {
      "application/vnd.jupyter.widget-view+json": {
       "model_id": "",
       "version_major": 2,
       "version_minor": 0
      },
      "text/plain": [
       "plot sweep:   0%|          | 0/80 [00:00<?, ?it/s]"
      ]
     },
     "metadata": {},
     "output_type": "display_data"
    },
    {
     "data": {
      "application/vnd.jupyter.widget-view+json": {
       "model_id": "",
       "version_major": 2,
       "version_minor": 0
      },
      "text/plain": [
       "plot sweep:   0%|          | 0/80 [00:00<?, ?it/s]"
      ]
     },
     "metadata": {},
     "output_type": "display_data"
    },
    {
     "data": {
      "application/vnd.jupyter.widget-view+json": {
       "model_id": "",
       "version_major": 2,
       "version_minor": 0
      },
      "text/plain": [
       "plot sweep:   0%|          | 0/80 [00:00<?, ?it/s]"
      ]
     },
     "metadata": {},
     "output_type": "display_data"
    },
    {
     "data": {
      "application/vnd.jupyter.widget-view+json": {
       "model_id": "",
       "version_major": 2,
       "version_minor": 0
      },
      "text/plain": [
       "plot sweep:   0%|          | 0/80 [00:00<?, ?it/s]"
      ]
     },
     "metadata": {},
     "output_type": "display_data"
    },
    {
     "data": {
      "application/vnd.jupyter.widget-view+json": {
       "model_id": "",
       "version_major": 2,
       "version_minor": 0
      },
      "text/plain": [
       "plot sweep:   0%|          | 0/80 [00:00<?, ?it/s]"
      ]
     },
     "metadata": {},
     "output_type": "display_data"
    },
    {
     "data": {
      "application/vnd.jupyter.widget-view+json": {
       "model_id": "",
       "version_major": 2,
       "version_minor": 0
      },
      "text/plain": [
       "plot sweep:   0%|          | 0/80 [00:00<?, ?it/s]"
      ]
     },
     "metadata": {},
     "output_type": "display_data"
    },
    {
     "data": {
      "application/vnd.jupyter.widget-view+json": {
       "model_id": "",
       "version_major": 2,
       "version_minor": 0
      },
      "text/plain": [
       "plot sweep:   0%|          | 0/80 [00:00<?, ?it/s]"
      ]
     },
     "metadata": {},
     "output_type": "display_data"
    },
    {
     "data": {
      "application/vnd.jupyter.widget-view+json": {
       "model_id": "",
       "version_major": 2,
       "version_minor": 0
      },
      "text/plain": [
       "plot sweep:   0%|          | 0/80 [00:00<?, ?it/s]"
      ]
     },
     "metadata": {},
     "output_type": "display_data"
    },
    {
     "data": {
      "application/vnd.jupyter.widget-view+json": {
       "model_id": "",
       "version_major": 2,
       "version_minor": 0
      },
      "text/plain": [
       "plot sweep:   0%|          | 0/80 [00:00<?, ?it/s]"
      ]
     },
     "metadata": {},
     "output_type": "display_data"
    },
    {
     "data": {
      "application/vnd.jupyter.widget-view+json": {
       "model_id": "",
       "version_major": 2,
       "version_minor": 0
      },
      "text/plain": [
       "plot sweep:   0%|          | 0/80 [00:00<?, ?it/s]"
      ]
     },
     "metadata": {},
     "output_type": "display_data"
    },
    {
     "data": {
      "application/vnd.jupyter.widget-view+json": {
       "model_id": "",
       "version_major": 2,
       "version_minor": 0
      },
      "text/plain": [
       "plot sweep:   0%|          | 0/80 [00:00<?, ?it/s]"
      ]
     },
     "metadata": {},
     "output_type": "display_data"
    },
    {
     "data": {
      "application/vnd.jupyter.widget-view+json": {
       "model_id": "",
       "version_major": 2,
       "version_minor": 0
      },
      "text/plain": [
       "plot sweep:   0%|          | 0/80 [00:00<?, ?it/s]"
      ]
     },
     "metadata": {},
     "output_type": "display_data"
    },
    {
     "data": {
      "application/vnd.jupyter.widget-view+json": {
       "model_id": "",
       "version_major": 2,
       "version_minor": 0
      },
      "text/plain": [
       "plot sweep:   0%|          | 0/80 [00:00<?, ?it/s]"
      ]
     },
     "metadata": {},
     "output_type": "display_data"
    },
    {
     "data": {
      "application/vnd.jupyter.widget-view+json": {
       "model_id": "",
       "version_major": 2,
       "version_minor": 0
      },
      "text/plain": [
       "plot sweep:   0%|          | 0/80 [00:00<?, ?it/s]"
      ]
     },
     "metadata": {},
     "output_type": "display_data"
    },
    {
     "data": {
      "application/vnd.jupyter.widget-view+json": {
       "model_id": "",
       "version_major": 2,
       "version_minor": 0
      },
      "text/plain": [
       "plot sweep:   0%|          | 0/80 [00:00<?, ?it/s]"
      ]
     },
     "metadata": {},
     "output_type": "display_data"
    },
    {
     "data": {
      "application/vnd.jupyter.widget-view+json": {
       "model_id": "",
       "version_major": 2,
       "version_minor": 0
      },
      "text/plain": [
       "plot sweep:   0%|          | 0/80 [00:00<?, ?it/s]"
      ]
     },
     "metadata": {},
     "output_type": "display_data"
    },
    {
     "data": {
      "application/vnd.jupyter.widget-view+json": {
       "model_id": "",
       "version_major": 2,
       "version_minor": 0
      },
      "text/plain": [
       "plot sweep:   0%|          | 0/80 [00:00<?, ?it/s]"
      ]
     },
     "metadata": {},
     "output_type": "display_data"
    },
    {
     "data": {
      "application/vnd.jupyter.widget-view+json": {
       "model_id": "",
       "version_major": 2,
       "version_minor": 0
      },
      "text/plain": [
       "plot sweep:   0%|          | 0/80 [00:00<?, ?it/s]"
      ]
     },
     "metadata": {},
     "output_type": "display_data"
    },
    {
     "data": {
      "application/vnd.jupyter.widget-view+json": {
       "model_id": "",
       "version_major": 2,
       "version_minor": 0
      },
      "text/plain": [
       "plot sweep:   0%|          | 0/80 [00:00<?, ?it/s]"
      ]
     },
     "metadata": {},
     "output_type": "display_data"
    },
    {
     "data": {
      "application/vnd.jupyter.widget-view+json": {
       "model_id": "",
       "version_major": 2,
       "version_minor": 0
      },
      "text/plain": [
       "plot sweep:   0%|          | 0/80 [00:00<?, ?it/s]"
      ]
     },
     "metadata": {},
     "output_type": "display_data"
    },
    {
     "data": {
      "application/vnd.jupyter.widget-view+json": {
       "model_id": "",
       "version_major": 2,
       "version_minor": 0
      },
      "text/plain": [
       "plot sweep:   0%|          | 0/68 [00:00<?, ?it/s]"
      ]
     },
     "metadata": {},
     "output_type": "display_data"
    },
    {
     "data": {
      "application/vnd.jupyter.widget-view+json": {
       "model_id": "",
       "version_major": 2,
       "version_minor": 0
      },
      "text/plain": [
       "plot sweep:   0%|          | 0/80 [00:00<?, ?it/s]"
      ]
     },
     "metadata": {},
     "output_type": "display_data"
    },
    {
     "data": {
      "application/vnd.jupyter.widget-view+json": {
       "model_id": "",
       "version_major": 2,
       "version_minor": 0
      },
      "text/plain": [
       "plot sweep:   0%|          | 0/80 [00:00<?, ?it/s]"
      ]
     },
     "metadata": {},
     "output_type": "display_data"
    },
    {
     "data": {
      "application/vnd.jupyter.widget-view+json": {
       "model_id": "",
       "version_major": 2,
       "version_minor": 0
      },
      "text/plain": [
       "plot sweep:   0%|          | 0/80 [00:00<?, ?it/s]"
      ]
     },
     "metadata": {},
     "output_type": "display_data"
    },
    {
     "data": {
      "application/vnd.jupyter.widget-view+json": {
       "model_id": "",
       "version_major": 2,
       "version_minor": 0
      },
      "text/plain": [
       "plot sweep:   0%|          | 0/80 [00:00<?, ?it/s]"
      ]
     },
     "metadata": {},
     "output_type": "display_data"
    },
    {
     "data": {
      "application/vnd.jupyter.widget-view+json": {
       "model_id": "",
       "version_major": 2,
       "version_minor": 0
      },
      "text/plain": [
       "plot sweep:   0%|          | 0/80 [00:00<?, ?it/s]"
      ]
     },
     "metadata": {},
     "output_type": "display_data"
    },
    {
     "data": {
      "application/vnd.jupyter.widget-view+json": {
       "model_id": "",
       "version_major": 2,
       "version_minor": 0
      },
      "text/plain": [
       "plot sweep:   0%|          | 0/80 [00:00<?, ?it/s]"
      ]
     },
     "metadata": {},
     "output_type": "display_data"
    },
    {
     "data": {
      "application/vnd.jupyter.widget-view+json": {
       "model_id": "",
       "version_major": 2,
       "version_minor": 0
      },
      "text/plain": [
       "plot sweep:   0%|          | 0/80 [00:00<?, ?it/s]"
      ]
     },
     "metadata": {},
     "output_type": "display_data"
    },
    {
     "data": {
      "application/vnd.jupyter.widget-view+json": {
       "model_id": "",
       "version_major": 2,
       "version_minor": 0
      },
      "text/plain": [
       "plot sweep:   0%|          | 0/80 [00:00<?, ?it/s]"
      ]
     },
     "metadata": {},
     "output_type": "display_data"
    },
    {
     "data": {
      "application/vnd.jupyter.widget-view+json": {
       "model_id": "",
       "version_major": 2,
       "version_minor": 0
      },
      "text/plain": [
       "plot sweep:   0%|          | 0/80 [00:00<?, ?it/s]"
      ]
     },
     "metadata": {},
     "output_type": "display_data"
    },
    {
     "data": {
      "application/vnd.jupyter.widget-view+json": {
       "model_id": "",
       "version_major": 2,
       "version_minor": 0
      },
      "text/plain": [
       "plot sweep:   0%|          | 0/80 [00:00<?, ?it/s]"
      ]
     },
     "metadata": {},
     "output_type": "display_data"
    },
    {
     "data": {
      "application/vnd.jupyter.widget-view+json": {
       "model_id": "",
       "version_major": 2,
       "version_minor": 0
      },
      "text/plain": [
       "plot sweep:   0%|          | 0/80 [00:00<?, ?it/s]"
      ]
     },
     "metadata": {},
     "output_type": "display_data"
    },
    {
     "data": {
      "application/vnd.jupyter.widget-view+json": {
       "model_id": "",
       "version_major": 2,
       "version_minor": 0
      },
      "text/plain": [
       "plot sweep:   0%|          | 0/80 [00:00<?, ?it/s]"
      ]
     },
     "metadata": {},
     "output_type": "display_data"
    },
    {
     "data": {
      "application/vnd.jupyter.widget-view+json": {
       "model_id": "",
       "version_major": 2,
       "version_minor": 0
      },
      "text/plain": [
       "plot sweep:   0%|          | 0/80 [00:00<?, ?it/s]"
      ]
     },
     "metadata": {},
     "output_type": "display_data"
    },
    {
     "data": {
      "application/vnd.jupyter.widget-view+json": {
       "model_id": "",
       "version_major": 2,
       "version_minor": 0
      },
      "text/plain": [
       "plot sweep:   0%|          | 0/80 [00:00<?, ?it/s]"
      ]
     },
     "metadata": {},
     "output_type": "display_data"
    },
    {
     "data": {
      "application/vnd.jupyter.widget-view+json": {
       "model_id": "",
       "version_major": 2,
       "version_minor": 0
      },
      "text/plain": [
       "plot sweep:   0%|          | 0/80 [00:00<?, ?it/s]"
      ]
     },
     "metadata": {},
     "output_type": "display_data"
    },
    {
     "data": {
      "application/vnd.jupyter.widget-view+json": {
       "model_id": "",
       "version_major": 2,
       "version_minor": 0
      },
      "text/plain": [
       "plot sweep:   0%|          | 0/80 [00:00<?, ?it/s]"
      ]
     },
     "metadata": {},
     "output_type": "display_data"
    },
    {
     "data": {
      "application/vnd.jupyter.widget-view+json": {
       "model_id": "",
       "version_major": 2,
       "version_minor": 0
      },
      "text/plain": [
       "plot sweep:   0%|          | 0/80 [00:00<?, ?it/s]"
      ]
     },
     "metadata": {},
     "output_type": "display_data"
    },
    {
     "data": {
      "application/vnd.jupyter.widget-view+json": {
       "model_id": "",
       "version_major": 2,
       "version_minor": 0
      },
      "text/plain": [
       "plot sweep:   0%|          | 0/80 [00:00<?, ?it/s]"
      ]
     },
     "metadata": {},
     "output_type": "display_data"
    },
    {
     "data": {
      "application/vnd.jupyter.widget-view+json": {
       "model_id": "",
       "version_major": 2,
       "version_minor": 0
      },
      "text/plain": [
       "plot sweep:   0%|          | 0/80 [00:00<?, ?it/s]"
      ]
     },
     "metadata": {},
     "output_type": "display_data"
    },
    {
     "data": {
      "application/vnd.jupyter.widget-view+json": {
       "model_id": "",
       "version_major": 2,
       "version_minor": 0
      },
      "text/plain": [
       "plot sweep:   0%|          | 0/80 [00:00<?, ?it/s]"
      ]
     },
     "metadata": {},
     "output_type": "display_data"
    },
    {
     "data": {
      "application/vnd.jupyter.widget-view+json": {
       "model_id": "",
       "version_major": 2,
       "version_minor": 0
      },
      "text/plain": [
       "plot sweep:   0%|          | 0/80 [00:00<?, ?it/s]"
      ]
     },
     "metadata": {},
     "output_type": "display_data"
    },
    {
     "data": {
      "application/vnd.jupyter.widget-view+json": {
       "model_id": "",
       "version_major": 2,
       "version_minor": 0
      },
      "text/plain": [
       "plot sweep:   0%|          | 0/80 [00:00<?, ?it/s]"
      ]
     },
     "metadata": {},
     "output_type": "display_data"
    },
    {
     "data": {
      "application/vnd.jupyter.widget-view+json": {
       "model_id": "",
       "version_major": 2,
       "version_minor": 0
      },
      "text/plain": [
       "plot sweep:   0%|          | 0/80 [00:00<?, ?it/s]"
      ]
     },
     "metadata": {},
     "output_type": "display_data"
    },
    {
     "data": {
      "application/vnd.jupyter.widget-view+json": {
       "model_id": "",
       "version_major": 2,
       "version_minor": 0
      },
      "text/plain": [
       "plot sweep:   0%|          | 0/80 [00:00<?, ?it/s]"
      ]
     },
     "metadata": {},
     "output_type": "display_data"
    },
    {
     "data": {
      "application/vnd.jupyter.widget-view+json": {
       "model_id": "",
       "version_major": 2,
       "version_minor": 0
      },
      "text/plain": [
       "plot sweep:   0%|          | 0/80 [00:00<?, ?it/s]"
      ]
     },
     "metadata": {},
     "output_type": "display_data"
    },
    {
     "data": {
      "application/vnd.jupyter.widget-view+json": {
       "model_id": "",
       "version_major": 2,
       "version_minor": 0
      },
      "text/plain": [
       "plot sweep:   0%|          | 0/80 [00:00<?, ?it/s]"
      ]
     },
     "metadata": {},
     "output_type": "display_data"
    },
    {
     "data": {
      "application/vnd.jupyter.widget-view+json": {
       "model_id": "",
       "version_major": 2,
       "version_minor": 0
      },
      "text/plain": [
       "plot sweep:   0%|          | 0/80 [00:00<?, ?it/s]"
      ]
     },
     "metadata": {},
     "output_type": "display_data"
    },
    {
     "data": {
      "application/vnd.jupyter.widget-view+json": {
       "model_id": "",
       "version_major": 2,
       "version_minor": 0
      },
      "text/plain": [
       "plot sweep:   0%|          | 0/80 [00:00<?, ?it/s]"
      ]
     },
     "metadata": {},
     "output_type": "display_data"
    },
    {
     "data": {
      "application/vnd.jupyter.widget-view+json": {
       "model_id": "",
       "version_major": 2,
       "version_minor": 0
      },
      "text/plain": [
       "plot sweep:   0%|          | 0/80 [00:00<?, ?it/s]"
      ]
     },
     "metadata": {},
     "output_type": "display_data"
    },
    {
     "data": {
      "application/vnd.jupyter.widget-view+json": {
       "model_id": "",
       "version_major": 2,
       "version_minor": 0
      },
      "text/plain": [
       "plot sweep:   0%|          | 0/80 [00:00<?, ?it/s]"
      ]
     },
     "metadata": {},
     "output_type": "display_data"
    },
    {
     "data": {
      "application/vnd.jupyter.widget-view+json": {
       "model_id": "",
       "version_major": 2,
       "version_minor": 0
      },
      "text/plain": [
       "plot sweep:   0%|          | 0/80 [00:00<?, ?it/s]"
      ]
     },
     "metadata": {},
     "output_type": "display_data"
    },
    {
     "data": {
      "application/vnd.jupyter.widget-view+json": {
       "model_id": "",
       "version_major": 2,
       "version_minor": 0
      },
      "text/plain": [
       "plot sweep:   0%|          | 0/80 [00:00<?, ?it/s]"
      ]
     },
     "metadata": {},
     "output_type": "display_data"
    },
    {
     "data": {
      "application/vnd.jupyter.widget-view+json": {
       "model_id": "",
       "version_major": 2,
       "version_minor": 0
      },
      "text/plain": [
       "plot sweep:   0%|          | 0/80 [00:00<?, ?it/s]"
      ]
     },
     "metadata": {},
     "output_type": "display_data"
    },
    {
     "data": {
      "application/vnd.jupyter.widget-view+json": {
       "model_id": "",
       "version_major": 2,
       "version_minor": 0
      },
      "text/plain": [
       "plot sweep:   0%|          | 0/80 [00:00<?, ?it/s]"
      ]
     },
     "metadata": {},
     "output_type": "display_data"
    },
    {
     "data": {
      "application/vnd.jupyter.widget-view+json": {
       "model_id": "",
       "version_major": 2,
       "version_minor": 0
      },
      "text/plain": [
       "plot sweep:   0%|          | 0/80 [00:00<?, ?it/s]"
      ]
     },
     "metadata": {},
     "output_type": "display_data"
    },
    {
     "data": {
      "application/vnd.jupyter.widget-view+json": {
       "model_id": "",
       "version_major": 2,
       "version_minor": 0
      },
      "text/plain": [
       "plot sweep:   0%|          | 0/80 [00:00<?, ?it/s]"
      ]
     },
     "metadata": {},
     "output_type": "display_data"
    },
    {
     "data": {
      "application/vnd.jupyter.widget-view+json": {
       "model_id": "",
       "version_major": 2,
       "version_minor": 0
      },
      "text/plain": [
       "plot sweep:   0%|          | 0/80 [00:00<?, ?it/s]"
      ]
     },
     "metadata": {},
     "output_type": "display_data"
    },
    {
     "data": {
      "application/vnd.jupyter.widget-view+json": {
       "model_id": "",
       "version_major": 2,
       "version_minor": 0
      },
      "text/plain": [
       "plot sweep:   0%|          | 0/80 [00:00<?, ?it/s]"
      ]
     },
     "metadata": {},
     "output_type": "display_data"
    },
    {
     "data": {
      "application/vnd.jupyter.widget-view+json": {
       "model_id": "",
       "version_major": 2,
       "version_minor": 0
      },
      "text/plain": [
       "plot sweep:   0%|          | 0/80 [00:00<?, ?it/s]"
      ]
     },
     "metadata": {},
     "output_type": "display_data"
    },
    {
     "data": {
      "application/vnd.jupyter.widget-view+json": {
       "model_id": "",
       "version_major": 2,
       "version_minor": 0
      },
      "text/plain": [
       "plot sweep:   0%|          | 0/80 [00:00<?, ?it/s]"
      ]
     },
     "metadata": {},
     "output_type": "display_data"
    },
    {
     "data": {
      "application/vnd.jupyter.widget-view+json": {
       "model_id": "",
       "version_major": 2,
       "version_minor": 0
      },
      "text/plain": [
       "plot sweep:   0%|          | 0/80 [00:00<?, ?it/s]"
      ]
     },
     "metadata": {},
     "output_type": "display_data"
    },
    {
     "data": {
      "application/vnd.jupyter.widget-view+json": {
       "model_id": "",
       "version_major": 2,
       "version_minor": 0
      },
      "text/plain": [
       "plot sweep:   0%|          | 0/80 [00:00<?, ?it/s]"
      ]
     },
     "metadata": {},
     "output_type": "display_data"
    },
    {
     "data": {
      "application/vnd.jupyter.widget-view+json": {
       "model_id": "",
       "version_major": 2,
       "version_minor": 0
      },
      "text/plain": [
       "plot sweep:   0%|          | 0/80 [00:00<?, ?it/s]"
      ]
     },
     "metadata": {},
     "output_type": "display_data"
    },
    {
     "data": {
      "application/vnd.jupyter.widget-view+json": {
       "model_id": "",
       "version_major": 2,
       "version_minor": 0
      },
      "text/plain": [
       "plot sweep:   0%|          | 0/80 [00:00<?, ?it/s]"
      ]
     },
     "metadata": {},
     "output_type": "display_data"
    },
    {
     "data": {
      "application/vnd.jupyter.widget-view+json": {
       "model_id": "",
       "version_major": 2,
       "version_minor": 0
      },
      "text/plain": [
       "plot sweep:   0%|          | 0/80 [00:00<?, ?it/s]"
      ]
     },
     "metadata": {},
     "output_type": "display_data"
    },
    {
     "data": {
      "application/vnd.jupyter.widget-view+json": {
       "model_id": "",
       "version_major": 2,
       "version_minor": 0
      },
      "text/plain": [
       "plot sweep:   0%|          | 0/80 [00:00<?, ?it/s]"
      ]
     },
     "metadata": {},
     "output_type": "display_data"
    },
    {
     "data": {
      "application/vnd.jupyter.widget-view+json": {
       "model_id": "",
       "version_major": 2,
       "version_minor": 0
      },
      "text/plain": [
       "plot sweep:   0%|          | 0/80 [00:00<?, ?it/s]"
      ]
     },
     "metadata": {},
     "output_type": "display_data"
    },
    {
     "data": {
      "application/vnd.jupyter.widget-view+json": {
       "model_id": "",
       "version_major": 2,
       "version_minor": 0
      },
      "text/plain": [
       "plot sweep:   0%|          | 0/80 [00:00<?, ?it/s]"
      ]
     },
     "metadata": {},
     "output_type": "display_data"
    },
    {
     "data": {
      "application/vnd.jupyter.widget-view+json": {
       "model_id": "",
       "version_major": 2,
       "version_minor": 0
      },
      "text/plain": [
       "plot sweep:   0%|          | 0/80 [00:00<?, ?it/s]"
      ]
     },
     "metadata": {},
     "output_type": "display_data"
    },
    {
     "data": {
      "application/vnd.jupyter.widget-view+json": {
       "model_id": "",
       "version_major": 2,
       "version_minor": 0
      },
      "text/plain": [
       "plot sweep:   0%|          | 0/80 [00:00<?, ?it/s]"
      ]
     },
     "metadata": {},
     "output_type": "display_data"
    },
    {
     "data": {
      "application/vnd.jupyter.widget-view+json": {
       "model_id": "",
       "version_major": 2,
       "version_minor": 0
      },
      "text/plain": [
       "plot sweep:   0%|          | 0/80 [00:00<?, ?it/s]"
      ]
     },
     "metadata": {},
     "output_type": "display_data"
    },
    {
     "data": {
      "application/vnd.jupyter.widget-view+json": {
       "model_id": "",
       "version_major": 2,
       "version_minor": 0
      },
      "text/plain": [
       "plot sweep:   0%|          | 0/80 [00:00<?, ?it/s]"
      ]
     },
     "metadata": {},
     "output_type": "display_data"
    },
    {
     "data": {
      "application/vnd.jupyter.widget-view+json": {
       "model_id": "",
       "version_major": 2,
       "version_minor": 0
      },
      "text/plain": [
       "plot sweep:   0%|          | 0/80 [00:00<?, ?it/s]"
      ]
     },
     "metadata": {},
     "output_type": "display_data"
    },
    {
     "data": {
      "application/vnd.jupyter.widget-view+json": {
       "model_id": "",
       "version_major": 2,
       "version_minor": 0
      },
      "text/plain": [
       "plot sweep:   0%|          | 0/80 [00:00<?, ?it/s]"
      ]
     },
     "metadata": {},
     "output_type": "display_data"
    },
    {
     "data": {
      "application/vnd.jupyter.widget-view+json": {
       "model_id": "",
       "version_major": 2,
       "version_minor": 0
      },
      "text/plain": [
       "plot sweep:   0%|          | 0/80 [00:00<?, ?it/s]"
      ]
     },
     "metadata": {},
     "output_type": "display_data"
    },
    {
     "data": {
      "application/vnd.jupyter.widget-view+json": {
       "model_id": "",
       "version_major": 2,
       "version_minor": 0
      },
      "text/plain": [
       "plot sweep:   0%|          | 0/80 [00:00<?, ?it/s]"
      ]
     },
     "metadata": {},
     "output_type": "display_data"
    },
    {
     "data": {
      "application/vnd.jupyter.widget-view+json": {
       "model_id": "",
       "version_major": 2,
       "version_minor": 0
      },
      "text/plain": [
       "plot sweep:   0%|          | 0/80 [00:00<?, ?it/s]"
      ]
     },
     "metadata": {},
     "output_type": "display_data"
    },
    {
     "data": {
      "application/vnd.jupyter.widget-view+json": {
       "model_id": "",
       "version_major": 2,
       "version_minor": 0
      },
      "text/plain": [
       "plot sweep:   0%|          | 0/80 [00:00<?, ?it/s]"
      ]
     },
     "metadata": {},
     "output_type": "display_data"
    },
    {
     "data": {
      "application/vnd.jupyter.widget-view+json": {
       "model_id": "",
       "version_major": 2,
       "version_minor": 0
      },
      "text/plain": [
       "plot sweep:   0%|          | 0/80 [00:00<?, ?it/s]"
      ]
     },
     "metadata": {},
     "output_type": "display_data"
    },
    {
     "data": {
      "application/vnd.jupyter.widget-view+json": {
       "model_id": "",
       "version_major": 2,
       "version_minor": 0
      },
      "text/plain": [
       "plot sweep:   0%|          | 0/80 [00:00<?, ?it/s]"
      ]
     },
     "metadata": {},
     "output_type": "display_data"
    },
    {
     "data": {
      "application/vnd.jupyter.widget-view+json": {
       "model_id": "",
       "version_major": 2,
       "version_minor": 0
      },
      "text/plain": [
       "plot sweep:   0%|          | 0/80 [00:00<?, ?it/s]"
      ]
     },
     "metadata": {},
     "output_type": "display_data"
    },
    {
     "data": {
      "application/vnd.jupyter.widget-view+json": {
       "model_id": "",
       "version_major": 2,
       "version_minor": 0
      },
      "text/plain": [
       "plot sweep:   0%|          | 0/80 [00:00<?, ?it/s]"
      ]
     },
     "metadata": {},
     "output_type": "display_data"
    },
    {
     "data": {
      "application/vnd.jupyter.widget-view+json": {
       "model_id": "",
       "version_major": 2,
       "version_minor": 0
      },
      "text/plain": [
       "plot sweep:   0%|          | 0/80 [00:00<?, ?it/s]"
      ]
     },
     "metadata": {},
     "output_type": "display_data"
    },
    {
     "data": {
      "application/vnd.jupyter.widget-view+json": {
       "model_id": "",
       "version_major": 2,
       "version_minor": 0
      },
      "text/plain": [
       "plot sweep:   0%|          | 0/80 [00:00<?, ?it/s]"
      ]
     },
     "metadata": {},
     "output_type": "display_data"
    },
    {
     "data": {
      "application/vnd.jupyter.widget-view+json": {
       "model_id": "",
       "version_major": 2,
       "version_minor": 0
      },
      "text/plain": [
       "plot sweep:   0%|          | 0/80 [00:00<?, ?it/s]"
      ]
     },
     "metadata": {},
     "output_type": "display_data"
    },
    {
     "data": {
      "application/vnd.jupyter.widget-view+json": {
       "model_id": "",
       "version_major": 2,
       "version_minor": 0
      },
      "text/plain": [
       "plot sweep:   0%|          | 0/80 [00:00<?, ?it/s]"
      ]
     },
     "metadata": {},
     "output_type": "display_data"
    },
    {
     "data": {
      "application/vnd.jupyter.widget-view+json": {
       "model_id": "",
       "version_major": 2,
       "version_minor": 0
      },
      "text/plain": [
       "plot sweep:   0%|          | 0/80 [00:00<?, ?it/s]"
      ]
     },
     "metadata": {},
     "output_type": "display_data"
    },
    {
     "data": {
      "application/vnd.jupyter.widget-view+json": {
       "model_id": "",
       "version_major": 2,
       "version_minor": 0
      },
      "text/plain": [
       "plot sweep:   0%|          | 0/80 [00:00<?, ?it/s]"
      ]
     },
     "metadata": {},
     "output_type": "display_data"
    },
    {
     "data": {
      "application/vnd.jupyter.widget-view+json": {
       "model_id": "",
       "version_major": 2,
       "version_minor": 0
      },
      "text/plain": [
       "plot sweep:   0%|          | 0/80 [00:00<?, ?it/s]"
      ]
     },
     "metadata": {},
     "output_type": "display_data"
    },
    {
     "data": {
      "application/vnd.jupyter.widget-view+json": {
       "model_id": "",
       "version_major": 2,
       "version_minor": 0
      },
      "text/plain": [
       "plot sweep:   0%|          | 0/80 [00:00<?, ?it/s]"
      ]
     },
     "metadata": {},
     "output_type": "display_data"
    },
    {
     "data": {
      "application/vnd.jupyter.widget-view+json": {
       "model_id": "",
       "version_major": 2,
       "version_minor": 0
      },
      "text/plain": [
       "plot sweep:   0%|          | 0/80 [00:00<?, ?it/s]"
      ]
     },
     "metadata": {},
     "output_type": "display_data"
    },
    {
     "data": {
      "application/vnd.jupyter.widget-view+json": {
       "model_id": "",
       "version_major": 2,
       "version_minor": 0
      },
      "text/plain": [
       "plot sweep:   0%|          | 0/80 [00:00<?, ?it/s]"
      ]
     },
     "metadata": {},
     "output_type": "display_data"
    },
    {
     "data": {
      "application/vnd.jupyter.widget-view+json": {
       "model_id": "",
       "version_major": 2,
       "version_minor": 0
      },
      "text/plain": [
       "plot sweep:   0%|          | 0/60 [00:00<?, ?it/s]"
      ]
     },
     "metadata": {},
     "output_type": "display_data"
    },
    {
     "data": {
      "application/vnd.jupyter.widget-view+json": {
       "model_id": "",
       "version_major": 2,
       "version_minor": 0
      },
      "text/plain": [
       "plot sweep:   0%|          | 0/80 [00:00<?, ?it/s]"
      ]
     },
     "metadata": {},
     "output_type": "display_data"
    },
    {
     "data": {
      "application/vnd.jupyter.widget-view+json": {
       "model_id": "",
       "version_major": 2,
       "version_minor": 0
      },
      "text/plain": [
       "plot sweep:   0%|          | 0/80 [00:00<?, ?it/s]"
      ]
     },
     "metadata": {},
     "output_type": "display_data"
    },
    {
     "data": {
      "application/vnd.jupyter.widget-view+json": {
       "model_id": "",
       "version_major": 2,
       "version_minor": 0
      },
      "text/plain": [
       "plot sweep:   0%|          | 0/80 [00:00<?, ?it/s]"
      ]
     },
     "metadata": {},
     "output_type": "display_data"
    },
    {
     "data": {
      "application/vnd.jupyter.widget-view+json": {
       "model_id": "",
       "version_major": 2,
       "version_minor": 0
      },
      "text/plain": [
       "plot sweep:   0%|          | 0/80 [00:00<?, ?it/s]"
      ]
     },
     "metadata": {},
     "output_type": "display_data"
    },
    {
     "data": {
      "application/vnd.jupyter.widget-view+json": {
       "model_id": "",
       "version_major": 2,
       "version_minor": 0
      },
      "text/plain": [
       "plot sweep:   0%|          | 0/80 [00:00<?, ?it/s]"
      ]
     },
     "metadata": {},
     "output_type": "display_data"
    },
    {
     "data": {
      "application/vnd.jupyter.widget-view+json": {
       "model_id": "",
       "version_major": 2,
       "version_minor": 0
      },
      "text/plain": [
       "plot sweep:   0%|          | 0/80 [00:00<?, ?it/s]"
      ]
     },
     "metadata": {},
     "output_type": "display_data"
    },
    {
     "data": {
      "application/vnd.jupyter.widget-view+json": {
       "model_id": "",
       "version_major": 2,
       "version_minor": 0
      },
      "text/plain": [
       "plot sweep:   0%|          | 0/80 [00:00<?, ?it/s]"
      ]
     },
     "metadata": {},
     "output_type": "display_data"
    },
    {
     "data": {
      "application/vnd.jupyter.widget-view+json": {
       "model_id": "",
       "version_major": 2,
       "version_minor": 0
      },
      "text/plain": [
       "plot sweep:   0%|          | 0/80 [00:00<?, ?it/s]"
      ]
     },
     "metadata": {},
     "output_type": "display_data"
    },
    {
     "data": {
      "application/vnd.jupyter.widget-view+json": {
       "model_id": "",
       "version_major": 2,
       "version_minor": 0
      },
      "text/plain": [
       "plot sweep:   0%|          | 0/80 [00:00<?, ?it/s]"
      ]
     },
     "metadata": {},
     "output_type": "display_data"
    },
    {
     "data": {
      "application/vnd.jupyter.widget-view+json": {
       "model_id": "",
       "version_major": 2,
       "version_minor": 0
      },
      "text/plain": [
       "plot sweep:   0%|          | 0/80 [00:00<?, ?it/s]"
      ]
     },
     "metadata": {},
     "output_type": "display_data"
    },
    {
     "data": {
      "application/vnd.jupyter.widget-view+json": {
       "model_id": "",
       "version_major": 2,
       "version_minor": 0
      },
      "text/plain": [
       "plot sweep:   0%|          | 0/80 [00:00<?, ?it/s]"
      ]
     },
     "metadata": {},
     "output_type": "display_data"
    },
    {
     "data": {
      "application/vnd.jupyter.widget-view+json": {
       "model_id": "",
       "version_major": 2,
       "version_minor": 0
      },
      "text/plain": [
       "plot sweep:   0%|          | 0/80 [00:00<?, ?it/s]"
      ]
     },
     "metadata": {},
     "output_type": "display_data"
    },
    {
     "data": {
      "application/vnd.jupyter.widget-view+json": {
       "model_id": "",
       "version_major": 2,
       "version_minor": 0
      },
      "text/plain": [
       "plot sweep:   0%|          | 0/80 [00:00<?, ?it/s]"
      ]
     },
     "metadata": {},
     "output_type": "display_data"
    },
    {
     "data": {
      "application/vnd.jupyter.widget-view+json": {
       "model_id": "",
       "version_major": 2,
       "version_minor": 0
      },
      "text/plain": [
       "plot sweep:   0%|          | 0/80 [00:00<?, ?it/s]"
      ]
     },
     "metadata": {},
     "output_type": "display_data"
    },
    {
     "data": {
      "application/vnd.jupyter.widget-view+json": {
       "model_id": "",
       "version_major": 2,
       "version_minor": 0
      },
      "text/plain": [
       "plot sweep:   0%|          | 0/80 [00:00<?, ?it/s]"
      ]
     },
     "metadata": {},
     "output_type": "display_data"
    },
    {
     "data": {
      "application/vnd.jupyter.widget-view+json": {
       "model_id": "",
       "version_major": 2,
       "version_minor": 0
      },
      "text/plain": [
       "plot sweep:   0%|          | 0/80 [00:00<?, ?it/s]"
      ]
     },
     "metadata": {},
     "output_type": "display_data"
    },
    {
     "data": {
      "application/vnd.jupyter.widget-view+json": {
       "model_id": "",
       "version_major": 2,
       "version_minor": 0
      },
      "text/plain": [
       "plot sweep:   0%|          | 0/80 [00:00<?, ?it/s]"
      ]
     },
     "metadata": {},
     "output_type": "display_data"
    },
    {
     "data": {
      "application/vnd.jupyter.widget-view+json": {
       "model_id": "",
       "version_major": 2,
       "version_minor": 0
      },
      "text/plain": [
       "plot sweep:   0%|          | 0/80 [00:00<?, ?it/s]"
      ]
     },
     "metadata": {},
     "output_type": "display_data"
    },
    {
     "data": {
      "application/vnd.jupyter.widget-view+json": {
       "model_id": "",
       "version_major": 2,
       "version_minor": 0
      },
      "text/plain": [
       "plot sweep:   0%|          | 0/80 [00:00<?, ?it/s]"
      ]
     },
     "metadata": {},
     "output_type": "display_data"
    },
    {
     "data": {
      "application/vnd.jupyter.widget-view+json": {
       "model_id": "",
       "version_major": 2,
       "version_minor": 0
      },
      "text/plain": [
       "plot sweep:   0%|          | 0/80 [00:00<?, ?it/s]"
      ]
     },
     "metadata": {},
     "output_type": "display_data"
    },
    {
     "data": {
      "application/vnd.jupyter.widget-view+json": {
       "model_id": "",
       "version_major": 2,
       "version_minor": 0
      },
      "text/plain": [
       "plot sweep:   0%|          | 0/80 [00:00<?, ?it/s]"
      ]
     },
     "metadata": {},
     "output_type": "display_data"
    },
    {
     "data": {
      "application/vnd.jupyter.widget-view+json": {
       "model_id": "",
       "version_major": 2,
       "version_minor": 0
      },
      "text/plain": [
       "plot sweep:   0%|          | 0/80 [00:00<?, ?it/s]"
      ]
     },
     "metadata": {},
     "output_type": "display_data"
    },
    {
     "data": {
      "application/vnd.jupyter.widget-view+json": {
       "model_id": "",
       "version_major": 2,
       "version_minor": 0
      },
      "text/plain": [
       "plot sweep:   0%|          | 0/80 [00:00<?, ?it/s]"
      ]
     },
     "metadata": {},
     "output_type": "display_data"
    },
    {
     "data": {
      "application/vnd.jupyter.widget-view+json": {
       "model_id": "",
       "version_major": 2,
       "version_minor": 0
      },
      "text/plain": [
       "plot sweep:   0%|          | 0/80 [00:00<?, ?it/s]"
      ]
     },
     "metadata": {},
     "output_type": "display_data"
    },
    {
     "data": {
      "application/vnd.jupyter.widget-view+json": {
       "model_id": "",
       "version_major": 2,
       "version_minor": 0
      },
      "text/plain": [
       "plot sweep:   0%|          | 0/80 [00:00<?, ?it/s]"
      ]
     },
     "metadata": {},
     "output_type": "display_data"
    },
    {
     "data": {
      "application/vnd.jupyter.widget-view+json": {
       "model_id": "",
       "version_major": 2,
       "version_minor": 0
      },
      "text/plain": [
       "plot sweep:   0%|          | 0/80 [00:00<?, ?it/s]"
      ]
     },
     "metadata": {},
     "output_type": "display_data"
    },
    {
     "data": {
      "application/vnd.jupyter.widget-view+json": {
       "model_id": "",
       "version_major": 2,
       "version_minor": 0
      },
      "text/plain": [
       "plot sweep:   0%|          | 0/80 [00:00<?, ?it/s]"
      ]
     },
     "metadata": {},
     "output_type": "display_data"
    },
    {
     "data": {
      "application/vnd.jupyter.widget-view+json": {
       "model_id": "",
       "version_major": 2,
       "version_minor": 0
      },
      "text/plain": [
       "plot sweep:   0%|          | 0/80 [00:00<?, ?it/s]"
      ]
     },
     "metadata": {},
     "output_type": "display_data"
    },
    {
     "data": {
      "application/vnd.jupyter.widget-view+json": {
       "model_id": "",
       "version_major": 2,
       "version_minor": 0
      },
      "text/plain": [
       "plot sweep:   0%|          | 0/80 [00:00<?, ?it/s]"
      ]
     },
     "metadata": {},
     "output_type": "display_data"
    },
    {
     "data": {
      "application/vnd.jupyter.widget-view+json": {
       "model_id": "",
       "version_major": 2,
       "version_minor": 0
      },
      "text/plain": [
       "plot sweep:   0%|          | 0/80 [00:00<?, ?it/s]"
      ]
     },
     "metadata": {},
     "output_type": "display_data"
    },
    {
     "data": {
      "application/vnd.jupyter.widget-view+json": {
       "model_id": "",
       "version_major": 2,
       "version_minor": 0
      },
      "text/plain": [
       "plot sweep:   0%|          | 0/80 [00:00<?, ?it/s]"
      ]
     },
     "metadata": {},
     "output_type": "display_data"
    },
    {
     "data": {
      "application/vnd.jupyter.widget-view+json": {
       "model_id": "",
       "version_major": 2,
       "version_minor": 0
      },
      "text/plain": [
       "plot sweep:   0%|          | 0/80 [00:00<?, ?it/s]"
      ]
     },
     "metadata": {},
     "output_type": "display_data"
    },
    {
     "data": {
      "application/vnd.jupyter.widget-view+json": {
       "model_id": "",
       "version_major": 2,
       "version_minor": 0
      },
      "text/plain": [
       "plot sweep:   0%|          | 0/80 [00:00<?, ?it/s]"
      ]
     },
     "metadata": {},
     "output_type": "display_data"
    },
    {
     "data": {
      "application/vnd.jupyter.widget-view+json": {
       "model_id": "",
       "version_major": 2,
       "version_minor": 0
      },
      "text/plain": [
       "plot sweep:   0%|          | 0/80 [00:00<?, ?it/s]"
      ]
     },
     "metadata": {},
     "output_type": "display_data"
    },
    {
     "data": {
      "application/vnd.jupyter.widget-view+json": {
       "model_id": "",
       "version_major": 2,
       "version_minor": 0
      },
      "text/plain": [
       "plot sweep:   0%|          | 0/80 [00:00<?, ?it/s]"
      ]
     },
     "metadata": {},
     "output_type": "display_data"
    },
    {
     "data": {
      "application/vnd.jupyter.widget-view+json": {
       "model_id": "",
       "version_major": 2,
       "version_minor": 0
      },
      "text/plain": [
       "plot sweep:   0%|          | 0/80 [00:00<?, ?it/s]"
      ]
     },
     "metadata": {},
     "output_type": "display_data"
    },
    {
     "data": {
      "application/vnd.jupyter.widget-view+json": {
       "model_id": "",
       "version_major": 2,
       "version_minor": 0
      },
      "text/plain": [
       "plot sweep:   0%|          | 0/80 [00:00<?, ?it/s]"
      ]
     },
     "metadata": {},
     "output_type": "display_data"
    },
    {
     "data": {
      "application/vnd.jupyter.widget-view+json": {
       "model_id": "",
       "version_major": 2,
       "version_minor": 0
      },
      "text/plain": [
       "plot sweep:   0%|          | 0/80 [00:00<?, ?it/s]"
      ]
     },
     "metadata": {},
     "output_type": "display_data"
    },
    {
     "data": {
      "application/vnd.jupyter.widget-view+json": {
       "model_id": "",
       "version_major": 2,
       "version_minor": 0
      },
      "text/plain": [
       "plot sweep:   0%|          | 0/80 [00:00<?, ?it/s]"
      ]
     },
     "metadata": {},
     "output_type": "display_data"
    },
    {
     "data": {
      "application/vnd.jupyter.widget-view+json": {
       "model_id": "",
       "version_major": 2,
       "version_minor": 0
      },
      "text/plain": [
       "plot sweep:   0%|          | 0/80 [00:00<?, ?it/s]"
      ]
     },
     "metadata": {},
     "output_type": "display_data"
    },
    {
     "data": {
      "application/vnd.jupyter.widget-view+json": {
       "model_id": "",
       "version_major": 2,
       "version_minor": 0
      },
      "text/plain": [
       "plot sweep:   0%|          | 0/80 [00:00<?, ?it/s]"
      ]
     },
     "metadata": {},
     "output_type": "display_data"
    },
    {
     "data": {
      "application/vnd.jupyter.widget-view+json": {
       "model_id": "",
       "version_major": 2,
       "version_minor": 0
      },
      "text/plain": [
       "plot sweep:   0%|          | 0/80 [00:00<?, ?it/s]"
      ]
     },
     "metadata": {},
     "output_type": "display_data"
    },
    {
     "data": {
      "application/vnd.jupyter.widget-view+json": {
       "model_id": "",
       "version_major": 2,
       "version_minor": 0
      },
      "text/plain": [
       "plot sweep:   0%|          | 0/80 [00:00<?, ?it/s]"
      ]
     },
     "metadata": {},
     "output_type": "display_data"
    },
    {
     "data": {
      "application/vnd.jupyter.widget-view+json": {
       "model_id": "",
       "version_major": 2,
       "version_minor": 0
      },
      "text/plain": [
       "plot sweep:   0%|          | 0/80 [00:00<?, ?it/s]"
      ]
     },
     "metadata": {},
     "output_type": "display_data"
    },
    {
     "data": {
      "application/vnd.jupyter.widget-view+json": {
       "model_id": "",
       "version_major": 2,
       "version_minor": 0
      },
      "text/plain": [
       "plot sweep:   0%|          | 0/80 [00:00<?, ?it/s]"
      ]
     },
     "metadata": {},
     "output_type": "display_data"
    },
    {
     "data": {
      "application/vnd.jupyter.widget-view+json": {
       "model_id": "",
       "version_major": 2,
       "version_minor": 0
      },
      "text/plain": [
       "plot sweep:   0%|          | 0/80 [00:00<?, ?it/s]"
      ]
     },
     "metadata": {},
     "output_type": "display_data"
    },
    {
     "data": {
      "application/vnd.jupyter.widget-view+json": {
       "model_id": "",
       "version_major": 2,
       "version_minor": 0
      },
      "text/plain": [
       "plot sweep:   0%|          | 0/80 [00:00<?, ?it/s]"
      ]
     },
     "metadata": {},
     "output_type": "display_data"
    },
    {
     "data": {
      "application/vnd.jupyter.widget-view+json": {
       "model_id": "",
       "version_major": 2,
       "version_minor": 0
      },
      "text/plain": [
       "plot sweep:   0%|          | 0/80 [00:00<?, ?it/s]"
      ]
     },
     "metadata": {},
     "output_type": "display_data"
    },
    {
     "data": {
      "application/vnd.jupyter.widget-view+json": {
       "model_id": "",
       "version_major": 2,
       "version_minor": 0
      },
      "text/plain": [
       "plot sweep:   0%|          | 0/80 [00:00<?, ?it/s]"
      ]
     },
     "metadata": {},
     "output_type": "display_data"
    },
    {
     "data": {
      "application/vnd.jupyter.widget-view+json": {
       "model_id": "",
       "version_major": 2,
       "version_minor": 0
      },
      "text/plain": [
       "plot sweep:   0%|          | 0/80 [00:00<?, ?it/s]"
      ]
     },
     "metadata": {},
     "output_type": "display_data"
    },
    {
     "data": {
      "application/vnd.jupyter.widget-view+json": {
       "model_id": "",
       "version_major": 2,
       "version_minor": 0
      },
      "text/plain": [
       "plot sweep:   0%|          | 0/80 [00:00<?, ?it/s]"
      ]
     },
     "metadata": {},
     "output_type": "display_data"
    },
    {
     "data": {
      "application/vnd.jupyter.widget-view+json": {
       "model_id": "",
       "version_major": 2,
       "version_minor": 0
      },
      "text/plain": [
       "plot sweep:   0%|          | 0/80 [00:00<?, ?it/s]"
      ]
     },
     "metadata": {},
     "output_type": "display_data"
    },
    {
     "data": {
      "application/vnd.jupyter.widget-view+json": {
       "model_id": "",
       "version_major": 2,
       "version_minor": 0
      },
      "text/plain": [
       "plot sweep:   0%|          | 0/80 [00:00<?, ?it/s]"
      ]
     },
     "metadata": {},
     "output_type": "display_data"
    },
    {
     "data": {
      "application/vnd.jupyter.widget-view+json": {
       "model_id": "",
       "version_major": 2,
       "version_minor": 0
      },
      "text/plain": [
       "plot sweep:   0%|          | 0/80 [00:00<?, ?it/s]"
      ]
     },
     "metadata": {},
     "output_type": "display_data"
    },
    {
     "data": {
      "application/vnd.jupyter.widget-view+json": {
       "model_id": "",
       "version_major": 2,
       "version_minor": 0
      },
      "text/plain": [
       "plot sweep:   0%|          | 0/80 [00:00<?, ?it/s]"
      ]
     },
     "metadata": {},
     "output_type": "display_data"
    },
    {
     "data": {
      "application/vnd.jupyter.widget-view+json": {
       "model_id": "",
       "version_major": 2,
       "version_minor": 0
      },
      "text/plain": [
       "plot sweep:   0%|          | 0/80 [00:00<?, ?it/s]"
      ]
     },
     "metadata": {},
     "output_type": "display_data"
    },
    {
     "data": {
      "application/vnd.jupyter.widget-view+json": {
       "model_id": "",
       "version_major": 2,
       "version_minor": 0
      },
      "text/plain": [
       "plot sweep:   0%|          | 0/80 [00:00<?, ?it/s]"
      ]
     },
     "metadata": {},
     "output_type": "display_data"
    },
    {
     "data": {
      "application/vnd.jupyter.widget-view+json": {
       "model_id": "",
       "version_major": 2,
       "version_minor": 0
      },
      "text/plain": [
       "plot sweep:   0%|          | 0/80 [00:00<?, ?it/s]"
      ]
     },
     "metadata": {},
     "output_type": "display_data"
    },
    {
     "data": {
      "application/vnd.jupyter.widget-view+json": {
       "model_id": "",
       "version_major": 2,
       "version_minor": 0
      },
      "text/plain": [
       "plot sweep:   0%|          | 0/80 [00:00<?, ?it/s]"
      ]
     },
     "metadata": {},
     "output_type": "display_data"
    },
    {
     "data": {
      "application/vnd.jupyter.widget-view+json": {
       "model_id": "",
       "version_major": 2,
       "version_minor": 0
      },
      "text/plain": [
       "plot sweep:   0%|          | 0/80 [00:00<?, ?it/s]"
      ]
     },
     "metadata": {},
     "output_type": "display_data"
    },
    {
     "data": {
      "application/vnd.jupyter.widget-view+json": {
       "model_id": "",
       "version_major": 2,
       "version_minor": 0
      },
      "text/plain": [
       "plot sweep:   0%|          | 0/80 [00:00<?, ?it/s]"
      ]
     },
     "metadata": {},
     "output_type": "display_data"
    },
    {
     "data": {
      "application/vnd.jupyter.widget-view+json": {
       "model_id": "",
       "version_major": 2,
       "version_minor": 0
      },
      "text/plain": [
       "plot sweep:   0%|          | 0/80 [00:00<?, ?it/s]"
      ]
     },
     "metadata": {},
     "output_type": "display_data"
    },
    {
     "data": {
      "application/vnd.jupyter.widget-view+json": {
       "model_id": "",
       "version_major": 2,
       "version_minor": 0
      },
      "text/plain": [
       "plot sweep:   0%|          | 0/80 [00:00<?, ?it/s]"
      ]
     },
     "metadata": {},
     "output_type": "display_data"
    },
    {
     "data": {
      "application/vnd.jupyter.widget-view+json": {
       "model_id": "",
       "version_major": 2,
       "version_minor": 0
      },
      "text/plain": [
       "plot sweep:   0%|          | 0/80 [00:00<?, ?it/s]"
      ]
     },
     "metadata": {},
     "output_type": "display_data"
    },
    {
     "data": {
      "application/vnd.jupyter.widget-view+json": {
       "model_id": "",
       "version_major": 2,
       "version_minor": 0
      },
      "text/plain": [
       "plot sweep:   0%|          | 0/80 [00:00<?, ?it/s]"
      ]
     },
     "metadata": {},
     "output_type": "display_data"
    },
    {
     "data": {
      "application/vnd.jupyter.widget-view+json": {
       "model_id": "",
       "version_major": 2,
       "version_minor": 0
      },
      "text/plain": [
       "plot sweep:   0%|          | 0/80 [00:00<?, ?it/s]"
      ]
     },
     "metadata": {},
     "output_type": "display_data"
    },
    {
     "data": {
      "application/vnd.jupyter.widget-view+json": {
       "model_id": "",
       "version_major": 2,
       "version_minor": 0
      },
      "text/plain": [
       "plot sweep:   0%|          | 0/80 [00:00<?, ?it/s]"
      ]
     },
     "metadata": {},
     "output_type": "display_data"
    },
    {
     "data": {
      "application/vnd.jupyter.widget-view+json": {
       "model_id": "",
       "version_major": 2,
       "version_minor": 0
      },
      "text/plain": [
       "plot sweep:   0%|          | 0/80 [00:00<?, ?it/s]"
      ]
     },
     "metadata": {},
     "output_type": "display_data"
    },
    {
     "data": {
      "application/vnd.jupyter.widget-view+json": {
       "model_id": "",
       "version_major": 2,
       "version_minor": 0
      },
      "text/plain": [
       "plot sweep:   0%|          | 0/80 [00:00<?, ?it/s]"
      ]
     },
     "metadata": {},
     "output_type": "display_data"
    },
    {
     "data": {
      "application/vnd.jupyter.widget-view+json": {
       "model_id": "",
       "version_major": 2,
       "version_minor": 0
      },
      "text/plain": [
       "plot sweep:   0%|          | 0/80 [00:00<?, ?it/s]"
      ]
     },
     "metadata": {},
     "output_type": "display_data"
    },
    {
     "data": {
      "application/vnd.jupyter.widget-view+json": {
       "model_id": "",
       "version_major": 2,
       "version_minor": 0
      },
      "text/plain": [
       "plot sweep:   0%|          | 0/80 [00:00<?, ?it/s]"
      ]
     },
     "metadata": {},
     "output_type": "display_data"
    }
   ],
   "source": [
    "for _, row in tqdm(electro_df_nm.iterrows(), total=electro_df_nm.shape[0], desc='plot neuron'):\n",
    "    plot_nwb_trace(row['path'], row['Cell'], figs_nm_path)"
   ]
  },
  {
   "cell_type": "code",
   "execution_count": 44,
   "id": "8f86da88-f2b3-4bb5-8d6d-01af9bf91129",
   "metadata": {},
   "outputs": [
    {
     "data": {
      "text/plain": [
       "165"
      ]
     },
     "execution_count": 44,
     "metadata": {},
     "output_type": "execute_result"
    }
   ],
   "source": [
    "failed_nm=[row['Cell'] for _, row in electro_df_nm.iterrows() if len([f for f in (figs_nm_path/Path(row['Cell'])).iterdir()])<2]"
   ]
  },
  {
   "cell_type": "code",
   "execution_count": 47,
   "id": "86bda41c-affb-4e5f-b34a-c28cef1bc8fc",
   "metadata": {},
   "outputs": [
    {
     "name": "stderr",
     "output_type": "stream",
     "text": [
      "/usr/local/envs/neuron/lib/python3.8/site-packages/hdmf/spec/namespace.py:532: UserWarning: Ignoring cached namespace 'hdmf-common' version 1.3.0 because version 1.5.0 is already loaded.\n",
      "  warn(\"Ignoring cached namespace '%s' version %s because version %s is already loaded.\"\n",
      "/usr/local/envs/neuron/lib/python3.8/site-packages/hdmf/spec/namespace.py:532: UserWarning: Ignoring cached namespace 'core' version 2.2.5 because version 2.3.0 is already loaded.\n",
      "  warn(\"Ignoring cached namespace '%s' version %s because version %s is already loaded.\"\n",
      "/usr/local/envs/neuron/lib/python3.8/site-packages/ipfx/stimulus.py:88: UserWarning: Could not find stimulus: NA\n",
      "  warnings.warn(\"Could not find stimulus: %s\" % tag)\n",
      "/usr/local/envs/neuron/lib/python3.8/site-packages/ipfx/stimulus.py:88: UserWarning: Could not find stimulus: N/A\n",
      "  warnings.warn(\"Could not find stimulus: %s\" % tag)\n"
     ]
    }
   ],
   "source": [
    "for d in failed_nm:\n",
    "    rmtree(figs_nm_path/d)\n",
    "removed_nm = [row['Cell'] for _, row in electro_df_nm.iterrows() if not (figs_nm_path/row['Cell']).exists()]\n",
    "len(removed_nm)"
   ]
  },
  {
   "cell_type": "markdown",
   "id": "57fb5872-5d18-4849-8f55-d145c5a63442",
   "metadata": {},
   "source": [
    "# Extract features"
   ]
  },
  {
   "cell_type": "markdown",
   "id": "c0a851e3-16b0-437e-b9b4-d727ad63e9d4",
   "metadata": {},
   "source": [
    "spiking histogram "
   ]
  },
  {
   "cell_type": "code",
   "execution_count": 19,
   "id": "afd641c5-57bb-4e3e-923a-832dbb62fbd4",
   "metadata": {},
   "outputs": [],
   "source": [
    "if '/opt/data/EphysExtraction/EphysExtraction' not in sys.path:\n",
    "    sys.path.append('/opt/data/EphysExtraction/EphysExtraction')"
   ]
  },
  {
   "cell_type": "code",
   "execution_count": 33,
   "id": "45b3aae2-baa3-4633-a0f8-827879d49fa9",
   "metadata": {},
   "outputs": [
    {
     "data": {
      "application/vnd.jupyter.widget-view+json": {
       "model_id": "f0ade17a13c34049ae031df5d277d516",
       "version_major": 2,
       "version_minor": 0
      },
      "text/plain": [
       "  0%|          | 0/154 [00:00<?, ?it/s]"
      ]
     },
     "metadata": {},
     "output_type": "display_data"
    }
   ],
   "source": [
    "from Nature.electro_utils import get_spiking_histogram_with_half_rate\n",
    "\n",
    "spiking_hist_df_me = pd.DataFrame({\n",
    "    'Cell': row['Cell'], **get_spiking_histogram_with_half_rate(row['path'], num_bins=30)\n",
    "} for _, row in tqdm(electro_df_me.iterrows(), total=electro_df_me.shape[0]))"
   ]
  },
  {
   "cell_type": "code",
   "execution_count": 34,
   "id": "9f11d153",
   "metadata": {},
   "outputs": [],
   "source": [
    "res_AI_isi_df = spiking_hist_df_me.set_index('Cell').select_dtypes(include=['float64'])\n",
    "\n",
    "res_array_df=spiking_hist_df_me.set_index('Cell').select_dtypes(include=['object'])\n",
    "with pd.ExcelWriter('me_spiking_features_0819.xlsx') as writer:\n",
    "    res_AI_isi_df.to_excel(writer, sheet_name='AI_ISI')\n",
    "    for col in res_array_df.columns:\n",
    "        res_df = pd.DataFrame(res_array_df[col].tolist(), index=res_array_df.index)\n",
    "        res_df.to_excel(writer, sheet_name=col)"
   ]
  },
  {
   "cell_type": "code",
   "execution_count": 35,
   "id": "7f5cc624-b8be-4559-ab54-2f3ed5af635a",
   "metadata": {
    "lines_to_next_cell": 2
   },
   "outputs": [
    {
     "data": {
      "application/vnd.jupyter.widget-view+json": {
       "model_id": "66b0a0cad50947a3a84a481f553bbb11",
       "version_major": 2,
       "version_minor": 0
      },
      "text/plain": [
       "  0%|          | 0/315 [00:00<?, ?it/s]"
      ]
     },
     "metadata": {},
     "output_type": "display_data"
    }
   ],
   "source": [
    "spiking_hist_df_nm = pd.DataFrame({\n",
    "    'Cell': row['Cell'],\n",
    "    **get_spiking_histogram_with_half_rate(row['path'], num_bins=30)\n",
    "} for _, row in tqdm(electro_df_nm.iterrows(), total=electro_df_nm.shape[0]))"
   ]
  },
  {
   "cell_type": "code",
   "execution_count": 36,
   "id": "f410927c-13ac-40db-8468-bf9f33532c32",
   "metadata": {
    "lines_to_next_cell": 2
   },
   "outputs": [],
   "source": [
    "res_AI_isi_df = spiking_hist_df_nm.set_index('Cell').select_dtypes(include=['float64'])\n",
    "\n",
    "res_array_df=spiking_hist_df_nm.set_index('Cell').select_dtypes(include=['object'])\n",
    "with pd.ExcelWriter('spiking_features_no_morpho_0819.xlsx') as writer:\n",
    "    res_AI_isi_df.to_excel(writer, sheet_name='AI_ISI')\n",
    "    for col in res_array_df.columns:\n",
    "        res_df = pd.DataFrame(res_array_df[col].tolist(), index=res_array_df.index)\n",
    "        res_df.to_excel(writer, sheet_name=col)"
   ]
  },
  {
   "cell_type": "code",
   "execution_count": null,
   "id": "5fda2aff-6f3d-4a18-9087-47e026dc459b",
   "metadata": {},
   "outputs": [],
   "source": []
  }
 ],
 "metadata": {
  "jupytext": {
   "formats": "ipynb,py:percent"
  },
  "kernelspec": {
   "display_name": "neuron",
   "language": "python",
   "name": "neuron"
  },
  "language_info": {
   "codemirror_mode": {
    "name": "ipython",
    "version": 3
   },
   "file_extension": ".py",
   "mimetype": "text/x-python",
   "name": "python",
   "nbconvert_exporter": "python",
   "pygments_lexer": "ipython3",
   "version": "3.8.10"
  },
  "toc-showtags": false
 },
 "nbformat": 4,
 "nbformat_minor": 5
}
