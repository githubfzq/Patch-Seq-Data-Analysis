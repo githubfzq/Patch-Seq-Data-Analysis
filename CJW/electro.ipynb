{
 "cells": [
  {
   "cell_type": "code",
   "execution_count": 1,
   "id": "a8065b00-eb4b-4762-b576-d964e9b11bfd",
   "metadata": {},
   "outputs": [],
   "source": [
    "import pandas as pd\n",
    "import numpy as np"
   ]
  },
  {
   "cell_type": "markdown",
   "id": "6ce6b6d6-86c3-4d34-94e2-b2ff7932aa22",
   "metadata": {},
   "source": [
    "# Spiking Features"
   ]
  },
  {
   "cell_type": "code",
   "execution_count": null,
   "id": "824cbce2",
   "metadata": {
    "lines_to_next_cell": 1
   },
   "outputs": [],
   "source": [
    "raw_spiking_df = pd.read_csv('Total_AP_time.csv')\n",
    "spike_t = {}\n",
    "for cell_id in raw_spiking_df.columns:\n",
    "    spike_t[cell_id] = raw_spiking_df.loc[:, cell_id].dropna().values"
   ]
  },
  {
   "cell_type": "code",
   "execution_count": null,
   "id": "2fd08842",
   "metadata": {
    "lines_to_next_cell": 1
   },
   "outputs": [],
   "source": [
    "def get_spiking_features(spiking_t: np.ndarray, t_range=(0.2, 0.8), num_bins=30):\n",
    "    hist, bin_edges = np.histogram(spiking_t, bins=num_bins, range=t_range)\n",
    "    spiking_t_ = spiking_t.compress((spiking_t>=t_range[0])&(spiking_t<=t_range[1]))\n",
    "    isi = np.diff(spiking_t_)\n",
    "    adapt_index = (isi[1:]-isi[:-1])/(isi[1:]+isi[:-1])\n",
    "    isi_cv = isi.std()/isi.mean()\n",
    "    return {\n",
    "        'spiking_t': spiking_t_,\n",
    "        'spiking_hist': hist,\n",
    "        'isi': isi,\n",
    "        'adapt_index': adapt_index,\n",
    "        'abs_AI': abs(adapt_index),\n",
    "        'avg_adapt_index': adapt_index.mean(),\n",
    "        'avg_abs_AI': abs(adapt_index).mean(),\n",
    "        'isi_cv': isi_cv\n",
    "    }"
   ]
  },
  {
   "cell_type": "code",
   "execution_count": null,
   "id": "63944cae",
   "metadata": {},
   "outputs": [],
   "source": [
    "demo_res=get_spiking_features(spike_t['20180903cell3']/1000)"
   ]
  },
  {
   "cell_type": "code",
   "execution_count": null,
   "id": "83a23316",
   "metadata": {},
   "outputs": [],
   "source": [
    "spiking_feature_df = pd.DataFrame({\n",
    "    'cell_id': cell_id,\n",
    "    **get_spiking_features(p/1000)\n",
    "} for cell_id, p in spike_t.items())"
   ]
  },
  {
   "cell_type": "code",
   "execution_count": null,
   "id": "3099a144",
   "metadata": {},
   "outputs": [],
   "source": [
    "spiking_feature_df = spiking_feature_df.set_index('cell_id')\n",
    "res_ai_isi_df = spiking_feature_df.select_dtypes(include=['float64'])\n",
    "res_array_df = spiking_feature_df.select_dtypes(include=['object'])\n",
    "with pd.ExcelWriter('spiking_features_0819.xlsx') as writer:\n",
    "    res_ai_isi_df.to_excel(writer, sheet_name='AI_ISI')\n",
    "    for col in res_array_df.columns:\n",
    "        res_df = pd.DataFrame(res_array_df[col].tolist(), index=res_array_df.index)\n",
    "        res_df.to_excel(writer, sheet_name=col)"
   ]
  }
 ],
 "metadata": {
  "jupytext": {
   "formats": "ipynb,py:percent"
  },
  "kernelspec": {
   "display_name": "neuron",
   "language": "python",
   "name": "neuron"
  },
  "language_info": {
   "codemirror_mode": {
    "name": "ipython",
    "version": 3
   },
   "file_extension": ".py",
   "mimetype": "text/x-python",
   "name": "python",
   "nbconvert_exporter": "python",
   "pygments_lexer": "ipython3",
   "version": "3.8.10"
  }
 },
 "nbformat": 4,
 "nbformat_minor": 5
}
