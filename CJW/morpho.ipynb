{
 "cells": [
  {
   "cell_type": "code",
   "execution_count": 1,
   "id": "bf0d891a-5842-437f-a2c8-54738739ea67",
   "metadata": {},
   "outputs": [
    {
     "name": "stderr",
     "output_type": "stream",
     "text": [
      "2021-08-02 13:30:22,316 numexpr.utils INFO     NumExpr defaulting to 8 threads.\n"
     ]
    }
   ],
   "source": [
    "from Cell.morpho_utils import plot_and_save_swcs\n",
    "from pathlib import Path"
   ]
  },
  {
   "cell_type": "markdown",
   "id": "b18e38a9-e75f-4661-8411-d46dd2bc3c83",
   "metadata": {},
   "source": [
    "# Plot morphology"
   ]
  },
  {
   "cell_type": "code",
   "execution_count": 2,
   "id": "74541871",
   "metadata": {},
   "outputs": [
    {
     "data": {
      "application/vnd.jupyter.widget-view+json": {
       "model_id": "cdd50e9351f5407c86a852ce9a8975ba",
       "version_major": 2,
       "version_minor": 0
      },
      "text/plain": [
       "  0%|          | 0/392 [00:00<?, ?it/s]"
      ]
     },
     "metadata": {},
     "output_type": "display_data"
    },
    {
     "name": "stderr",
     "output_type": "stream",
     "text": [
      "2021-08-02 13:30:26,125 root         WARNING  Use neuron_morphology to plot swc_own/2019-05-19cell8.DAT.swc.\n",
      "2021-08-02 13:36:46,230 root         WARNING  Use neuron_morphology to plot swc_own/2019-07-19cell1.DAT.swc.\n",
      "2021-08-02 13:51:35,810 root         WARNING  Use neuron_morphology to plot swc_own/2019-10-25cell8.DAT.swc.\n",
      "2021-08-02 13:52:10,400 root         WARNING  Use neuron_morphology to plot swc_own/2019-10-27cell7.DAT.swc.\n",
      "2021-08-02 13:55:26,326 root         WARNING  Use neuron_morphology to plot swc_own/2019-11-18cell4.DAT.swc.\n",
      "2021-08-02 14:04:06,025 root         WARNING  Use neuron_morphology to plot swc_own/20191218cell5.DAT.swc.\n"
     ]
    }
   ],
   "source": [
    "swcs = list(Path('swc_own').iterdir())\n",
    "fig_path = Path('swc_own_fig')\n",
    "fig_path.mkdir(exist_ok=True)\n",
    "plot_and_save_swcs(swcs, fig_path)"
   ]
  },
  {
   "cell_type": "code",
   "execution_count": null,
   "id": "fb15da47-12f8-4985-a28c-b95c713e9161",
   "metadata": {},
   "outputs": [],
   "source": []
  }
 ],
 "metadata": {
  "jupytext": {
   "formats": "ipynb,py:percent"
  },
  "kernelspec": {
   "display_name": "neuron",
   "language": "python",
   "name": "neuron"
  },
  "language_info": {
   "codemirror_mode": {
    "name": "ipython",
    "version": 3
   },
   "file_extension": ".py",
   "mimetype": "text/x-python",
   "name": "python",
   "nbconvert_exporter": "python",
   "pygments_lexer": "ipython3",
   "version": "3.8.10"
  }
 },
 "nbformat": 4,
 "nbformat_minor": 5
}
